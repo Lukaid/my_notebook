{
  "nbformat": 4,
  "nbformat_minor": 0,
  "metadata": {
    "colab": {
      "name": "Untitled0.ipynb",
      "provenance": [],
      "collapsed_sections": [],
      "mount_file_id": "13QAg7kLIM6S2Jz-n-hcmIfzRUiJRAHdP",
      "authorship_tag": "ABX9TyPDxxFAv8566l/ER7h2caDm",
      "include_colab_link": true
    },
    "kernelspec": {
      "name": "python3",
      "display_name": "Python 3"
    },
    "language_info": {
      "name": "python"
    },
    "accelerator": "GPU"
  },
  "cells": [
    {
      "cell_type": "markdown",
      "metadata": {
        "id": "view-in-github",
        "colab_type": "text"
      },
      "source": [
        "<a href=\"https://colab.research.google.com/github/Lukaid/my_notebook/blob/main/Untitled0.ipynb\" target=\"_parent\"><img src=\"https://colab.research.google.com/assets/colab-badge.svg\" alt=\"Open In Colab\"/></a>"
      ]
    },
    {
      "cell_type": "code",
      "metadata": {
        "colab": {
          "base_uri": "https://localhost:8080/"
        },
        "id": "x4_X3HBhILL-",
        "outputId": "a6de4da5-b74e-4309-f192-41c0fe3f8ed5"
      },
      "source": [
        "!pip install pytorch-ignite"
      ],
      "execution_count": null,
      "outputs": [
        {
          "output_type": "stream",
          "text": [
            "Collecting pytorch-ignite\n",
            "\u001b[?25l  Downloading https://files.pythonhosted.org/packages/f8/d3/640f70d69393b415e6a29b27c735047ad86267921ad62682d1d756556d48/pytorch_ignite-0.4.4-py3-none-any.whl (200kB)\n",
            "\r\u001b[K     |█▋                              | 10kB 25.2MB/s eta 0:00:01\r\u001b[K     |███▎                            | 20kB 32.5MB/s eta 0:00:01\r\u001b[K     |█████                           | 30kB 33.9MB/s eta 0:00:01\r\u001b[K     |██████▌                         | 40kB 36.5MB/s eta 0:00:01\r\u001b[K     |████████▏                       | 51kB 35.9MB/s eta 0:00:01\r\u001b[K     |█████████▉                      | 61kB 38.1MB/s eta 0:00:01\r\u001b[K     |███████████▌                    | 71kB 23.6MB/s eta 0:00:01\r\u001b[K     |█████████████                   | 81kB 23.2MB/s eta 0:00:01\r\u001b[K     |██████████████▊                 | 92kB 24.7MB/s eta 0:00:01\r\u001b[K     |████████████████▍               | 102kB 22.8MB/s eta 0:00:01\r\u001b[K     |██████████████████              | 112kB 22.8MB/s eta 0:00:01\r\u001b[K     |███████████████████▋            | 122kB 22.8MB/s eta 0:00:01\r\u001b[K     |█████████████████████▎          | 133kB 22.8MB/s eta 0:00:01\r\u001b[K     |███████████████████████         | 143kB 22.8MB/s eta 0:00:01\r\u001b[K     |████████████████████████▌       | 153kB 22.8MB/s eta 0:00:01\r\u001b[K     |██████████████████████████▏     | 163kB 22.8MB/s eta 0:00:01\r\u001b[K     |███████████████████████████▉    | 174kB 22.8MB/s eta 0:00:01\r\u001b[K     |█████████████████████████████▍  | 184kB 22.8MB/s eta 0:00:01\r\u001b[K     |███████████████████████████████ | 194kB 22.8MB/s eta 0:00:01\r\u001b[K     |████████████████████████████████| 204kB 22.8MB/s \n",
            "\u001b[?25hRequirement already satisfied: torch<2,>=1.3 in /usr/local/lib/python3.7/dist-packages (from pytorch-ignite) (1.8.1+cu101)\n",
            "Requirement already satisfied: numpy in /usr/local/lib/python3.7/dist-packages (from torch<2,>=1.3->pytorch-ignite) (1.19.5)\n",
            "Requirement already satisfied: typing-extensions in /usr/local/lib/python3.7/dist-packages (from torch<2,>=1.3->pytorch-ignite) (3.7.4.3)\n",
            "Installing collected packages: pytorch-ignite\n",
            "Successfully installed pytorch-ignite-0.4.4\n"
          ],
          "name": "stdout"
        }
      ]
    },
    {
      "cell_type": "markdown",
      "metadata": {
        "id": "ktRzuGyNNeq7"
      },
      "source": [
        ""
      ]
    },
    {
      "cell_type": "code",
      "metadata": {
        "colab": {
          "base_uri": "https://localhost:8080/"
        },
        "id": "nFxt2X68JnTY",
        "outputId": "21325dac-d340-406c-cb35-920778d83406"
      },
      "source": [
        "!bash"
      ],
      "execution_count": 3,
      "outputs": [
        {
          "output_type": "stream",
          "text": [
            "bash: cannot set terminal process group (61): Inappropriate ioctl for device\n",
            "bash: no job control in this shell\n",
            "8.tsv\n",
            " 128 --cnn --window_sizes 2 3 4 5 --n_filters 256 256 256 256 --n_epochs 20\n",
            "|train| = 103966 |valid| = 25991\n",
            "|vocab| = 12471 |classes| = 2\n",
            "RNNClassifier(\n",
            "  (emb): Embedding(12471, 256)\n",
            "  (rnn): LSTM(256, 512, num_layers=4, batch_first=True, dropout=0.3, bidirectional=True)\n",
            "  (generator): Linear(in_features=1024, out_features=2, bias=True)\n",
            "  (activation): LogSoftmax(dim=-1)\n",
            ")\n",
            "Epoch 1 - |param|=1.80e+03 |g_param|=3.31e-01 loss=2.2030e-01 accuracy=0.9206\n",
            "Validation - loss=2.3855e-01 accuracy=0.9188 best_loss=inf\n",
            "Epoch 2 - |param|=1.80e+03 |g_param|=2.35e-01 loss=1.9204e-01 accuracy=0.9313\n",
            "Validation - loss=1.5701e-01 accuracy=0.9442 best_loss=2.3855e-01\n",
            "Epoch 3 - |param|=1.80e+03 |g_param|=2.99e-01 loss=1.6565e-01 accuracy=0.9423\n",
            "Validation - loss=1.5831e-01 accuracy=0.9418 best_loss=1.5701e-01\n",
            "Epoch 4 - |param|=1.80e+03 |g_param|=2.21e-01 loss=1.4796e-01 accuracy=0.9511\n",
            "Validation - loss=1.5462e-01 accuracy=0.9446 best_loss=1.5701e-01\n",
            "Epoch 5 - |param|=1.81e+03 |g_param|=2.30e-01 loss=1.2585e-01 accuracy=0.9552\n",
            "Validation - loss=1.5771e-01 accuracy=0.9436 best_loss=1.5462e-01\n",
            "Epoch 6 - |param|=1.81e+03 |g_param|=2.63e-01 loss=1.1041e-01 accuracy=0.9650\n",
            "Validation - loss=2.3232e-01 accuracy=0.9222 best_loss=1.5462e-01\n",
            "Epoch 7 - |param|=1.82e+03 |g_param|=1.97e-01 loss=8.5631e-02 accuracy=0.9726\n",
            "Validation - loss=1.7869e-01 accuracy=0.9474 best_loss=1.5462e-01\n",
            "Epoch 8 - |param|=1.82e+03 |g_param|=2.10e-01 loss=7.1366e-02 accuracy=0.9753\n",
            "Validation - loss=2.0031e-01 accuracy=0.9457 best_loss=1.5462e-01\n",
            "Epoch 9 - |param|=1.82e+03 |g_param|=2.28e-01 loss=7.0824e-02 accuracy=0.9738\n",
            "Validation - loss=2.3245e-01 accuracy=0.9376 best_loss=1.5462e-01\n",
            "Epoch 10 - |param|=1.83e+03 |g_param|=2.16e-01 loss=6.1954e-02 accuracy=0.9756\n",
            "Validation - loss=2.2517e-01 accuracy=0.9449 best_loss=1.5462e-01\n",
            "Epoch 11 - |param|=1.83e+03 |g_param|=2.17e-01 loss=5.2949e-02 accuracy=0.9813\n",
            "Validation - loss=2.4370e-01 accuracy=0.9437 best_loss=1.5462e-01\n",
            "Epoch 12 - |param|=1.84e+03 |g_param|=1.92e-01 loss=4.7978e-02 accuracy=0.9817\n",
            "Validation - loss=2.4512e-01 accuracy=0.9421 best_loss=1.5462e-01\n",
            "Epoch 13 - |param|=1.84e+03 |g_param|=2.28e-01 loss=4.1819e-02 accuracy=0.9841\n",
            "Validation - loss=2.8376e-01 accuracy=0.9426 best_loss=1.5462e-01\n",
            "Epoch 14 - |param|=1.85e+03 |g_param|=1.79e-01 loss=3.6098e-02 accuracy=0.9868\n",
            "Validation - loss=2.4504e-01 accuracy=0.9470 best_loss=1.5462e-01\n",
            "Epoch 15 - |param|=1.85e+03 |g_param|=1.38e-01 loss=3.5686e-02 accuracy=0.9859\n",
            "Validation - loss=2.6983e-01 accuracy=0.9448 best_loss=1.5462e-01\n",
            "Epoch 16 - |param|=1.85e+03 |g_param|=2.51e-01 loss=3.9439e-02 accuracy=0.9834\n",
            "Validation - loss=2.7033e-01 accuracy=0.9408 best_loss=1.5462e-01\n",
            "Epoch 17 - |param|=1.86e+03 |g_param|=1.81e-01 loss=3.4538e-02 accuracy=0.9857\n",
            "Validation - loss=2.8312e-01 accuracy=0.9447 best_loss=1.5462e-01\n",
            "Epoch 18 - |param|=1.86e+03 |g_param|=1.58e-01 loss=3.1094e-02 accuracy=0.9880\n",
            "Validation - loss=2.4508e-01 accuracy=0.9455 best_loss=1.5462e-01\n",
            "Epoch 19 - |param|=1.86e+03 |g_param|=1.74e-01 loss=3.1057e-02 accuracy=0.9880\n",
            "Validation - loss=3.0466e-01 accuracy=0.9438 best_loss=1.5462e-01\n",
            "Epoch 20 - |param|=1.87e+03 |g_param|=1.92e-01 loss=2.9159e-02 accuracy=0.9893\n",
            "Validation - loss=2.9575e-01 accuracy=0.9442 best_loss=1.5462e-01\n",
            "CNNClassifier(\n",
            "  (emb): Embedding(12471, 256)\n",
            "  (feature_extractors): ModuleList(\n",
            "    (0): Sequential(\n",
            "      (0): Conv2d(1, 256, kernel_size=(2, 256), stride=(1, 1))\n",
            "      (1): ReLU()\n",
            "      (2): Dropout(p=0.3, inplace=False)\n",
            "    )\n",
            "    (1): Sequential(\n",
            "      (0): Conv2d(1, 256, kernel_size=(3, 256), stride=(1, 1))\n",
            "      (1): ReLU()\n",
            "      (2): Dropout(p=0.3, inplace=False)\n",
            "    )\n",
            "    (2): Sequential(\n",
            "      (0): Conv2d(1, 256, kernel_size=(4, 256), stride=(1, 1))\n",
            "      (1): ReLU()\n",
            "      (2): Dropout(p=0.3, inplace=False)\n",
            "    )\n",
            "    (3): Sequential(\n",
            "      (0): Conv2d(1, 256, kernel_size=(5, 256), stride=(1, 1))\n",
            "      (1): ReLU()\n",
            "      (2): Dropout(p=0.3, inplace=False)\n",
            "    )\n",
            "  )\n",
            "  (generator): Linear(in_features=1024, out_features=2, bias=True)\n",
            "  (activation): LogSoftmax(dim=-1)\n",
            ")\n",
            "Epoch 1 - |param|=1.79e+03 |g_param|=4.76e+00 loss=2.7019e-01 accuracy=0.9019\n",
            "Validation - loss=5.4725e-01 accuracy=0.7527 best_loss=inf\n",
            "Epoch 2 - |param|=1.79e+03 |g_param|=3.26e+00 loss=2.3009e-01 accuracy=0.9250\n",
            "Validation - loss=1.6583e-01 accuracy=0.9387 best_loss=5.4725e-01\n",
            "Epoch 3 - |param|=1.79e+03 |g_param|=3.38e+00 loss=1.7260e-01 accuracy=0.9380\n",
            "Validation - loss=1.7834e-01 accuracy=0.9362 best_loss=1.6583e-01\n",
            "Epoch 4 - |param|=1.79e+03 |g_param|=2.31e+00 loss=1.3951e-01 accuracy=0.9500\n",
            "Validation - loss=1.6067e-01 accuracy=0.9420 best_loss=1.6583e-01\n",
            "Epoch 5 - |param|=1.79e+03 |g_param|=2.05e+00 loss=1.2632e-01 accuracy=0.9567\n",
            "Validation - loss=1.8484e-01 accuracy=0.9366 best_loss=1.6067e-01\n",
            "Epoch 6 - |param|=1.79e+03 |g_param|=2.36e+00 loss=1.0130e-01 accuracy=0.9644\n",
            "Validation - loss=2.4424e-01 accuracy=0.9297 best_loss=1.6067e-01\n",
            "Epoch 7 - |param|=1.79e+03 |g_param|=1.22e+00 loss=1.0566e-01 accuracy=0.9625\n",
            "Validation - loss=2.2477e-01 accuracy=0.9366 best_loss=1.6067e-01\n",
            "Epoch 8 - |param|=1.80e+03 |g_param|=1.03e+00 loss=6.6070e-02 accuracy=0.9765\n",
            "Validation - loss=2.2855e-01 accuracy=0.9408 best_loss=1.6067e-01\n",
            "Epoch 9 - |param|=1.80e+03 |g_param|=9.43e-01 loss=5.9555e-02 accuracy=0.9778\n",
            "Validation - loss=2.5356e-01 accuracy=0.9359 best_loss=1.6067e-01\n",
            "Epoch 10 - |param|=1.80e+03 |g_param|=1.52e+00 loss=8.3242e-02 accuracy=0.9714\n",
            "Validation - loss=3.5159e-01 accuracy=0.9224 best_loss=1.6067e-01\n",
            "Epoch 11 - |param|=1.80e+03 |g_param|=1.12e+00 loss=5.6208e-02 accuracy=0.9801\n",
            "Validation - loss=2.9738e-01 accuracy=0.9362 best_loss=1.6067e-01\n",
            "Epoch 12 - |param|=1.80e+03 |g_param|=1.72e+00 loss=8.3451e-02 accuracy=0.9731\n",
            "Validation - loss=3.6256e-01 accuracy=0.9341 best_loss=1.6067e-01\n",
            "Epoch 13 - |param|=1.80e+03 |g_param|=1.24e+00 loss=6.2836e-02 accuracy=0.9778\n",
            "Validation - loss=3.8018e-01 accuracy=0.9308 best_loss=1.6067e-01\n",
            "Epoch 14 - |param|=1.80e+03 |g_param|=8.41e-01 loss=5.6076e-02 accuracy=0.9795\n",
            "Validation - loss=4.4374e-01 accuracy=0.9333 best_loss=1.6067e-01\n",
            "Epoch 15 - |param|=1.80e+03 |g_param|=7.49e-01 loss=4.6336e-02 accuracy=0.9843\n",
            "Validation - loss=4.3925e-01 accuracy=0.9349 best_loss=1.6067e-01\n",
            "Epoch 16 - |param|=1.80e+03 |g_param|=7.19e-01 loss=4.2456e-02 accuracy=0.9859\n",
            "Validation - loss=4.3244e-01 accuracy=0.9366 best_loss=1.6067e-01\n",
            "Epoch 17 - |param|=1.80e+03 |g_param|=7.78e-01 loss=5.4068e-02 accuracy=0.9831\n",
            "Validation - loss=4.4279e-01 accuracy=0.9324 best_loss=1.6067e-01\n",
            "Epoch 18 - |param|=1.80e+03 |g_param|=1.36e+00 loss=6.4240e-02 accuracy=0.9806\n",
            "Validation - loss=5.2609e-01 accuracy=0.9327 best_loss=1.6067e-01\n",
            "Epoch 19 - |param|=1.80e+03 |g_param|=7.98e-01 loss=4.5159e-02 accuracy=0.9851\n",
            "Validation - loss=4.8535e-01 accuracy=0.9348 best_loss=1.6067e-01\n",
            "Epoch 20 - |param|=1.80e+03 |g_param|=8.27e-01 loss=5.9834e-02 accuracy=0.9851\n",
            "Validation - loss=5.1334e-01 accuracy=0.9330 best_loss=1.6067e-01\n",
            "128_f_256.tsv\n",
            "\u001b[01;34m/content\u001b[00m# \n",
            "\u001b[01;34m/content\u001b[00m# \n",
            "\u001b[01;34m/content\u001b[00m# \n",
            "\u001b[01;34m/content\u001b[00m# exit\n"
          ],
          "name": "stdout"
        }
      ]
    }
  ]
}