{
 "metadata": {
  "language_info": {
   "codemirror_mode": {
    "name": "ipython",
    "version": 3
   },
   "file_extension": ".py",
   "mimetype": "text/x-python",
   "name": "python",
   "nbconvert_exporter": "python",
   "pygments_lexer": "ipython3",
   "version": "3.9.1-final"
  },
  "orig_nbformat": 2,
  "kernelspec": {
   "name": "python3",
   "display_name": "Python 3.9.1 64-bit",
   "metadata": {
    "interpreter": {
     "hash": "93d2bee35929e05e44f3a424865844abe2a4ec4d78cb24fe7d4202e6ef37a7f8"
    }
   }
  }
 },
 "nbformat": 4,
 "nbformat_minor": 2,
 "cells": [
  {
   "cell_type": "code",
   "execution_count": 2,
   "metadata": {},
   "outputs": [],
   "source": [
    "import pandas as pd\n",
    "import random"
   ]
  },
  {
   "cell_type": "code",
   "execution_count": 48,
   "metadata": {},
   "outputs": [
    {
     "output_type": "stream",
     "name": "stdout",
     "text": [
      "[4, 11, 13, 17, 39, 49]\n"
     ]
    }
   ],
   "source": [
    "group_0328 = pd.read_csv(\"group_0328.csv\", encoding = 'CP949')\n",
    "leader = list(group_0328[group_0328['coding experience'] == 1].index)"
   ]
  },
  {
   "cell_type": "code",
   "execution_count": 52,
   "metadata": {},
   "outputs": [
    {
     "output_type": "error",
     "ename": "TypeError",
     "evalue": "'RangeIndex' object is not callable",
     "traceback": [
      "\u001b[1;31m---------------------------------------------------------------------------\u001b[0m",
      "\u001b[1;31mTypeError\u001b[0m                                 Traceback (most recent call last)",
      "\u001b[1;32m<ipython-input-52-eb88019a3eaa>\u001b[0m in \u001b[0;36m<module>\u001b[1;34m\u001b[0m\n\u001b[1;32m----> 1\u001b[1;33m \u001b[0mgroup_0328\u001b[0m\u001b[1;33m.\u001b[0m\u001b[0mindex\u001b[0m\u001b[1;33m(\u001b[0m\u001b[0mleader\u001b[0m\u001b[1;33m[\u001b[0m\u001b[1;36m0\u001b[0m\u001b[1;33m]\u001b[0m\u001b[1;33m)\u001b[0m\u001b[1;33m\u001b[0m\u001b[1;33m\u001b[0m\u001b[0m\n\u001b[0m",
      "\u001b[1;31mTypeError\u001b[0m: 'RangeIndex' object is not callable"
     ]
    }
   ],
   "source": [
    "group_0328.index(leader[0])"
   ]
  },
  {
   "cell_type": "code",
   "execution_count": 65,
   "metadata": {},
   "outputs": [
    {
     "output_type": "execute_result",
     "data": {
      "text/plain": [
       "grade                         1\n",
       "number               2021123039\n",
       "name                        박시연\n",
       "sex                           여\n",
       "coding experience             1\n",
       "Name: 17, dtype: object"
      ]
     },
     "metadata": {},
     "execution_count": 65
    }
   ],
   "source": [
    "group_0328.loc[leader[3]]"
   ]
  },
  {
   "cell_type": "code",
   "execution_count": 73,
   "metadata": {},
   "outputs": [
    {
     "output_type": "execute_result",
     "data": {
      "text/plain": [
       "    grade      number name sex  coding experience\n",
       "0       1  2020123108  정호준   남                  0\n",
       "1       1  2020123109  한단일   남                  0\n",
       "2       1  2020123110  한요섭   남                  0\n",
       "3       1  2021123003  강희준   남                  0\n",
       "5       1  2021123013  김민지   여                  0\n",
       "6       1  2021123014  김범준   남                  0\n",
       "7       1  2021123015  김성현   남                  0\n",
       "8       1  2021123016  김시원   여                  0\n",
       "9       1  2021123017  김예찬   남                  0\n",
       "10      1  2021123021  김종선   남                  0\n",
       "12      1  2021123030  김희원   남                  0\n",
       "14      1  2021123034  박상우   남                  0\n",
       "15      1  2021123035  박서준   남                  0\n",
       "16      1  2021123036  박선민   여                  0\n",
       "18      1  2021123040  박정재   남                  0\n",
       "19      1  2021123041  박정헌   남                  0\n",
       "20      1  2021123044  박찬서   남                  0\n",
       "21      1  2021123046  박혜지   여                  0\n",
       "22      1  2021123047  방성휘   남                  0\n",
       "23      1  2021123049  서이준   여                  0\n",
       "24      1  2021123051  성제민   남                  0\n",
       "25      1  2021123052  손유한   남                  0\n",
       "26      1  2021123053  송해수   남                  0\n",
       "27      1  2021123055  안상진   남                  0\n",
       "28      1  2021123056  여준성   남                  0\n",
       "29      1  2021123059  유하연   여                  0\n",
       "30      1  2021123061  이동건   남                  0\n",
       "31      1  2021123063  이서원   여                  0\n",
       "32      1  2021123064  이세연   남                  0\n",
       "33      1  2021123067  이예주   여                  0\n",
       "34      1  2021123068  이재혁   남                  0\n",
       "35      1  2021123069  이중선   남                  0\n",
       "36      1  2021123070  이찬울   남                  0\n",
       "37      1  2021123072  장수현   여                  0\n",
       "38      1  2021123074  전민서   여                  0\n",
       "40      1  2021123079  정원종   남                  0\n",
       "41      1  2021123080  정지안   여                  0\n",
       "42      1  2021123081  정찬영   남                  0\n",
       "43      1  2021123083  정혜윤   여                  0\n",
       "44      1  2021123086  조윤서   여                  0\n",
       "45      1  2021123087  조희은   여                  0\n",
       "46      1  2021123088  진현지   여                  0\n",
       "47      1  2021123089  차효정   여                  0\n",
       "48      1  2021123090  최민석   남                  0\n",
       "50      1  2021123095  황이삭   남                  0\n",
       "51      3  2014123061  윤인상   남                  0\n",
       "52      3  2017123085  장희석   남                  0\n",
       "53      3  2018123087  정현주   여                  0\n",
       "54      3  2019123026  김준희   여                  0"
      ],
      "text/html": "<div>\n<style scoped>\n    .dataframe tbody tr th:only-of-type {\n        vertical-align: middle;\n    }\n\n    .dataframe tbody tr th {\n        vertical-align: top;\n    }\n\n    .dataframe thead th {\n        text-align: right;\n    }\n</style>\n<table border=\"1\" class=\"dataframe\">\n  <thead>\n    <tr style=\"text-align: right;\">\n      <th></th>\n      <th>grade</th>\n      <th>number</th>\n      <th>name</th>\n      <th>sex</th>\n      <th>coding experience</th>\n    </tr>\n  </thead>\n  <tbody>\n    <tr>\n      <th>0</th>\n      <td>1</td>\n      <td>2020123108</td>\n      <td>정호준</td>\n      <td>남</td>\n      <td>0</td>\n    </tr>\n    <tr>\n      <th>1</th>\n      <td>1</td>\n      <td>2020123109</td>\n      <td>한단일</td>\n      <td>남</td>\n      <td>0</td>\n    </tr>\n    <tr>\n      <th>2</th>\n      <td>1</td>\n      <td>2020123110</td>\n      <td>한요섭</td>\n      <td>남</td>\n      <td>0</td>\n    </tr>\n    <tr>\n      <th>3</th>\n      <td>1</td>\n      <td>2021123003</td>\n      <td>강희준</td>\n      <td>남</td>\n      <td>0</td>\n    </tr>\n    <tr>\n      <th>5</th>\n      <td>1</td>\n      <td>2021123013</td>\n      <td>김민지</td>\n      <td>여</td>\n      <td>0</td>\n    </tr>\n    <tr>\n      <th>6</th>\n      <td>1</td>\n      <td>2021123014</td>\n      <td>김범준</td>\n      <td>남</td>\n      <td>0</td>\n    </tr>\n    <tr>\n      <th>7</th>\n      <td>1</td>\n      <td>2021123015</td>\n      <td>김성현</td>\n      <td>남</td>\n      <td>0</td>\n    </tr>\n    <tr>\n      <th>8</th>\n      <td>1</td>\n      <td>2021123016</td>\n      <td>김시원</td>\n      <td>여</td>\n      <td>0</td>\n    </tr>\n    <tr>\n      <th>9</th>\n      <td>1</td>\n      <td>2021123017</td>\n      <td>김예찬</td>\n      <td>남</td>\n      <td>0</td>\n    </tr>\n    <tr>\n      <th>10</th>\n      <td>1</td>\n      <td>2021123021</td>\n      <td>김종선</td>\n      <td>남</td>\n      <td>0</td>\n    </tr>\n    <tr>\n      <th>12</th>\n      <td>1</td>\n      <td>2021123030</td>\n      <td>김희원</td>\n      <td>남</td>\n      <td>0</td>\n    </tr>\n    <tr>\n      <th>14</th>\n      <td>1</td>\n      <td>2021123034</td>\n      <td>박상우</td>\n      <td>남</td>\n      <td>0</td>\n    </tr>\n    <tr>\n      <th>15</th>\n      <td>1</td>\n      <td>2021123035</td>\n      <td>박서준</td>\n      <td>남</td>\n      <td>0</td>\n    </tr>\n    <tr>\n      <th>16</th>\n      <td>1</td>\n      <td>2021123036</td>\n      <td>박선민</td>\n      <td>여</td>\n      <td>0</td>\n    </tr>\n    <tr>\n      <th>18</th>\n      <td>1</td>\n      <td>2021123040</td>\n      <td>박정재</td>\n      <td>남</td>\n      <td>0</td>\n    </tr>\n    <tr>\n      <th>19</th>\n      <td>1</td>\n      <td>2021123041</td>\n      <td>박정헌</td>\n      <td>남</td>\n      <td>0</td>\n    </tr>\n    <tr>\n      <th>20</th>\n      <td>1</td>\n      <td>2021123044</td>\n      <td>박찬서</td>\n      <td>남</td>\n      <td>0</td>\n    </tr>\n    <tr>\n      <th>21</th>\n      <td>1</td>\n      <td>2021123046</td>\n      <td>박혜지</td>\n      <td>여</td>\n      <td>0</td>\n    </tr>\n    <tr>\n      <th>22</th>\n      <td>1</td>\n      <td>2021123047</td>\n      <td>방성휘</td>\n      <td>남</td>\n      <td>0</td>\n    </tr>\n    <tr>\n      <th>23</th>\n      <td>1</td>\n      <td>2021123049</td>\n      <td>서이준</td>\n      <td>여</td>\n      <td>0</td>\n    </tr>\n    <tr>\n      <th>24</th>\n      <td>1</td>\n      <td>2021123051</td>\n      <td>성제민</td>\n      <td>남</td>\n      <td>0</td>\n    </tr>\n    <tr>\n      <th>25</th>\n      <td>1</td>\n      <td>2021123052</td>\n      <td>손유한</td>\n      <td>남</td>\n      <td>0</td>\n    </tr>\n    <tr>\n      <th>26</th>\n      <td>1</td>\n      <td>2021123053</td>\n      <td>송해수</td>\n      <td>남</td>\n      <td>0</td>\n    </tr>\n    <tr>\n      <th>27</th>\n      <td>1</td>\n      <td>2021123055</td>\n      <td>안상진</td>\n      <td>남</td>\n      <td>0</td>\n    </tr>\n    <tr>\n      <th>28</th>\n      <td>1</td>\n      <td>2021123056</td>\n      <td>여준성</td>\n      <td>남</td>\n      <td>0</td>\n    </tr>\n    <tr>\n      <th>29</th>\n      <td>1</td>\n      <td>2021123059</td>\n      <td>유하연</td>\n      <td>여</td>\n      <td>0</td>\n    </tr>\n    <tr>\n      <th>30</th>\n      <td>1</td>\n      <td>2021123061</td>\n      <td>이동건</td>\n      <td>남</td>\n      <td>0</td>\n    </tr>\n    <tr>\n      <th>31</th>\n      <td>1</td>\n      <td>2021123063</td>\n      <td>이서원</td>\n      <td>여</td>\n      <td>0</td>\n    </tr>\n    <tr>\n      <th>32</th>\n      <td>1</td>\n      <td>2021123064</td>\n      <td>이세연</td>\n      <td>남</td>\n      <td>0</td>\n    </tr>\n    <tr>\n      <th>33</th>\n      <td>1</td>\n      <td>2021123067</td>\n      <td>이예주</td>\n      <td>여</td>\n      <td>0</td>\n    </tr>\n    <tr>\n      <th>34</th>\n      <td>1</td>\n      <td>2021123068</td>\n      <td>이재혁</td>\n      <td>남</td>\n      <td>0</td>\n    </tr>\n    <tr>\n      <th>35</th>\n      <td>1</td>\n      <td>2021123069</td>\n      <td>이중선</td>\n      <td>남</td>\n      <td>0</td>\n    </tr>\n    <tr>\n      <th>36</th>\n      <td>1</td>\n      <td>2021123070</td>\n      <td>이찬울</td>\n      <td>남</td>\n      <td>0</td>\n    </tr>\n    <tr>\n      <th>37</th>\n      <td>1</td>\n      <td>2021123072</td>\n      <td>장수현</td>\n      <td>여</td>\n      <td>0</td>\n    </tr>\n    <tr>\n      <th>38</th>\n      <td>1</td>\n      <td>2021123074</td>\n      <td>전민서</td>\n      <td>여</td>\n      <td>0</td>\n    </tr>\n    <tr>\n      <th>40</th>\n      <td>1</td>\n      <td>2021123079</td>\n      <td>정원종</td>\n      <td>남</td>\n      <td>0</td>\n    </tr>\n    <tr>\n      <th>41</th>\n      <td>1</td>\n      <td>2021123080</td>\n      <td>정지안</td>\n      <td>여</td>\n      <td>0</td>\n    </tr>\n    <tr>\n      <th>42</th>\n      <td>1</td>\n      <td>2021123081</td>\n      <td>정찬영</td>\n      <td>남</td>\n      <td>0</td>\n    </tr>\n    <tr>\n      <th>43</th>\n      <td>1</td>\n      <td>2021123083</td>\n      <td>정혜윤</td>\n      <td>여</td>\n      <td>0</td>\n    </tr>\n    <tr>\n      <th>44</th>\n      <td>1</td>\n      <td>2021123086</td>\n      <td>조윤서</td>\n      <td>여</td>\n      <td>0</td>\n    </tr>\n    <tr>\n      <th>45</th>\n      <td>1</td>\n      <td>2021123087</td>\n      <td>조희은</td>\n      <td>여</td>\n      <td>0</td>\n    </tr>\n    <tr>\n      <th>46</th>\n      <td>1</td>\n      <td>2021123088</td>\n      <td>진현지</td>\n      <td>여</td>\n      <td>0</td>\n    </tr>\n    <tr>\n      <th>47</th>\n      <td>1</td>\n      <td>2021123089</td>\n      <td>차효정</td>\n      <td>여</td>\n      <td>0</td>\n    </tr>\n    <tr>\n      <th>48</th>\n      <td>1</td>\n      <td>2021123090</td>\n      <td>최민석</td>\n      <td>남</td>\n      <td>0</td>\n    </tr>\n    <tr>\n      <th>50</th>\n      <td>1</td>\n      <td>2021123095</td>\n      <td>황이삭</td>\n      <td>남</td>\n      <td>0</td>\n    </tr>\n    <tr>\n      <th>51</th>\n      <td>3</td>\n      <td>2014123061</td>\n      <td>윤인상</td>\n      <td>남</td>\n      <td>0</td>\n    </tr>\n    <tr>\n      <th>52</th>\n      <td>3</td>\n      <td>2017123085</td>\n      <td>장희석</td>\n      <td>남</td>\n      <td>0</td>\n    </tr>\n    <tr>\n      <th>53</th>\n      <td>3</td>\n      <td>2018123087</td>\n      <td>정현주</td>\n      <td>여</td>\n      <td>0</td>\n    </tr>\n    <tr>\n      <th>54</th>\n      <td>3</td>\n      <td>2019123026</td>\n      <td>김준희</td>\n      <td>여</td>\n      <td>0</td>\n    </tr>\n  </tbody>\n</table>\n</div>"
     },
     "metadata": {},
     "execution_count": 73
    }
   ],
   "source": [
    "test = group_0328.drop(leader)\n",
    "test"
   ]
  },
  {
   "cell_type": "code",
   "execution_count": 77,
   "metadata": {},
   "outputs": [
    {
     "output_type": "execute_result",
     "data": {
      "text/plain": [
       "[2021123008, 2021123029, 2021123032, 2021123039, 2021123075, 2021123091]"
      ]
     },
     "metadata": {},
     "execution_count": 77
    }
   ],
   "source": [
    "list(group_0328['number'].iloc[leader])"
   ]
  },
  {
   "cell_type": "code",
   "execution_count": 78,
   "metadata": {},
   "outputs": [
    {
     "output_type": "error",
     "ename": "AttributeError",
     "evalue": "'DataFrame' object has no attribute 'suffle'",
     "traceback": [
      "\u001b[1;31m---------------------------------------------------------------------------\u001b[0m",
      "\u001b[1;31mAttributeError\u001b[0m                            Traceback (most recent call last)",
      "\u001b[1;32m<ipython-input-78-1c2988ca0d2f>\u001b[0m in \u001b[0;36m<module>\u001b[1;34m\u001b[0m\n\u001b[1;32m----> 1\u001b[1;33m \u001b[0mgroup_0328\u001b[0m\u001b[1;33m.\u001b[0m\u001b[0msuffle\u001b[0m\u001b[1;33m(\u001b[0m\u001b[1;33m)\u001b[0m\u001b[1;33m\u001b[0m\u001b[1;33m\u001b[0m\u001b[0m\n\u001b[0m",
      "\u001b[1;32m~\\AppData\\Local\\Programs\\Python\\Python39\\lib\\site-packages\\pandas\\core\\generic.py\u001b[0m in \u001b[0;36m__getattr__\u001b[1;34m(self, name)\u001b[0m\n\u001b[0;32m   5460\u001b[0m             \u001b[1;32mif\u001b[0m \u001b[0mself\u001b[0m\u001b[1;33m.\u001b[0m\u001b[0m_info_axis\u001b[0m\u001b[1;33m.\u001b[0m\u001b[0m_can_hold_identifiers_and_holds_name\u001b[0m\u001b[1;33m(\u001b[0m\u001b[0mname\u001b[0m\u001b[1;33m)\u001b[0m\u001b[1;33m:\u001b[0m\u001b[1;33m\u001b[0m\u001b[1;33m\u001b[0m\u001b[0m\n\u001b[0;32m   5461\u001b[0m                 \u001b[1;32mreturn\u001b[0m \u001b[0mself\u001b[0m\u001b[1;33m[\u001b[0m\u001b[0mname\u001b[0m\u001b[1;33m]\u001b[0m\u001b[1;33m\u001b[0m\u001b[1;33m\u001b[0m\u001b[0m\n\u001b[1;32m-> 5462\u001b[1;33m             \u001b[1;32mreturn\u001b[0m \u001b[0mobject\u001b[0m\u001b[1;33m.\u001b[0m\u001b[0m__getattribute__\u001b[0m\u001b[1;33m(\u001b[0m\u001b[0mself\u001b[0m\u001b[1;33m,\u001b[0m \u001b[0mname\u001b[0m\u001b[1;33m)\u001b[0m\u001b[1;33m\u001b[0m\u001b[1;33m\u001b[0m\u001b[0m\n\u001b[0m\u001b[0;32m   5463\u001b[0m \u001b[1;33m\u001b[0m\u001b[0m\n\u001b[0;32m   5464\u001b[0m     \u001b[1;32mdef\u001b[0m \u001b[0m__setattr__\u001b[0m\u001b[1;33m(\u001b[0m\u001b[0mself\u001b[0m\u001b[1;33m,\u001b[0m \u001b[0mname\u001b[0m\u001b[1;33m:\u001b[0m \u001b[0mstr\u001b[0m\u001b[1;33m,\u001b[0m \u001b[0mvalue\u001b[0m\u001b[1;33m)\u001b[0m \u001b[1;33m->\u001b[0m \u001b[1;32mNone\u001b[0m\u001b[1;33m:\u001b[0m\u001b[1;33m\u001b[0m\u001b[1;33m\u001b[0m\u001b[0m\n",
      "\u001b[1;31mAttributeError\u001b[0m: 'DataFrame' object has no attribute 'suffle'"
     ]
    }
   ],
   "source": []
  },
  {
   "cell_type": "code",
   "execution_count": 97,
   "metadata": {},
   "outputs": [],
   "source": [
    "group_0328 = pd.read_csv(\"group_0328.csv\", encoding = 'CP949')\n",
    "shuffled_m = group_0328[group_0328['sex'] == '남'].sample(frac=1).reset_index(drop=True)\n",
    "shuffled_m.to_csv('shuffled_m.csv', encoding = 'cp949')"
   ]
  },
  {
   "cell_type": "code",
   "execution_count": 98,
   "metadata": {},
   "outputs": [],
   "source": [
    "shuffled_f = group_0328[group_0328['sex'] == '여'].sample(frac=1).reset_index(drop=True)\n",
    "shuffled_f.to_csv('shuffled_f.csv', encoding = 'cp949')"
   ]
  },
  {
   "cell_type": "code",
   "execution_count": 100,
   "metadata": {},
   "outputs": [],
   "source": [
    "group_0329 = pd.read_csv(\"group_0329.csv\", encoding = 'CP949')\n",
    "\n",
    "shuffled_m = group_0329[group_0329['sex'] == '남'].sample(frac=1).reset_index(drop=True)\n",
    "\n",
    "shuffled_m.to_csv('shuffled_m.csv', encoding = 'cp949')\n",
    "\n",
    "shuffled_f = group_0329[group_0329['sex'] == '여'].sample(frac=1).reset_index(drop=True)\n",
    "\n",
    "shuffled_f.to_csv('shuffled_f.csv', encoding = 'cp949')"
   ]
  },
  {
   "cell_type": "code",
   "execution_count": null,
   "metadata": {},
   "outputs": [],
   "source": []
  }
 ]
}