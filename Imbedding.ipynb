{
  "nbformat": 4,
  "nbformat_minor": 0,
  "metadata": {
    "colab": {
      "name": "Imbedding.ipynb",
      "provenance": [],
      "authorship_tag": "ABX9TyMUX1UZyIoMAMMlF7jgDgjI",
      "include_colab_link": true
    },
    "kernelspec": {
      "name": "python3",
      "display_name": "Python 3"
    },
    "language_info": {
      "name": "python"
    }
  },
  "cells": [
    {
      "cell_type": "markdown",
      "metadata": {
        "id": "view-in-github",
        "colab_type": "text"
      },
      "source": [
        "<a href=\"https://colab.research.google.com/github/Lukaid/my_notebook/blob/main/Imbedding.ipynb\" target=\"_parent\"><img src=\"https://colab.research.google.com/assets/colab-badge.svg\" alt=\"Open In Colab\"/></a>"
      ]
    },
    {
      "cell_type": "code",
      "metadata": {
        "id": "CIgkYv114ql_"
      },
      "source": [
        "# KoNLPy 라이브러리 설치. 최초 1회만 실행\n",
        "!set - x \\\n",
        "&& pip install konlpy \\\n",
        "&& curl -s https://raw.githubusercontent.com/konlpy/konlpy/master/scripts/mecab.sh | bash -x"
      ],
      "execution_count": null,
      "outputs": []
    },
    {
      "cell_type": "code",
      "metadata": {
        "id": "Qf52aw364wJt"
      },
      "source": [
        "from gensim.models import Word2Vec\n",
        "from gensim.models import FastText\n",
        "\n",
        "model_w = Word2Vec(sentences=line_list, size = 100, window = 5, min_count = 5, workers = 4, sg = 0)\n",
        "model_f = FastText(sentences=line_list, size = 100, window = 5, min_count = 5, workers = 4, sg = 0)"
      ],
      "execution_count": null,
      "outputs": []
    },
    {
      "cell_type": "code",
      "metadata": {
        "id": "InvX36Uw41GI"
      },
      "source": [
        "names = ['label', 'review']\n",
        "pre_review = pd.read_table('review.sorted.uniq.refined.tok.tsv', encoding = 'utf - 8', header = None, names=names)\n",
        "pre_review.head()"
      ],
      "execution_count": null,
      "outputs": []
    },
    {
      "cell_type": "code",
      "metadata": {
        "id": "zyvQLixx41kJ"
      },
      "source": [
        "# 형태소분석 - Mecab 명사 \n",
        "mecab = Mecab()\n",
        "\n",
        "line_list = []\n",
        "\n",
        "for line in pre_review_only_review:\n",
        "    line = mecab.nouns(line)\n",
        "    line_list.append(line)\n",
        "\n",
        "print(\"- 불러온 문서 :\", len(line_list), \"문장\")"
      ],
      "execution_count": null,
      "outputs": []
    },
    {
      "cell_type": "code",
      "metadata": {
        "id": "uFra6Yts48hI"
      },
      "source": [
        "line_list[0:4]"
      ],
      "execution_count": null,
      "outputs": []
    },
    {
      "cell_type": "code",
      "metadata": {
        "id": "TSLHnK0I4xxY"
      },
      "source": [
        "model_w_result = model_w.wv.most_similar(\"반품\")\n",
        "print(model_w_result)\n",
        "model_f_result = model_f.wv.most_similar(\"반품\")\n",
        "print(model_f_result)"
      ],
      "execution_count": null,
      "outputs": []
    }
  ]
}