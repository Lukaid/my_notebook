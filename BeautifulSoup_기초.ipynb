{
  "nbformat": 4,
  "nbformat_minor": 0,
  "metadata": {
    "colab": {
      "name": "BeautifulSoup 기초.ipynb",
      "provenance": [],
      "collapsed_sections": [],
      "authorship_tag": "ABX9TyOjUMzEa22sHRuA5quOR+Gd",
      "include_colab_link": true
    },
    "kernelspec": {
      "name": "python3",
      "display_name": "Python 3"
    },
    "language_info": {
      "name": "python"
    }
  },
  "cells": [
    {
      "cell_type": "markdown",
      "metadata": {
        "id": "view-in-github",
        "colab_type": "text"
      },
      "source": [
        "<a href=\"https://colab.research.google.com/github/Lukaid/my_notebook/blob/main/BeautifulSoup_%EA%B8%B0%EC%B4%88.ipynb\" target=\"_parent\"><img src=\"https://colab.research.google.com/assets/colab-badge.svg\" alt=\"Open In Colab\"/></a>"
      ]
    },
    {
      "cell_type": "markdown",
      "metadata": {
        "id": "bZ8EUue6aNOb"
      },
      "source": [
        "# BeautifulSoup 기초"
      ]
    },
    {
      "cell_type": "markdown",
      "metadata": {
        "id": "Z_LJU5qVaSDk"
      },
      "source": [
        "## BeautifulSoup 특징\n",
        "- HTML과 XML 파일에서 데이터를 뽑아내기 위한 파이썬 라이브러리\n",
        "- HTML과 XML의 트리 구조를 탐색, 검색, 변경 가능\n",
        "- 다양한 파서(parser)를 선택하여 이용 가능"
      ]
    },
    {
      "cell_type": "markdown",
      "metadata": {
        "id": "ioWmYgS0bxbs"
      },
      "source": [
        "## HTML 파싱(Parsing)"
      ]
    },
    {
      "cell_type": "markdown",
      "metadata": {
        "id": "57_6Oh-bb1mU"
      },
      "source": [
        "### 웹페이지 예제 생성"
      ]
    },
    {
      "cell_type": "code",
      "metadata": {
        "colab": {
          "base_uri": "https://localhost:8080/"
        },
        "id": "oLVhNokSaLC3",
        "outputId": "c3bed815-cceb-4446-8163-6331baa23ace"
      },
      "source": [
        "%%writefile example.html\n",
        "<!DOCTYPE html>\n",
        "<html lang=\"ko\">\n",
        "<head>\n",
        "  <title>Document</title>\n",
        "</head>\n",
        "<body>\n",
        "  <h1>Heading 1</h1>\n",
        "  <p>Pragraph</p>\n",
        "  <div>\n",
        "    <a href=\"www.google.com\">Google</a>\n",
        "  </div>\n",
        "  <div class='class1'>\n",
        "    <p>a</p>\n",
        "    <a href=\"www.naver.com\">Naver</a>\n",
        "    <p>b</p>\n",
        "    <p>c</p>\n",
        "  </div>\n",
        "  <div id=\"id1\">\n",
        "    Example Page\n",
        "    <p>g</p>\n",
        "  </div>\n",
        "</body>\n",
        "</html>"
      ],
      "execution_count": null,
      "outputs": [
        {
          "output_type": "stream",
          "text": [
            "Overwriting example.html\n"
          ],
          "name": "stdout"
        }
      ]
    },
    {
      "cell_type": "code",
      "metadata": {
        "colab": {
          "base_uri": "https://localhost:8080/"
        },
        "id": "Eol2cYNOc1aO",
        "outputId": "f9aba543-08c9-420f-dd70-f77d8d58de6e"
      },
      "source": [
        "from bs4 import BeautifulSoup\n",
        "import urllib.request\n",
        "\n",
        "with open(\"example.html\") as fp:\n",
        "  soup = BeautifulSoup(fp, 'html.parser')\n",
        "\n",
        "soup"
      ],
      "execution_count": null,
      "outputs": [
        {
          "output_type": "execute_result",
          "data": {
            "text/plain": [
              "<!DOCTYPE html>\n",
              "\n",
              "<html lang=\"ko\">\n",
              "<head>\n",
              "<title>Document</title>\n",
              "</head>\n",
              "<body>\n",
              "<h1>Heading 1</h1>\n",
              "<p>Pragraph</p>\n",
              "<div>\n",
              "<a href=\"www.google.com\">Google</a>\n",
              "</div>\n",
              "<div class=\"class1\">\n",
              "<p>a</p>\n",
              "<a href=\"www.naver.com\">Naver</a>\n",
              "<p>b</p>\n",
              "<p>c</p>\n",
              "</div>\n",
              "<div id=\"id1\">\n",
              "    Example Page\n",
              "    <p>g</p>\n",
              "</div>\n",
              "</body>\n",
              "</html>"
            ]
          },
          "metadata": {
            "tags": []
          },
          "execution_count": 36
        }
      ]
    },
    {
      "cell_type": "code",
      "metadata": {
        "colab": {
          "base_uri": "https://localhost:8080/"
        },
        "id": "QptxqqV4dXJF",
        "outputId": "5c42c14d-65fb-4f71-fdb8-cf32bb62cf58"
      },
      "source": [
        "print(soup.prettify())"
      ],
      "execution_count": null,
      "outputs": [
        {
          "output_type": "stream",
          "text": [
            "<!DOCTYPE html>\n",
            "<html lang=\"ko\">\n",
            " <head>\n",
            "  <title>\n",
            "   Document\n",
            "  </title>\n",
            " </head>\n",
            " <body>\n",
            "  <h1>\n",
            "   Heading 1\n",
            "  </h1>\n",
            "  <p>\n",
            "   Pragraph\n",
            "  </p>\n",
            "  <div>\n",
            "   <a href=\"www.google.com\">\n",
            "    Google\n",
            "   </a>\n",
            "  </div>\n",
            "  <div class=\"class1\">\n",
            "   <p>\n",
            "    a\n",
            "   </p>\n",
            "   <a href=\"www.naver.com\">\n",
            "    Naver\n",
            "   </a>\n",
            "   <p>\n",
            "    b\n",
            "   </p>\n",
            "   <p>\n",
            "    c\n",
            "   </p>\n",
            "  </div>\n",
            "  <div id=\"id1\">\n",
            "   Example Page\n",
            "   <p>\n",
            "    g\n",
            "   </p>\n",
            "  </div>\n",
            " </body>\n",
            "</html>\n"
          ],
          "name": "stdout"
        }
      ]
    },
    {
      "cell_type": "markdown",
      "metadata": {
        "id": "zN_c017odjPH"
      },
      "source": [
        "### 기본적인 HTML 태크 파싱"
      ]
    },
    {
      "cell_type": "code",
      "metadata": {
        "colab": {
          "base_uri": "https://localhost:8080/"
        },
        "id": "L6otPOopde3H",
        "outputId": "628bbb51-e760-42ad-be6f-47ca000203d7"
      },
      "source": [
        "soup.title"
      ],
      "execution_count": null,
      "outputs": [
        {
          "output_type": "execute_result",
          "data": {
            "text/plain": [
              "<title>Document</title>"
            ]
          },
          "metadata": {
            "tags": []
          },
          "execution_count": 7
        }
      ]
    },
    {
      "cell_type": "code",
      "metadata": {
        "colab": {
          "base_uri": "https://localhost:8080/",
          "height": 35
        },
        "id": "udKAR3BEdoLT",
        "outputId": "e84b3fa0-a7b6-427f-e465-a4b0c35f5ae8"
      },
      "source": [
        "soup.title.name"
      ],
      "execution_count": null,
      "outputs": [
        {
          "output_type": "execute_result",
          "data": {
            "application/vnd.google.colaboratory.intrinsic+json": {
              "type": "string"
            },
            "text/plain": [
              "'title'"
            ]
          },
          "metadata": {
            "tags": []
          },
          "execution_count": 8
        }
      ]
    },
    {
      "cell_type": "code",
      "metadata": {
        "colab": {
          "base_uri": "https://localhost:8080/",
          "height": 35
        },
        "id": "W8Nda3Didsa7",
        "outputId": "a578b1ea-d883-45c2-eb08-2cc784d5136a"
      },
      "source": [
        "soup.title.string"
      ],
      "execution_count": null,
      "outputs": [
        {
          "output_type": "execute_result",
          "data": {
            "application/vnd.google.colaboratory.intrinsic+json": {
              "type": "string"
            },
            "text/plain": [
              "'Document'"
            ]
          },
          "metadata": {
            "tags": []
          },
          "execution_count": 10
        }
      ]
    },
    {
      "cell_type": "code",
      "metadata": {
        "colab": {
          "base_uri": "https://localhost:8080/"
        },
        "id": "0tyD-cETdsYe",
        "outputId": "a5188ff2-4039-48ee-a311-bbef2d06cfab"
      },
      "source": [
        "soup.title.parent # title을 포함하고있는 상위 태그 반환"
      ],
      "execution_count": null,
      "outputs": [
        {
          "output_type": "execute_result",
          "data": {
            "text/plain": [
              "<head>\n",
              "<title>Document</title>\n",
              "</head>"
            ]
          },
          "metadata": {
            "tags": []
          },
          "execution_count": 11
        }
      ]
    },
    {
      "cell_type": "code",
      "metadata": {
        "colab": {
          "base_uri": "https://localhost:8080/",
          "height": 35
        },
        "id": "L-YErpfidsS_",
        "outputId": "63c55dd6-c40c-41cf-d644-cd19b8335c0a"
      },
      "source": [
        "soup.title.parent.name"
      ],
      "execution_count": null,
      "outputs": [
        {
          "output_type": "execute_result",
          "data": {
            "application/vnd.google.colaboratory.intrinsic+json": {
              "type": "string"
            },
            "text/plain": [
              "'head'"
            ]
          },
          "metadata": {
            "tags": []
          },
          "execution_count": 12
        }
      ]
    },
    {
      "cell_type": "code",
      "metadata": {
        "colab": {
          "base_uri": "https://localhost:8080/"
        },
        "id": "Qm4eQbDldsL0",
        "outputId": "bb7ee773-82c3-4981-8037-ecb454a4960e"
      },
      "source": [
        "soup.h1"
      ],
      "execution_count": null,
      "outputs": [
        {
          "output_type": "execute_result",
          "data": {
            "text/plain": [
              "<h1>Heading 1</h1>"
            ]
          },
          "metadata": {
            "tags": []
          },
          "execution_count": 14
        }
      ]
    },
    {
      "cell_type": "code",
      "metadata": {
        "colab": {
          "base_uri": "https://localhost:8080/"
        },
        "id": "1huTyyYxd6AB",
        "outputId": "5ef21e7b-9c03-43fd-9736-b3ee6dbe3cd0"
      },
      "source": [
        "soup.p"
      ],
      "execution_count": null,
      "outputs": [
        {
          "output_type": "execute_result",
          "data": {
            "text/plain": [
              "<p>Pragraph</p>"
            ]
          },
          "metadata": {
            "tags": []
          },
          "execution_count": 15
        }
      ]
    },
    {
      "cell_type": "code",
      "metadata": {
        "colab": {
          "base_uri": "https://localhost:8080/"
        },
        "id": "FL7PkHFMd8bo",
        "outputId": "ded86e37-6fc6-4ea4-e933-78b09cfb5d6b"
      },
      "source": [
        "soup.div"
      ],
      "execution_count": null,
      "outputs": [
        {
          "output_type": "execute_result",
          "data": {
            "text/plain": [
              "<div>\n",
              "<a href=\"www.google.com\">Google</a>\n",
              "</div>"
            ]
          },
          "metadata": {
            "tags": []
          },
          "execution_count": 16
        }
      ]
    },
    {
      "cell_type": "code",
      "metadata": {
        "colab": {
          "base_uri": "https://localhost:8080/"
        },
        "id": "vFXFx90Kd8Yy",
        "outputId": "02ec5ab9-c792-41ee-f006-84d00c396faf"
      },
      "source": [
        "soup.a"
      ],
      "execution_count": null,
      "outputs": [
        {
          "output_type": "execute_result",
          "data": {
            "text/plain": [
              "<a href=\"www.google.com\">Google</a>"
            ]
          },
          "metadata": {
            "tags": []
          },
          "execution_count": 17
        }
      ]
    },
    {
      "cell_type": "markdown",
      "metadata": {
        "id": "huEjqluceCbG"
      },
      "source": [
        "### HTML 태크 검색"
      ]
    },
    {
      "cell_type": "markdown",
      "metadata": {
        "id": "uBwJjlkMeGil"
      },
      "source": [
        "- find(): 해당 조건에 맞는 하나의 태그를 가져옴\n",
        "- find_all(): 해당 조건에 맞는 모든 태그를 가져옴\n",
        "- select(): CSS 선택자와 같은 형식으로 선택 가능"
      ]
    },
    {
      "cell_type": "code",
      "metadata": {
        "colab": {
          "base_uri": "https://localhost:8080/"
        },
        "id": "N7GNBSKSeF2a",
        "outputId": "cfb34500-0dd9-45a6-eef5-b44cfb7ac418"
      },
      "source": [
        "soup_find = soup.find('div') # div 태그 중 맨 앞에 쓰인걸 찾아라\n",
        "print(soup_find)"
      ],
      "execution_count": null,
      "outputs": [
        {
          "output_type": "stream",
          "text": [
            "<div>\n",
            "<a href=\"www.google.com\">Google</a>\n",
            "</div>\n"
          ],
          "name": "stdout"
        }
      ]
    },
    {
      "cell_type": "code",
      "metadata": {
        "colab": {
          "base_uri": "https://localhost:8080/"
        },
        "id": "EjECE38Dd8Wp",
        "outputId": "5be248ec-611b-4440-ce5c-fb382b6d4f3c"
      },
      "source": [
        "soup_find_all = soup.find_all('div') # div 태그 전부 리스트 형태로 가져와\n",
        "print(soup_find_all)"
      ],
      "execution_count": null,
      "outputs": [
        {
          "output_type": "stream",
          "text": [
            "[<div>\n",
            "<a href=\"www.google.com\">Google</a>\n",
            "</div>, <div class=\"class1\">\n",
            "<p>a</p>\n",
            "<a href=\"www.naver.com\">Naver</a>\n",
            "<p>b</p>\n",
            "<p>c</p>\n",
            "</div>, <div id=\"id1\">\n",
            "    Example Page\n",
            "    <p>g</p>\n",
            "</div>]\n"
          ],
          "name": "stdout"
        }
      ]
    },
    {
      "cell_type": "code",
      "metadata": {
        "colab": {
          "base_uri": "https://localhost:8080/"
        },
        "id": "KAXv2_zPd8Uh",
        "outputId": "5aa9a69d-94d6-41b2-c0a1-92801b330424"
      },
      "source": [
        "find_by_id = soup.find_all('div', attrs={'id':'id1'}) # 얘도 리스트\n",
        "print(find_by_id)"
      ],
      "execution_count": null,
      "outputs": [
        {
          "output_type": "stream",
          "text": [
            "[<div id=\"id1\">\n",
            "    Example Page\n",
            "    <p>g</p>\n",
            "</div>]\n"
          ],
          "name": "stdout"
        }
      ]
    },
    {
      "cell_type": "code",
      "metadata": {
        "colab": {
          "base_uri": "https://localhost:8080/"
        },
        "id": "cUonQVMid8SY",
        "outputId": "ce0e2a7a-569a-45ef-80a7-0f7c1e751bb6"
      },
      "source": [
        "find_by_class = soup.find_all('div', attrs={'class':'class1'})\n",
        "print(find_by_class)"
      ],
      "execution_count": null,
      "outputs": [
        {
          "output_type": "stream",
          "text": [
            "[<div class=\"class1\">\n",
            "<p>a</p>\n",
            "<a href=\"www.naver.com\">Naver</a>\n",
            "<p>b</p>\n",
            "<p>c</p>\n",
            "</div>]\n"
          ],
          "name": "stdout"
        }
      ]
    },
    {
      "cell_type": "code",
      "metadata": {
        "colab": {
          "base_uri": "https://localhost:8080/"
        },
        "id": "2nVHaSGKd8Ps",
        "outputId": "f9f2f074-6aa1-4c5a-df29-e09864b76594"
      },
      "source": [
        "print(soup.find('a')) # 얘는 a태그 다 가져와\n",
        "print(soup.find('a').get('href')) # 얘는 a태그의 href 속성값만 가져와\n"
      ],
      "execution_count": null,
      "outputs": [
        {
          "output_type": "stream",
          "text": [
            "<a href=\"www.google.com\">Google</a>\n",
            "www.google.com\n"
          ],
          "name": "stdout"
        }
      ]
    },
    {
      "cell_type": "code",
      "metadata": {
        "colab": {
          "base_uri": "https://localhost:8080/",
          "height": 35
        },
        "id": "rs5p_Fycfnef",
        "outputId": "b6be3f5a-d188-453a-8795-1903df0f5ea0"
      },
      "source": [
        "soup.find('a').get_text() # 얘는 a태그가 가지고 있는 텍스트만"
      ],
      "execution_count": null,
      "outputs": [
        {
          "output_type": "execute_result",
          "data": {
            "application/vnd.google.colaboratory.intrinsic+json": {
              "type": "string"
            },
            "text/plain": [
              "'Google'"
            ]
          },
          "metadata": {
            "tags": []
          },
          "execution_count": 41
        }
      ]
    },
    {
      "cell_type": "code",
      "metadata": {
        "colab": {
          "base_uri": "https://localhost:8080/"
        },
        "id": "k7wdV03afncE",
        "outputId": "ffeffdbd-ebd1-4509-c497-0859a0b0192c"
      },
      "source": [
        "site_names = soup.find_all('a')\n",
        "for name in site_names:\n",
        "  print(name)\n",
        "  print(name.get('href'))\n",
        "  print(name.get_text())\n",
        "  print()"
      ],
      "execution_count": null,
      "outputs": [
        {
          "output_type": "stream",
          "text": [
            "<a href=\"www.google.com\">Google</a>\n",
            "www.google.com\n",
            "Google\n",
            "\n",
            "<a href=\"www.naver.com\">Naver</a>\n",
            "www.naver.com\n",
            "Naver\n",
            "\n"
          ],
          "name": "stdout"
        }
      ]
    },
    {
      "cell_type": "code",
      "metadata": {
        "colab": {
          "base_uri": "https://localhost:8080/"
        },
        "id": "TbCKL1SPfnaB",
        "outputId": "7df8f43c-8135-4c5a-cc85-c4bfe22aaca9"
      },
      "source": [
        "id1 = soup.select('div#id1') # css 선택자에 해당하는거 전부 가져와\n",
        "id1"
      ],
      "execution_count": null,
      "outputs": [
        {
          "output_type": "execute_result",
          "data": {
            "text/plain": [
              "[<div id=\"id1\">\n",
              "     Example Page\n",
              "     <p>g</p>\n",
              " </div>]"
            ]
          },
          "metadata": {
            "tags": []
          },
          "execution_count": 44
        }
      ]
    },
    {
      "cell_type": "code",
      "metadata": {
        "colab": {
          "base_uri": "https://localhost:8080/"
        },
        "id": "zUHSJtp7fnXk",
        "outputId": "44dfdd8b-9a3d-45ac-9453-63ff8206ed52"
      },
      "source": [
        "class1 = soup.select('div.class1')\n",
        "class1"
      ],
      "execution_count": null,
      "outputs": [
        {
          "output_type": "execute_result",
          "data": {
            "text/plain": [
              "[<div class=\"class1\">\n",
              " <p>a</p>\n",
              " <a href=\"www.naver.com\">Naver</a>\n",
              " <p>b</p>\n",
              " <p>c</p>\n",
              " </div>]"
            ]
          },
          "metadata": {
            "tags": []
          },
          "execution_count": 47
        }
      ]
    },
    {
      "cell_type": "code",
      "metadata": {
        "colab": {
          "base_uri": "https://localhost:8080/"
        },
        "id": "5lx4ID31fnVd",
        "outputId": "70676b4b-0dec-40a1-bded-eb514f9caf0e"
      },
      "source": [
        "class1_a = soup.select('div.class1 a') # 하위 태그를 가져올때 \n",
        "print(class1_a) # 리스트 반환\n",
        "print(class1_a[0].get('href'))\n",
        "print(class1_a[0].get_text())"
      ],
      "execution_count": null,
      "outputs": [
        {
          "output_type": "stream",
          "text": [
            "[<a href=\"www.naver.com\">Naver</a>]\n",
            "www.naver.com\n",
            "Naver\n"
          ],
          "name": "stdout"
        }
      ]
    },
    {
      "cell_type": "markdown",
      "metadata": {
        "id": "h1KCrxlChgrr"
      },
      "source": [
        "### 웹페이지 콘텐츠 가져오기"
      ]
    },
    {
      "cell_type": "code",
      "metadata": {
        "colab": {
          "base_uri": "https://localhost:8080/"
        },
        "id": "ExkOO5lKfnTP",
        "outputId": "db84c508-e2c1-4a9d-d81f-d06328d6d9b5"
      },
      "source": [
        "%%writefile anthem.html\n",
        "<!DOCTYPE html>\n",
        "<html lang=\"ko\">\n",
        "<head>\n",
        "  <title>Document</title>\n",
        "</head>\n",
        "<body>\n",
        "  <div>\n",
        "    <p id='title'>애국가</p> # 일반적으로 다 이렇게 구성되어 있음\n",
        "    <p id='content'>\n",
        "      동해물과 백두산이 마르고 닳도록 하느님이 보우하사 우리나라 만세. <br />\n",
        "      무궁화 삼천리 화려강산 대한사람 대한으로 길이 보전하세. <br />\n",
        "    </p>\n",
        "      <p id='content'>\n",
        "      강산위에 저 소나무 철갑을 두른듯 바람서리 불변함은 우리 기상일세. <br />\n",
        "      무궁화 삼천리 화려강산 대한사람 대한으로 길이 보전하세. <br />\n",
        "    </p>\n",
        "      <p id='content'>\n",
        "      가을 하늘 공활한데 높고 구름 없이 밝은 달은 우리 가슴 일편달심일세. <br />\n",
        "      무궁화 삼천리 화려강산 대한사람 대한으로 길이 보전하세. <br />\n",
        "    </p>\n",
        "      <p id='content'>\n",
        "      이 기상과 이 맘으로 충성을 다하여 괴로우나 즐거우나 나라 사랑하세. <br />\n",
        "      무궁화 삼천리 화려강산 대한사람 대한으로 길이 보전하세. <br />\n",
        "    </p>\n",
        "  </div>\n",
        "</body>\n",
        "</html>"
      ],
      "execution_count": null,
      "outputs": [
        {
          "output_type": "stream",
          "text": [
            "Writing anthem.html\n"
          ],
          "name": "stdout"
        }
      ]
    },
    {
      "cell_type": "code",
      "metadata": {
        "colab": {
          "base_uri": "https://localhost:8080/"
        },
        "id": "4frF1KpifnQ-",
        "outputId": "11a2e7da-223d-4b9f-bd5c-c58e52d2fb75"
      },
      "source": [
        "with open('anthem.html') as fp:\n",
        "  soup = BeautifulSoup(fp, 'html.parser')\n",
        "\n",
        "soup"
      ],
      "execution_count": null,
      "outputs": [
        {
          "output_type": "execute_result",
          "data": {
            "text/plain": [
              "<!DOCTYPE html>\n",
              "\n",
              "<html lang=\"ko\">\n",
              "<head>\n",
              "<title>Document</title>\n",
              "</head>\n",
              "<body>\n",
              "<div>\n",
              "<p id=\"title\">애국가</p> # 일반적으로 다 이렇게 구성되어 있음\n",
              "    <p id=\"content\">\n",
              "      동해물과 백두산이 마르고 닳도록 하느님이 보우하사 우리나라 만세. <br/>\n",
              "      무궁화 삼천리 화려강산 대한사람 대한으로 길이 보전하세. <br/>\n",
              "</p>\n",
              "<p id=\"content\">\n",
              "      강산위에 저 소나무 철갑을 두른듯 바람서리 불변함은 우리 기상일세. <br/>\n",
              "      무궁화 삼천리 화려강산 대한사람 대한으로 길이 보전하세. <br/>\n",
              "</p>\n",
              "<p id=\"content\">\n",
              "      가을 하늘 공활한데 높고 구름 없이 밝은 달은 우리 가슴 일편달심일세. <br/>\n",
              "      무궁화 삼천리 화려강산 대한사람 대한으로 길이 보전하세. <br/>\n",
              "</p>\n",
              "<p id=\"content\">\n",
              "      이 기상과 이 맘으로 충성을 다하여 괴로우나 즐거우나 나라 사랑하세. <br/>\n",
              "      무궁화 삼천리 화려강산 대한사람 대한으로 길이 보전하세. <br/>\n",
              "</p>\n",
              "</div>\n",
              "</body>\n",
              "</html>"
            ]
          },
          "metadata": {
            "tags": []
          },
          "execution_count": 54
        }
      ]
    },
    {
      "cell_type": "code",
      "metadata": {
        "colab": {
          "base_uri": "https://localhost:8080/"
        },
        "id": "nLxmz8gtfnOI",
        "outputId": "88974013-6002-4b53-f63f-b489b5483a9c"
      },
      "source": [
        "title = soup.find('p', attrs={'id':'title'}) # attrs= 생략가능\n",
        "contents = soup.find_all('p', attrs={'id':'content'})\n",
        "\n",
        "print(title.get_text())\n",
        "for content in contents:\n",
        "  print(content.get_text())"
      ],
      "execution_count": null,
      "outputs": [
        {
          "output_type": "stream",
          "text": [
            "애국가\n",
            "\n",
            "      동해물과 백두산이 마르고 닳도록 하느님이 보우하사 우리나라 만세. \n",
            "      무궁화 삼천리 화려강산 대한사람 대한으로 길이 보전하세. \n",
            "\n",
            "\n",
            "      강산위에 저 소나무 철갑을 두른듯 바람서리 불변함은 우리 기상일세. \n",
            "      무궁화 삼천리 화려강산 대한사람 대한으로 길이 보전하세. \n",
            "\n",
            "\n",
            "      가을 하늘 공활한데 높고 구름 없이 밝은 달은 우리 가슴 일편달심일세. \n",
            "      무궁화 삼천리 화려강산 대한사람 대한으로 길이 보전하세. \n",
            "\n",
            "\n",
            "      이 기상과 이 맘으로 충성을 다하여 괴로우나 즐거우나 나라 사랑하세. \n",
            "      무궁화 삼천리 화려강산 대한사람 대한으로 길이 보전하세. \n",
            "\n"
          ],
          "name": "stdout"
        }
      ]
    },
    {
      "cell_type": "markdown",
      "metadata": {
        "id": "ozYCXugMjohP"
      },
      "source": [
        "### 인터넷 웹페이지 가져오기"
      ]
    },
    {
      "cell_type": "code",
      "metadata": {
        "id": "kg-9TAE4jo0c"
      },
      "source": [
        "url = \"http://suanlab.com\"\n",
        "html = urllib.request.urlopen(url).read()\n",
        "soup = BeautifulSoup(html, 'html.parser')"
      ],
      "execution_count": null,
      "outputs": []
    },
    {
      "cell_type": "code",
      "metadata": {
        "colab": {
          "base_uri": "https://localhost:8080/"
        },
        "id": "STDomdNbjpZd",
        "outputId": "26d4ea1c-f324-435b-b8c3-4bbef775978b"
      },
      "source": [
        "labels = soup.find_all(['label'])\n",
        "for label in labels:\n",
        "  print(label.get_text())"
      ],
      "execution_count": null,
      "outputs": [
        {
          "output_type": "stream",
          "text": [
            "[2020-10-07] \"이력서 작성·레시피 제공 다양하게 활용되는 GPT3\" 칼럼\n",
            "[2020-05-20] \"인공지능의 보안 위협\" 칼럼\n",
            "[2020-03-04] \"데이터 경제 시대\" 칼럼\n",
            "[2019-12-25] \"마이데이터 시대의 도래 데이터 주권과 새로운 가치\" 칼럼\n",
            "[2019-09-25] \"유튜브 탄생과 크리에이터 시대\" 칼럼\n",
            "[2019-09-04] \"농업으로 들어간 인공지능\" 칼럼\n",
            "[2019-08-07] \"AI시대 지배할 것인가 지배당하며 살 것인가\" 칼럼\n",
            "[2018-12-30] \"파이썬으로 텍스트 분석하기\" 책 출판\n"
          ],
          "name": "stdout"
        }
      ]
    },
    {
      "cell_type": "code",
      "metadata": {
        "colab": {
          "base_uri": "https://localhost:8080/"
        },
        "id": "gvw9_hwwjpXA",
        "outputId": "af1e6d3a-6634-419f-f0cf-d323f7fbffdb"
      },
      "source": [
        "labels = soup.select('#wrapper > section > div > div > div > div > div > label') # :nth-child(1) 이런거 지워줘야 됨\n",
        "for label in labels:\n",
        "  print(label.get_text())"
      ],
      "execution_count": null,
      "outputs": [
        {
          "output_type": "stream",
          "text": [
            "[2020-10-07] \"이력서 작성·레시피 제공 다양하게 활용되는 GPT3\" 칼럼\n",
            "[2020-05-20] \"인공지능의 보안 위협\" 칼럼\n",
            "[2020-03-04] \"데이터 경제 시대\" 칼럼\n",
            "[2019-12-25] \"마이데이터 시대의 도래 데이터 주권과 새로운 가치\" 칼럼\n",
            "[2019-09-25] \"유튜브 탄생과 크리에이터 시대\" 칼럼\n",
            "[2019-09-04] \"농업으로 들어간 인공지능\" 칼럼\n",
            "[2019-08-07] \"AI시대 지배할 것인가 지배당하며 살 것인가\" 칼럼\n",
            "[2018-12-30] \"파이썬으로 텍스트 분석하기\" 책 출판\n"
          ],
          "name": "stdout"
        }
      ]
    },
    {
      "cell_type": "code",
      "metadata": {
        "id": "OaXiO3aqjpU3"
      },
      "source": [
        ""
      ],
      "execution_count": null,
      "outputs": []
    }
  ]
}