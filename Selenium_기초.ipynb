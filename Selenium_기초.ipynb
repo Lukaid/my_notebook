{
  "nbformat": 4,
  "nbformat_minor": 0,
  "metadata": {
    "colab": {
      "name": "Selenium 기초.ipynb",
      "provenance": [],
      "collapsed_sections": [],
      "authorship_tag": "ABX9TyPHzkhjGgcifkJ2omFtuHEg",
      "include_colab_link": true
    },
    "kernelspec": {
      "name": "python3",
      "display_name": "Python 3"
    },
    "language_info": {
      "name": "python"
    }
  },
  "cells": [
    {
      "cell_type": "markdown",
      "metadata": {
        "id": "view-in-github",
        "colab_type": "text"
      },
      "source": [
        "<a href=\"https://colab.research.google.com/github/Lukaid/my_notebook/blob/main/Selenium_%EA%B8%B0%EC%B4%88.ipynb\" target=\"_parent\"><img src=\"https://colab.research.google.com/assets/colab-badge.svg\" alt=\"Open In Colab\"/></a>"
      ]
    },
    {
      "cell_type": "markdown",
      "metadata": {
        "id": "d-l-P9weAsuq"
      },
      "source": [
        "# Selenium 기초"
      ]
    },
    {
      "cell_type": "markdown",
      "metadata": {
        "id": "yIvkh_mzBJhV"
      },
      "source": [
        "## Selenium 및 웹 드라이버 설치"
      ]
    },
    {
      "cell_type": "code",
      "metadata": {
        "colab": {
          "base_uri": "https://localhost:8080/"
        },
        "id": "JnXTMs-IArBj",
        "outputId": "50778216-b561-42bc-a254-61f015639fe7"
      },
      "source": [
        "!pip install Selenium\n",
        "!apt-get update\n",
        "!apt install chromium-chromedriver\n",
        "!cp /usr/lib/chrome-browser/chromedriver /usr/bin/\n",
        "\n",
        "import sys\n",
        "sys.path.insert(0, 'usr/lib/chromium-browser/chromedriver')"
      ],
      "execution_count": 2,
      "outputs": [
        {
          "output_type": "stream",
          "text": [
            "Requirement already satisfied: Selenium in /usr/local/lib/python3.7/dist-packages (3.141.0)\n",
            "Requirement already satisfied: urllib3 in /usr/local/lib/python3.7/dist-packages (from Selenium) (1.24.3)\n",
            "Hit:1 https://cloud.r-project.org/bin/linux/ubuntu bionic-cran40/ InRelease\n",
            "Ign:2 https://developer.download.nvidia.com/compute/cuda/repos/ubuntu1804/x86_64  InRelease\n",
            "Ign:3 https://developer.download.nvidia.com/compute/machine-learning/repos/ubuntu1804/x86_64  InRelease\n",
            "Hit:4 http://security.ubuntu.com/ubuntu bionic-security InRelease\n",
            "Hit:5 https://developer.download.nvidia.com/compute/cuda/repos/ubuntu1804/x86_64  Release\n",
            "Hit:6 http://ppa.launchpad.net/c2d4u.team/c2d4u4.0+/ubuntu bionic InRelease\n",
            "Hit:7 https://developer.download.nvidia.com/compute/machine-learning/repos/ubuntu1804/x86_64  Release\n",
            "Hit:8 http://archive.ubuntu.com/ubuntu bionic InRelease\n",
            "Hit:9 http://archive.ubuntu.com/ubuntu bionic-updates InRelease\n",
            "Hit:10 http://archive.ubuntu.com/ubuntu bionic-backports InRelease\n",
            "Hit:11 http://ppa.launchpad.net/cran/libgit2/ubuntu bionic InRelease\n",
            "Hit:12 http://ppa.launchpad.net/deadsnakes/ppa/ubuntu bionic InRelease\n",
            "Hit:14 http://ppa.launchpad.net/graphics-drivers/ppa/ubuntu bionic InRelease\n",
            "Reading package lists... Done\n",
            "Reading package lists... Done\n",
            "Building dependency tree       \n",
            "Reading state information... Done\n",
            "chromium-chromedriver is already the newest version (89.0.4389.90-0ubuntu0.18.04.2).\n",
            "0 upgraded, 0 newly installed, 0 to remove and 50 not upgraded.\n",
            "cp: cannot stat '/usr/lib/chrome-browser/chromedriver': No such file or directory\n"
          ],
          "name": "stdout"
        }
      ]
    },
    {
      "cell_type": "markdown",
      "metadata": {
        "id": "iEBrecmBCEhe"
      },
      "source": [
        "## 웹 드라이버 설정"
      ]
    },
    {
      "cell_type": "code",
      "metadata": {
        "id": "07SLr98eB8tw"
      },
      "source": [
        "from selenium import webdriver\n",
        "\n",
        "chrome_options = webdriver.ChromeOptions()\n",
        "chrome_options.add_argument('--headless')\n",
        "chrome_options.add_argument('--no-sandbox')\n",
        "chrome_options.add_argument('--disable-dev-shm-usage')"
      ],
      "execution_count": 6,
      "outputs": []
    },
    {
      "cell_type": "markdown",
      "metadata": {
        "id": "IcE8Mf6bCmie"
      },
      "source": [
        "## 웹 드라이버 객체 생성"
      ]
    },
    {
      "cell_type": "code",
      "metadata": {
        "id": "udZRe_2fCenZ"
      },
      "source": [
        "wd = webdriver.Chrome('chromedriver', options=chrome_options) # 위의 옵션대로 웹 드라이버 객체 생성"
      ],
      "execution_count": 7,
      "outputs": []
    },
    {
      "cell_type": "markdown",
      "metadata": {
        "id": "cwOTIBxTC1eC"
      },
      "source": [
        "## Selenium 실행"
      ]
    },
    {
      "cell_type": "code",
      "metadata": {
        "id": "L8dESuWzCw0T"
      },
      "source": [
        "wd.get('http://suanlab.com/') # get으로 url주소 가져오기"
      ],
      "execution_count": 8,
      "outputs": []
    },
    {
      "cell_type": "code",
      "metadata": {
        "colab": {
          "base_uri": "https://localhost:8080/"
        },
        "id": "R3NsO_XbDDY9",
        "outputId": "a12e679d-9863-4c90-a2bc-66ce0b1793ed"
      },
      "source": [
        "wd.get_screenshot_as_file('suanlab.png') # 스크린 샷 찍기"
      ],
      "execution_count": 9,
      "outputs": [
        {
          "output_type": "execute_result",
          "data": {
            "text/plain": [
              "True"
            ]
          },
          "metadata": {
            "tags": []
          },
          "execution_count": 9
        }
      ]
    },
    {
      "cell_type": "code",
      "metadata": {
        "colab": {
          "base_uri": "https://localhost:8080/",
          "height": 17
        },
        "id": "3FZxEaddDK7w",
        "outputId": "d642e20f-e812-4100-8835-e616827659da"
      },
      "source": [
        "from google.colab import files\n",
        "files.download('suanlab.png')"
      ],
      "execution_count": 10,
      "outputs": [
        {
          "output_type": "display_data",
          "data": {
            "application/javascript": [
              "\n",
              "    async function download(id, filename, size) {\n",
              "      if (!google.colab.kernel.accessAllowed) {\n",
              "        return;\n",
              "      }\n",
              "      const div = document.createElement('div');\n",
              "      const label = document.createElement('label');\n",
              "      label.textContent = `Downloading \"${filename}\": `;\n",
              "      div.appendChild(label);\n",
              "      const progress = document.createElement('progress');\n",
              "      progress.max = size;\n",
              "      div.appendChild(progress);\n",
              "      document.body.appendChild(div);\n",
              "\n",
              "      const buffers = [];\n",
              "      let downloaded = 0;\n",
              "\n",
              "      const channel = await google.colab.kernel.comms.open(id);\n",
              "      // Send a message to notify the kernel that we're ready.\n",
              "      channel.send({})\n",
              "\n",
              "      for await (const message of channel.messages) {\n",
              "        // Send a message to notify the kernel that we're ready.\n",
              "        channel.send({})\n",
              "        if (message.buffers) {\n",
              "          for (const buffer of message.buffers) {\n",
              "            buffers.push(buffer);\n",
              "            downloaded += buffer.byteLength;\n",
              "            progress.value = downloaded;\n",
              "          }\n",
              "        }\n",
              "      }\n",
              "      const blob = new Blob(buffers, {type: 'application/binary'});\n",
              "      const a = document.createElement('a');\n",
              "      a.href = window.URL.createObjectURL(blob);\n",
              "      a.download = filename;\n",
              "      div.appendChild(a);\n",
              "      a.click();\n",
              "      div.remove();\n",
              "    }\n",
              "  "
            ],
            "text/plain": [
              "<IPython.core.display.Javascript object>"
            ]
          },
          "metadata": {
            "tags": []
          }
        },
        {
          "output_type": "display_data",
          "data": {
            "application/javascript": [
              "download(\"download_99d19d7e-0150-4bac-9910-f1ca1becff29\", \"suanlab.png\", 316052)"
            ],
            "text/plain": [
              "<IPython.core.display.Javascript object>"
            ]
          },
          "metadata": {
            "tags": []
          }
        }
      ]
    },
    {
      "cell_type": "code",
      "metadata": {
        "colab": {
          "base_uri": "https://localhost:8080/"
        },
        "id": "PnJuBBkBDcOR",
        "outputId": "2d69c55f-6368-423f-cba2-191b55608c00"
      },
      "source": [
        "for label in wd.find_elements_by_tag_name('label'):\n",
        "    print(label.text)"
      ],
      "execution_count": 11,
      "outputs": [
        {
          "output_type": "stream",
          "text": [
            "[2020-10-07] \"이력서 작성·레시피 제공 다양하게 활용되는 GPT3\" 칼럼\n",
            "[2020-05-20] \"인공지능의 보안 위협\" 칼럼\n",
            "[2020-03-04] \"데이터 경제 시대\" 칼럼\n",
            "[2019-12-25] \"마이데이터 시대의 도래 데이터 주권과 새로운 가치\" 칼럼\n",
            "[2019-09-25] \"유튜브 탄생과 크리에이터 시대\" 칼럼\n",
            "[2019-09-04] \"농업으로 들어간 인공지능\" 칼럼\n",
            "[2019-08-07] \"AI시대 지배할 것인가 지배당하며 살 것인가\" 칼럼\n",
            "[2018-12-30] \"파이썬으로 텍스트 분석하기\" 책 출판\n"
          ],
          "name": "stdout"
        }
      ]
    },
    {
      "cell_type": "code",
      "metadata": {
        "colab": {
          "base_uri": "https://localhost:8080/"
        },
        "id": "1Fj4gkl6D0Co",
        "outputId": "9ca7f78e-7bb1-4636-b79f-2ba1ab17908b"
      },
      "source": [
        "for label in wd.find_elements_by_css_selector('#wrapper > section > div > div > div > div > div > label'):\n",
        "    print(label.text)"
      ],
      "execution_count": 13,
      "outputs": [
        {
          "output_type": "stream",
          "text": [
            "[2020-10-07] \"이력서 작성·레시피 제공 다양하게 활용되는 GPT3\" 칼럼\n",
            "[2020-05-20] \"인공지능의 보안 위협\" 칼럼\n",
            "[2020-03-04] \"데이터 경제 시대\" 칼럼\n",
            "[2019-12-25] \"마이데이터 시대의 도래 데이터 주권과 새로운 가치\" 칼럼\n",
            "[2019-09-25] \"유튜브 탄생과 크리에이터 시대\" 칼럼\n",
            "[2019-09-04] \"농업으로 들어간 인공지능\" 칼럼\n",
            "[2019-08-07] \"AI시대 지배할 것인가 지배당하며 살 것인가\" 칼럼\n",
            "[2018-12-30] \"파이썬으로 텍스트 분석하기\" 책 출판\n"
          ],
          "name": "stdout"
        }
      ]
    },
    {
      "cell_type": "code",
      "metadata": {
        "colab": {
          "base_uri": "https://localhost:8080/"
        },
        "id": "2pE70E4dEDJP",
        "outputId": "f2d0c9df-4623-4ca0-bf30-5687eb783704"
      },
      "source": [
        "for label in wd.find_elements_by_xpath('//*[@id=\"wrapper\"]/section/div/div/div/div/div/label'):\n",
        "    print(label.text)"
      ],
      "execution_count": 14,
      "outputs": [
        {
          "output_type": "stream",
          "text": [
            "[2020-10-07] \"이력서 작성·레시피 제공 다양하게 활용되는 GPT3\" 칼럼\n",
            "[2020-05-20] \"인공지능의 보안 위협\" 칼럼\n",
            "[2020-03-04] \"데이터 경제 시대\" 칼럼\n",
            "[2019-12-25] \"마이데이터 시대의 도래 데이터 주권과 새로운 가치\" 칼럼\n",
            "[2019-09-25] \"유튜브 탄생과 크리에이터 시대\" 칼럼\n",
            "[2019-09-04] \"농업으로 들어간 인공지능\" 칼럼\n",
            "[2019-08-07] \"AI시대 지배할 것인가 지배당하며 살 것인가\" 칼럼\n",
            "[2018-12-30] \"파이썬으로 텍스트 분석하기\" 책 출판\n"
          ],
          "name": "stdout"
        }
      ]
    },
    {
      "cell_type": "code",
      "metadata": {
        "colab": {
          "base_uri": "https://localhost:8080/"
        },
        "id": "QkjzOiy1Eev4",
        "outputId": "4d3f80b6-b718-4bfd-ed2f-59aec437bb9e"
      },
      "source": [
        "toggle_class = wd.find_element_by_css_selector('#wrapper > section > div > div > div > div') # 객체를 먼저 가져올수도 있음\n",
        "for label in toggle_class.find_elements_by_class_name('toggle'):\n",
        "    print(label.text)"
      ],
      "execution_count": 18,
      "outputs": [
        {
          "output_type": "stream",
          "text": [
            "[2020-10-07] \"이력서 작성·레시피 제공 다양하게 활용되는 GPT3\" 칼럼\n",
            "[2020-05-20] \"인공지능의 보안 위협\" 칼럼\n",
            "[2020-03-04] \"데이터 경제 시대\" 칼럼\n",
            "[2019-12-25] \"마이데이터 시대의 도래 데이터 주권과 새로운 가치\" 칼럼\n",
            "[2019-09-25] \"유튜브 탄생과 크리에이터 시대\" 칼럼\n",
            "[2019-09-04] \"농업으로 들어간 인공지능\" 칼럼\n",
            "[2019-08-07] \"AI시대 지배할 것인가 지배당하며 살 것인가\" 칼럼\n",
            "[2018-12-30] \"파이썬으로 텍스트 분석하기\" 책 출판\n"
          ],
          "name": "stdout"
        }
      ]
    },
    {
      "cell_type": "code",
      "metadata": {
        "colab": {
          "base_uri": "https://localhost:8080/"
        },
        "id": "BsDVmBgvGBu-",
        "outputId": "d5660a65-e416-406b-f24c-d43fa13b78e6"
      },
      "source": [
        "from selenium.webdriver.common.by import By\n",
        "\n",
        "\n",
        "for label in wd.find_elements(By.TAG_NAME, 'label'):\n",
        "    print(label.text)\n",
        "\n",
        "print() # 위 아래가 같은 역할\n",
        "\n",
        "for label in wd.find_elements_by_tag_name('label'):\n",
        "    print(label.text)"
      ],
      "execution_count": 26,
      "outputs": [
        {
          "output_type": "stream",
          "text": [
            "[2020-10-07] \"이력서 작성·레시피 제공 다양하게 활용되는 GPT3\" 칼럼\n",
            "[2020-05-20] \"인공지능의 보안 위협\" 칼럼\n",
            "[2020-03-04] \"데이터 경제 시대\" 칼럼\n",
            "[2019-12-25] \"마이데이터 시대의 도래 데이터 주권과 새로운 가치\" 칼럼\n",
            "[2019-09-25] \"유튜브 탄생과 크리에이터 시대\" 칼럼\n",
            "[2019-09-04] \"농업으로 들어간 인공지능\" 칼럼\n",
            "[2019-08-07] \"AI시대 지배할 것인가 지배당하며 살 것인가\" 칼럼\n",
            "[2018-12-30] \"파이썬으로 텍스트 분석하기\" 책 출판\n",
            "\n",
            "[2020-10-07] \"이력서 작성·레시피 제공 다양하게 활용되는 GPT3\" 칼럼\n",
            "[2020-05-20] \"인공지능의 보안 위협\" 칼럼\n",
            "[2020-03-04] \"데이터 경제 시대\" 칼럼\n",
            "[2019-12-25] \"마이데이터 시대의 도래 데이터 주권과 새로운 가치\" 칼럼\n",
            "[2019-09-25] \"유튜브 탄생과 크리에이터 시대\" 칼럼\n",
            "[2019-09-04] \"농업으로 들어간 인공지능\" 칼럼\n",
            "[2019-08-07] \"AI시대 지배할 것인가 지배당하며 살 것인가\" 칼럼\n",
            "[2018-12-30] \"파이썬으로 텍스트 분석하기\" 책 출판\n"
          ],
          "name": "stdout"
        }
      ]
    },
    {
      "cell_type": "code",
      "metadata": {
        "colab": {
          "base_uri": "https://localhost:8080/"
        },
        "id": "flm633yLFGg5",
        "outputId": "9e35dc3c-018a-433b-e2b6-63a908f720f1"
      },
      "source": [
        "for label in wd.find_elements(By.CSS_SELECTOR, '#wrapper > section > div > div > div > div > div > label'):\n",
        "    print(label.text)\n",
        "\n",
        "print() # 위 아래가 같은 역할\n",
        "\n",
        "for label in wd.find_elements_by_css_selector('#wrapper > section > div > div > div > div > div > label'):\n",
        "    print(label.text)"
      ],
      "execution_count": 27,
      "outputs": [
        {
          "output_type": "stream",
          "text": [
            "[2020-10-07] \"이력서 작성·레시피 제공 다양하게 활용되는 GPT3\" 칼럼\n",
            "[2020-05-20] \"인공지능의 보안 위협\" 칼럼\n",
            "[2020-03-04] \"데이터 경제 시대\" 칼럼\n",
            "[2019-12-25] \"마이데이터 시대의 도래 데이터 주권과 새로운 가치\" 칼럼\n",
            "[2019-09-25] \"유튜브 탄생과 크리에이터 시대\" 칼럼\n",
            "[2019-09-04] \"농업으로 들어간 인공지능\" 칼럼\n",
            "[2019-08-07] \"AI시대 지배할 것인가 지배당하며 살 것인가\" 칼럼\n",
            "[2018-12-30] \"파이썬으로 텍스트 분석하기\" 책 출판\n",
            "\n",
            "[2020-10-07] \"이력서 작성·레시피 제공 다양하게 활용되는 GPT3\" 칼럼\n",
            "[2020-05-20] \"인공지능의 보안 위협\" 칼럼\n",
            "[2020-03-04] \"데이터 경제 시대\" 칼럼\n",
            "[2019-12-25] \"마이데이터 시대의 도래 데이터 주권과 새로운 가치\" 칼럼\n",
            "[2019-09-25] \"유튜브 탄생과 크리에이터 시대\" 칼럼\n",
            "[2019-09-04] \"농업으로 들어간 인공지능\" 칼럼\n",
            "[2019-08-07] \"AI시대 지배할 것인가 지배당하며 살 것인가\" 칼럼\n",
            "[2018-12-30] \"파이썬으로 텍스트 분석하기\" 책 출판\n"
          ],
          "name": "stdout"
        }
      ]
    },
    {
      "cell_type": "markdown",
      "metadata": {
        "id": "NbSCGBwhGcTa"
      },
      "source": [
        "# 네이버 웹툰 스크래핑"
      ]
    },
    {
      "cell_type": "code",
      "metadata": {
        "id": "yiWr1dR8Gb5R"
      },
      "source": [
        "wd = webdriver.Chrome('chromedriver', options=chrome_options)\n",
        "wd.get('https://comic.naver.com/index.nhn')"
      ],
      "execution_count": 28,
      "outputs": []
    },
    {
      "cell_type": "code",
      "metadata": {
        "colab": {
          "base_uri": "https://localhost:8080/"
        },
        "id": "8Pid-P2iGRHi",
        "outputId": "5226d3f2-4371-4780-bc35-ae4c1e8ed4be"
      },
      "source": [
        "for title in wd.find_elements_by_class_name('title'):\n",
        "    print(title.text)"
      ],
      "execution_count": 30,
      "outputs": [
        {
          "output_type": "stream",
          "text": [
            "컷툰\n",
            "독립일기\n",
            "닥터앤닥터 육아일기\n",
            "약한영웅\n",
            "곱게 키웠더니, 짐승\n",
            "오로지 너를 이기고 싶어\n",
            "컷툰\n",
            "모죠의 일지\n",
            "급식으로 사는 법\n",
            "방에 콕! 진댕\n",
            "교수도 사람이다\n",
            "우리 카페 사장님이 이상하다\n",
            "좀비 패밀리\n",
            "오늘의 햄스터\n",
            "템플러\n",
            "LADS'PARTY\n",
            "어느날 고양이가 되었다\n",
            "남풍 속에 취하다\n",
            "제자가 될 운명입니다\n",
            "토끼대왕\n",
            "허세로 레벨업 하기!\n",
            "지존중생\n",
            "무도독존\n"
          ],
          "name": "stdout"
        }
      ]
    },
    {
      "cell_type": "code",
      "metadata": {
        "colab": {
          "base_uri": "https://localhost:8080/"
        },
        "id": "Ka9B3sy6Htaq",
        "outputId": "5d04aed6-3b28-463e-a1d4-99d772c775f0"
      },
      "source": [
        "import time\n",
        "\n",
        "genre_ul = wd.find_element_by_class_name('tab_gr')\n",
        "genre_list = genre_ul.find_elements_by_tag_name('a')\n",
        "\n",
        "\n",
        "for genre in genre_list:\n",
        "    genre.click()\n",
        "    time.sleep(1)\n",
        "    print(genre.text)\n",
        "\n",
        "    genre_rec_list = wd.find_elements_by_class_name('genreRecomInfo2')\n",
        "    for genre_rec in genre_rec_list:\n",
        "        title_class = genre_rec.find_element_by_class_name('title')\n",
        "        title = title_class.find_element_by_tag_name('a').text\n",
        "        user = genre_rec.find_element_by_class_name('user').text\n",
        "        print(\"\\t\", title, \"-\", user)"
      ],
      "execution_count": 35,
      "outputs": [
        {
          "output_type": "stream",
          "text": [
            "에피소드\n",
            "\t 독립일기 - 자까\n",
            "\t 닥터앤닥터 육아일기 - 닥터베르\n",
            "\t 약한영웅 - 서패스 / 김진석\n",
            "\t 곱게 키웠더니, 짐승 - 이른꽃,티바 / 여슬기\n",
            "\t 오로지 너를 이기고 싶어 - 아마도지 / 사삭\n",
            "\t 모죠의 일지 - 모죠\n",
            "옴니버스\n",
            "\t AI가 세상을 지배한다면 - POGO / HOOPA\n",
            "\t 단편.zip - 웹툰작가\n",
            "\t 욕망일기 - 김주인 / 박태준 만화회사\n",
            "\t 먹이 - 외눈박이 / 박수봉\n",
            "\t 청춘 블라썸 - 홍덕 / NEMONE\n",
            "\t 후덜덜덜 남극전자 - 김민혁\n",
            "스토리\n",
            "\t 다이스(DICE) - 윤현석\n",
            "\t 평행도시 - 고다\n",
            "\t 인어를 위한 수영교실 - 용찬\n",
            "\t 오른눈이 보는 세계 - 코어\n",
            "\t 데빌샷 - CTK\n",
            "\t 열렙전사 - 김세훈\n",
            "일상\n",
            "\t 독립일기 - 자까\n",
            "\t 닥터앤닥터 육아일기 - 닥터베르\n",
            "\t 윌유메리미 - 마인드C\n",
            "\t 웰캄투실버라이프 - 솔녀\n",
            "\t 노곤하개 - 홍끼\n",
            "\t 수영만화일기 - 해오\n",
            "개그\n",
            "\t 모죠의 일지 - 모죠\n",
            "\t 후덜덜덜 남극전자 - 김민혁\n",
            "\t 가슴털 로망스 - 갸오오\n",
            "\t 감자마을 - 박지독\n",
            "\t 오늘의 순정망화 - 손하기\n",
            "\t 만물의 영장 - 보민\n",
            "판타지\n",
            "\t 다이스(DICE) - 윤현석\n",
            "\t 평행도시 - 고다\n",
            "\t 오른눈이 보는 세계 - 코어\n",
            "\t 데빌샷 - CTK\n",
            "\t 열렙전사 - 김세훈\n",
            "\t 마도 - 이밤\n",
            "액션\n",
            "\t 싸움독학 - 박태준 / 김정현\n",
            "\t 천하제일인 - 권순규 / 신권이\n",
            "\t 약한영웅 - 서패스 / 김진석\n",
            "\t 테러대부활 - 한동우 / 고진호\n",
            "\t 입학용병 - YC / 락현\n",
            "\t 스트러글 - 윤준식 / 백지운\n",
            "드라마\n",
            "\t 맘마미안 - 미티 / 구구\n",
            "\t 판사 이한영 - 문성호 / 전돌돌\n",
            "\t 벚꽃이 흩날릴 무렵 - 황양\n",
            "\t 별이삼샵 - 혀노\n",
            "\t 소녀재판 - 루즌아 / 보로콤\n",
            "\t 곱게 키웠더니, 짐승 - 이른꽃,티바 / 여슬기\n",
            "순정\n",
            "\t 인어를 위한 수영교실 - 용찬\n",
            "\t 결혼까지 망상했어! - 문주\n",
            "\t 호시탐탐 - 박현정\n",
            "\t 동생친구 - 님니\n",
            "\t 샤인 스타 - 김현\n",
            "\t 라일락 200% - 아니영\n",
            "감성\n",
            "\t 연우의 순정 - 이솔\n",
            "\t 숲속의 담 - 다홍\n",
            "\t 드로잉 레시피 - 꼬모소이\n",
            "\t 안녕 나의 모모로 - 켄타\n",
            "\t 미스테리오소 - 송일곤 / 이제\n",
            "\t 우리는 요정! - 억수씨\n",
            "스릴러\n",
            "\t 행성인간 - 조석\n",
            "\t 데이즈 - 양수\n",
            "\t 죽여주는 탐정님 - 뻥 / 조은\n",
            "\t 소녀 해미 - 이현우\n",
            "\t 더 나우 - 이니\n",
            "\t 토끼대왕 - 김숭늉\n",
            "시대극\n",
            "\t 몽홀 - 장태산\n",
            "\t 삼국지톡 - 무적핑크 / 이리\n",
            "\t 칼부림 - 고일권\n",
            "\t 사막에 핀 달 - 선지\n",
            "\t 봉이 김선달 - 양우석,정하용 / 제피가루\n",
            "\t 조선방랑야사 - 가현\n",
            "스포츠\n",
            "\t 가비지타임 - 2사장\n",
            "\t 군주 - 박산하\n",
            "\t 미드나잇 체이서 - 석재윤\n",
            "\t 불릿 6미리 - 김도근\n",
            "\t 격기3반 - 이학\n",
            "\t 빌드업 - 911\n"
          ],
          "name": "stdout"
        }
      ]
    },
    {
      "cell_type": "code",
      "metadata": {
        "id": "sWJeDlfRIbht"
      },
      "source": [
        ""
      ],
      "execution_count": null,
      "outputs": []
    }
  ]
}