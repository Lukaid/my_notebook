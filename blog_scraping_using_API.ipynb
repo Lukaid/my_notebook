{
  "nbformat": 4,
  "nbformat_minor": 0,
  "metadata": {
    "colab": {
      "name": "blog_scraping_using_API.ipynb",
      "provenance": [],
      "collapsed_sections": [],
      "authorship_tag": "ABX9TyMUj1wgT0h4AEYybgi/yDYP",
      "include_colab_link": true
    },
    "kernelspec": {
      "name": "python3",
      "display_name": "Python 3"
    },
    "language_info": {
      "name": "python"
    }
  },
  "cells": [
    {
      "cell_type": "markdown",
      "metadata": {
        "id": "view-in-github",
        "colab_type": "text"
      },
      "source": [
        "<a href=\"https://colab.research.google.com/github/Lukaid/my_notebook/blob/main/blog_scraping_using_API.ipynb\" target=\"_parent\"><img src=\"https://colab.research.google.com/assets/colab-badge.svg\" alt=\"Open In Colab\"/></a>"
      ]
    },
    {
      "cell_type": "code",
      "metadata": {
        "id": "2LXk2x3bCgUP"
      },
      "source": [
        "from bs4 import BeautifulSoup\n",
        "import urllib.request\n",
        "from urllib.parse import quote\n",
        "import pandas as pd\n",
        "\n",
        "def get_posts(url):\n",
        "\n",
        "    search_url = urllib.request.urlopen(url).read()\n",
        "    soup = BeautifulSoup(search_url, 'html.parser')\n",
        "    blog_url = 'https://blog.naver.com' + soup.select('iframe#mainFrame')[0].get('src')\n",
        "    post = urllib.request.urlopen(blog_url).read()\n",
        "    post_html = BeautifulSoup(post, 'html.parser')\n",
        "    post_content_text = \"\"\n",
        "\n",
        "    for post_content in post_html.find_all('div', {'class':'se-main-container'}):\n",
        "        post_content_text += post_content.get_text()\n",
        "\n",
        "    remove_break = re.compile('\\n')\n",
        "    post_content_text = re.sub(remove_break, '', post_content_text)\n",
        "\n",
        "    return post_content_text"
      ],
      "execution_count": 1,
      "outputs": []
    },
    {
      "cell_type": "code",
      "metadata": {
        "id": "k3jWreHjBa4t",
        "colab": {
          "base_uri": "https://localhost:8080/"
        },
        "outputId": "07cb6da1-c5b4-4baf-b523-fac7c18eefce"
      },
      "source": [
        "import os\n",
        "import sys\n",
        "import urllib.request\n",
        "import pandas as pd\n",
        "import json\n",
        "import re\n",
        "\n",
        "client_id = \"VzhDPPl2jYhHHqnnCnXG\"\n",
        "client_secret = \"XD20x9HONl\"\n",
        "\n",
        "Qust_list = ['롯데 배송', '신세계 배송', 'ssg', 'ssg 배송']\n",
        "\n",
        "for Q_query in Qust_list:\n",
        "    query = urllib.parse.quote(Q_query)\n",
        "    # encText = urllib.parse.quote(\"컴퓨터\") # quote가 문자열을 utf-8으로 변경해줌\n",
        "    idx = 0\n",
        "    display = 100 # 가져올 정보의 개수 , default = 10, max = 100\n",
        "    start = 1\n",
        "    end = 1000\n",
        "    sort = \"sim\"\n",
        "\n",
        "    blog_df = pd.DataFrame(columns = ('Title', 'Link', 'Description', 'Blogger Name', 'Blogger Link', 'Post Date', 'Post Content'))\n",
        "\n",
        "    for start_index in range(start, end, display):\n",
        "\n",
        "        url = \"https://openapi.naver.com/v1/search/blog?query=\" + query \\\n",
        "        + \"&display=\" + str(display) \\\n",
        "        + \"&start=\" + str(start_index) \\\n",
        "        + \"&sort=\" + sort\n",
        "\n",
        "        request = urllib.request.Request(url) \n",
        "        request.add_header(\"X-Naver-Client-Id\",client_id)\n",
        "        request.add_header(\"X-Naver-Client-Secret\",client_secret)\n",
        "        response = urllib.request.urlopen(request)\n",
        "        rescode = response.getcode()\n",
        "        if (rescode==200): # 정상코드\n",
        "            response_body = response.read()\n",
        "            response_dict = json.loads(response_body.decode('utf-8'))\n",
        "            items = response_dict['items']\n",
        "            for item_index in range(0, len(items)):\n",
        "                remove_tag = re.compile('<.*?>')\n",
        "                title = re.sub(remove_tag, '', items[item_index]['title'])\n",
        "                link = items[item_index]['link']\n",
        "                description = re.sub(remove_tag, '', items[item_index]['description'])\n",
        "                blogger_name = items[item_index]['bloggername']\n",
        "                blogger_link = items[item_index]['bloggerlink']\n",
        "                post_data = items[item_index]['postdate']\n",
        "                try:\n",
        "                    post_content = get_posts(link)\n",
        "                except:\n",
        "                    pass\n",
        "\n",
        "                blog_df.loc[idx] = [title, link, description, blogger_name, blogger_link, post_data, post_content]\n",
        "                idx += 1\n",
        "                if idx % 10 == 0:\n",
        "                    print('#', end = \"\")\n",
        "                \n",
        "                if idx % 100 == 0:\n",
        "                    print(f'{idx}번째 자료 수집 완료')       \n",
        "        else:\n",
        "            print(\"Error Code:\" + rescode)\n",
        "\n",
        "\n",
        "    blog_df.to_csv(f'blog_df_{Q_query}.csv', encoding='utf-8-sig')\n",
        "    print(f'{Q_query} 수집 완료')\n",
        "\n"
      ],
      "execution_count": null,
      "outputs": [
        {
          "output_type": "stream",
          "text": [
            "##########100번째 자료 수집 완료\n",
            "##########200번째 자료 수집 완료\n",
            "##########300번째 자료 수집 완료\n",
            "##########400번째 자료 수집 완료\n",
            "##########500번째 자료 수집 완료\n",
            "##########600번째 자료 수집 완료\n",
            "##########700번째 자료 수집 완료\n",
            "##########800번째 자료 수집 완료\n",
            "##########900번째 자료 수집 완료\n",
            "##########1000번째 자료 수집 완료\n",
            "롯데 배송 수집 완료\n",
            "##########100번째 자료 수집 완료\n",
            "##########200번째 자료 수집 완료\n",
            "##########300번째 자료 수집 완료\n",
            "##########400번째 자료 수집 완료\n",
            "##########500번째 자료 수집 완료\n",
            "##########600번째 자료 수집 완료\n",
            "##########700번째 자료 수집 완료\n",
            "##########800번째 자료 수집 완료\n",
            "##########900번째 자료 수집 완료\n",
            "##########1000번째 자료 수집 완료\n",
            "신세계 배송 수집 완료\n",
            "##########100번째 자료 수집 완료\n",
            "##########200번째 자료 수집 완료\n",
            "##########300번째 자료 수집 완료\n",
            "##########400번째 자료 수집 완료\n",
            "##########500번째 자료 수집 완료\n",
            "##########600번째 자료 수집 완료\n",
            "##########700번째 자료 수집 완료\n",
            "##########800번째 자료 수집 완료\n",
            "##########900번째 자료 수집 완료\n",
            "##########1000번째 자료 수집 완료\n",
            "ssg 수집 완료\n",
            "#########"
          ],
          "name": "stdout"
        }
      ]
    }
  ]
}