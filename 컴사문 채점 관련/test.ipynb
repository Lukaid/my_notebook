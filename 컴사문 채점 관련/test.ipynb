{
 "metadata": {
  "language_info": {
   "codemirror_mode": {
    "name": "ipython",
    "version": 3
   },
   "file_extension": ".py",
   "mimetype": "text/x-python",
   "name": "python",
   "nbconvert_exporter": "python",
   "pygments_lexer": "ipython3",
   "version": "3.9.1"
  },
  "orig_nbformat": 2,
  "kernelspec": {
   "name": "python391jvsc74a57bd093d2bee35929e05e44f3a424865844abe2a4ec4d78cb24fe7d4202e6ef37a7f8",
   "display_name": "Python 3.9.1 64-bit"
  },
  "metadata": {
   "interpreter": {
    "hash": "93d2bee35929e05e44f3a424865844abe2a4ec4d78cb24fe7d4202e6ef37a7f8"
   }
  }
 },
 "nbformat": 4,
 "nbformat_minor": 2,
 "cells": [
  {
   "cell_type": "code",
   "execution_count": null,
   "metadata": {},
   "outputs": [],
   "source": [
    "for j in range(2, 2):\n",
    "    print(j)\n",
    "\n",
    "print(j)\n",
    "print(type(j))"
   ]
  },
  {
   "cell_type": "code",
   "execution_count": 3,
   "metadata": {},
   "outputs": [
    {
     "output_type": "stream",
     "name": "stdout",
     "text": [
      "3\n<class 'int'>\n"
     ]
    }
   ],
   "source": [
    "for i in range(2, 4):\n",
    "    pass\n",
    "\n",
    "print(i)\n",
    "print(type(i))"
   ]
  },
  {
   "cell_type": "code",
   "execution_count": 29,
   "metadata": {},
   "outputs": [
    {
     "output_type": "stream",
     "name": "stdout",
     "text": [
      "123는 소수가 아닙니다.\n"
     ]
    }
   ],
   "source": [
    "num=int(input('***숫자를 입력하세요:')) \n",
    "\n",
    "  \n",
    "a=0\n",
    "for i in range(2,num): \n",
    "\n",
    "    if num%i!=0: \n",
    "        pass \n",
    "\n",
    "    else: \n",
    "\n",
    "        a=1 \n",
    "\n",
    "        break \n",
    "\n",
    "  \n",
    "\n",
    "if a==0: \n",
    "\n",
    "    print('%d는 소수입니다.'%(num)) \n",
    "\n",
    "else: \n",
    "\n",
    "    print('%d는 소수가 아닙니다.'%(num)) "
   ]
  },
  {
   "cell_type": "code",
   "execution_count": 33,
   "metadata": {},
   "outputs": [
    {
     "output_type": "error",
     "ename": "IndentationError",
     "evalue": "expected an indented block (<ipython-input-33-dafbfa4624e3>, line 14)",
     "traceback": [
      "\u001b[1;36m  File \u001b[1;32m\"<ipython-input-33-dafbfa4624e3>\"\u001b[1;36m, line \u001b[1;32m14\u001b[0m\n\u001b[1;33m    else :\u001b[0m\n\u001b[1;37m    ^\u001b[0m\n\u001b[1;31mIndentationError\u001b[0m\u001b[1;31m:\u001b[0m expected an indented block\n"
     ]
    }
   ],
   "source": [
    "num1=int(input(\"***시작 숫자를 입력하세요(2이상): \")) \n",
    "\n",
    "num2=int(input(\"***끝 숫자를 입력하세요: \")) \n",
    "\n",
    "b=0 \n",
    "for a in range(num1,num2+1) : \n",
    "\n",
    "    for i in range(2,a) : \n",
    "\n",
    "        if a%i !=0 : \n",
    "\n",
    "            \n",
    "\n",
    "        else : \n",
    "\n",
    "            a=0 \n",
    "\n",
    "    b+=a \n",
    "\n",
    "print('%d부터 %d까지 소수의 합은 %d입니다.'%(num1,num2,b)) "
   ]
  },
  {
   "cell_type": "code",
   "execution_count": 39,
   "metadata": {},
   "outputs": [
    {
     "output_type": "stream",
     "name": "stdout",
     "text": [
      "3는 소수입니다\n3는 소수가 아닙니다\n"
     ]
    }
   ],
   "source": [
    "num = int(input(\"*** 숫자를 입력하세요 : \")) \n",
    "\n",
    "for i in range(2, num+1) : \n",
    "\n",
    "    if num % i == 0 : \n",
    "        print(\"%d는 소수가 아닙니다\" %num)\n",
    "        break \n",
    "    else : \n",
    "        print(\"%d는 소수입니다\" %num)"
   ]
  },
  {
   "cell_type": "code",
   "execution_count": 75,
   "metadata": {},
   "outputs": [
    {
     "output_type": "stream",
     "name": "stdout",
     "text": [
      "2는 소수입니다\n"
     ]
    }
   ],
   "source": [
    "num = int(input(\"*** 숫자를 입력하세요 : \")) \n",
    "\n",
    "k = 1\n",
    "\n",
    "for i in range(2, num) : \n",
    "\n",
    "    if num % i == 0 : \n",
    "\n",
    "        k = 0 \n",
    "\n",
    "        break \n",
    "\n",
    "    else : \n",
    "\n",
    "        k = 1 \n",
    "\n",
    "  \n",
    "\n",
    "if k == 0 : \n",
    "\n",
    "    print(\"%d는 소수가 아닙니다\" %num) \n",
    "\n",
    "if k == 1 : \n",
    "\n",
    "    print(\"%d는 소수입니다\" %num)"
   ]
  },
  {
   "cell_type": "code",
   "execution_count": 67,
   "metadata": {},
   "outputs": [
    {
     "output_type": "stream",
     "name": "stdout",
     "text": [
      "0\n"
     ]
    }
   ],
   "source": [
    "num = 2\n",
    "\n",
    "for i in range(2, num) : \n",
    "\n",
    "    if num % i == 0 : \n",
    "\n",
    "        k = 0 \n",
    "\n",
    "        break \n",
    "\n",
    "    else : \n",
    "\n",
    "        k = 1 \n",
    "\n",
    "print(k)"
   ]
  },
  {
   "cell_type": "code",
   "execution_count": 78,
   "metadata": {},
   "outputs": [
    {
     "output_type": "stream",
     "name": "stdout",
     "text": [
      "3부터 4까지 소수의 합은 7입니다.\n"
     ]
    }
   ],
   "source": [
    "NumFirst = 0 \n",
    "\n",
    "NumFinal = 0 \n",
    "\n",
    "sum = 0 \n",
    "\n",
    "  \n",
    "\n",
    "NumFirst = int(input(\"***시작 숫자를 입력하세요(2이상):\")) \n",
    "\n",
    "NumFinal = int(input(\"***끝 숫자를 입력하세요:\")) \n",
    "\n",
    "  \n",
    "\n",
    "for i in range(NumFirst, NumFinal+1): \n",
    "\n",
    "    PrimeNumber = True \n",
    "\n",
    "    for j in range(NumFirst, i): \n",
    "\n",
    "        if i%j == 0: \n",
    "\n",
    "            PrimeNumber = False \n",
    "\n",
    "            break \n",
    "\n",
    "    if PrimeNumber == True: \n",
    "\n",
    "        sum = sum+i \n",
    "\n",
    "  \n",
    "\n",
    "print(\"%d부터 %d까지 소수의 합은 %d입니다.\"% (NumFirst, NumFinal, sum)) "
   ]
  },
  {
   "cell_type": "code",
   "execution_count": 82,
   "metadata": {},
   "outputs": [
    {
     "output_type": "stream",
     "name": "stdout",
     "text": [
      "2부터 7까지 소수의 합은 17입니다\n"
     ]
    }
   ],
   "source": [
    "result=0 \n",
    "a=int(input('***시작 숫자를 입력하세요: ')) \n",
    "b=int(input('***끝 숫자를 입력하세요: ')) \n",
    "\n",
    "for i in range(a,b+1): \n",
    "\n",
    "    for k in range(2,i): \n",
    "\n",
    "        if i%k==0: \n",
    "\n",
    "            break \n",
    "\n",
    "    else: \n",
    "\n",
    "        result=result+i \n",
    "\n",
    "print('%d부터 %d까지 소수의 합은 %d입니다'%(a,b,result)) "
   ]
  },
  {
   "cell_type": "code",
   "execution_count": 88,
   "metadata": {},
   "outputs": [
    {
     "output_type": "stream",
     "name": "stdout",
     "text": [
      "2 부터  11 까지 소수의 합은  28 입니다.\n"
     ]
    }
   ],
   "source": [
    "a = int(input(\"*** 시작 숫자를 입력하세요(2 이상) : \")) \n",
    "\n",
    "b = int(input(\"*** 끝 숫자를 입력하세요 : \")) \n",
    "\n",
    "sum = 0 \n",
    "\n",
    "\n",
    "\n",
    "for i in range(a, b + 1): \n",
    "\n",
    "    for k in range(2, i): \n",
    "\n",
    "        if  i % k ==0: \n",
    "\n",
    "            break \n",
    "\n",
    "    else: \n",
    "\n",
    "        sum = sum + i \n",
    "\n",
    "print(a,\"부터 \",b,\"까지 소수의 합은 \",sum,\"입니다.\") "
   ]
  },
  {
   "cell_type": "code",
   "execution_count": 95,
   "metadata": {},
   "outputs": [
    {
     "output_type": "stream",
     "name": "stdout",
     "text": [
      "28\n"
     ]
    }
   ],
   "source": [
    "num1 = int(input('시작 숫자를 입력하세요(2이상) : ')) \n",
    "\n",
    "num2 = int(input('끝 숫자를 입력하세요 : ')) \n",
    "\n",
    "count2= 0 \n",
    "\n",
    "for i in range(num1, num2+1): \n",
    "\n",
    "    count1=0 \n",
    "\n",
    "    for j in range(1, i+1): \n",
    "\n",
    "        if i%j == 0: \n",
    "\n",
    "            count1+= 1 \n",
    "\n",
    "  \n",
    "\n",
    "    if count1 == 2: \n",
    "\n",
    "        count2 += i  \n",
    "\n",
    "print(count2) "
   ]
  },
  {
   "cell_type": "code",
   "execution_count": 99,
   "metadata": {},
   "outputs": [
    {
     "output_type": "stream",
     "name": "stdout",
     "text": [
      "3부터 13까지 소수의 합은 39입니다.\n"
     ]
    }
   ],
   "source": [
    "n = 0 \n",
    "\n",
    "a = int(input(\"시작 숫자를 입력하세요(2이상) : \")) \n",
    "\n",
    "b = int(input(\"끝 숫자를 입력하세요 : \")) \n",
    "\n",
    "  \n",
    "\n",
    "for i in range(a, b+1) : \n",
    "\n",
    "    if i == 1 : \n",
    "\n",
    "        continue \n",
    "\n",
    "    check = True \n",
    "\n",
    "     \n",
    "\n",
    "    for j in range(2, i) : \n",
    "\n",
    "        if i % j == 0 : \n",
    "\n",
    "            check = False \n",
    "\n",
    "            break \n",
    "\n",
    "  \n",
    "\n",
    "    if check : \n",
    "\n",
    "            n = n + i \n",
    "\n",
    "  \n",
    "\n",
    "print(\"%d부터 %d까지 소수의 합은 %d입니다.\" %(a, b, n)) "
   ]
  },
  {
   "cell_type": "code",
   "execution_count": 119,
   "metadata": {},
   "outputs": [
    {
     "output_type": "stream",
     "name": "stdout",
     "text": [
      "소수x\n"
     ]
    }
   ],
   "source": [
    "a = 1\n",
    "num = int(input(\"입력\"))\n",
    "\n",
    "for i in range(2, num):\n",
    "    if num % 1 == 0:\n",
    "        a = 1\n",
    "        break\n",
    "    else:\n",
    "        a = 0\n",
    "\n",
    "if a == 1 or num == 1:\n",
    "    print(\"소수x\")\n",
    "else:\n",
    "    print(\"소수o\")"
   ]
  }
 ]
}