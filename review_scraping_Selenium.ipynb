{
  "nbformat": 4,
  "nbformat_minor": 0,
  "metadata": {
    "colab": {
      "name": "review_scraping_Selenium.ipynb",
      "provenance": [],
      "collapsed_sections": [],
      "authorship_tag": "ABX9TyNX8b/L7rJPwwbyEYV3HjA6",
      "include_colab_link": true
    },
    "kernelspec": {
      "name": "python3",
      "display_name": "Python 3"
    },
    "language_info": {
      "name": "python"
    }
  },
  "cells": [
    {
      "cell_type": "markdown",
      "metadata": {
        "id": "view-in-github",
        "colab_type": "text"
      },
      "source": [
        "<a href=\"https://colab.research.google.com/github/Lukaid/my_notebook/blob/main/review_scraping_Selenium.ipynb\" target=\"_parent\"><img src=\"https://colab.research.google.com/assets/colab-badge.svg\" alt=\"Open In Colab\"/></a>"
      ]
    },
    {
      "cell_type": "code",
      "metadata": {
        "colab": {
          "base_uri": "https://localhost:8080/"
        },
        "id": "7AENOlPkyZ4T",
        "outputId": "a093e4fc-c856-448f-f894-4cfeacef6436"
      },
      "source": [
        "!pip install Selenium\n",
        "!apt-get update\n",
        "!apt install chromium-chromedriver\n",
        "!cp /usr/lib/chrome-browser/chromedriver /usr/bin/\n",
        "\n",
        "import sys\n",
        "sys.path.insert(0, 'usr/lib/chromium-browser/chromedriver')\n",
        "\n",
        "from selenium import webdriver\n",
        "from selenium.webdriver.chrome.options import Options\n",
        "\n",
        "chrome_options = webdriver.ChromeOptions()\n",
        "chrome_options.add_argument('--headless')\n",
        "chrome_options.add_argument('--no-sandbox')\n",
        "chrome_options.add_argument('--disable-dev-shm-usage')\n",
        "chrome_options.add_argument('window-size=1920x1080') \n",
        "chrome_options.add_argument('User-Agent\": \"Mozilla/5.0 (Windows NT 10.0; Win64; x64) AppleWebKit/537.36 (KHTML, like Gecko) Chrome/88.0.4324.190 Safari/537.36')\n",
        "chrome_options.add_argument('--lang=ko-KR')"
      ],
      "execution_count": 3,
      "outputs": [
        {
          "output_type": "stream",
          "text": [
            "Requirement already satisfied: Selenium in /usr/local/lib/python3.7/dist-packages (3.141.0)\n",
            "Requirement already satisfied: urllib3 in /usr/local/lib/python3.7/dist-packages (from Selenium) (1.24.3)\n",
            "Hit:1 http://security.ubuntu.com/ubuntu bionic-security InRelease\n",
            "Hit:2 https://cloud.r-project.org/bin/linux/ubuntu bionic-cran40/ InRelease\n",
            "Ign:3 https://developer.download.nvidia.com/compute/cuda/repos/ubuntu1804/x86_64  InRelease\n",
            "Ign:4 https://developer.download.nvidia.com/compute/machine-learning/repos/ubuntu1804/x86_64  InRelease\n",
            "Hit:5 https://developer.download.nvidia.com/compute/cuda/repos/ubuntu1804/x86_64  Release\n",
            "Hit:6 https://developer.download.nvidia.com/compute/machine-learning/repos/ubuntu1804/x86_64  Release\n",
            "Hit:7 http://ppa.launchpad.net/c2d4u.team/c2d4u4.0+/ubuntu bionic InRelease\n",
            "Hit:8 http://archive.ubuntu.com/ubuntu bionic InRelease\n",
            "Hit:9 http://archive.ubuntu.com/ubuntu bionic-updates InRelease\n",
            "Hit:10 http://ppa.launchpad.net/cran/libgit2/ubuntu bionic InRelease\n",
            "Hit:11 http://archive.ubuntu.com/ubuntu bionic-backports InRelease\n",
            "Hit:12 http://ppa.launchpad.net/deadsnakes/ppa/ubuntu bionic InRelease\n",
            "Hit:14 http://ppa.launchpad.net/graphics-drivers/ppa/ubuntu bionic InRelease\n",
            "Reading package lists... Done\n",
            "Reading package lists... Done\n",
            "Building dependency tree       \n",
            "Reading state information... Done\n",
            "chromium-chromedriver is already the newest version (89.0.4389.90-0ubuntu0.18.04.2).\n",
            "0 upgraded, 0 newly installed, 0 to remove and 57 not upgraded.\n",
            "cp: cannot stat '/usr/lib/chrome-browser/chromedriver': No such file or directory\n"
          ],
          "name": "stdout"
        }
      ]
    },
    {
      "cell_type": "code",
      "metadata": {
        "id": "N4Zj-uGO6AsH"
      },
      "source": [
        "from selenium import webdriver\n",
        "from selenium.webdriver.chrome.options import Options\n",
        "\n",
        "chrome_options = Options()\n",
        "chrome_options.add_argument('--headless')\n",
        "chrome_options.add_argument('--no-sandbox')\n",
        "chrome_options.add_argument('--disable-dev-shm-usage')\n",
        "chrome_options.add_argument('window-size=1920x1080') \n",
        "chrome_options.add_argument('User-Agent\": \"Mozilla/5.0 (Windows NT 10.0; Win64; x64) AppleWebKit/537.36 (KHTML, like Gecko) Chrome/88.0.4324.190 Safari/537.36')\n",
        "chrome_options.add_argument('--lang=ko-KR')"
      ],
      "execution_count": 31,
      "outputs": []
    },
    {
      "cell_type": "code",
      "metadata": {
        "id": "Oj5R91hO8UAp"
      },
      "source": [
        "prefs = {\n",
        "  \"translate_whitelists\": {\"your native language\":\"ko\"},\n",
        "  \"translate\":{\"enabled\":\"True\"}\n",
        "}\n",
        "chrome_options.add_experimental_option(\"prefs\", prefs)\n",
        "chrome_options.add_argument(\"accept-language=ko-KR\")\n",
        "\n",
        "# chrome_options.add_experimental_option('prefs', {'intl.accept_languages': 'ko,ko_KR'})\n"
      ],
      "execution_count": null,
      "outputs": []
    },
    {
      "cell_type": "code",
      "metadata": {
        "id": "rnlqjGBw-4OP"
      },
      "source": [
        "chrome_options.add_argument('lang=ko-KR')"
      ],
      "execution_count": 16,
      "outputs": []
    },
    {
      "cell_type": "code",
      "metadata": {
        "id": "G1bcUBC-BpHV"
      },
      "source": [
        "# chrome_options.add_argument(\"accept-language=ko-KR\")\n",
        "chrome_options.add_experimental_option('prefs', {'intl.accept_languages': 'ko,ko_KR'})"
      ],
      "execution_count": 40,
      "outputs": []
    },
    {
      "cell_type": "code",
      "metadata": {
        "id": "io6hwO7tHm1d"
      },
      "source": [
        "prefs = {\n",
        "  \"translate_whitelists\": {\"en\":\"ko\"},\n",
        "  \"translate\":{\"enabled\":\"true\"}\n",
        "}\n",
        "chrome_options.add_experimental_option(\"prefs\", prefs)"
      ],
      "execution_count": 44,
      "outputs": []
    },
    {
      "cell_type": "code",
      "metadata": {
        "id": "hx-F-YmiylxK"
      },
      "source": [
        "wd = webdriver.Chrome('chromedriver', options=chrome_options) # 위의 옵션대로 웹 드라이버 객체 생성\n",
        "\n",
        "# url = 'https://play.google.com/store/apps/details?id=com.coupang.mobile&showAllReviews=true'\n",
        "url = 'https://apps.apple.com/kr/app/%EC%BF%A0%ED%8C%A1-coupang/id454434967#see-all/reviews'\n",
        "\n",
        "wd.get(url) # get으로 url주소 가져오기"
      ],
      "execution_count": 49,
      "outputs": []
    },
    {
      "cell_type": "code",
      "metadata": {
        "colab": {
          "base_uri": "https://localhost:8080/",
          "height": 17
        },
        "id": "IElBBDcoypZe",
        "outputId": "ac8f6c2f-7c22-4373-cb9c-9ed6b99d7938"
      },
      "source": [
        "wd.get_screenshot_as_file('test.png') # 스크린 샷 찍기\n",
        "\n",
        "from google.colab import files\n",
        "files.download('test.png')"
      ],
      "execution_count": 50,
      "outputs": [
        {
          "output_type": "display_data",
          "data": {
            "application/javascript": [
              "\n",
              "    async function download(id, filename, size) {\n",
              "      if (!google.colab.kernel.accessAllowed) {\n",
              "        return;\n",
              "      }\n",
              "      const div = document.createElement('div');\n",
              "      const label = document.createElement('label');\n",
              "      label.textContent = `Downloading \"${filename}\": `;\n",
              "      div.appendChild(label);\n",
              "      const progress = document.createElement('progress');\n",
              "      progress.max = size;\n",
              "      div.appendChild(progress);\n",
              "      document.body.appendChild(div);\n",
              "\n",
              "      const buffers = [];\n",
              "      let downloaded = 0;\n",
              "\n",
              "      const channel = await google.colab.kernel.comms.open(id);\n",
              "      // Send a message to notify the kernel that we're ready.\n",
              "      channel.send({})\n",
              "\n",
              "      for await (const message of channel.messages) {\n",
              "        // Send a message to notify the kernel that we're ready.\n",
              "        channel.send({})\n",
              "        if (message.buffers) {\n",
              "          for (const buffer of message.buffers) {\n",
              "            buffers.push(buffer);\n",
              "            downloaded += buffer.byteLength;\n",
              "            progress.value = downloaded;\n",
              "          }\n",
              "        }\n",
              "      }\n",
              "      const blob = new Blob(buffers, {type: 'application/binary'});\n",
              "      const a = document.createElement('a');\n",
              "      a.href = window.URL.createObjectURL(blob);\n",
              "      a.download = filename;\n",
              "      div.appendChild(a);\n",
              "      a.click();\n",
              "      div.remove();\n",
              "    }\n",
              "  "
            ],
            "text/plain": [
              "<IPython.core.display.Javascript object>"
            ]
          },
          "metadata": {
            "tags": []
          }
        },
        {
          "output_type": "display_data",
          "data": {
            "application/javascript": [
              "download(\"download_938871ad-3992-4a9f-9b0e-9e5f22f7e98c\", \"test.png\", 219608)"
            ],
            "text/plain": [
              "<IPython.core.display.Javascript object>"
            ]
          },
          "metadata": {
            "tags": []
          }
        }
      ]
    },
    {
      "cell_type": "code",
      "metadata": {
        "id": "RaUzh5XKzbBV"
      },
      "source": [
        "reviews = wd.find_elements_by_css_selector('.UD7Dzf')\n",
        "star_grades = wd.find_elements_by_xpath(\n",
        "    '//div[@class=\"pf5lIe\"]/div[@role=\"img\"]')\n",
        "ddabong = wd.find_elements_by_css_selector('.jUL89d')\n",
        "dates = wd.find_elements_by_css_selector('.p2TkOb')"
      ],
      "execution_count": 46,
      "outputs": []
    },
    {
      "cell_type": "code",
      "metadata": {
        "colab": {
          "base_uri": "https://localhost:8080/"
        },
        "id": "CEJZV2YE1LvV",
        "outputId": "c57dc114-2c22-4c08-a36c-7ab3b478f9fc"
      },
      "source": [
        "print(reviews[0].text)"
      ],
      "execution_count": 47,
      "outputs": [
        {
          "output_type": "stream",
          "text": [
            "It is very easy and convenient to use. Have lots of choices in every product. You can even buy from the open market as well using Coupang App. Order at night and you get the things early morning at your doorstep without disturbing you.\n"
          ],
          "name": "stdout"
        }
      ]
    },
    {
      "cell_type": "code",
      "metadata": {
        "id": "g4ygTAwdtwp0"
      },
      "source": [
        "apple_ssg_driver = webdriver.Chrome('chromedriver', options=chrome_options) # 위의 옵션대로 웹 드라이버 객체 생성\n",
        "\n",
        "url = 'https://apps.apple.com/kr/app/ssg-com/id786135420#see-all/reviews'\n",
        "\n",
        "apple_ssg_driver.get(url) # get으로 url주소 가져오기"
      ],
      "execution_count": 86,
      "outputs": []
    },
    {
      "cell_type": "code",
      "metadata": {
        "colab": {
          "base_uri": "https://localhost:8080/",
          "height": 190
        },
        "id": "0w29mpLxuGbM",
        "outputId": "70d289fb-4432-48ec-e326-9e83c61b646b"
      },
      "source": [
        "reviews = apple_ssg_driver.find_elements_by_tag_name('figure')\n",
        "reviews[0].get_attribute('aria-label')"
      ],
      "execution_count": 72,
      "outputs": [
        {
          "output_type": "error",
          "ename": "AttributeError",
          "evalue": "ignored",
          "traceback": [
            "\u001b[0;31m---------------------------------------------------------------------------\u001b[0m",
            "\u001b[0;31mAttributeError\u001b[0m                            Traceback (most recent call last)",
            "\u001b[0;32m<ipython-input-72-26de39f0a579>\u001b[0m in \u001b[0;36m<module>\u001b[0;34m()\u001b[0m\n\u001b[1;32m      1\u001b[0m \u001b[0mreviews\u001b[0m \u001b[0;34m=\u001b[0m \u001b[0mapple_ssg_driver\u001b[0m\u001b[0;34m.\u001b[0m\u001b[0mfind_elements_by_tag_name\u001b[0m\u001b[0;34m(\u001b[0m\u001b[0;34m'figure'\u001b[0m\u001b[0;34m)\u001b[0m\u001b[0;34m\u001b[0m\u001b[0;34m\u001b[0m\u001b[0m\n\u001b[0;32m----> 2\u001b[0;31m \u001b[0mreviews\u001b[0m\u001b[0;34m.\u001b[0m\u001b[0mget_attribute\u001b[0m\u001b[0;34m(\u001b[0m\u001b[0;34m'aria-label'\u001b[0m\u001b[0;34m)\u001b[0m\u001b[0;34m\u001b[0m\u001b[0;34m\u001b[0m\u001b[0m\n\u001b[0m",
            "\u001b[0;31mAttributeError\u001b[0m: 'list' object has no attribute 'get_attribute'"
          ]
        }
      ]
    },
    {
      "cell_type": "code",
      "metadata": {
        "colab": {
          "base_uri": "https://localhost:8080/",
          "height": 35
        },
        "id": "yGpvU1XawoJ2",
        "outputId": "71c36313-0217-4890-bfa8-c9671535ca52"
      },
      "source": [
        "star_grades = apple_ssg_driver.find_elements_by_css_selector('.we-star-rating')\n",
        "star_grades[0].get_attribute('aria-label')"
      ],
      "execution_count": 87,
      "outputs": [
        {
          "output_type": "execute_result",
          "data": {
            "application/vnd.google.colaboratory.intrinsic+json": {
              "type": "string"
            },
            "text/plain": [
              "'5/5'"
            ]
          },
          "metadata": {
            "tags": []
          },
          "execution_count": 87
        }
      ]
    },
    {
      "cell_type": "code",
      "metadata": {
        "colab": {
          "base_uri": "https://localhost:8080/",
          "height": 35
        },
        "id": "D4eyKYv_yCQX",
        "outputId": "11aa7b73-6abf-415f-a36d-e8f22858e2d3"
      },
      "source": [
        "dates = apple_ssg_driver.find_elements_by_css_selector('.we-customer-review__date')\n",
        "dates[0].text"
      ],
      "execution_count": 89,
      "outputs": [
        {
          "output_type": "execute_result",
          "data": {
            "application/vnd.google.colaboratory.intrinsic+json": {
              "type": "string"
            },
            "text/plain": [
              "'2019년 9월 18일'"
            ]
          },
          "metadata": {
            "tags": []
          },
          "execution_count": 89
        }
      ]
    },
    {
      "cell_type": "code",
      "metadata": {
        "colab": {
          "base_uri": "https://localhost:8080/",
          "height": 71
        },
        "id": "1Pm5-m8Fytcx",
        "outputId": "1b9874e6-6edc-4543-fd52-0357429a0685"
      },
      "source": [
        "reviews =apple_ssg_driver.find_elements_by_css_selector('.we-clamp')\n",
        "reviews[0].text"
      ],
      "execution_count": 96,
      "outputs": [
        {
          "output_type": "execute_result",
          "data": {
            "application/vnd.google.colaboratory.intrinsic+json": {
              "type": "string"
            },
            "text/plain": [
              "'아이폰 엑스 네이버 로그인 맨날 풀립니다. 들어갈때마다.. 빨리 수정해주세요.\\n아래는 앱 만드는 사람으로 의견입니다..\\n앱 오픈시 스플래쉬 영상 길고 복잡해서 신경쓰여요.빨리빨리 진입해서 물건 하나라도 더 담게 해주세요.\\n하단 고정 팝업도 닫기랑 일주일 안보기 버튼 헷갈리고 너무 자주 뜨네요. 일반 커머스랑 유엑스 좀 다른건 뭐라고 안하겠는데 쓸데없는 애니메이션 너무 많아서 느리고 무거워서 좀 귀찮아요. 그냥 빨리 둘러보고 결제하고 싶음. 이쓱 배송만 시키는데 그거 검색한 뒤 맨날 토글 눌러주는것도 좀 그래요. 고정하게 체크 박스나 다른걸로 바꿔주세요.'"
            ]
          },
          "metadata": {
            "tags": []
          },
          "execution_count": 96
        }
      ]
    },
    {
      "cell_type": "markdown",
      "metadata": {
        "id": "PmMeY1y9zbhM"
      },
      "source": [
        "## 앱스토어 ssg 스크래핑"
      ]
    },
    {
      "cell_type": "code",
      "metadata": {
        "colab": {
          "base_uri": "https://localhost:8080/",
          "height": 1000
        },
        "id": "thTUxOmZzZcJ",
        "outputId": "d7e3a51e-6714-48b5-9bfc-0402f1fc2ef8"
      },
      "source": [
        "# !pip install Selenium\n",
        "# !apt-get update\n",
        "# !apt install chromium-chromedriver\n",
        "# !cp /usr/lib/chrome-browser/chromedriver /usr/bin/\n",
        "\n",
        "# import sys\n",
        "# sys.path.insert(0, 'usr/lib/chromium-browser/chromedriver')\n",
        "\n",
        "from selenium import webdriver\n",
        "from selenium.webdriver.chrome.options import Options\n",
        "import pandas as pd\n",
        "import time\n",
        "\n",
        "chrome_options = webdriver.ChromeOptions()\n",
        "chrome_options.add_argument('--headless')\n",
        "chrome_options.add_argument('--no-sandbox')\n",
        "chrome_options.add_argument('--disable-dev-shm-usage')\n",
        "chrome_options.add_argument('window-size=1920x1080') \n",
        "chrome_options.add_argument('User-Agent\": \"Mozilla/5.0 (Windows NT 10.0; Win64; x64) AppleWebKit/537.36 (KHTML, like Gecko) Chrome/88.0.4324.190 Safari/537.36')\n",
        "chrome_options.add_argument('--lang=ko-KR')\n",
        "\n",
        "apple_ssg_driver = webdriver.Chrome('chromedriver', options=chrome_options) # 위의 옵션대로 웹 드라이버 객체 생성\n",
        "\n",
        "url = 'https://apps.apple.com/kr/app/ssg-com/id786135420#see-all/reviews'\n",
        "\n",
        "apple_ssg_driver.get(url) # get으로 url주소 가져오기\n",
        "\n",
        "data = pd.DataFrame(data=[], columns=['num', 'date', 'review', 'rating'])\n",
        "\n",
        "dates = apple_ssg_driver.find_elements_by_css_selector('.we-customer-review__date')\n",
        "reviews =apple_ssg_driver.find_elements_by_css_selector('.we-clamp')\n",
        "star_grades = apple_ssg_driver.find_elements_by_css_selector('.we-star-rating')\n",
        "\n",
        "k = 0\n",
        "while True:\n",
        "\n",
        "    for i in range(110):\n",
        "        apple_ssg_driver.execute_script(\"window.scrollTo(0, document.body.scrollHeight)\")\n",
        "        time.sleep(1)\n",
        "\n",
        "    print(apple_ssg_driver.execute_script(\"return document.body.scrollHeight\"))\n",
        "\n",
        "    dates = apple_ssg_driver.find_elements_by_css_selector('.we-customer-review__date')\n",
        "    reviews =apple_ssg_driver.find_elements_by_css_selector('.we-clamp')\n",
        "    star_grades = apple_ssg_driver.find_elements_by_css_selector('.we-star-rating')\n",
        "    print('객체 길이 : ', len(reviews))\n",
        "    \n",
        "    while True:\n",
        "\n",
        "        tmp = []\n",
        "        tmp.append(k)\n",
        "        tmp.append(dates[k].text)\n",
        "        tmp.append(reviews[k].text)\n",
        "        tmp.append(star_grades[k].get_attribute('aria-label')[0])\n",
        "        k += 1\n",
        "\n",
        "        tmp = pd.DataFrame(data=[tmp], columns=data.columns)\n",
        "        data = pd.concat([data, tmp])\n",
        "\n",
        "        if k % 100 == 0:\n",
        "            print(k)\n",
        "            print(reviews[k].text)\n",
        "        \n",
        "        if k > len(reviews) - 10:\n",
        "            print(\"현재 리뷰 수: \", k)\n",
        "            print('객체 길이 : ', len(reviews))\n",
        "            break\n",
        "\n",
        "    \n",
        "    if k % 2000 ==0:\n",
        "        data.to_csv('apple_ssg.csv', encoding='utf-8-sig')\n"
      ],
      "execution_count": 121,
      "outputs": [
        {
          "output_type": "stream",
          "text": [
            "76563\n",
            "객체 길이 :  20\n",
            "100\n",
            "SSG 덕분에 장보기가 넘 편해졌어요!!!\n",
            "시간절약!! 좋은 제품배송!! 늘 감사합니다^^\n",
            "200\n",
            "처음 이용해봤는데\n",
            "장보러 안가도 돼서\n",
            "넘 편하네요^^ 앞으로 자주 이용할것같아요\n",
            "300\n",
            "친구생일이라 선물하기로 보냈는데 물건도 많고 포인트도 쓰고 좋네요~\n",
            "400\n",
            "도대체 앱 개발을 아케하는건지\n",
            "수신동의 쿠폰만 받으려고 하면 난히임\n",
            "500\n",
            "최근 자꾸 에러 코드가 떠서 앱 지우고 다시 설치했는데\n",
            "ㅠㅠ 계속 그러네요 저만 그런건지;;\n",
            "600\n",
            "배송지역 서울인데도 안되는 곳이 있는 듯요..?\n",
            "700\n",
            "앱으로 구매하니까 더편리 하네요~~^^\n",
            "800\n",
            "결제 카드 등록 메뉴를 찾을 수 없고 ui/ux가 결제 프로세스에서 매우 복잡하고 헷갈림\n",
            "900\n",
            "일부 상품들은 일반 택배는 가능하고 쓱배송은 왜 않되는건지 이해불가입니다\n",
            "1000\n",
            "원색에 도전했는데 그런데로 좋아요\n",
            "블랙이 너무 블랙이여서 아쉬웠어요\n",
            "1100\n",
            "코로나때문에 더 많이 애용중\n",
            "현재 리뷰 수:  1112\n",
            "객체 길이 :  1121\n",
            "151122\n",
            "객체 길이 :  1121\n",
            "1200\n",
            "상품평 작성하기 누르면 어플이 멈춥니다\n",
            "현상 해결 좀 해주세요\n",
            "1300\n",
            "SSG어플이랑 이마트 어플이랑 뭐가 다른지 모르겠네요;;\n",
            "SSG에서도 이마트몰로 넘어가고\n",
            "물품입고되면 SSG아이콘으로 오니까\n",
            "그냥 SSG어플 사용중입니다\n",
            "1400\n",
            "수정 해주세요\n",
            "1500\n",
            "편리하고 좋아요\n",
            "1600\n",
            "리뷰 쓸때마다 오류나서 먹통되네요\n",
            "1700\n",
            "완전 좋음 싸게\n",
            "1800\n",
            "하 미치게하네\n",
            "1900\n",
            "굿\n",
            "2000\n",
            "구매내역삭제부탁드려요\n",
            "용량이부족해서...\n",
            "2100\n",
            "구매내역 삭제해주세요\n",
            "2200\n",
            "중고차할부 해드립니다\n",
            "-\n",
            "기존에 이용중인 차량이 고금리이실때 저금리로 전환 도와드립니다! (기간선택:최장120개월까지<차파는허자매 특권!!!!!!!!>\n",
            "현재 리뷰 수:  2212\n",
            "객체 길이 :  2221\n",
            "157399\n",
            "객체 길이 :  2221\n",
            "2300\n",
            "구입목록삭제부탁드려요\n",
            "현재 리뷰 수:  2305\n",
            "객체 길이 :  2314\n",
            "157399\n",
            "객체 길이 :  2314\n",
            "현재 리뷰 수:  2306\n",
            "객체 길이 :  2314\n",
            "157399\n",
            "객체 길이 :  2314\n",
            "현재 리뷰 수:  2307\n",
            "객체 길이 :  2314\n",
            "157399\n",
            "객체 길이 :  2314\n",
            "현재 리뷰 수:  2308\n",
            "객체 길이 :  2314\n"
          ],
          "name": "stdout"
        },
        {
          "output_type": "error",
          "ename": "KeyboardInterrupt",
          "evalue": "ignored",
          "traceback": [
            "\u001b[0;31m---------------------------------------------------------------------------\u001b[0m",
            "\u001b[0;31mKeyboardInterrupt\u001b[0m                         Traceback (most recent call last)",
            "\u001b[0;32m<ipython-input-121-754b5876b3fc>\u001b[0m in \u001b[0;36m<module>\u001b[0;34m()\u001b[0m\n\u001b[1;32m     37\u001b[0m     \u001b[0;32mfor\u001b[0m \u001b[0mi\u001b[0m \u001b[0;32min\u001b[0m \u001b[0mrange\u001b[0m\u001b[0;34m(\u001b[0m\u001b[0;36m110\u001b[0m\u001b[0;34m)\u001b[0m\u001b[0;34m:\u001b[0m\u001b[0;34m\u001b[0m\u001b[0;34m\u001b[0m\u001b[0m\n\u001b[1;32m     38\u001b[0m         \u001b[0mapple_ssg_driver\u001b[0m\u001b[0;34m.\u001b[0m\u001b[0mexecute_script\u001b[0m\u001b[0;34m(\u001b[0m\u001b[0;34m\"window.scrollTo(0, document.body.scrollHeight)\"\u001b[0m\u001b[0;34m)\u001b[0m\u001b[0;34m\u001b[0m\u001b[0;34m\u001b[0m\u001b[0m\n\u001b[0;32m---> 39\u001b[0;31m         \u001b[0mtime\u001b[0m\u001b[0;34m.\u001b[0m\u001b[0msleep\u001b[0m\u001b[0;34m(\u001b[0m\u001b[0;36m1\u001b[0m\u001b[0;34m)\u001b[0m\u001b[0;34m\u001b[0m\u001b[0;34m\u001b[0m\u001b[0m\n\u001b[0m\u001b[1;32m     40\u001b[0m \u001b[0;34m\u001b[0m\u001b[0m\n\u001b[1;32m     41\u001b[0m     \u001b[0mprint\u001b[0m\u001b[0;34m(\u001b[0m\u001b[0mapple_ssg_driver\u001b[0m\u001b[0;34m.\u001b[0m\u001b[0mexecute_script\u001b[0m\u001b[0;34m(\u001b[0m\u001b[0;34m\"return document.body.scrollHeight\"\u001b[0m\u001b[0;34m)\u001b[0m\u001b[0;34m)\u001b[0m\u001b[0;34m\u001b[0m\u001b[0;34m\u001b[0m\u001b[0m\n",
            "\u001b[0;31mKeyboardInterrupt\u001b[0m: "
          ]
        }
      ]
    },
    {
      "cell_type": "code",
      "metadata": {
        "id": "36v0IqkW9hOP"
      },
      "source": [
        "data.to_csv('apple_ssg.csv', encoding='utf-8-sig')"
      ],
      "execution_count": 116,
      "outputs": []
    },
    {
      "cell_type": "code",
      "metadata": {
        "colab": {
          "base_uri": "https://localhost:8080/"
        },
        "id": "fKLOj_gQICT1",
        "outputId": "1c76e86e-f0ca-4c29-ba00-c7f86ee99f79"
      },
      "source": [
        "print(k)"
      ],
      "execution_count": 118,
      "outputs": [
        {
          "output_type": "stream",
          "text": [
            "2313\n"
          ],
          "name": "stdout"
        }
      ]
    },
    {
      "cell_type": "code",
      "metadata": {
        "colab": {
          "base_uri": "https://localhost:8080/"
        },
        "id": "sAcg2_WwIcqU",
        "outputId": "01d1f065-6b12-4dd4-ccd4-5e425b631a25"
      },
      "source": [
        "len(reviews)"
      ],
      "execution_count": 123,
      "outputs": [
        {
          "output_type": "execute_result",
          "data": {
            "text/plain": [
              "2314"
            ]
          },
          "metadata": {
            "tags": []
          },
          "execution_count": 123
        }
      ]
    },
    {
      "cell_type": "code",
      "metadata": {
        "colab": {
          "base_uri": "https://localhost:8080/",
          "height": 556
        },
        "id": "h_VAlZ47OH-K",
        "outputId": "b416af82-6200-4b5f-ca43-2228c33e7c86"
      },
      "source": [
        "apple_ssg_driver.execute_script(\"window.scrollTo(0, document.body.scrollHeight)\")"
      ],
      "execution_count": 126,
      "outputs": [
        {
          "output_type": "error",
          "ename": "MaxRetryError",
          "evalue": "ignored",
          "traceback": [
            "\u001b[0;31m---------------------------------------------------------------------------\u001b[0m",
            "\u001b[0;31mConnectionRefusedError\u001b[0m                    Traceback (most recent call last)",
            "\u001b[0;32m/usr/local/lib/python3.7/dist-packages/urllib3/connection.py\u001b[0m in \u001b[0;36m_new_conn\u001b[0;34m(self)\u001b[0m\n\u001b[1;32m    158\u001b[0m             conn = connection.create_connection(\n\u001b[0;32m--> 159\u001b[0;31m                 (self._dns_host, self.port), self.timeout, **extra_kw)\n\u001b[0m\u001b[1;32m    160\u001b[0m \u001b[0;34m\u001b[0m\u001b[0m\n",
            "\u001b[0;32m/usr/local/lib/python3.7/dist-packages/urllib3/util/connection.py\u001b[0m in \u001b[0;36mcreate_connection\u001b[0;34m(address, timeout, source_address, socket_options)\u001b[0m\n\u001b[1;32m     79\u001b[0m     \u001b[0;32mif\u001b[0m \u001b[0merr\u001b[0m \u001b[0;32mis\u001b[0m \u001b[0;32mnot\u001b[0m \u001b[0;32mNone\u001b[0m\u001b[0;34m:\u001b[0m\u001b[0;34m\u001b[0m\u001b[0;34m\u001b[0m\u001b[0m\n\u001b[0;32m---> 80\u001b[0;31m         \u001b[0;32mraise\u001b[0m \u001b[0merr\u001b[0m\u001b[0;34m\u001b[0m\u001b[0;34m\u001b[0m\u001b[0m\n\u001b[0m\u001b[1;32m     81\u001b[0m \u001b[0;34m\u001b[0m\u001b[0m\n",
            "\u001b[0;32m/usr/local/lib/python3.7/dist-packages/urllib3/util/connection.py\u001b[0m in \u001b[0;36mcreate_connection\u001b[0;34m(address, timeout, source_address, socket_options)\u001b[0m\n\u001b[1;32m     69\u001b[0m                 \u001b[0msock\u001b[0m\u001b[0;34m.\u001b[0m\u001b[0mbind\u001b[0m\u001b[0;34m(\u001b[0m\u001b[0msource_address\u001b[0m\u001b[0;34m)\u001b[0m\u001b[0;34m\u001b[0m\u001b[0;34m\u001b[0m\u001b[0m\n\u001b[0;32m---> 70\u001b[0;31m             \u001b[0msock\u001b[0m\u001b[0;34m.\u001b[0m\u001b[0mconnect\u001b[0m\u001b[0;34m(\u001b[0m\u001b[0msa\u001b[0m\u001b[0;34m)\u001b[0m\u001b[0;34m\u001b[0m\u001b[0;34m\u001b[0m\u001b[0m\n\u001b[0m\u001b[1;32m     71\u001b[0m             \u001b[0;32mreturn\u001b[0m \u001b[0msock\u001b[0m\u001b[0;34m\u001b[0m\u001b[0;34m\u001b[0m\u001b[0m\n",
            "\u001b[0;31mConnectionRefusedError\u001b[0m: [Errno 111] Connection refused",
            "\nDuring handling of the above exception, another exception occurred:\n",
            "\u001b[0;31mNewConnectionError\u001b[0m                        Traceback (most recent call last)",
            "\u001b[0;32m/usr/local/lib/python3.7/dist-packages/urllib3/connectionpool.py\u001b[0m in \u001b[0;36murlopen\u001b[0;34m(self, method, url, body, headers, retries, redirect, assert_same_host, timeout, pool_timeout, release_conn, chunked, body_pos, **response_kw)\u001b[0m\n\u001b[1;32m    599\u001b[0m                                                   \u001b[0mbody\u001b[0m\u001b[0;34m=\u001b[0m\u001b[0mbody\u001b[0m\u001b[0;34m,\u001b[0m \u001b[0mheaders\u001b[0m\u001b[0;34m=\u001b[0m\u001b[0mheaders\u001b[0m\u001b[0;34m,\u001b[0m\u001b[0;34m\u001b[0m\u001b[0;34m\u001b[0m\u001b[0m\n\u001b[0;32m--> 600\u001b[0;31m                                                   chunked=chunked)\n\u001b[0m\u001b[1;32m    601\u001b[0m \u001b[0;34m\u001b[0m\u001b[0m\n",
            "\u001b[0;32m/usr/local/lib/python3.7/dist-packages/urllib3/connectionpool.py\u001b[0m in \u001b[0;36m_make_request\u001b[0;34m(self, conn, method, url, timeout, chunked, **httplib_request_kw)\u001b[0m\n\u001b[1;32m    353\u001b[0m         \u001b[0;32melse\u001b[0m\u001b[0;34m:\u001b[0m\u001b[0;34m\u001b[0m\u001b[0;34m\u001b[0m\u001b[0m\n\u001b[0;32m--> 354\u001b[0;31m             \u001b[0mconn\u001b[0m\u001b[0;34m.\u001b[0m\u001b[0mrequest\u001b[0m\u001b[0;34m(\u001b[0m\u001b[0mmethod\u001b[0m\u001b[0;34m,\u001b[0m \u001b[0murl\u001b[0m\u001b[0;34m,\u001b[0m \u001b[0;34m**\u001b[0m\u001b[0mhttplib_request_kw\u001b[0m\u001b[0;34m)\u001b[0m\u001b[0;34m\u001b[0m\u001b[0;34m\u001b[0m\u001b[0m\n\u001b[0m\u001b[1;32m    355\u001b[0m \u001b[0;34m\u001b[0m\u001b[0m\n",
            "\u001b[0;32m/usr/lib/python3.7/http/client.py\u001b[0m in \u001b[0;36mrequest\u001b[0;34m(self, method, url, body, headers, encode_chunked)\u001b[0m\n\u001b[1;32m   1276\u001b[0m         \u001b[0;34m\"\"\"Send a complete request to the server.\"\"\"\u001b[0m\u001b[0;34m\u001b[0m\u001b[0;34m\u001b[0m\u001b[0m\n\u001b[0;32m-> 1277\u001b[0;31m         \u001b[0mself\u001b[0m\u001b[0;34m.\u001b[0m\u001b[0m_send_request\u001b[0m\u001b[0;34m(\u001b[0m\u001b[0mmethod\u001b[0m\u001b[0;34m,\u001b[0m \u001b[0murl\u001b[0m\u001b[0;34m,\u001b[0m \u001b[0mbody\u001b[0m\u001b[0;34m,\u001b[0m \u001b[0mheaders\u001b[0m\u001b[0;34m,\u001b[0m \u001b[0mencode_chunked\u001b[0m\u001b[0;34m)\u001b[0m\u001b[0;34m\u001b[0m\u001b[0;34m\u001b[0m\u001b[0m\n\u001b[0m\u001b[1;32m   1278\u001b[0m \u001b[0;34m\u001b[0m\u001b[0m\n",
            "\u001b[0;32m/usr/lib/python3.7/http/client.py\u001b[0m in \u001b[0;36m_send_request\u001b[0;34m(self, method, url, body, headers, encode_chunked)\u001b[0m\n\u001b[1;32m   1322\u001b[0m             \u001b[0mbody\u001b[0m \u001b[0;34m=\u001b[0m \u001b[0m_encode\u001b[0m\u001b[0;34m(\u001b[0m\u001b[0mbody\u001b[0m\u001b[0;34m,\u001b[0m \u001b[0;34m'body'\u001b[0m\u001b[0;34m)\u001b[0m\u001b[0;34m\u001b[0m\u001b[0;34m\u001b[0m\u001b[0m\n\u001b[0;32m-> 1323\u001b[0;31m         \u001b[0mself\u001b[0m\u001b[0;34m.\u001b[0m\u001b[0mendheaders\u001b[0m\u001b[0;34m(\u001b[0m\u001b[0mbody\u001b[0m\u001b[0;34m,\u001b[0m \u001b[0mencode_chunked\u001b[0m\u001b[0;34m=\u001b[0m\u001b[0mencode_chunked\u001b[0m\u001b[0;34m)\u001b[0m\u001b[0;34m\u001b[0m\u001b[0;34m\u001b[0m\u001b[0m\n\u001b[0m\u001b[1;32m   1324\u001b[0m \u001b[0;34m\u001b[0m\u001b[0m\n",
            "\u001b[0;32m/usr/lib/python3.7/http/client.py\u001b[0m in \u001b[0;36mendheaders\u001b[0;34m(self, message_body, encode_chunked)\u001b[0m\n\u001b[1;32m   1271\u001b[0m             \u001b[0;32mraise\u001b[0m \u001b[0mCannotSendHeader\u001b[0m\u001b[0;34m(\u001b[0m\u001b[0;34m)\u001b[0m\u001b[0;34m\u001b[0m\u001b[0;34m\u001b[0m\u001b[0m\n\u001b[0;32m-> 1272\u001b[0;31m         \u001b[0mself\u001b[0m\u001b[0;34m.\u001b[0m\u001b[0m_send_output\u001b[0m\u001b[0;34m(\u001b[0m\u001b[0mmessage_body\u001b[0m\u001b[0;34m,\u001b[0m \u001b[0mencode_chunked\u001b[0m\u001b[0;34m=\u001b[0m\u001b[0mencode_chunked\u001b[0m\u001b[0;34m)\u001b[0m\u001b[0;34m\u001b[0m\u001b[0;34m\u001b[0m\u001b[0m\n\u001b[0m\u001b[1;32m   1273\u001b[0m \u001b[0;34m\u001b[0m\u001b[0m\n",
            "\u001b[0;32m/usr/lib/python3.7/http/client.py\u001b[0m in \u001b[0;36m_send_output\u001b[0;34m(self, message_body, encode_chunked)\u001b[0m\n\u001b[1;32m   1031\u001b[0m         \u001b[0;32mdel\u001b[0m \u001b[0mself\u001b[0m\u001b[0;34m.\u001b[0m\u001b[0m_buffer\u001b[0m\u001b[0;34m[\u001b[0m\u001b[0;34m:\u001b[0m\u001b[0;34m]\u001b[0m\u001b[0;34m\u001b[0m\u001b[0;34m\u001b[0m\u001b[0m\n\u001b[0;32m-> 1032\u001b[0;31m         \u001b[0mself\u001b[0m\u001b[0;34m.\u001b[0m\u001b[0msend\u001b[0m\u001b[0;34m(\u001b[0m\u001b[0mmsg\u001b[0m\u001b[0;34m)\u001b[0m\u001b[0;34m\u001b[0m\u001b[0;34m\u001b[0m\u001b[0m\n\u001b[0m\u001b[1;32m   1033\u001b[0m \u001b[0;34m\u001b[0m\u001b[0m\n",
            "\u001b[0;32m/usr/lib/python3.7/http/client.py\u001b[0m in \u001b[0;36msend\u001b[0;34m(self, data)\u001b[0m\n\u001b[1;32m    971\u001b[0m             \u001b[0;32mif\u001b[0m \u001b[0mself\u001b[0m\u001b[0;34m.\u001b[0m\u001b[0mauto_open\u001b[0m\u001b[0;34m:\u001b[0m\u001b[0;34m\u001b[0m\u001b[0;34m\u001b[0m\u001b[0m\n\u001b[0;32m--> 972\u001b[0;31m                 \u001b[0mself\u001b[0m\u001b[0;34m.\u001b[0m\u001b[0mconnect\u001b[0m\u001b[0;34m(\u001b[0m\u001b[0;34m)\u001b[0m\u001b[0;34m\u001b[0m\u001b[0;34m\u001b[0m\u001b[0m\n\u001b[0m\u001b[1;32m    973\u001b[0m             \u001b[0;32melse\u001b[0m\u001b[0;34m:\u001b[0m\u001b[0;34m\u001b[0m\u001b[0;34m\u001b[0m\u001b[0m\n",
            "\u001b[0;32m/usr/local/lib/python3.7/dist-packages/urllib3/connection.py\u001b[0m in \u001b[0;36mconnect\u001b[0;34m(self)\u001b[0m\n\u001b[1;32m    180\u001b[0m     \u001b[0;32mdef\u001b[0m \u001b[0mconnect\u001b[0m\u001b[0;34m(\u001b[0m\u001b[0mself\u001b[0m\u001b[0;34m)\u001b[0m\u001b[0;34m:\u001b[0m\u001b[0;34m\u001b[0m\u001b[0;34m\u001b[0m\u001b[0m\n\u001b[0;32m--> 181\u001b[0;31m         \u001b[0mconn\u001b[0m \u001b[0;34m=\u001b[0m \u001b[0mself\u001b[0m\u001b[0;34m.\u001b[0m\u001b[0m_new_conn\u001b[0m\u001b[0;34m(\u001b[0m\u001b[0;34m)\u001b[0m\u001b[0;34m\u001b[0m\u001b[0;34m\u001b[0m\u001b[0m\n\u001b[0m\u001b[1;32m    182\u001b[0m         \u001b[0mself\u001b[0m\u001b[0;34m.\u001b[0m\u001b[0m_prepare_conn\u001b[0m\u001b[0;34m(\u001b[0m\u001b[0mconn\u001b[0m\u001b[0;34m)\u001b[0m\u001b[0;34m\u001b[0m\u001b[0;34m\u001b[0m\u001b[0m\n",
            "\u001b[0;32m/usr/local/lib/python3.7/dist-packages/urllib3/connection.py\u001b[0m in \u001b[0;36m_new_conn\u001b[0;34m(self)\u001b[0m\n\u001b[1;32m    167\u001b[0m             raise NewConnectionError(\n\u001b[0;32m--> 168\u001b[0;31m                 self, \"Failed to establish a new connection: %s\" % e)\n\u001b[0m\u001b[1;32m    169\u001b[0m \u001b[0;34m\u001b[0m\u001b[0m\n",
            "\u001b[0;31mNewConnectionError\u001b[0m: <urllib3.connection.HTTPConnection object at 0x7fd6f6f09e50>: Failed to establish a new connection: [Errno 111] Connection refused",
            "\nDuring handling of the above exception, another exception occurred:\n",
            "\u001b[0;31mMaxRetryError\u001b[0m                             Traceback (most recent call last)",
            "\u001b[0;32m<ipython-input-126-9100d9c8126c>\u001b[0m in \u001b[0;36m<module>\u001b[0;34m()\u001b[0m\n\u001b[0;32m----> 1\u001b[0;31m \u001b[0mapple_ssg_driver\u001b[0m\u001b[0;34m.\u001b[0m\u001b[0mexecute_script\u001b[0m\u001b[0;34m(\u001b[0m\u001b[0;34m\"window.scrollTo(0, document.body.scrollHeight)\"\u001b[0m\u001b[0;34m)\u001b[0m\u001b[0;34m\u001b[0m\u001b[0;34m\u001b[0m\u001b[0m\n\u001b[0m",
            "\u001b[0;32m/usr/local/lib/python3.7/dist-packages/selenium/webdriver/remote/webdriver.py\u001b[0m in \u001b[0;36mexecute_script\u001b[0;34m(self, script, *args)\u001b[0m\n\u001b[1;32m    634\u001b[0m         return self.execute(command, {\n\u001b[1;32m    635\u001b[0m             \u001b[0;34m'script'\u001b[0m\u001b[0;34m:\u001b[0m \u001b[0mscript\u001b[0m\u001b[0;34m,\u001b[0m\u001b[0;34m\u001b[0m\u001b[0;34m\u001b[0m\u001b[0m\n\u001b[0;32m--> 636\u001b[0;31m             'args': converted_args})['value']\n\u001b[0m\u001b[1;32m    637\u001b[0m \u001b[0;34m\u001b[0m\u001b[0m\n\u001b[1;32m    638\u001b[0m     \u001b[0;32mdef\u001b[0m \u001b[0mexecute_async_script\u001b[0m\u001b[0;34m(\u001b[0m\u001b[0mself\u001b[0m\u001b[0;34m,\u001b[0m \u001b[0mscript\u001b[0m\u001b[0;34m,\u001b[0m \u001b[0;34m*\u001b[0m\u001b[0margs\u001b[0m\u001b[0;34m)\u001b[0m\u001b[0;34m:\u001b[0m\u001b[0;34m\u001b[0m\u001b[0;34m\u001b[0m\u001b[0m\n",
            "\u001b[0;32m/usr/local/lib/python3.7/dist-packages/selenium/webdriver/remote/webdriver.py\u001b[0m in \u001b[0;36mexecute\u001b[0;34m(self, driver_command, params)\u001b[0m\n\u001b[1;32m    317\u001b[0m \u001b[0;34m\u001b[0m\u001b[0m\n\u001b[1;32m    318\u001b[0m         \u001b[0mparams\u001b[0m \u001b[0;34m=\u001b[0m \u001b[0mself\u001b[0m\u001b[0;34m.\u001b[0m\u001b[0m_wrap_value\u001b[0m\u001b[0;34m(\u001b[0m\u001b[0mparams\u001b[0m\u001b[0;34m)\u001b[0m\u001b[0;34m\u001b[0m\u001b[0;34m\u001b[0m\u001b[0m\n\u001b[0;32m--> 319\u001b[0;31m         \u001b[0mresponse\u001b[0m \u001b[0;34m=\u001b[0m \u001b[0mself\u001b[0m\u001b[0;34m.\u001b[0m\u001b[0mcommand_executor\u001b[0m\u001b[0;34m.\u001b[0m\u001b[0mexecute\u001b[0m\u001b[0;34m(\u001b[0m\u001b[0mdriver_command\u001b[0m\u001b[0;34m,\u001b[0m \u001b[0mparams\u001b[0m\u001b[0;34m)\u001b[0m\u001b[0;34m\u001b[0m\u001b[0;34m\u001b[0m\u001b[0m\n\u001b[0m\u001b[1;32m    320\u001b[0m         \u001b[0;32mif\u001b[0m \u001b[0mresponse\u001b[0m\u001b[0;34m:\u001b[0m\u001b[0;34m\u001b[0m\u001b[0;34m\u001b[0m\u001b[0m\n\u001b[1;32m    321\u001b[0m             \u001b[0mself\u001b[0m\u001b[0;34m.\u001b[0m\u001b[0merror_handler\u001b[0m\u001b[0;34m.\u001b[0m\u001b[0mcheck_response\u001b[0m\u001b[0;34m(\u001b[0m\u001b[0mresponse\u001b[0m\u001b[0;34m)\u001b[0m\u001b[0;34m\u001b[0m\u001b[0;34m\u001b[0m\u001b[0m\n",
            "\u001b[0;32m/usr/local/lib/python3.7/dist-packages/selenium/webdriver/remote/remote_connection.py\u001b[0m in \u001b[0;36mexecute\u001b[0;34m(self, command, params)\u001b[0m\n\u001b[1;32m    372\u001b[0m         \u001b[0mdata\u001b[0m \u001b[0;34m=\u001b[0m \u001b[0mutils\u001b[0m\u001b[0;34m.\u001b[0m\u001b[0mdump_json\u001b[0m\u001b[0;34m(\u001b[0m\u001b[0mparams\u001b[0m\u001b[0;34m)\u001b[0m\u001b[0;34m\u001b[0m\u001b[0;34m\u001b[0m\u001b[0m\n\u001b[1;32m    373\u001b[0m         \u001b[0murl\u001b[0m \u001b[0;34m=\u001b[0m \u001b[0;34m'%s%s'\u001b[0m \u001b[0;34m%\u001b[0m \u001b[0;34m(\u001b[0m\u001b[0mself\u001b[0m\u001b[0;34m.\u001b[0m\u001b[0m_url\u001b[0m\u001b[0;34m,\u001b[0m \u001b[0mpath\u001b[0m\u001b[0;34m)\u001b[0m\u001b[0;34m\u001b[0m\u001b[0;34m\u001b[0m\u001b[0m\n\u001b[0;32m--> 374\u001b[0;31m         \u001b[0;32mreturn\u001b[0m \u001b[0mself\u001b[0m\u001b[0;34m.\u001b[0m\u001b[0m_request\u001b[0m\u001b[0;34m(\u001b[0m\u001b[0mcommand_info\u001b[0m\u001b[0;34m[\u001b[0m\u001b[0;36m0\u001b[0m\u001b[0;34m]\u001b[0m\u001b[0;34m,\u001b[0m \u001b[0murl\u001b[0m\u001b[0;34m,\u001b[0m \u001b[0mbody\u001b[0m\u001b[0;34m=\u001b[0m\u001b[0mdata\u001b[0m\u001b[0;34m)\u001b[0m\u001b[0;34m\u001b[0m\u001b[0;34m\u001b[0m\u001b[0m\n\u001b[0m\u001b[1;32m    375\u001b[0m \u001b[0;34m\u001b[0m\u001b[0m\n\u001b[1;32m    376\u001b[0m     \u001b[0;32mdef\u001b[0m \u001b[0m_request\u001b[0m\u001b[0;34m(\u001b[0m\u001b[0mself\u001b[0m\u001b[0;34m,\u001b[0m \u001b[0mmethod\u001b[0m\u001b[0;34m,\u001b[0m \u001b[0murl\u001b[0m\u001b[0;34m,\u001b[0m \u001b[0mbody\u001b[0m\u001b[0;34m=\u001b[0m\u001b[0;32mNone\u001b[0m\u001b[0;34m)\u001b[0m\u001b[0;34m:\u001b[0m\u001b[0;34m\u001b[0m\u001b[0;34m\u001b[0m\u001b[0m\n",
            "\u001b[0;32m/usr/local/lib/python3.7/dist-packages/selenium/webdriver/remote/remote_connection.py\u001b[0m in \u001b[0;36m_request\u001b[0;34m(self, method, url, body)\u001b[0m\n\u001b[1;32m    395\u001b[0m \u001b[0;34m\u001b[0m\u001b[0m\n\u001b[1;32m    396\u001b[0m         \u001b[0;32mif\u001b[0m \u001b[0mself\u001b[0m\u001b[0;34m.\u001b[0m\u001b[0mkeep_alive\u001b[0m\u001b[0;34m:\u001b[0m\u001b[0;34m\u001b[0m\u001b[0;34m\u001b[0m\u001b[0m\n\u001b[0;32m--> 397\u001b[0;31m             \u001b[0mresp\u001b[0m \u001b[0;34m=\u001b[0m \u001b[0mself\u001b[0m\u001b[0;34m.\u001b[0m\u001b[0m_conn\u001b[0m\u001b[0;34m.\u001b[0m\u001b[0mrequest\u001b[0m\u001b[0;34m(\u001b[0m\u001b[0mmethod\u001b[0m\u001b[0;34m,\u001b[0m \u001b[0murl\u001b[0m\u001b[0;34m,\u001b[0m \u001b[0mbody\u001b[0m\u001b[0;34m=\u001b[0m\u001b[0mbody\u001b[0m\u001b[0;34m,\u001b[0m \u001b[0mheaders\u001b[0m\u001b[0;34m=\u001b[0m\u001b[0mheaders\u001b[0m\u001b[0;34m)\u001b[0m\u001b[0;34m\u001b[0m\u001b[0;34m\u001b[0m\u001b[0m\n\u001b[0m\u001b[1;32m    398\u001b[0m \u001b[0;34m\u001b[0m\u001b[0m\n\u001b[1;32m    399\u001b[0m             \u001b[0mstatuscode\u001b[0m \u001b[0;34m=\u001b[0m \u001b[0mresp\u001b[0m\u001b[0;34m.\u001b[0m\u001b[0mstatus\u001b[0m\u001b[0;34m\u001b[0m\u001b[0;34m\u001b[0m\u001b[0m\n",
            "\u001b[0;32m/usr/local/lib/python3.7/dist-packages/urllib3/request.py\u001b[0m in \u001b[0;36mrequest\u001b[0;34m(self, method, url, fields, headers, **urlopen_kw)\u001b[0m\n\u001b[1;32m     70\u001b[0m             return self.request_encode_body(method, url, fields=fields,\n\u001b[1;32m     71\u001b[0m                                             \u001b[0mheaders\u001b[0m\u001b[0;34m=\u001b[0m\u001b[0mheaders\u001b[0m\u001b[0;34m,\u001b[0m\u001b[0;34m\u001b[0m\u001b[0;34m\u001b[0m\u001b[0m\n\u001b[0;32m---> 72\u001b[0;31m                                             **urlopen_kw)\n\u001b[0m\u001b[1;32m     73\u001b[0m \u001b[0;34m\u001b[0m\u001b[0m\n\u001b[1;32m     74\u001b[0m     def request_encode_url(self, method, url, fields=None, headers=None,\n",
            "\u001b[0;32m/usr/local/lib/python3.7/dist-packages/urllib3/request.py\u001b[0m in \u001b[0;36mrequest_encode_body\u001b[0;34m(self, method, url, fields, headers, encode_multipart, multipart_boundary, **urlopen_kw)\u001b[0m\n\u001b[1;32m    148\u001b[0m         \u001b[0mextra_kw\u001b[0m\u001b[0;34m.\u001b[0m\u001b[0mupdate\u001b[0m\u001b[0;34m(\u001b[0m\u001b[0murlopen_kw\u001b[0m\u001b[0;34m)\u001b[0m\u001b[0;34m\u001b[0m\u001b[0;34m\u001b[0m\u001b[0m\n\u001b[1;32m    149\u001b[0m \u001b[0;34m\u001b[0m\u001b[0m\n\u001b[0;32m--> 150\u001b[0;31m         \u001b[0;32mreturn\u001b[0m \u001b[0mself\u001b[0m\u001b[0;34m.\u001b[0m\u001b[0murlopen\u001b[0m\u001b[0;34m(\u001b[0m\u001b[0mmethod\u001b[0m\u001b[0;34m,\u001b[0m \u001b[0murl\u001b[0m\u001b[0;34m,\u001b[0m \u001b[0;34m**\u001b[0m\u001b[0mextra_kw\u001b[0m\u001b[0;34m)\u001b[0m\u001b[0;34m\u001b[0m\u001b[0;34m\u001b[0m\u001b[0m\n\u001b[0m",
            "\u001b[0;32m/usr/local/lib/python3.7/dist-packages/urllib3/poolmanager.py\u001b[0m in \u001b[0;36murlopen\u001b[0;34m(self, method, url, redirect, **kw)\u001b[0m\n\u001b[1;32m    322\u001b[0m             \u001b[0mresponse\u001b[0m \u001b[0;34m=\u001b[0m \u001b[0mconn\u001b[0m\u001b[0;34m.\u001b[0m\u001b[0murlopen\u001b[0m\u001b[0;34m(\u001b[0m\u001b[0mmethod\u001b[0m\u001b[0;34m,\u001b[0m \u001b[0murl\u001b[0m\u001b[0;34m,\u001b[0m \u001b[0;34m**\u001b[0m\u001b[0mkw\u001b[0m\u001b[0;34m)\u001b[0m\u001b[0;34m\u001b[0m\u001b[0;34m\u001b[0m\u001b[0m\n\u001b[1;32m    323\u001b[0m         \u001b[0;32melse\u001b[0m\u001b[0;34m:\u001b[0m\u001b[0;34m\u001b[0m\u001b[0;34m\u001b[0m\u001b[0m\n\u001b[0;32m--> 324\u001b[0;31m             \u001b[0mresponse\u001b[0m \u001b[0;34m=\u001b[0m \u001b[0mconn\u001b[0m\u001b[0;34m.\u001b[0m\u001b[0murlopen\u001b[0m\u001b[0;34m(\u001b[0m\u001b[0mmethod\u001b[0m\u001b[0;34m,\u001b[0m \u001b[0mu\u001b[0m\u001b[0;34m.\u001b[0m\u001b[0mrequest_uri\u001b[0m\u001b[0;34m,\u001b[0m \u001b[0;34m**\u001b[0m\u001b[0mkw\u001b[0m\u001b[0;34m)\u001b[0m\u001b[0;34m\u001b[0m\u001b[0;34m\u001b[0m\u001b[0m\n\u001b[0m\u001b[1;32m    325\u001b[0m \u001b[0;34m\u001b[0m\u001b[0m\n\u001b[1;32m    326\u001b[0m         \u001b[0mredirect_location\u001b[0m \u001b[0;34m=\u001b[0m \u001b[0mredirect\u001b[0m \u001b[0;32mand\u001b[0m \u001b[0mresponse\u001b[0m\u001b[0;34m.\u001b[0m\u001b[0mget_redirect_location\u001b[0m\u001b[0;34m(\u001b[0m\u001b[0;34m)\u001b[0m\u001b[0;34m\u001b[0m\u001b[0;34m\u001b[0m\u001b[0m\n",
            "\u001b[0;32m/usr/local/lib/python3.7/dist-packages/urllib3/connectionpool.py\u001b[0m in \u001b[0;36murlopen\u001b[0;34m(self, method, url, body, headers, retries, redirect, assert_same_host, timeout, pool_timeout, release_conn, chunked, body_pos, **response_kw)\u001b[0m\n\u001b[1;32m    665\u001b[0m                                 \u001b[0mtimeout\u001b[0m\u001b[0;34m=\u001b[0m\u001b[0mtimeout\u001b[0m\u001b[0;34m,\u001b[0m \u001b[0mpool_timeout\u001b[0m\u001b[0;34m=\u001b[0m\u001b[0mpool_timeout\u001b[0m\u001b[0;34m,\u001b[0m\u001b[0;34m\u001b[0m\u001b[0;34m\u001b[0m\u001b[0m\n\u001b[1;32m    666\u001b[0m                                 \u001b[0mrelease_conn\u001b[0m\u001b[0;34m=\u001b[0m\u001b[0mrelease_conn\u001b[0m\u001b[0;34m,\u001b[0m \u001b[0mbody_pos\u001b[0m\u001b[0;34m=\u001b[0m\u001b[0mbody_pos\u001b[0m\u001b[0;34m,\u001b[0m\u001b[0;34m\u001b[0m\u001b[0;34m\u001b[0m\u001b[0m\n\u001b[0;32m--> 667\u001b[0;31m                                 **response_kw)\n\u001b[0m\u001b[1;32m    668\u001b[0m \u001b[0;34m\u001b[0m\u001b[0m\n\u001b[1;32m    669\u001b[0m         \u001b[0;32mdef\u001b[0m \u001b[0mdrain_and_release_conn\u001b[0m\u001b[0;34m(\u001b[0m\u001b[0mresponse\u001b[0m\u001b[0;34m)\u001b[0m\u001b[0;34m:\u001b[0m\u001b[0;34m\u001b[0m\u001b[0;34m\u001b[0m\u001b[0m\n",
            "\u001b[0;32m/usr/local/lib/python3.7/dist-packages/urllib3/connectionpool.py\u001b[0m in \u001b[0;36murlopen\u001b[0;34m(self, method, url, body, headers, retries, redirect, assert_same_host, timeout, pool_timeout, release_conn, chunked, body_pos, **response_kw)\u001b[0m\n\u001b[1;32m    665\u001b[0m                                 \u001b[0mtimeout\u001b[0m\u001b[0;34m=\u001b[0m\u001b[0mtimeout\u001b[0m\u001b[0;34m,\u001b[0m \u001b[0mpool_timeout\u001b[0m\u001b[0;34m=\u001b[0m\u001b[0mpool_timeout\u001b[0m\u001b[0;34m,\u001b[0m\u001b[0;34m\u001b[0m\u001b[0;34m\u001b[0m\u001b[0m\n\u001b[1;32m    666\u001b[0m                                 \u001b[0mrelease_conn\u001b[0m\u001b[0;34m=\u001b[0m\u001b[0mrelease_conn\u001b[0m\u001b[0;34m,\u001b[0m \u001b[0mbody_pos\u001b[0m\u001b[0;34m=\u001b[0m\u001b[0mbody_pos\u001b[0m\u001b[0;34m,\u001b[0m\u001b[0;34m\u001b[0m\u001b[0;34m\u001b[0m\u001b[0m\n\u001b[0;32m--> 667\u001b[0;31m                                 **response_kw)\n\u001b[0m\u001b[1;32m    668\u001b[0m \u001b[0;34m\u001b[0m\u001b[0m\n\u001b[1;32m    669\u001b[0m         \u001b[0;32mdef\u001b[0m \u001b[0mdrain_and_release_conn\u001b[0m\u001b[0;34m(\u001b[0m\u001b[0mresponse\u001b[0m\u001b[0;34m)\u001b[0m\u001b[0;34m:\u001b[0m\u001b[0;34m\u001b[0m\u001b[0;34m\u001b[0m\u001b[0m\n",
            "\u001b[0;32m/usr/local/lib/python3.7/dist-packages/urllib3/connectionpool.py\u001b[0m in \u001b[0;36murlopen\u001b[0;34m(self, method, url, body, headers, retries, redirect, assert_same_host, timeout, pool_timeout, release_conn, chunked, body_pos, **response_kw)\u001b[0m\n\u001b[1;32m    665\u001b[0m                                 \u001b[0mtimeout\u001b[0m\u001b[0;34m=\u001b[0m\u001b[0mtimeout\u001b[0m\u001b[0;34m,\u001b[0m \u001b[0mpool_timeout\u001b[0m\u001b[0;34m=\u001b[0m\u001b[0mpool_timeout\u001b[0m\u001b[0;34m,\u001b[0m\u001b[0;34m\u001b[0m\u001b[0;34m\u001b[0m\u001b[0m\n\u001b[1;32m    666\u001b[0m                                 \u001b[0mrelease_conn\u001b[0m\u001b[0;34m=\u001b[0m\u001b[0mrelease_conn\u001b[0m\u001b[0;34m,\u001b[0m \u001b[0mbody_pos\u001b[0m\u001b[0;34m=\u001b[0m\u001b[0mbody_pos\u001b[0m\u001b[0;34m,\u001b[0m\u001b[0;34m\u001b[0m\u001b[0;34m\u001b[0m\u001b[0m\n\u001b[0;32m--> 667\u001b[0;31m                                 **response_kw)\n\u001b[0m\u001b[1;32m    668\u001b[0m \u001b[0;34m\u001b[0m\u001b[0m\n\u001b[1;32m    669\u001b[0m         \u001b[0;32mdef\u001b[0m \u001b[0mdrain_and_release_conn\u001b[0m\u001b[0;34m(\u001b[0m\u001b[0mresponse\u001b[0m\u001b[0;34m)\u001b[0m\u001b[0;34m:\u001b[0m\u001b[0;34m\u001b[0m\u001b[0;34m\u001b[0m\u001b[0m\n",
            "\u001b[0;32m/usr/local/lib/python3.7/dist-packages/urllib3/connectionpool.py\u001b[0m in \u001b[0;36murlopen\u001b[0;34m(self, method, url, body, headers, retries, redirect, assert_same_host, timeout, pool_timeout, release_conn, chunked, body_pos, **response_kw)\u001b[0m\n\u001b[1;32m    636\u001b[0m \u001b[0;34m\u001b[0m\u001b[0m\n\u001b[1;32m    637\u001b[0m             retries = retries.increment(method, url, error=e, _pool=self,\n\u001b[0;32m--> 638\u001b[0;31m                                         _stacktrace=sys.exc_info()[2])\n\u001b[0m\u001b[1;32m    639\u001b[0m             \u001b[0mretries\u001b[0m\u001b[0;34m.\u001b[0m\u001b[0msleep\u001b[0m\u001b[0;34m(\u001b[0m\u001b[0;34m)\u001b[0m\u001b[0;34m\u001b[0m\u001b[0;34m\u001b[0m\u001b[0m\n\u001b[1;32m    640\u001b[0m \u001b[0;34m\u001b[0m\u001b[0m\n",
            "\u001b[0;32m/usr/local/lib/python3.7/dist-packages/urllib3/util/retry.py\u001b[0m in \u001b[0;36mincrement\u001b[0;34m(self, method, url, response, error, _pool, _stacktrace)\u001b[0m\n\u001b[1;32m    397\u001b[0m \u001b[0;34m\u001b[0m\u001b[0m\n\u001b[1;32m    398\u001b[0m         \u001b[0;32mif\u001b[0m \u001b[0mnew_retry\u001b[0m\u001b[0;34m.\u001b[0m\u001b[0mis_exhausted\u001b[0m\u001b[0;34m(\u001b[0m\u001b[0;34m)\u001b[0m\u001b[0;34m:\u001b[0m\u001b[0;34m\u001b[0m\u001b[0;34m\u001b[0m\u001b[0m\n\u001b[0;32m--> 399\u001b[0;31m             \u001b[0;32mraise\u001b[0m \u001b[0mMaxRetryError\u001b[0m\u001b[0;34m(\u001b[0m\u001b[0m_pool\u001b[0m\u001b[0;34m,\u001b[0m \u001b[0murl\u001b[0m\u001b[0;34m,\u001b[0m \u001b[0merror\u001b[0m \u001b[0;32mor\u001b[0m \u001b[0mResponseError\u001b[0m\u001b[0;34m(\u001b[0m\u001b[0mcause\u001b[0m\u001b[0;34m)\u001b[0m\u001b[0;34m)\u001b[0m\u001b[0;34m\u001b[0m\u001b[0;34m\u001b[0m\u001b[0m\n\u001b[0m\u001b[1;32m    400\u001b[0m \u001b[0;34m\u001b[0m\u001b[0m\n\u001b[1;32m    401\u001b[0m         \u001b[0mlog\u001b[0m\u001b[0;34m.\u001b[0m\u001b[0mdebug\u001b[0m\u001b[0;34m(\u001b[0m\u001b[0;34m\"Incremented Retry for (url='%s'): %r\"\u001b[0m\u001b[0;34m,\u001b[0m \u001b[0murl\u001b[0m\u001b[0;34m,\u001b[0m \u001b[0mnew_retry\u001b[0m\u001b[0;34m)\u001b[0m\u001b[0;34m\u001b[0m\u001b[0;34m\u001b[0m\u001b[0m\n",
            "\u001b[0;31mMaxRetryError\u001b[0m: HTTPConnectionPool(host='127.0.0.1', port=37233): Max retries exceeded with url: /session/846c41faa9a45caf6a9b10a556df73e8/execute/sync (Caused by NewConnectionError('<urllib3.connection.HTTPConnection object at 0x7fd6f6f09e50>: Failed to establish a new connection: [Errno 111] Connection refused'))"
          ]
        }
      ]
    },
    {
      "cell_type": "code",
      "metadata": {
        "colab": {
          "base_uri": "https://localhost:8080/",
          "height": 1000
        },
        "id": "-toBU1e3OPo5",
        "outputId": "53e8597f-5132-44d2-cd12-07e5691530b6"
      },
      "source": [
        "# !pip install Selenium\n",
        "# !apt-get update\n",
        "# !apt install chromium-chromedriver\n",
        "# !cp /usr/lib/chrome-browser/chromedriver /usr/bin/\n",
        "\n",
        "# import sys\n",
        "# sys.path.insert(0, 'usr/lib/chromium-browser/chromedriver')\n",
        "\n",
        "from selenium import webdriver\n",
        "from selenium.webdriver.chrome.options import Options\n",
        "import pandas as pd\n",
        "import time\n",
        "\n",
        "chrome_options = webdriver.ChromeOptions()\n",
        "chrome_options.add_argument('--headless')\n",
        "chrome_options.add_argument('--no-sandbox')\n",
        "chrome_options.add_argument('--disable-dev-shm-usage')\n",
        "chrome_options.add_argument('window-size=1920x1080') \n",
        "chrome_options.add_argument('User-Agent\": \"Mozilla/5.0 (Windows NT 10.0; Win64; x64) AppleWebKit/537.36 (KHTML, like Gecko) Chrome/88.0.4324.190 Safari/537.36')\n",
        "chrome_options.add_argument('--lang=ko-KR')\n",
        "\n",
        "coupang_ssg_driver = webdriver.Chrome('chromedriver', options=chrome_options) # 위의 옵션대로 웹 드라이버 객체 생성\n",
        "\n",
        "url = 'https://apps.apple.com/kr/app/%EC%BF%A0%ED%8C%A1-coupang/id454434967#see-all/reviews'\n",
        "\n",
        "coupang_ssg_driver.get(url) # get으로 url주소 가져오기\n",
        "\n",
        "data = pd.DataFrame(data=[], columns=['num', 'date', 'review', 'rating'])\n",
        "\n",
        "dates = coupang_ssg_driver.find_elements_by_css_selector('.we-customer-review__date')\n",
        "reviews =coupang_ssg_driver.find_elements_by_css_selector('.we-clamp')\n",
        "star_grades = coupang_ssg_driver.find_elements_by_css_selector('.we-star-rating')\n",
        "\n",
        "k = 0\n",
        "while True:\n",
        "\n",
        "    for i in range(110):\n",
        "        coupang_ssg_driver.execute_script(\"window.scrollTo(0, document.body.scrollHeight)\")\n",
        "        time.sleep(1)\n",
        "\n",
        "    print(coupang_ssg_driver.execute_script(\"return document.body.scrollHeight\"))\n",
        "\n",
        "    dates = coupang_ssg_driver.find_elements_by_css_selector('.we-customer-review__date')\n",
        "    reviews =coupang_ssg_driver.find_elements_by_css_selector('.we-clamp')\n",
        "    star_grades = coupang_ssg_driver.find_elements_by_css_selector('.we-star-rating')\n",
        "    print('객체 길이 : ', len(reviews))\n",
        "    \n",
        "    while True:\n",
        "\n",
        "        tmp = []\n",
        "        tmp.append(k)\n",
        "        tmp.append(dates[k].text)\n",
        "        tmp.append(reviews[k].text)\n",
        "        tmp.append(star_grades[k].get_attribute('aria-label')[0])\n",
        "        k += 1\n",
        "\n",
        "        tmp = pd.DataFrame(data=[tmp], columns=data.columns)\n",
        "        data = pd.concat([data, tmp])\n",
        "\n",
        "        if k % 100 == 0:\n",
        "            print(k)\n",
        "            print(reviews[k].text)\n",
        "        \n",
        "        if k > len(reviews) - 10:\n",
        "            print(\"현재 리뷰 수: \", k)\n",
        "            print('객체 길이 : ', len(reviews))\n",
        "            break\n",
        "\n",
        "    \n",
        "    if k % 2000 ==0:\n",
        "        data.to_csv('coupang_ssg.csv', encoding='utf-8-sig')\n"
      ],
      "execution_count": 127,
      "outputs": [
        {
          "output_type": "stream",
          "text": [
            "75785\n",
            "객체 길이 :  1110\n",
            "100\n",
            "이해가 안되네.\n",
            "몇년 째 쓰는데 와이파이가 안되면 실행이 안된다는 둥 결제가 안된다는 둥ㅋㅋㅋㅋ\n",
            "로켓배송 하려고 정각 30분전에 켰는데 오류 때문에 못했다는 둥 진심 이건 지 시간관리 능력을 탓해야지...;; 왜냐면 로켓배송 결제 가능은 무려 24시간 이니까 멍청아\n",
            "200\n",
            "삭제했다가 다시 다운받아봐도 양배추 카테고리가 안 보여요ㅠ 사각썰기 양배추 사고 싶은데 못 사요 며칠째ㅠㅠㅠ 친구는 보인다는데 전 안 보여요,, 그냥 양배추 카테고리 들어가면 회색 화면으로 꽉 차요 텅텅 비었어요ㅠ 저랑 같은 이상 있으신 분 없나요?\n",
            "300\n",
            "로켓프레쉬 이용할려고 로켓와우신청했는데 품절된게 너무 많아요... 당장 필요한걸 못사니까 새벽배송이고 뭐고 의미가 없어요ㅠㅠ 개선 부탁드려요\n",
            "400\n",
            "오류 겁나 내더니 결국 주문 못함 다음날로 밀림 ㅋㅋ 쿠팡 진짜 오래 썼는데 이제 두번다시는 주문 안한다 몇십번을 참았는데 피드백 하나도 없고 돈만 받으면 끝 ~ 로켓배송이라 치고 싸지도않은데 소비자한테 그만큼 돈 들고 가면 제발 결제 서버나 어떻게좀 해라 구매욕구만 일으킬 생각말고\n",
            "500\n",
            "쿠팡 쓰고싶은데 아이패드 쓸땐 어쩔수없이 티몬으로 삽니다 아이패드용도 개발 부탁드려여\n",
            "600\n",
            "여러모로 편하고 빠른 배송 ! 가격도 꽤 괜찮은 편입니다~^^ 앱또한 편합니다~\n",
            "700\n",
            "로켓배송도 너무 좋고 다 좋은데요 굳이 금액을 맞춰야 하나요 이거 때문에 필요 없는 거 추가하게 만드는 거 같네요 ㅋㅋㅋ...\n",
            "800\n",
            "쿠팡은 고객을 봉으로 생각하고 운영하는 화사인듯.. 연극구매 했다가 당일 개인적인 사정으로 취소하면 구매 금액에 법적으로 정해진 10% 환불도 지키지 않는 회사... 어이가 없다 정말\n",
            "900\n",
            "아이폰X사용자입니다\n",
            "뒤로가기표시가\n",
            "아래에있으면\n",
            "참좋겠네요..^^(한손사용가능)\n",
            "1000\n",
            "정확한 문자 제공, 약속된날짜배송, 배송지연문자, 고객불편사항접수, 빠른물품회수, 빠른물품환불, 제대로 된 보상. 이 모든게 전혀되고있지 않네요.\n",
            "1100\n",
            "5월15일에 오늘 도착한다고 했는데 내일 체험학습인데 입고 갈 옷이 안와서 뭘 입고가야할지 모르겠네요..;;\n",
            "현재 리뷰 수:  1101\n",
            "객체 길이 :  1110\n",
            "150545\n",
            "객체 길이 :  2210\n",
            "1200\n",
            "복잡하게 바꾸셨나요...뭘 자꾸 어떻데 쓰라구여..\n",
            "1300\n",
            "한 번씩 쿠팡앱 실행 시 무한 로딩에 걸리는 버그가 있습니다.\n",
            "1400\n",
            "켤때마다 아 진짜 짜증남 ㄹㅇ루다가\n",
            "1500\n",
            "쿠팡 화이팅!\n",
            "1600\n",
            "업데이트좀하세요 맨날 안들어가지고 그놈의 새로고침\n",
            "1700\n",
            "아이패드용 앱이 없다니 맙소사......\n",
            "1800\n",
            "배송이 빨라서 좋아요 ㅋㅋㅋ\n",
            "1900\n",
            "괜찮음\n",
            "2000\n",
            "여러 쇼핑몰앱을 사용하는데 11번가는 완전 쓰레기고 요즘은 쿠팡과 티몬을 종종 이용하네요. 로켓배송 맘에 들고 앱도 안정적이라 쓸만합니다. 다만 상품교환시 교환과정을 조회해 볼수 없다는게 아쉽네요. 고객센터에 전화로 신청해서 그런건가..?\n",
            "2100\n",
            "어플리케이션이 출시되어서 정말로 편한것 같습니다. 일부러 인터넷을 이용해 웹으로 안들어가도 되고 한번에 확인이 가능하니 이것보다 더할 나위가 없네요 .ㅋ가격도 저렴하고 다른분들도 이용해 보세요.ㅋㅋㅋ\n",
            "2200\n",
            "울 부부는 쿠팡 이욘해서 데이트도 하고 결혼에도 골인했답니다!!!\n",
            "어디 팔지마시고 좋은음식점 좋은상품 많이많이 올려주세요!!\n",
            "핸드폰으로도 결제되서 너무너무 좋네요!!!\n",
            "현재 리뷰 수:  2201\n",
            "객체 길이 :  2210\n",
            "225355\n",
            "객체 길이 :  3310\n",
            "2300\n",
            "사고 싶었던 것을 빠르고 쉽고 싸게 구매를 할수 있어서 좋았습니다 ㅋ wonderful coupang!!!\n",
            "2400\n",
            "컴퓨터에서민 볼 수 있던 것들을 스마트폰으로 가능해져서 신기하네여~\n",
            "물론 초기리 아직 불편한것도 있지만 차츰 나아지겠져,,,? 쿠팡 화이팅~!!\n",
            "2500\n",
            "다 좋은데 검색기능이랑 카테고리 기능 좀\n",
            "만들어주세요 ㅜㅠㅜㅠ 그것만 있으면\n",
            "완벽한 어플인듯.\n",
            "2600\n",
            "타 소셜보다 재미나고 사고싶은게 많았었던 과거 대비 경쟁업체에 밀리는건 아닌지..\n",
            "2700\n",
            "예전엔 조금 불편한감이 없지않았는데 바뀌고 나서 완전 편해졌다는^^안그래도 자주 들어 오는데 더 자주 들어 오겠어요 ㅎㅎㅎ\n",
            "2800\n",
            "컴퓨터를 안보고 할수있게 만든의도는\n",
            "좋지만 연결해제도 많이되고 상세정보\n",
            "도 못보도 어플개발자의 신속한 업데이\n",
            "트가 필요한듯;\n",
            "2900\n",
            "티몬 홈페이지로 옷을 샀는데..받은 당일 사이즈가 맞지않아 왕복 배송비의 손해를 각오하고\n",
            "반품하기를 클릭했는데... 7일이지나도 수거자오지 않아서 전화를 했더니 다시 택배지정해줬다고 2~3일이내 수거 된다더니 4일후 다시연락 다시 지정해준다더니 3지나 또 무소식~~!\n",
            "3000\n",
            "상품을 자주 보게되서 편리. 결제는 아직은 컴이 나은듯하지만.\n",
            "3100\n",
            "로켓배송정말 너무 친절하고 좋아용 ㅋㅋㅋㅋ참편리하고 너무좋은거같네요 쿠팡대박나세용\n",
            "3200\n",
            "업데이트하고 나서 보기도 불편해지고 별루네요 지금 두번째 어플 없애고 다시 받음 또 렉걸리고 안뜨면 정말 지워버려야 겠네요\n",
            "3300\n",
            "요즘엔 로켓배송이 좀 시원찮긴 하지만 충동구매하기 딱 조아요 ㅋ\n",
            "기저귀도 빨리 배송오고 짱\n",
            "현재 리뷰 수:  3301\n",
            "객체 길이 :  3310\n",
            "299858\n",
            "객체 길이 :  4410\n",
            "3400\n",
            "업데이트 이후로 계속 실행이 안되고 꺼지네요\n",
            "3500\n",
            "쿠팡 쿠폰도 마니주고 사용하기\n",
            "편해요\n",
            "넘버원은 로켓배송이죠!!!!\n",
            "3600\n",
            "쓰는데 짜증이 확나네요 상품설명도 안보이고 단추도 작아서 자꾸 다른데로 넘어가고 검색은 어떻게하는거에요? 하다가 컴터켰네요ㅡㅡ\n",
            "3700\n",
            "위메프도 엄청 잘보이게 만들었는데\n",
            "뒤늦게 출시하고 뵈는게 없으면 ㅁ리트 완전상실\n",
            "계속 튕기고 완전실망\n",
            "3800\n",
            "많은 분들이 얘기하신 것처럼 진짜...네트워크 오류가 너무 심해요. 반복적으로 시도하다가 이젠 아예 삭제하고 싶네요\n",
            "3900\n",
            "좋은 업체 많이 섭외해 주시고 실시간 바로바로 쓸수있으니 아주 좋아요\n",
            "4000\n",
            "아, 뭐좀 볼라그럼 네트워크 연결실패떠서 막튕김 ㅡㅡ\n",
            "뭘보고 구매하라는거지\n",
            "사고싶다가도 짜증나서 이거원\n",
            "4100\n",
            "로켓배송 정말 빠르고 편리하네요\n",
            "4200\n",
            "좋긴한데 볼수가없네여. 자꾸 팅겨서...\n",
            "짱나서 바로삭제-;;\n",
            "4300\n",
            "분명 업데이트 했는데\n",
            "페이지 넘기거나 스크롤 내릴때 무지막지하게 멈추고 튕김..\n",
            "뭘할수가없음..\n",
            "4400\n",
            "뭐좀 볼라하면 네트워크오류라고\n",
            "어플꺼지고.. 손쉽게 볼수있다더니\n",
            "메일로 확인하는게 더 쉽겠네\n",
            "현재 리뷰 수:  4401\n",
            "객체 길이 :  4410\n",
            "374550\n",
            "객체 길이 :  5510\n",
            "4500\n",
            "기존보다 많이 편해졌네요\n",
            "4600\n",
            "상세 설명 사진이 업어서 다시 피씨버전우로 봐야하는 번거로움 짝나요 어플로는 안봐지네요\n",
            "4700\n",
            "어떡케좀하지?5번들어갔다 짜증나 디지는줄 이딴거만들어놓고뭐함 우롱하는건가지금?\n",
            "4800\n",
            "상품을 사라는건지 말라는건지요.. 네트워크 연결실패가... 어찌 이리 심한지요.. 인터넷으로도 사기 싫어지네요\n",
            "4900\n",
            "업데이트 안됩니다\n",
            "삭재도 안되구요\n",
            "물건 사지 말라는 건지 ㅠ\n",
            "5000\n",
            "업데이트 4일째 입니다!\n",
            "지워 지지도 않고 4일째 설치중...\n",
            "5100\n",
            "위메프보다 좋음\n",
            "상품평적는ㄱㅎㅅ도있고\n",
            "5200\n",
            "os 업데하고 나서 실행불가..ㅜㅠ\n",
            "5300\n",
            "ㅎㅎㅎ편하구 좋습니다\n",
            "5400\n",
            "너무편하고좋네요\n",
            "엄지척\n",
            "5500\n",
            "제일 상품 많고 젤 좋은거 같네요 ㅎㅎ\n",
            "현재 리뷰 수:  5501\n",
            "객체 길이 :  5510\n",
            "449189\n",
            "객체 길이 :  6610\n",
            "5600\n",
            "업데이트 않됐요 ㅠㅠ\n",
            "5700\n",
            "너무튕김 ㅠㅠ\n",
            "5800\n",
            "조낸튕겨!!쓰레기어플이다 받지마쇼\n",
            "5900\n",
            "실명인증하면 메인화면으로 튕기면서 초기화됨......\n",
            "6000\n",
            "쿠팡완전편하고좋아요짱~\n",
            "6100\n",
            "쿠팡은 사랑입니다.\n",
            "6200\n",
            "하나보고 튕기고 하나보고 튕기고,,\n",
            "이걸 만든건가-_-\n",
            "6300\n",
            "쿠팡최고인듯 완전조아!!!\n",
            "6400\n",
            "좋은앱\n",
            "여행갈때 좋아요\n",
            "6500\n",
            "1$자동결재되네요 가상결재인가요\n",
            "6600\n",
            "쿠팡예전것이나음 이거 꼬졌음!!!!!!\n",
            "현재 리뷰 수:  6601\n",
            "객체 길이 :  6610\n",
            "523624\n",
            "객체 길이 :  7710\n",
            "6700\n",
            "아니 왜이렇게 튕겨대\n",
            "수정좀\n",
            "6800\n",
            "구매목록 삭제 해주세요\n",
            "6900\n",
            "구매목록 삭제 요청합니다\n",
            "7000\n",
            "괜찮음\n",
            "7100\n",
            "이래팅기는데 뭘 한담\n",
            "7200\n",
            "자꾸팅김\n",
            "7300\n",
            "굿굿\n",
            "7400\n",
            "정말ㅌㅌㅊ\n",
            "7500\n",
            "ㅋㅋㅋㅋㅋㅋㅋ\n",
            "7600\n",
            "ㅇㅇ\n",
            "7700\n",
            "굿\n",
            "현재 리뷰 수:  7701\n",
            "객체 길이 :  7710\n",
            "598383\n",
            "객체 길이 :  8810\n",
            "7800\n",
            "쿠페이머니 쓰면 지 ㅈ대로 돈 빼감 이게 제일 불편 다음날 식당에서 계산하는데 한도초과 나와서 누가 빼갔나 해서 봤는데 쿠페이머니 ㅅㅂ럼임 그래도 빠른배송은 개꿀띠 이것만 고쳐주시면 좋을 것 같네요\n",
            "7900\n",
            "ㅈㄴ빨리옴\n",
            "8000\n",
            "전에도 몰카판매로 논란있었는데 또 시대흐름못읽으시네 쿠팡맨 논란까지 대단하네요\n",
            "8100\n",
            "구매목록을 왜여기서 삭제해달라고하냐 제발 니들때문에 이쁜벽돌이란말이생겼다 공부하고써라 댁아리 골반년드라\n",
            "8200\n",
            "구매내역삭제해주세요 부탁드립니다\n",
            "8300\n",
            "언제나 빠른배송 정가배송 너무 만ㄹ족스러워요!\n",
            "8400\n",
            "쿠팡만한 쇼핑몰이 있나요? 쿠팡맨들은 진리죠 아기 키우면서 쿠팡 없었으면 큰일날뻔 한적 많습니다 쿠핑 항산 변치말고 쭉 함께해요\n",
            "8500\n",
            "여러가지 소셜커머스중에 쿠팡앱이 제일 쓰기도 편하고 싸요~ 특히 저처럼 아기엄마들한테 쿠팡로켓배송+쿠팡맨은 정말 은인이랍니다^^\n",
            "8600\n",
            "로켓배송 만세\n",
            "8700\n",
            "구입목록삭제요청합니다\n",
            "8800\n",
            "지방지역은 아예없구 튕기삼 ㅡㅡ\n",
            "현재 리뷰 수:  8801\n",
            "객체 길이 :  8810\n",
            "599136\n",
            "객체 길이 :  8822\n",
            "현재 리뷰 수:  8813\n",
            "객체 길이 :  8822\n",
            "599136\n",
            "객체 길이 :  8822\n",
            "현재 리뷰 수:  8814\n",
            "객체 길이 :  8822\n",
            "599136\n",
            "객체 길이 :  8822\n",
            "현재 리뷰 수:  8815\n",
            "객체 길이 :  8822\n"
          ],
          "name": "stdout"
        },
        {
          "output_type": "error",
          "ename": "KeyboardInterrupt",
          "evalue": "ignored",
          "traceback": [
            "\u001b[0;31m---------------------------------------------------------------------------\u001b[0m",
            "\u001b[0;31mKeyboardInterrupt\u001b[0m                         Traceback (most recent call last)",
            "\u001b[0;32m<ipython-input-127-bb342b645c40>\u001b[0m in \u001b[0;36m<module>\u001b[0;34m()\u001b[0m\n\u001b[1;32m     37\u001b[0m     \u001b[0;32mfor\u001b[0m \u001b[0mi\u001b[0m \u001b[0;32min\u001b[0m \u001b[0mrange\u001b[0m\u001b[0;34m(\u001b[0m\u001b[0;36m110\u001b[0m\u001b[0;34m)\u001b[0m\u001b[0;34m:\u001b[0m\u001b[0;34m\u001b[0m\u001b[0;34m\u001b[0m\u001b[0m\n\u001b[1;32m     38\u001b[0m         \u001b[0mcoupang_ssg_driver\u001b[0m\u001b[0;34m.\u001b[0m\u001b[0mexecute_script\u001b[0m\u001b[0;34m(\u001b[0m\u001b[0;34m\"window.scrollTo(0, document.body.scrollHeight)\"\u001b[0m\u001b[0;34m)\u001b[0m\u001b[0;34m\u001b[0m\u001b[0;34m\u001b[0m\u001b[0m\n\u001b[0;32m---> 39\u001b[0;31m         \u001b[0mtime\u001b[0m\u001b[0;34m.\u001b[0m\u001b[0msleep\u001b[0m\u001b[0;34m(\u001b[0m\u001b[0;36m1\u001b[0m\u001b[0;34m)\u001b[0m\u001b[0;34m\u001b[0m\u001b[0;34m\u001b[0m\u001b[0m\n\u001b[0m\u001b[1;32m     40\u001b[0m \u001b[0;34m\u001b[0m\u001b[0m\n\u001b[1;32m     41\u001b[0m     \u001b[0mprint\u001b[0m\u001b[0;34m(\u001b[0m\u001b[0mcoupang_ssg_driver\u001b[0m\u001b[0;34m.\u001b[0m\u001b[0mexecute_script\u001b[0m\u001b[0;34m(\u001b[0m\u001b[0;34m\"return document.body.scrollHeight\"\u001b[0m\u001b[0;34m)\u001b[0m\u001b[0;34m)\u001b[0m\u001b[0;34m\u001b[0m\u001b[0;34m\u001b[0m\u001b[0m\n",
            "\u001b[0;31mKeyboardInterrupt\u001b[0m: "
          ]
        }
      ]
    },
    {
      "cell_type": "code",
      "metadata": {
        "id": "cqpOdwK5f0h4"
      },
      "source": [
        "data.to_csv('apple_coupang.csv', encoding='utf-8-sig')"
      ],
      "execution_count": 130,
      "outputs": []
    },
    {
      "cell_type": "code",
      "metadata": {
        "colab": {
          "base_uri": "https://localhost:8080/",
          "height": 1000
        },
        "id": "lpVh2T9-gMD8",
        "outputId": "2ad35470-af66-467a-d222-0786fda44bd9"
      },
      "source": [
        "# !pip install Selenium\n",
        "# !apt-get update\n",
        "# !apt install chromium-chromedriver\n",
        "# !cp /usr/lib/chrome-browser/chromedriver /usr/bin/\n",
        "\n",
        "# import sys\n",
        "# sys.path.insert(0, 'usr/lib/chromium-browser/chromedriver')\n",
        "\n",
        "from selenium import webdriver\n",
        "from selenium.webdriver.chrome.options import Options\n",
        "import pandas as pd\n",
        "import time\n",
        "\n",
        "chrome_options = webdriver.ChromeOptions()\n",
        "chrome_options.add_argument('--headless')\n",
        "chrome_options.add_argument('--no-sandbox')\n",
        "chrome_options.add_argument('--disable-dev-shm-usage')\n",
        "chrome_options.add_argument('window-size=1920x1080') \n",
        "chrome_options.add_argument('User-Agent\": \"Mozilla/5.0 (Windows NT 10.0; Win64; x64) AppleWebKit/537.36 (KHTML, like Gecko) Chrome/88.0.4324.190 Safari/537.36')\n",
        "chrome_options.add_argument('--lang=ko-KR')\n",
        "\n",
        "apple_lotte_driver = webdriver.Chrome('chromedriver', options=chrome_options) # 위의 옵션대로 웹 드라이버 객체 생성\n",
        "\n",
        "url = 'https://apps.apple.com/kr/app/%EB%A1%AF%EB%8D%B0on/id376622474#see-all/reviews'\n",
        "\n",
        "apple_lotte_driver.get(url) # get으로 url주소 가져오기\n",
        "\n",
        "data = pd.DataFrame(data=[], columns=['num', 'date', 'review', 'rating'])\n",
        "\n",
        "dates = apple_lotte_driver.find_elements_by_css_selector('.we-customer-review__date')\n",
        "reviews =apple_lotte_driver.find_elements_by_css_selector('.we-clamp')\n",
        "star_grades = apple_lotte_driver.find_elements_by_css_selector('.we-star-rating')\n",
        "\n",
        "k = 0\n",
        "while True:\n",
        "\n",
        "    for i in range(110):\n",
        "        apple_lotte_driver.execute_script(\"window.scrollTo(0, document.body.scrollHeight)\")\n",
        "        time.sleep(1)\n",
        "\n",
        "    print(apple_lotte_driver.execute_script(\"return document.body.scrollHeight\"))\n",
        "\n",
        "    dates = apple_lotte_driver.find_elements_by_css_selector('.we-customer-review__date')\n",
        "    reviews =apple_lotte_driver.find_elements_by_css_selector('.we-clamp')\n",
        "    star_grades = apple_lotte_driver.find_elements_by_css_selector('.we-star-rating')\n",
        "    print('객체 길이 : ', len(reviews))\n",
        "    \n",
        "    while True:\n",
        "\n",
        "        tmp = []\n",
        "        tmp.append(k)\n",
        "        tmp.append(dates[k].text)\n",
        "        tmp.append(reviews[k].text)\n",
        "        tmp.append(star_grades[k].get_attribute('aria-label')[0])\n",
        "        k += 1\n",
        "\n",
        "        tmp = pd.DataFrame(data=[tmp], columns=data.columns)\n",
        "        data = pd.concat([data, tmp])\n",
        "\n",
        "        if k % 100 == 0:\n",
        "            print(k)\n",
        "            print(reviews[k].text)\n",
        "        \n",
        "        if k > len(dates) - 10:\n",
        "            print(\"현재 리뷰 수: \", k)\n",
        "            print('객체 길이 : ', len(reviews))\n",
        "            break\n",
        "\n",
        "    \n",
        "    if k % 2000 ==0:\n",
        "        data.to_csv('apple_lotte.csv', encoding='utf-8-sig')\n"
      ],
      "execution_count": 139,
      "outputs": [
        {
          "output_type": "stream",
          "text": [
            "75784\n",
            "객체 길이 :  1162\n",
            "100\n",
            "판매자와 트러블이 있을 때마다 고객 입장에서 응대해주고, 최대한 빠르게 처리해주셔서 감사합니다.\n",
            "200\n",
            "가지고 있는 엘포인트 써서 구매했더니 완전 저렴하게 삿어요,,,, 대박\n",
            "300\n",
            "신선하게 제품이 오고, 할인도 해주니 만족 안할 수가 없네요\n",
            "400\n",
            "믿었던 롯데닷컴 왜 이래요 갑자기 상품도 거의 다 없어지고 너무 이상해요 ㅠㅠ 돌려놔주세요 제발 진짜 어색하고 너무 불편하고 별로네요 다들 평도 안 좋은데 ..\n",
            "500\n",
            "필요한 것에 대해 흡족한 금액으로 구매가 가능해서 만족합니다.\n",
            "600\n",
            "꾸준히 이용하는 앱 중에 하나예요\n",
            "700\n",
            "마트 장보는 거랑 그냥 쇼핑이랑 다 여기서하면 될 듯, 할인 만족\n",
            "800\n",
            "원래 버전으로 다시 돌아가면 좋겠어요.업데이트 후에 너무 안 좋아요.구매 싶은 마음이 없어졌어요.안 눈이 안 들어와요.\n",
            "900\n",
            "백화점 상품, 마트 상품 구분없이 한번에 주문~ 완전 마음에 듬~!!\n",
            "1000\n",
            "상품이 항상 잘 포장 되어서 마음에 들어요\n",
            "1100\n",
            "로그인 자꾸 풀림\n",
            "\n",
            "맞는 비번으로 해도 처음에 로그인 실패라고 뜨고 두세번은 다시 눌러줘야 로그인됌 거지같음\n",
            "현재 리뷰 수:  1101\n",
            "객체 길이 :  1162\n",
            "150422\n",
            "객체 길이 :  2303\n",
            "1200\n",
            "좋은제품과 빠른배송 고맙습니다.\n",
            "1300\n",
            "굉장히 잘 쓰고 있습니다\n",
            "1400\n",
            "롯데온만 주로 사용합니다.\n",
            "1500\n",
            "즐기면서 쇼핑하고 있습니다.\n",
            "1600\n",
            "가격도 저렴하고 배송도 빠릅니다.\n",
            "1700\n",
            "엘포인트 적립 사용이 되서 너무 좋음\n",
            "1800\n",
            "매우 만족합니다!\n",
            "1900\n",
            "마트부터 백화점 상품까지 많이 있어서 편해요\n",
            "2000\n",
            "자주 애용하네요\n",
            "2100\n",
            "사용감 편리하네요\n",
            "2200\n",
            "어플이 점점 좋아지는 거 같아서 좋아요\n",
            "현재 리뷰 수:  2201\n",
            "객체 길이 :  2303\n",
            "225061\n",
            "객체 길이 :  3417\n",
            "2300\n",
            "저는 굿굿!!~\n",
            "2400\n",
            "압데이트 이후 도무지 이상해서 앱 지웁니다\n",
            "2500\n",
            "너무 좋음^^\n",
            "2600\n",
            "소고기 샀어욤\n",
            "2700\n",
            "아이가 셋이라 애들 용품부터 엄마아빠 옷 기타 생활 용품까지 늘 이용하고 있는 필수 어플이죠..직장맘이라 시간도 없는데 롯데닷컴 들어가서 폭풍쇼핑하면 시간절약 돈절약 완소 어플이네요 ㅎㅎ\n",
            "2800\n",
            "롯데닷컴은 보세옷이랑 브랜드옷 시중보다 더 저렴하게 살 때 많이 이용해요 ㅎㅎ 특히 화장품은 진짜 없는게 없어요 ㅋㅋ 발품파는 것 보다 이월상품이나 신상살 때 넘 좋구요. 폰으로 보는 것도 상품 색깔도 현실적으로 보여주고 여러개 둘러보고 위시리시트에 넣어두고 비교가도 핸드폰 앱 하나로 쭉~볼 수 있어서 넘 조아요! 상품보기도 이 앱 너무 편리해요♥\n",
            "2900\n",
            "롯데닷컴을 애용하는 소비자입니다 항상 컴터키고 기획전이나 특가전등을 봤는데 롯데닷컴앱다운후 모바일에서만 롯데닷컴을 하게되네요. 모바일주문시 추가할인혜택도 많고 사은신청도 모바일로 할수있어서 좋습니다\n",
            "3000\n",
            "자주 애용하고 있어요\n",
            "모바일 할인도 좋고 물건 찾기도 좋고\n",
            "사용자하기 참 편해요~\n",
            "한번씩 장바구니에 안 담길 때도 있고 옵션선택이 다르게 되는 에러가 있어요 왜그럴까요? 손 좀 봐주세요~ 것만 보완되면 금상첨화일듯\n",
            "3100\n",
            "롯데닷컴과 롯데홈쇼핑 어플 잘사용하고 있습니다 사용편해요 롯데닷컴과 홈쇼핑 물건이 많이 겹치고 롯데닷컴에서도 홈쇼핑제품구매하게끔 되어있는데 가격차이가 난던지 하네요 코폰도 같이 사용하게 연동함명 좋을듯요\n",
            "3200\n",
            "디자인은 좀 아쉬운 감이 없잖아 있지만 앱을 사용하는데 있어서는 편리합니다! 맥북으로는 인터넷 결제가 안되어서 앱으로 항상 결제하고있어서 편해요!\n",
            "3300\n",
            "직접써보니 유용하고 보기 좋게 되어있더라구영 굳이 컴터로 안봐도 될거 같애요^^\n",
            "현재 리뷰 수:  3301\n",
            "객체 길이 :  3417\n",
            "299617\n",
            "객체 길이 :  4531\n",
            "3400\n",
            "모바일로구매시쿠폰에적립금까지 혜택이빵빵해요 좋아요~~ 진작다운받을걸그랬어요\n",
            "3500\n",
            "모바일앱 첫화면구성이 너무 잘되어있어서 쇼핑하는데 무척 편합니다\n",
            "3600\n",
            "언제 어디서든 간편하게 쇼핑할 수 있고 할인쿠폰이나 적립이 모바일에서 구매하는게 경제적이네요~\n",
            "3700\n",
            "쇼핑을 워낙 좋아해서\n",
            "여기저기 어플을 많이 써봤습니다\n",
            "특히 롯데닷컴을 포함한 여러곳에서\n",
            "어플통해서 구매시 포인트나 할인이벤트를 하기 때문에 요즘 저두 더 어플을 이용하구요\n",
            "3800\n",
            "모바일앱 할인도 받을 수 있어서 쫌더 싸게 살 수 있어요~\n",
            "3900\n",
            "쇼핑이 편리하네요~ 좀 더 다양한 카테고리가 있었으면...\n",
            "4000\n",
            "삭제빠르게부탁드립니다\n",
            "4100\n",
            "상품사진만 보이고\n",
            "구매하기나 장바구니 이런 버튼 하나도 안보이네요.\n",
            "\n",
            "카달로그 앱으로 용도변경하신건가요?\n",
            "4200\n",
            "주문하기도 쉽고 결제도 오류없이 잘되네요.\n",
            "4300\n",
            "그러하다\n",
            "4400\n",
            "언제어디서나 롯데닷컴 쇼핑^^\n",
            "현재 리뷰 수:  4401\n",
            "객체 길이 :  4531\n",
            "335367\n",
            "객체 길이 :  5064\n",
            "4500\n",
            "백화점 온라인 샵중 젤편하고좋아요\n",
            "4600\n",
            "삭제해주세요\n",
            "4700\n",
            "아예 주문이 안돼요\n",
            "4800\n",
            "요즘 내 최애앱 ㅎㅎ\n",
            "4900\n",
            "원래 피시때부터 롯데 써서 이거만 썼는데 슥이나 현대로 갈게요..\n",
            "현재 리뷰 수:  4927\n",
            "객체 길이 :  5064\n",
            "335367\n",
            "객체 길이 :  5064\n",
            "현재 리뷰 수:  4928\n",
            "객체 길이 :  5064\n"
          ],
          "name": "stdout"
        },
        {
          "output_type": "error",
          "ename": "KeyboardInterrupt",
          "evalue": "ignored",
          "traceback": [
            "\u001b[0;31m---------------------------------------------------------------------------\u001b[0m",
            "\u001b[0;31mKeyboardInterrupt\u001b[0m                         Traceback (most recent call last)",
            "\u001b[0;32m<ipython-input-139-f4072089e16b>\u001b[0m in \u001b[0;36m<module>\u001b[0;34m()\u001b[0m\n\u001b[1;32m     37\u001b[0m     \u001b[0;32mfor\u001b[0m \u001b[0mi\u001b[0m \u001b[0;32min\u001b[0m \u001b[0mrange\u001b[0m\u001b[0;34m(\u001b[0m\u001b[0;36m110\u001b[0m\u001b[0;34m)\u001b[0m\u001b[0;34m:\u001b[0m\u001b[0;34m\u001b[0m\u001b[0;34m\u001b[0m\u001b[0m\n\u001b[1;32m     38\u001b[0m         \u001b[0mapple_lotte_driver\u001b[0m\u001b[0;34m.\u001b[0m\u001b[0mexecute_script\u001b[0m\u001b[0;34m(\u001b[0m\u001b[0;34m\"window.scrollTo(0, document.body.scrollHeight)\"\u001b[0m\u001b[0;34m)\u001b[0m\u001b[0;34m\u001b[0m\u001b[0;34m\u001b[0m\u001b[0m\n\u001b[0;32m---> 39\u001b[0;31m         \u001b[0mtime\u001b[0m\u001b[0;34m.\u001b[0m\u001b[0msleep\u001b[0m\u001b[0;34m(\u001b[0m\u001b[0;36m1\u001b[0m\u001b[0;34m)\u001b[0m\u001b[0;34m\u001b[0m\u001b[0;34m\u001b[0m\u001b[0m\n\u001b[0m\u001b[1;32m     40\u001b[0m \u001b[0;34m\u001b[0m\u001b[0m\n\u001b[1;32m     41\u001b[0m     \u001b[0mprint\u001b[0m\u001b[0;34m(\u001b[0m\u001b[0mapple_lotte_driver\u001b[0m\u001b[0;34m.\u001b[0m\u001b[0mexecute_script\u001b[0m\u001b[0;34m(\u001b[0m\u001b[0;34m\"return document.body.scrollHeight\"\u001b[0m\u001b[0;34m)\u001b[0m\u001b[0;34m)\u001b[0m\u001b[0;34m\u001b[0m\u001b[0;34m\u001b[0m\u001b[0m\n",
            "\u001b[0;31mKeyboardInterrupt\u001b[0m: "
          ]
        }
      ]
    },
    {
      "cell_type": "code",
      "metadata": {
        "id": "iBdv9TiyvF9M"
      },
      "source": [
        "data.to_csv('apple_lotte.csv', encoding='utf-8-sig')"
      ],
      "execution_count": 140,
      "outputs": []
    },
    {
      "cell_type": "code",
      "metadata": {
        "id": "Ku3ajX9i4i6Q"
      },
      "source": [
        "naver_test = webdriver.Chrome('chromedriver', options=chrome_options) # 위의 옵션대로 웹 드라이버 객체 생성\n",
        "\n",
        "url = 'https://blog.naver.com/leemoc1008/222219530698'\n",
        "\n",
        "naver_test.get(url) # get으로 url주소 가져오기"
      ],
      "execution_count": 141,
      "outputs": []
    },
    {
      "cell_type": "code",
      "metadata": {
        "colab": {
          "base_uri": "https://localhost:8080/"
        },
        "id": "rZ4-ak_74rpQ",
        "outputId": "04e210f2-8312-4b4b-97d8-20ec4e96788e"
      },
      "source": [
        "naver_test.find_elements_by_css_selector('.se-component')\n",
        "naver_test.find_elements_by_xpath('//*[@id=\"post-view222219530698\"]')"
      ],
      "execution_count": 158,
      "outputs": [
        {
          "output_type": "execute_result",
          "data": {
            "text/plain": [
              "[]"
            ]
          },
          "metadata": {
            "tags": []
          },
          "execution_count": 158
        }
      ]
    },
    {
      "cell_type": "code",
      "metadata": {
        "id": "zFki11gm6Obl"
      },
      "source": [
        "from bs4 import BeautifulSoup\n",
        "import urllib.request\n",
        "from urllib.parse import quote\n",
        "import pandas as pd\n",
        "\n",
        "def get_posts(url):\n",
        "\n",
        "    search_url = urllib.request.urlopen(url).read()\n",
        "    soup = BeautifulSoup(search_url, 'html.parser')\n",
        "    blog_url = 'https://blog.naver.com' + soup.select('iframe#mainFrame')[0].get('src')\n",
        "    post = urllib.request.urlopen(blog_url).read()\n",
        "    post_html = BeautifulSoup(post, 'html.parser')\n",
        "    post_content_text = \"\"\n",
        "\n",
        "    for post_content in post_html.find_all('div', {'class':'se-main-container'}):\n",
        "        post_content_text += post_content.get_text()\n",
        "\n",
        "    return post_content_text"
      ],
      "execution_count": 184,
      "outputs": []
    },
    {
      "cell_type": "code",
      "metadata": {
        "colab": {
          "base_uri": "https://localhost:8080/",
          "height": 297
        },
        "id": "5obakjWd_st3",
        "outputId": "b21c81ab-871a-4d7d-a6f1-55048a67e69c"
      },
      "source": [
        "get_posts('https://blog.naver.com/dew135?Redirect=Log&logNo=222261705573')"
      ],
      "execution_count": 186,
      "outputs": [
        {
          "output_type": "execute_result",
          "data": {
            "application/vnd.google.colaboratory.intrinsic+json": {
              "type": "string"
            },
            "text/plain": [
              "'\\n\\n\\n\\n\\n\\n\\n\\n\\n\\n\\n\\n\\n\\n\\n\\n\\u200bfresheasy[프레시지] 신림동 백순대 볶음 쿠팡 밀키트 솔직리뷰\\u200b\\n\\n\\n\\n \\n\\n\\n\\n먹을만은 한데 양이 좀 더 많았으면 좋겠다. \\n\\n\\n\\n\\n\\n\\n\\n\\n\\u200b요즘 밀키트에 빠져있는 나.쿠팡프레쉬 할때마다 하나씩 추가로 주문하고 있음.\\u200b너무 쉽고 간편하고 빠르게 조리되니한끼 걱정을 좀 덜 할 수 있는 장점이 있음.\\u200b이번에 시켜본 밀키트는 프레시지 신림동 백순대볶음\\u200b신림동에서 들기름에 볶아먺던 그 맛을 기억하며 사보았음.\\u200b\\u200bhttps://coupa.ng/bSEpy6\\n\\n\\n\\n \\n\\n\\n\\n\\n\\n\\n\\n\\n프레시지 신림동 백순대 볶음\\nCOUPANG\\ncoupa.ng\\n\\n\\n\\n\\n\\n\\n \\n\\n\\n\\n당연히 내돈내산임.\\u200b\\u200b\\u200b\\u200b\\u200b\\n\\n\\n\\n \\n\\n\\n\\n\\n\\n\\n\\n\\n\\n\\n\\n\\n\\n\\n\\n\\n \\n\\n\\n\\n591g 으로 받으면 냉장보관을 하는게 좋겠다.순대가 들어있는데 순대가 얼면 녹이는 과정까지 추가하면 조리하는데 넘 오래 걸릴 듯.그럼 밀 키트가 아니지.\\u200b그냥 받아서 빨리 해치우는게 밀키트의 매력같다.\\u200b\\u200b\\u200b\\u200b\\u200b\\u200b\\n\\n\\n\\n \\n\\n\\n\\n\\n\\n\\n\\n\\n\\n\\n\\n\\n\\n\\n구성품.\\u200b구성품에 대한 설명이 좀 들어있었으면 좋겠다.야채랑 순대야 뭐 그렇다 치더라도.저 위에 고추장소스는 케이스에 - 조리 후 맛있게 찍어드세요이런식으로라도 뭐라도 좀 써주지.\\u200b한참을 봤네.또 위쪽 중간에 제일 작은 봉지는 소금인데소금인 줄 모르고 조리할 때 좀 섞었음.. 좀 쓰라고 뭔지!!!\\u200b\\u200b\\u200b\\u200b\\u200b\\u200b\\n\\n\\n\\n \\n\\n\\n\\n\\n\\n\\n\\n\\n\\n\\n\\n\\n\\n\\n\\n\\n \\n\\n\\n\\n야채와 순대.순대는 팩의 상태로 전자렌지로 1분간 돌리라는데놉.촉촉하고 부드럽게 먹으려면 2~3분은  돌려줘야 한다.\\u200b\\u200b\\u200b\\u200b\\u200b\\u200b\\u200b\\u200b\\n\\n\\n\\n \\n\\n\\n\\n\\n\\n\\n\\n\\n\\n\\n\\n\\n\\n\\n 일단 설명은 매우 초간단하지만.미리 꼭 순대를 전자렌지나 끓는 물에서팍팍 익히고 준비해야 조리가 빨리 끝난다.\\u200b나는 1분만 믿고 전자렌지 1분과정 후에 조리를 다 끝내고 하나 집어먹어봤는데이런줸장! 이것은 고무고무 열매인가.\\u200b고무고무 열매를 다시 하나씩 모두 추려내어 전자렌지로 돌아가2분간 조리과정을 다시 거쳤음.\\u200b\\u200b\\u200b\\u200b\\u200b\\u200b\\u200b\\u200b\\u200b\\u200b\\u200b\\u200b\\n\\n\\n\\n \\n\\n\\n\\n\\n\\n\\n\\n\\n\\n\\n\\n\\n\\n\\n\\n\\n\\n\\n\\n\\n\\n\\n\\n\\n\\n\\u200b식용유 두르고 고무고무 아니 순대를넣고 볶아준다.\\u200b충분히 전자렌지에서 돌렸다면 이 과정을 매우 빨리 넘어갈 수 있음.\\u200b\\u200b\\u200b\\u200b\\u200b\\u200b\\u200b\\u200b\\n\\n\\n\\n \\n\\n\\n\\n\\n\\n\\n\\n\\n\\n\\n\\n\\n\\n\\n\\n\\n\\n\\n\\n\\n\\n\\n\\n\\n\\n순대가 다 익었다고 생각되면마지막 야채를 모두 넣고 쉐킷.\\u200b\\u200b\\u200b\\u200b\\u200b\\u200b\\u200b\\u200b\\u200b\\u200b\\u200b\\u200b\\u200b\\n\\n\\n\\n \\n\\n\\n\\n\\n\\n\\n\\n\\n\\n\\n\\n\\n\\n\\n\\n\\n \\n\\n\\n\\n\\n\\n\\n\\n\\n\\n\\n\\n\\n\\n\\n\\n\\n\\n\\n\\n\\n\\n\\n\\n\\n\\n\\u200b들깨가루를 넣고 쉐킷.제일 작은 봉지는 소금이니 주의하세요.그건 그냥 찍어먹으면 될 듯\\u200b\\u200b\\u200b\\u200b\\u200b\\n\\n\\n\\n \\n\\n\\n\\n\\n\\n\\n\\n\\n\\n\\n\\n\\n\\n\\n고추장과 집에서 추가한 참깨 그리고 참기름 \\u200b신림동에서는 이런식의 소스는 주지 않았지만 뭘 더 바라랴.이정도도 괜찮다.\\u200b\\u200b\\u200b\\u200b\\u200b\\n\\n\\n\\n \\n\\n\\n\\n\\n\\n\\n\\n\\n\\n\\n\\n\\n\\n\\n\\u200b완성.\\u200b먹어본 결과 맛은 있다.다만 양이 적어서 우리 오빠 혼자 먹어도 충분함.\\u200b2인분이라고 쓰지말고 1.5인분 혹은 소인 2인분이라고 하라!!!\\u200b하지만 나중에 요리하기 귀찮을때 나는 또 사먹을 의향은 있음.별 10개에 7점 주겠음마이너스요인은 순대가 짜증나게 했음.전자렌지 1분 아님! \\u200b이상 프레시지 신림동 백순대볶음 리뷰 끝.\\u200b\\u200b\\u200b\\u200b\\u200b\\u200b\\u200b\\u200b\\u200b\\n\\n\\n\\n \\n\\n\\n\\n\\n\\n\\n\\n\\n\\n\\n\\n\\n\\n\\n#쿠팡밀키트 #프레시지신림동백순대볶음 #프레시지밀키트 #쿠팡프레시 #신림동백순대리뷰 #밀키트배달\\n\\n\\n\\n '"
            ]
          },
          "metadata": {
            "tags": []
          },
          "execution_count": 186
        }
      ]
    },
    {
      "cell_type": "code",
      "metadata": {
        "id": "bH5LHXWp7Ycq"
      },
      "source": [
        "search_url = urllib.request.urlopen('https://blog.naver.com/leemoc1008/222219530698').read()\n",
        "soup = BeautifulSoup(search_url, 'html.parser')"
      ],
      "execution_count": 172,
      "outputs": []
    },
    {
      "cell_type": "code",
      "metadata": {
        "colab": {
          "base_uri": "https://localhost:8080/"
        },
        "id": "WKB9FIxI774b",
        "outputId": "e5403acf-202a-443c-aefa-f221af0a02a5"
      },
      "source": [
        "soup.find_all('div', attrs={'class':'se-main-container'})"
      ],
      "execution_count": 162,
      "outputs": [
        {
          "output_type": "execute_result",
          "data": {
            "text/plain": [
              "[]"
            ]
          },
          "metadata": {
            "tags": []
          },
          "execution_count": 162
        }
      ]
    },
    {
      "cell_type": "code",
      "metadata": {
        "colab": {
          "base_uri": "https://localhost:8080/",
          "height": 55
        },
        "id": "vBhgxpAo7-Zc",
        "outputId": "0f182105-97d1-4200-e9ee-b4ed5f2071bd"
      },
      "source": [
        " blog_frame = soup.select('iframe#mainFrame')[0].get('src')\n",
        " blog_frame"
      ],
      "execution_count": 174,
      "outputs": [
        {
          "output_type": "execute_result",
          "data": {
            "application/vnd.google.colaboratory.intrinsic+json": {
              "type": "string"
            },
            "text/plain": [
              "'/PostView.nhn?blogId=leemoc1008&logNo=222219530698&redirect=Dlog&widgetTypeCall=true&directAccess=false'"
            ]
          },
          "metadata": {
            "tags": []
          },
          "execution_count": 174
        }
      ]
    },
    {
      "cell_type": "code",
      "metadata": {
        "colab": {
          "base_uri": "https://localhost:8080/"
        },
        "id": "aAoaJRP9-x_8",
        "outputId": "9e88d1ee-79fc-4e93-b855-835616d9bfb1"
      },
      "source": [
        "blog_url = 'https://blog.naver.com' + soup.select('iframe#mainFrame')[0].get('src')\n",
        "post = urllib.request.urlopen(blog_url).read()\n",
        "post_html = BeautifulSoup(post, 'html.parser')\n",
        "\n",
        "for i in post_html.find_all('div', {'class':'se-main-container'}):\n",
        "    print(i.get_text())\n",
        "\n",
        "\n",
        "# post_html.find_all('div', {'class':'se-main-container'})[0].get_text()"
      ],
      "execution_count": 180,
      "outputs": [
        {
          "output_type": "stream",
          "text": [
            "\n",
            "\n",
            "\n",
            "\n",
            "\n",
            "- 쿠팡 or  네이버에서 직접구매한 제품 리뷰 -길게 안씁니다....\n",
            "\n",
            "\n",
            "\n",
            "\n",
            "\n",
            "\n",
            "\n",
            "\n",
            "이번 2020~2021 겨울... 정말춥습니다.. 지금 글쓰는 2021.01.25일을 포함한 주는 나름 봄날씨처럼 따뜻하지만,,, 금요일인 2021.01.29일 부터 다시 추워진다는 사실을 알고게시나요?​\n",
            "\n",
            "\n",
            "\n",
            " \n",
            "\n",
            "\n",
            "\n",
            "\n",
            "\n",
            "\n",
            "\n",
            "출처: 네이버\n",
            "\n",
            "\n",
            "\n",
            "\n",
            "\n",
            "\n",
            "\n",
            "​여러분은 핫팩을 미리 주문하시어, 또다시 돌아오는 한파를 대비하셔야합니다.​\n",
            "\n",
            "\n",
            "\n",
            " \n",
            "\n",
            "\n",
            "\n",
            " 해피데이 따뜻해 포켓용 핫팩\n",
            "\n",
            "\n",
            "\n",
            "\n",
            "\n",
            "\n",
            "\n",
            "\n",
            "\n",
            "\n",
            "\n",
            "\n",
            "대량 구매하는데 이정도 가격이면 매우 가성비 좋다.\n",
            "\n",
            "\n",
            "\n",
            "\n",
            "\n",
            "\n",
            "\n",
            "​​대략, 핫팩 하나가격이 280원 꼴... 쿠팡내에서도 타 핫팩이랑 비교해도 매우 저렴하다.​​​\n",
            "\n",
            "\n",
            "\n",
            " \n",
            "\n",
            "\n",
            "\n",
            "\n",
            "\n",
            "\n",
            "\n",
            "\n",
            "\n",
            "\n",
            "\n",
            "\n",
            "\n",
            "\n",
            "\n",
            "\n",
            "\n",
            "\n",
            "\n",
            "쿠팡안에서 핫팩 가격 비교\n",
            "\n",
            "\n",
            " \n",
            "\n",
            "\n",
            "\n",
            "​\n",
            "\n",
            "\n",
            "\n",
            " \n",
            "\n",
            "\n",
            "\n",
            "\n",
            "\n",
            "\n",
            "\n",
            " \n",
            "\n",
            "\n",
            "\n",
            "​​\n",
            "\n",
            "\n",
            "\n",
            " \n",
            "\n",
            "\n",
            "\n",
            "\n",
            "\n",
            "\n",
            "\n",
            "\n",
            "\n",
            "\n",
            "\n",
            "\n",
            "\n",
            "\n",
            "\n",
            "\n",
            "\n",
            "\n",
            "대량주문 및 크기비교\n",
            "\n",
            "\n",
            "\n",
            " \n",
            "\n",
            "\n",
            "\n",
            "​저는 너무 저렴해서, 100개 주문했습니다! 올해 다 못쓴다해도 제조일로부터 3년간 사용가능합니다. 당연히 제조일 또한 2020년입니다~​​​\n",
            "\n",
            "\n",
            "\n",
            " \n",
            "\n",
            "\n",
            "\n",
            "\n",
            "\n",
            "\n",
            "\n",
            "\n",
            "\n",
            "\n",
            "\n",
            "\n",
            "\n",
            "\n",
            "\n",
            "\n",
            "\n",
            "\n",
            "개봉 사진\n",
            "\n",
            "\n",
            "\n",
            " \n",
            "\n",
            "\n",
            "\n",
            "​​\n",
            "\n",
            "\n",
            "\n",
            " \n",
            "\n",
            "\n",
            "\n",
            "\n",
            "\n",
            "\n",
            "\n",
            " \n",
            "\n",
            "\n",
            "\n",
            "​​이용사항 & 주의사항 (캡쳐본)\n",
            "\n",
            "\n",
            "\n",
            " \n",
            "\n",
            "\n",
            "\n",
            "\n",
            "\n",
            "\n",
            "\n",
            "\n",
            "\n",
            "\n",
            "\n",
            "\n",
            "\n",
            "\n",
            "​​\n",
            "\n",
            "\n",
            "\n",
            " \n",
            "\n",
            "\n",
            "\n",
            "\n",
            "\n",
            "\n",
            "\n",
            " \n",
            "\n",
            "\n",
            "\n",
            "이쪽이 바로 구매 링크입니다..!​\n",
            "\n",
            "\n",
            "\n",
            " \n",
            "\n",
            "\n",
            "\n",
            "\n",
            "\n",
            "\n",
            "\n",
            "\n",
            "해피데이 따뜻해 포켓용 핫팩 100g\n",
            "COUPANG\n",
            "coupa.ng\n",
            "\n",
            "\n",
            "\n",
            "\n",
            "\n",
            "\n",
            " \n",
            "\n",
            "\n",
            "\n",
            "​\n",
            "\n",
            "\n",
            "\n",
            " \n",
            "\n",
            "\n",
            "\n",
            "\n",
            "\n",
            "\n",
            "\n",
            "\n",
            "\n",
            "\n",
            "\n",
            "\n",
            "\n",
            "\n",
            "​\n",
            "\n",
            "\n",
            "\n",
            " \n"
          ],
          "name": "stdout"
        }
      ]
    }
  ]
}