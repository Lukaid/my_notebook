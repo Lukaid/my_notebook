{
  "nbformat": 4,
  "nbformat_minor": 0,
  "metadata": {
    "colab": {
      "name": "네이버 영화 리뷰, 뉴스 스크래핑.ipynb",
      "provenance": [],
      "collapsed_sections": [],
      "authorship_tag": "ABX9TyMFyX6QwutbdawIveDNaRta",
      "include_colab_link": true
    },
    "kernelspec": {
      "name": "python3",
      "display_name": "Python 3"
    },
    "language_info": {
      "name": "python"
    }
  },
  "cells": [
    {
      "cell_type": "markdown",
      "metadata": {
        "id": "view-in-github",
        "colab_type": "text"
      },
      "source": [
        "<a href=\"https://colab.research.google.com/github/Lukaid/my_notebook/blob/main/%EB%84%A4%EC%9D%B4%EB%B2%84_%EC%98%81%ED%99%94_%EB%A6%AC%EB%B7%B0%2C_%EB%89%B4%EC%8A%A4_%EC%8A%A4%ED%81%AC%EB%9E%98%ED%95%91.ipynb\" target=\"_parent\"><img src=\"https://colab.research.google.com/assets/colab-badge.svg\" alt=\"Open In Colab\"/></a>"
      ]
    },
    {
      "cell_type": "markdown",
      "metadata": {
        "id": "fca0skmaxBcJ"
      },
      "source": [
        "# 네이버 영화 리뷰 스크래핑"
      ]
    },
    {
      "cell_type": "code",
      "metadata": {
        "id": "M9VGuOv0xAeC"
      },
      "source": [
        "from bs4 import BeautifulSoup\n",
        "import urllib.request\n",
        "from urllib.parse import quote\n",
        "import pandas as pd\n",
        "\n",
        "def get_movie_reviews(mcode, page_num = 10):\n",
        "\n",
        "    movie_review_df = pd.DataFrame(columns = ('Title', 'Score', 'Review'))\n",
        "    url = f\"https://movie.naver.com/movie/point/af/list.nhn?st=mcode&sword={mcode}&target=after\"\n",
        "    idx = 0\n",
        "\n",
        "    for _ in range(0, page_num):\n",
        "        movie_page = urllib.request.urlopen(url).read()\n",
        "        movie_page_soup = BeautifulSoup(movie_page, 'html.parser')\n",
        "\n",
        "        review_list = movie_page_soup.find_all('td', attrs = {'class' : 'title'})\n",
        "        for review in review_list:\n",
        "            title = review.find('a', attrs = {'class' : 'movie color_b'}).get_text()\n",
        "            score = review.find('em').get_text()\n",
        "            review_text = review.find('a', attrs = {'class' : 'report'}).get('onclick').split(',')[2]\n",
        "            movie_review_df.loc[idx] = [title, score, review_text]\n",
        "            idx += 1\n",
        "            print('#', end = \"\")\n",
        "        try:\n",
        "            url = 'https://movie.naver.com' + movie_page_soup.find('a',{'class' : 'pg_next'}).get('href')\n",
        "        except:\n",
        "            break\n",
        "    \n",
        "    return movie_review_df"
      ],
      "execution_count": 12,
      "outputs": []
    },
    {
      "cell_type": "code",
      "metadata": {
        "colab": {
          "base_uri": "https://localhost:8080/",
          "height": 434
        },
        "id": "nC4QAbDw5N3E",
        "outputId": "2706eac8-7750-4c33-ccfe-3e239e9d84fc"
      },
      "source": [
        "get_movie_reviews(18847, 10)"
      ],
      "execution_count": 15,
      "outputs": [
        {
          "output_type": "stream",
          "text": [
            "####################################################################################################"
          ],
          "name": "stdout"
        },
        {
          "output_type": "execute_result",
          "data": {
            "text/html": [
              "<div>\n",
              "<style scoped>\n",
              "    .dataframe tbody tr th:only-of-type {\n",
              "        vertical-align: middle;\n",
              "    }\n",
              "\n",
              "    .dataframe tbody tr th {\n",
              "        vertical-align: top;\n",
              "    }\n",
              "\n",
              "    .dataframe thead th {\n",
              "        text-align: right;\n",
              "    }\n",
              "</style>\n",
              "<table border=\"1\" class=\"dataframe\">\n",
              "  <thead>\n",
              "    <tr style=\"text-align: right;\">\n",
              "      <th></th>\n",
              "      <th>Title</th>\n",
              "      <th>Score</th>\n",
              "      <th>Review</th>\n",
              "    </tr>\n",
              "  </thead>\n",
              "  <tbody>\n",
              "    <tr>\n",
              "      <th>0</th>\n",
              "      <td>타이타닉</td>\n",
              "      <td>10</td>\n",
              "      <td>'진짜 나한테 인생 영화라는게 없었는데 이제 생겼음 안보면 진짜 후회 합니다 몇번...</td>\n",
              "    </tr>\n",
              "    <tr>\n",
              "      <th>1</th>\n",
              "      <td>타이타닉</td>\n",
              "      <td>10</td>\n",
              "      <td>'선상키스신은 정말.. 하 연애 하고 싶다!'</td>\n",
              "    </tr>\n",
              "    <tr>\n",
              "      <th>2</th>\n",
              "      <td>타이타닉</td>\n",
              "      <td>9</td>\n",
              "      <td>'사랑과 재난의 비극적인 조화</td>\n",
              "    </tr>\n",
              "    <tr>\n",
              "      <th>3</th>\n",
              "      <td>타이타닉</td>\n",
              "      <td>10</td>\n",
              "      <td>'죽기전에 한편만 다시 볼수 있다면 기꺼이 선택할 영화'</td>\n",
              "    </tr>\n",
              "    <tr>\n",
              "      <th>4</th>\n",
              "      <td>타이타닉</td>\n",
              "      <td>10</td>\n",
              "      <td>'고3때보고 마흔이 넘은 지금봐도 눈물나네 썅'</td>\n",
              "    </tr>\n",
              "    <tr>\n",
              "      <th>...</th>\n",
              "      <td>...</td>\n",
              "      <td>...</td>\n",
              "      <td>...</td>\n",
              "    </tr>\n",
              "    <tr>\n",
              "      <th>95</th>\n",
              "      <td>타이타닉</td>\n",
              "      <td>10</td>\n",
              "      <td>'불필요한 장면이 없는 명작'</td>\n",
              "    </tr>\n",
              "    <tr>\n",
              "      <th>96</th>\n",
              "      <td>타이타닉</td>\n",
              "      <td>10</td>\n",
              "      <td>'타이타닉을 본건 내 생의최고의영광'</td>\n",
              "    </tr>\n",
              "    <tr>\n",
              "      <th>97</th>\n",
              "      <td>타이타닉</td>\n",
              "      <td>10</td>\n",
              "      <td>'2021년에 봐도 재밌네요.... 가슴이 흐어.. 줵 - 컴백 ㅠ_ㅠ!!! ...'</td>\n",
              "    </tr>\n",
              "    <tr>\n",
              "      <th>98</th>\n",
              "      <td>타이타닉</td>\n",
              "      <td>10</td>\n",
              "      <td>'슬픔너무슬픔진슬픔ㅋㅋㅋ'</td>\n",
              "    </tr>\n",
              "    <tr>\n",
              "      <th>99</th>\n",
              "      <td>타이타닉</td>\n",
              "      <td>10</td>\n",
              "      <td>'오늘 처음 보고 눈물 흘렸어요...ㅠㅠ 끝까지 울음 안 터지다가 마지막에 끝나고...</td>\n",
              "    </tr>\n",
              "  </tbody>\n",
              "</table>\n",
              "<p>100 rows × 3 columns</p>\n",
              "</div>"
            ],
            "text/plain": [
              "   Title Score                                             Review\n",
              "0   타이타닉    10   '진짜 나한테 인생 영화라는게 없었는데 이제 생겼음 안보면 진짜 후회 합니다 몇번...\n",
              "1   타이타닉    10                          '선상키스신은 정말.. 하 연애 하고 싶다!'\n",
              "2   타이타닉     9                                   '사랑과 재난의 비극적인 조화\n",
              "3   타이타닉    10                    '죽기전에 한편만 다시 볼수 있다면 기꺼이 선택할 영화'\n",
              "4   타이타닉    10                         '고3때보고 마흔이 넘은 지금봐도 눈물나네 썅'\n",
              "..   ...   ...                                                ...\n",
              "95  타이타닉    10                                   '불필요한 장면이 없는 명작'\n",
              "96  타이타닉    10                               '타이타닉을 본건 내 생의최고의영광'\n",
              "97  타이타닉    10    '2021년에 봐도 재밌네요.... 가슴이 흐어.. 줵 - 컴백 ㅠ_ㅠ!!! ...'\n",
              "98  타이타닉    10                                     '슬픔너무슬픔진슬픔ㅋㅋㅋ'\n",
              "99  타이타닉    10   '오늘 처음 보고 눈물 흘렸어요...ㅠㅠ 끝까지 울음 안 터지다가 마지막에 끝나고...\n",
              "\n",
              "[100 rows x 3 columns]"
            ]
          },
          "metadata": {
            "tags": []
          },
          "execution_count": 15
        }
      ]
    },
    {
      "cell_type": "markdown",
      "metadata": {
        "id": "t_dSE8jz9FjQ"
      },
      "source": [
        "## 현재 상영작 영화 리뷰 스크래핑"
      ]
    },
    {
      "cell_type": "code",
      "metadata": {
        "colab": {
          "base_uri": "https://localhost:8080/",
          "height": 454
        },
        "id": "ljt9r-RG5xzy",
        "outputId": "fbbd651d-089b-4e0a-e2b0-19533bfeb308"
      },
      "source": [
        "url = 'https://movie.naver.com/movie/point/af/list.nhn'\n",
        "naver_movie = urllib.request.urlopen(url).read()\n",
        "soup = BeautifulSoup(naver_movie, 'html.parser')\n",
        "select = soup.find('select', {'id' : 'current_movie'})\n",
        "movies = select.find_all('option')\n",
        "\n",
        "movies_dict = {}\n",
        "for movie in movies[1:]:\n",
        "    movies_dict[movie.get('value')] = movie.get_text()\n",
        "\n",
        "movie_review_df = pd.DataFrame(columns = ('Title', 'Score', 'Review'))\n",
        "for mcode in movies_dict:\n",
        "    df = get_movie_reviews(mcode, 1)\n",
        "    movie_review_df = pd.concat([movie_review_df, df])\n",
        "\n",
        "movie_review_df"
      ],
      "execution_count": 17,
      "outputs": [
        {
          "output_type": "stream",
          "text": [
            "##################################################################################################################################################################################################################################################################################################################################################################################################################################################################################################################################################################################################################################################################################################################################################################################################################################################################################################################################################################################################################################################################################################################################################################################################################################################"
          ],
          "name": "stdout"
        },
        {
          "output_type": "execute_result",
          "data": {
            "text/html": [
              "<div>\n",
              "<style scoped>\n",
              "    .dataframe tbody tr th:only-of-type {\n",
              "        vertical-align: middle;\n",
              "    }\n",
              "\n",
              "    .dataframe tbody tr th {\n",
              "        vertical-align: top;\n",
              "    }\n",
              "\n",
              "    .dataframe thead th {\n",
              "        text-align: right;\n",
              "    }\n",
              "</style>\n",
              "<table border=\"1\" class=\"dataframe\">\n",
              "  <thead>\n",
              "    <tr style=\"text-align: right;\">\n",
              "      <th></th>\n",
              "      <th>Title</th>\n",
              "      <th>Score</th>\n",
              "      <th>Review</th>\n",
              "    </tr>\n",
              "  </thead>\n",
              "  <tbody>\n",
              "    <tr>\n",
              "      <th>0</th>\n",
              "      <td>명탐정 코난: 비색의 탄환</td>\n",
              "      <td>8</td>\n",
              "      <td>'진짜 캐릭터 감정 잘 나타나고 손에 땀을 쥐게함ㅋㅋㅋㅋㄹㅇ로 뻥안치고 2시간 순...</td>\n",
              "    </tr>\n",
              "    <tr>\n",
              "      <th>1</th>\n",
              "      <td>명탐정 코난: 비색의 탄환</td>\n",
              "      <td>10</td>\n",
              "      <td>'역대급입니다 캬 빌드업 대성공 '</td>\n",
              "    </tr>\n",
              "    <tr>\n",
              "      <th>2</th>\n",
              "      <td>명탐정 코난: 비색의 탄환</td>\n",
              "      <td>10</td>\n",
              "      <td>'스토리에맞는 사운드가 엄청 다채롭고 풍부했어요 소재도 좋았고  늘어짐없는 재밋는...</td>\n",
              "    </tr>\n",
              "    <tr>\n",
              "      <th>3</th>\n",
              "      <td>명탐정 코난: 비색의 탄환</td>\n",
              "      <td>10</td>\n",
              "      <td>'4dx 추천박음 다때리뿌수는데 ㄹㅇ재밌어요'</td>\n",
              "    </tr>\n",
              "    <tr>\n",
              "      <th>4</th>\n",
              "      <td>명탐정 코난: 비색의 탄환</td>\n",
              "      <td>6</td>\n",
              "      <td>'솔직히 기대했는데 별로였습니다. 다른 극장판과는 다르게 너무 유치하다고 해야하나...</td>\n",
              "    </tr>\n",
              "    <tr>\n",
              "      <th>...</th>\n",
              "      <td>...</td>\n",
              "      <td>...</td>\n",
              "      <td>...</td>\n",
              "    </tr>\n",
              "    <tr>\n",
              "      <th>5</th>\n",
              "      <td>빅 컨츄리</td>\n",
              "      <td>4</td>\n",
              "      <td>'50년대 서부극은 &amp;amp;#39;수색자&amp;amp;#39;</td>\n",
              "    </tr>\n",
              "    <tr>\n",
              "      <th>6</th>\n",
              "      <td>빅 컨츄리</td>\n",
              "      <td>10</td>\n",
              "      <td>'러닝타임 끝무렵까지 등장인물중 아무도 죽는 이 없는 그러나 팽팽한 긴장의 끈을 ...</td>\n",
              "    </tr>\n",
              "    <tr>\n",
              "      <th>7</th>\n",
              "      <td>빅 컨츄리</td>\n",
              "      <td>8</td>\n",
              "      <td>'대형 스크린으로 다시 보고 싶다...'</td>\n",
              "    </tr>\n",
              "    <tr>\n",
              "      <th>8</th>\n",
              "      <td>빅 컨츄리</td>\n",
              "      <td>10</td>\n",
              "      <td>'전쟁이란.. 노인이 결정하고 젊은이들이 피흘리고 죽는것이라는데</td>\n",
              "    </tr>\n",
              "    <tr>\n",
              "      <th>9</th>\n",
              "      <td>빅 컨츄리</td>\n",
              "      <td>10</td>\n",
              "      <td>'또다른 고전 웨스턴의 명작. 주인공뿐만 아니라</td>\n",
              "    </tr>\n",
              "  </tbody>\n",
              "</table>\n",
              "<p>1202 rows × 3 columns</p>\n",
              "</div>"
            ],
            "text/plain": [
              "             Title Score                                             Review\n",
              "0   명탐정 코난: 비색의 탄환     8   '진짜 캐릭터 감정 잘 나타나고 손에 땀을 쥐게함ㅋㅋㅋㅋㄹㅇ로 뻥안치고 2시간 순...\n",
              "1   명탐정 코난: 비색의 탄환    10                                '역대급입니다 캬 빌드업 대성공 '\n",
              "2   명탐정 코난: 비색의 탄환    10   '스토리에맞는 사운드가 엄청 다채롭고 풍부했어요 소재도 좋았고  늘어짐없는 재밋는...\n",
              "3   명탐정 코난: 비색의 탄환    10                          '4dx 추천박음 다때리뿌수는데 ㄹㅇ재밌어요'\n",
              "4   명탐정 코난: 비색의 탄환     6   '솔직히 기대했는데 별로였습니다. 다른 극장판과는 다르게 너무 유치하다고 해야하나...\n",
              "..             ...   ...                                                ...\n",
              "5            빅 컨츄리     4                   '50년대 서부극은 &amp;#39;수색자&amp;#39;\n",
              "6            빅 컨츄리    10   '러닝타임 끝무렵까지 등장인물중 아무도 죽는 이 없는 그러나 팽팽한 긴장의 끈을 ...\n",
              "7            빅 컨츄리     8                             '대형 스크린으로 다시 보고 싶다...'\n",
              "8            빅 컨츄리    10                '전쟁이란.. 노인이 결정하고 젊은이들이 피흘리고 죽는것이라는데\n",
              "9            빅 컨츄리    10                         '또다른 고전 웨스턴의 명작. 주인공뿐만 아니라\n",
              "\n",
              "[1202 rows x 3 columns]"
            ]
          },
          "metadata": {
            "tags": []
          },
          "execution_count": 17
        }
      ]
    },
    {
      "cell_type": "markdown",
      "metadata": {
        "id": "iIYtW0BjCFtY"
      },
      "source": [
        ""
      ]
    },
    {
      "cell_type": "markdown",
      "metadata": {
        "id": "ukWi87q49Jj_"
      },
      "source": [
        "# 네이버 뉴스 기사 스크래핑"
      ]
    },
    {
      "cell_type": "code",
      "metadata": {
        "colab": {
          "base_uri": "https://localhost:8080/",
          "height": 49
        },
        "id": "TJjA9LEd9ifB",
        "outputId": "25f02b80-03c2-42a7-e9ef-16790cbe82b3"
      },
      "source": [
        "from bs4 import BeautifulSoup\n",
        "import urllib.request\n",
        "from urllib.parse import quote\n",
        "import pandas as pd\n",
        "\n",
        "\n",
        "\n",
        "def get_news(query, page_num = 10):\n",
        "\n",
        "    news_df = pd.DataFrame(columns=('Title', 'Link', 'Datetime', 'Article'))\n",
        "    idx = 0\n",
        "\n",
        "    for _ in range(page_num):\n",
        "\n",
        "        url_query = quote(query)\n",
        "        url = f\"https://search.naver.com/search.naver?query={url_query}&where=news&ie=utf8&sm=nws_hty\"\n",
        "\n",
        "        search_url = urllib.request.urlopen(url).read()\n",
        "        soup = BeautifulSoup(search_url, 'html.parser')\n",
        "        links = soup.find_all('div', {'class' : 'info_group'})\n",
        "\n",
        "        for link in links:\n",
        "            try:\n",
        "                news_url = link.find_all('a', {'class':'info'})[1].get('href')\n",
        "                news_link = urllib.request.urlopen(news_url).read()\n",
        "                news_html = BeautifulSoup(news_link, 'html.parser')\n",
        "\n",
        "                title = news_html.find('h3', {'id' : 'articleTitle'}).get_text()\n",
        "                datetime = news_html.find('span', {'class' : 't11'}).get_text()\n",
        "                article = news_html.find('div', {'id' : 'articleBodyContents'}).get_text()\n",
        "                article = article.replace('// flash 오류를 우회하기 위한 함수 추가', '')\n",
        "                article = article.replace('내가 지우고 싶은 문자들 입력', '')\n",
        "\n",
        "                news_df.loc[idx] = [title, news_url, datetime, article]\n",
        "                idx += 1\n",
        "                print('#', end = \"\")\n",
        "\n",
        "            except:\n",
        "                continue\n",
        "\n",
        "        try:  \n",
        "            next = soup.find('a', {'class':'btn_next'}).get('href')\n",
        "            url = 'https://search.naver.com/search.naver' + next\n",
        "        except:\n",
        "            break\n",
        "\n",
        "    return news_df\n",
        "\n",
        "\n",
        "\n",
        "get_news('쿠팡')"
      ],
      "execution_count": 68,
      "outputs": [
        {
          "output_type": "execute_result",
          "data": {
            "text/html": [
              "<div>\n",
              "<style scoped>\n",
              "    .dataframe tbody tr th:only-of-type {\n",
              "        vertical-align: middle;\n",
              "    }\n",
              "\n",
              "    .dataframe tbody tr th {\n",
              "        vertical-align: top;\n",
              "    }\n",
              "\n",
              "    .dataframe thead th {\n",
              "        text-align: right;\n",
              "    }\n",
              "</style>\n",
              "<table border=\"1\" class=\"dataframe\">\n",
              "  <thead>\n",
              "    <tr style=\"text-align: right;\">\n",
              "      <th></th>\n",
              "      <th>Title</th>\n",
              "      <th>Link</th>\n",
              "      <th>Datetime</th>\n",
              "      <th>Article</th>\n",
              "    </tr>\n",
              "  </thead>\n",
              "  <tbody>\n",
              "  </tbody>\n",
              "</table>\n",
              "</div>"
            ],
            "text/plain": [
              "Empty DataFrame\n",
              "Columns: [Title, Link, Datetime, Article]\n",
              "Index: []"
            ]
          },
          "metadata": {
            "tags": []
          },
          "execution_count": 68
        }
      ]
    }
  ]
}