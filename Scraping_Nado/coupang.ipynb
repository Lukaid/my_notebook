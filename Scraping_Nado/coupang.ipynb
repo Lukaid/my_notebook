{
 "metadata": {
  "language_info": {
   "codemirror_mode": {
    "name": "ipython",
    "version": 3
   },
   "file_extension": ".py",
   "mimetype": "text/x-python",
   "name": "python",
   "nbconvert_exporter": "python",
   "pygments_lexer": "ipython3",
   "version": "3.9.1"
  },
  "orig_nbformat": 2,
  "kernelspec": {
   "name": "python391jvsc74a57bd093d2bee35929e05e44f3a424865844abe2a4ec4d78cb24fe7d4202e6ef37a7f8",
   "display_name": "Python 3.9.1 64-bit"
  },
  "metadata": {
   "interpreter": {
    "hash": "93d2bee35929e05e44f3a424865844abe2a4ec4d78cb24fe7d4202e6ef37a7f8"
   }
  }
 },
 "nbformat": 4,
 "nbformat_minor": 2,
 "cells": [
  {
   "cell_type": "code",
   "execution_count": 31,
   "metadata": {},
   "outputs": [],
   "source": [
    "import pandas as pd\n",
    "import time\n",
    "from selenium import webdriver\n",
    "\n",
    "pd.set_option('display.max_rows', 100)"
   ]
  },
  {
   "cell_type": "code",
   "execution_count": 32,
   "metadata": {},
   "outputs": [],
   "source": [
    "data = pd.DataFrame(data=[], columns=['리뷰','별점','날짜'])"
   ]
  },
  {
   "cell_type": "code",
   "execution_count": 33,
   "metadata": {},
   "outputs": [],
   "source": [
    "driver = webdriver.Chrome(\"chromedriver.exe\")\n",
    "url = \"https://play.google.com/store/apps/details?id=com.coupang.mobile&showAllReviews=true\"\n",
    "driver.get(url)"
   ]
  },
  {
   "cell_type": "code",
   "execution_count": 4,
   "metadata": {},
   "outputs": [],
   "source": [
    "driver.find_element_by_xpath('//div[@class=\"pf5lIe\"]/div[@role=\"img\"]').click()"
   ]
  },
  {
   "cell_type": "code",
   "execution_count": 5,
   "metadata": {},
   "outputs": [],
   "source": [
    "def scroll_down(driver):\n",
    "    driver.execute_script(\"window.scrollTo(0, 999999999999)\")\n",
    "    time.sleep(1)"
   ]
  },
  {
   "cell_type": "code",
   "execution_count": 6,
   "metadata": {},
   "outputs": [],
   "source": [
    "scroll_down(driver)"
   ]
  },
  {
   "cell_type": "code",
   "execution_count": 25,
   "metadata": {},
   "outputs": [],
   "source": [
    "driver.get(url)"
   ]
  },
  {
   "cell_type": "code",
   "execution_count": 34,
   "metadata": {},
   "outputs": [
    {
     "output_type": "execute_result",
     "data": {
      "text/plain": [
       "'아주 좋은 앱이에요! 오류도 안나고 우리가족은 모두 이 오직 이 쿠팡으로만 생활합니다! 로켓배송으로 바로 그 다음날 택배가 바로 오는데 너무 좋은것 같아요! 요즘 시국이 시국인지라 마스크를 쓰고 외출을 하잖아요! 그래서 마스크를 쿠팡에 시켜놓으면 바로와서 모를지경이에요!!ㅠㅠ 너무 좋아서 죽을꺼 같아요!! ㅠㅠㅠ다른분들 의견 듣지 말고 진짜로 제 의견 들어보세요!! 엄청좋아요!!'"
      ]
     },
     "metadata": {},
     "execution_count": 34
    }
   ],
   "source": [
    "reviews = driver.find_elements_by_css_selector('.UD7Dzf')\n",
    "reviews[0].text"
   ]
  },
  {
   "cell_type": "code",
   "execution_count": 35,
   "metadata": {},
   "outputs": [
    {
     "output_type": "execute_result",
     "data": {
      "text/plain": [
       "'별표 5개 만점에 5개를 받았습니다.'"
      ]
     },
     "metadata": {},
     "execution_count": 35
    }
   ],
   "source": [
    "star_grades = driver.find_elements_by_xpath('//div[@class=\"pf5lIe\"]/div[@role=\"img\"]')\n",
    "star_grades[1].get_attribute(\"aria-label\")"
   ]
  },
  {
   "cell_type": "code",
   "execution_count": 36,
   "metadata": {},
   "outputs": [
    {
     "output_type": "execute_result",
     "data": {
      "text/plain": [
       "'2021년 4월 14일'"
      ]
     },
     "metadata": {},
     "execution_count": 36
    }
   ],
   "source": [
    "dates = driver.find_elements_by_css_selector('.p2TkOb')\n",
    "dates[0].text"
   ]
  },
  {
   "cell_type": "code",
   "execution_count": null,
   "metadata": {},
   "outputs": [],
   "source": []
  },
  {
   "cell_type": "code",
   "execution_count": 24,
   "metadata": {},
   "outputs": [],
   "source": [
    "def crawl(driver, data, k):\n",
    "    \n",
    "    # 리뷰, 별점, 날짜 수집\n",
    "    reviews = driver.find_elements_by_css_selector('.UD7Dzf')\n",
    "    star_grades = driver.find_elements_by_xpath('//div[@class=\"pf5lIe\"]/div[@role=\"img\"]')\n",
    "    dates = driver.find_elements_by_css_selector('.p2TkOb')\n",
    "    \n",
    "    # k개의 리뷰를 수집합니다.\n",
    "    for i in range(k):\n",
    "        tmp = []\n",
    "        tmp.append(reviews[i].text)\n",
    "        tmp.append(star_grades[i+1].get_attribute('aria-label'))\n",
    "        tmp.append(dates[i].text)\n",
    "        \n",
    "        # 수집한 1명의 리뷰를 결과 프레임에 추가합니다.\n",
    "        tmp = pd.DataFrame(data=[tmp], columns=data.columns)\n",
    "        data = pd.concat([data,tmp])\n",
    "        try:\n",
    "            scroll_down(driver)\n",
    "            driver.find_element_by_xpath('//div[@class=\"pf5lIe\"]/div[@role=\"img\"]').click()\n",
    "        except:\n",
    "            pass\n",
    "    \n",
    "    return data"
   ]
  },
  {
   "cell_type": "code",
   "execution_count": 28,
   "metadata": {},
   "outputs": [],
   "source": [
    "driver.get(url)"
   ]
  },
  {
   "cell_type": "code",
   "execution_count": 29,
   "metadata": {},
   "outputs": [
    {
     "output_type": "error",
     "ename": "IndexError",
     "evalue": "list index out of range",
     "traceback": [
      "\u001b[1;31m---------------------------------------------------------------------------\u001b[0m",
      "\u001b[1;31mIndexError\u001b[0m                                Traceback (most recent call last)",
      "\u001b[1;32m<ipython-input-29-b3cf7bdedd8f>\u001b[0m in \u001b[0;36m<module>\u001b[1;34m\u001b[0m\n\u001b[1;32m----> 1\u001b[1;33m \u001b[0mdata\u001b[0m \u001b[1;33m=\u001b[0m \u001b[0mcrawl\u001b[0m\u001b[1;33m(\u001b[0m\u001b[0mdriver\u001b[0m\u001b[1;33m,\u001b[0m\u001b[0mdata\u001b[0m\u001b[1;33m,\u001b[0m \u001b[1;36m100\u001b[0m\u001b[1;33m)\u001b[0m\u001b[1;33m\u001b[0m\u001b[1;33m\u001b[0m\u001b[0m\n\u001b[0m",
      "\u001b[1;32m<ipython-input-24-1530161e1c3d>\u001b[0m in \u001b[0;36mcrawl\u001b[1;34m(driver, data, k)\u001b[0m\n\u001b[0;32m      9\u001b[0m     \u001b[1;32mfor\u001b[0m \u001b[0mi\u001b[0m \u001b[1;32min\u001b[0m \u001b[0mrange\u001b[0m\u001b[1;33m(\u001b[0m\u001b[0mk\u001b[0m\u001b[1;33m)\u001b[0m\u001b[1;33m:\u001b[0m\u001b[1;33m\u001b[0m\u001b[1;33m\u001b[0m\u001b[0m\n\u001b[0;32m     10\u001b[0m         \u001b[0mtmp\u001b[0m \u001b[1;33m=\u001b[0m \u001b[1;33m[\u001b[0m\u001b[1;33m]\u001b[0m\u001b[1;33m\u001b[0m\u001b[1;33m\u001b[0m\u001b[0m\n\u001b[1;32m---> 11\u001b[1;33m         \u001b[0mtmp\u001b[0m\u001b[1;33m.\u001b[0m\u001b[0mappend\u001b[0m\u001b[1;33m(\u001b[0m\u001b[0mreviews\u001b[0m\u001b[1;33m[\u001b[0m\u001b[0mi\u001b[0m\u001b[1;33m]\u001b[0m\u001b[1;33m.\u001b[0m\u001b[0mtext\u001b[0m\u001b[1;33m)\u001b[0m\u001b[1;33m\u001b[0m\u001b[1;33m\u001b[0m\u001b[0m\n\u001b[0m\u001b[0;32m     12\u001b[0m         \u001b[0mtmp\u001b[0m\u001b[1;33m.\u001b[0m\u001b[0mappend\u001b[0m\u001b[1;33m(\u001b[0m\u001b[0mstar_grades\u001b[0m\u001b[1;33m[\u001b[0m\u001b[0mi\u001b[0m\u001b[1;33m+\u001b[0m\u001b[1;36m1\u001b[0m\u001b[1;33m]\u001b[0m\u001b[1;33m.\u001b[0m\u001b[0mget_attribute\u001b[0m\u001b[1;33m(\u001b[0m\u001b[1;34m'aria-label'\u001b[0m\u001b[1;33m)\u001b[0m\u001b[1;33m)\u001b[0m\u001b[1;33m\u001b[0m\u001b[1;33m\u001b[0m\u001b[0m\n\u001b[0;32m     13\u001b[0m         \u001b[0mtmp\u001b[0m\u001b[1;33m.\u001b[0m\u001b[0mappend\u001b[0m\u001b[1;33m(\u001b[0m\u001b[0mdates\u001b[0m\u001b[1;33m[\u001b[0m\u001b[0mi\u001b[0m\u001b[1;33m]\u001b[0m\u001b[1;33m.\u001b[0m\u001b[0mtext\u001b[0m\u001b[1;33m)\u001b[0m\u001b[1;33m\u001b[0m\u001b[1;33m\u001b[0m\u001b[0m\n",
      "\u001b[1;31mIndexError\u001b[0m: list index out of range"
     ]
    }
   ],
   "source": [
    "data = crawl(driver,data, 100)"
   ]
  },
  {
   "cell_type": "code",
   "execution_count": 27,
   "metadata": {},
   "outputs": [
    {
     "output_type": "execute_result",
     "data": {
      "text/plain": [
       "                                                  리뷰                    별점  \\\n",
       "0  아주 좋은 앱이에요! 오류도 안나고 우리가족은 모두 이 오직 이 쿠팡으로만 생활합니...  별표 5개 만점에 5개를 받았습니다.   \n",
       "0  쿠팡 괜히 깔았어 ㅜ ㅜ 40년을 모르고 살았는데 계속 모를껄..너무 좋잖아요 ㅜ ...  별표 5개 만점에 5개를 받았습니다.   \n",
       "0  로켓 도착 보장 써놓는 거 어이없음. 그래 어쩌다 늦을 순 있는데 다른 물건들 3개...  별표 5개 만점에 1개를 받았습니다.   \n",
       "0  여태 신뢰하면서 물품들 잘 쓰고 있었습니다. 배달원 분들의 노고의 감사드리긴 하나,...  별표 5개 만점에 2개를 받았습니다.   \n",
       "0  쇼핑주문 대 만족^^-시집간 딸이 커피와수제빵샾을 운용하여 회원으로 주문해서 제것 ...  별표 5개 만점에 5개를 받았습니다.   \n",
       "0  업데이트 안하면 항상 오류나는데.!왜그리 자주해가지고!.귀찮게스리.! !그리고 요즘...  별표 5개 만점에 2개를 받았습니다.   \n",
       "0  항시 잘쓰고있어요. 근데 장바구니 상단에 로켓배송/ 로켓후레쉬/ 판매자배송 이렇게 ...  별표 5개 만점에 5개를 받았습니다.   \n",
       "0  쿠팡 애용자입니다.. 요몇일째 쿠팡앱에 들어갈수가 없네요...들어가도 자꾸만 접속할...  별표 5개 만점에 1개를 받았습니다.   \n",
       "0  툭하면 오류. 거기다 로켓프레시 이용하는데 회사잘못으로 누락된 제품은 재출고가 안되...  별표 5개 만점에 1개를 받았습니다.   \n",
       "0  쿠팡이 이상해졌어요 새벽까지도 잘됐는데 아침에 에러 나더니 다시 제거 후 깔았는데 ...  별표 5개 만점에 1개를 받았습니다.   \n",
       "\n",
       "             날짜  \n",
       "0  2021년 4월 14일  \n",
       "0  2021년 4월 10일  \n",
       "0  2021년 4월 13일  \n",
       "0   2021년 4월 8일  \n",
       "0  2021년 4월 10일  \n",
       "0  2021년 3월 30일  \n",
       "0  2021년 4월 13일  \n",
       "0  2021년 3월 18일  \n",
       "0   2021년 4월 9일  \n",
       "0  2021년 4월 10일  "
      ],
      "text/html": "<div>\n<style scoped>\n    .dataframe tbody tr th:only-of-type {\n        vertical-align: middle;\n    }\n\n    .dataframe tbody tr th {\n        vertical-align: top;\n    }\n\n    .dataframe thead th {\n        text-align: right;\n    }\n</style>\n<table border=\"1\" class=\"dataframe\">\n  <thead>\n    <tr style=\"text-align: right;\">\n      <th></th>\n      <th>리뷰</th>\n      <th>별점</th>\n      <th>날짜</th>\n    </tr>\n  </thead>\n  <tbody>\n    <tr>\n      <th>0</th>\n      <td>아주 좋은 앱이에요! 오류도 안나고 우리가족은 모두 이 오직 이 쿠팡으로만 생활합니...</td>\n      <td>별표 5개 만점에 5개를 받았습니다.</td>\n      <td>2021년 4월 14일</td>\n    </tr>\n    <tr>\n      <th>0</th>\n      <td>쿠팡 괜히 깔았어 ㅜ ㅜ 40년을 모르고 살았는데 계속 모를껄..너무 좋잖아요 ㅜ ...</td>\n      <td>별표 5개 만점에 5개를 받았습니다.</td>\n      <td>2021년 4월 10일</td>\n    </tr>\n    <tr>\n      <th>0</th>\n      <td>로켓 도착 보장 써놓는 거 어이없음. 그래 어쩌다 늦을 순 있는데 다른 물건들 3개...</td>\n      <td>별표 5개 만점에 1개를 받았습니다.</td>\n      <td>2021년 4월 13일</td>\n    </tr>\n    <tr>\n      <th>0</th>\n      <td>여태 신뢰하면서 물품들 잘 쓰고 있었습니다. 배달원 분들의 노고의 감사드리긴 하나,...</td>\n      <td>별표 5개 만점에 2개를 받았습니다.</td>\n      <td>2021년 4월 8일</td>\n    </tr>\n    <tr>\n      <th>0</th>\n      <td>쇼핑주문 대 만족^^-시집간 딸이 커피와수제빵샾을 운용하여 회원으로 주문해서 제것 ...</td>\n      <td>별표 5개 만점에 5개를 받았습니다.</td>\n      <td>2021년 4월 10일</td>\n    </tr>\n    <tr>\n      <th>0</th>\n      <td>업데이트 안하면 항상 오류나는데.!왜그리 자주해가지고!.귀찮게스리.! !그리고 요즘...</td>\n      <td>별표 5개 만점에 2개를 받았습니다.</td>\n      <td>2021년 3월 30일</td>\n    </tr>\n    <tr>\n      <th>0</th>\n      <td>항시 잘쓰고있어요. 근데 장바구니 상단에 로켓배송/ 로켓후레쉬/ 판매자배송 이렇게 ...</td>\n      <td>별표 5개 만점에 5개를 받았습니다.</td>\n      <td>2021년 4월 13일</td>\n    </tr>\n    <tr>\n      <th>0</th>\n      <td>쿠팡 애용자입니다.. 요몇일째 쿠팡앱에 들어갈수가 없네요...들어가도 자꾸만 접속할...</td>\n      <td>별표 5개 만점에 1개를 받았습니다.</td>\n      <td>2021년 3월 18일</td>\n    </tr>\n    <tr>\n      <th>0</th>\n      <td>툭하면 오류. 거기다 로켓프레시 이용하는데 회사잘못으로 누락된 제품은 재출고가 안되...</td>\n      <td>별표 5개 만점에 1개를 받았습니다.</td>\n      <td>2021년 4월 9일</td>\n    </tr>\n    <tr>\n      <th>0</th>\n      <td>쿠팡이 이상해졌어요 새벽까지도 잘됐는데 아침에 에러 나더니 다시 제거 후 깔았는데 ...</td>\n      <td>별표 5개 만점에 1개를 받았습니다.</td>\n      <td>2021년 4월 10일</td>\n    </tr>\n  </tbody>\n</table>\n</div>"
     },
     "metadata": {},
     "execution_count": 27
    }
   ],
   "source": [
    "data"
   ]
  },
  {
   "cell_type": "code",
   "execution_count": 30,
   "metadata": {},
   "outputs": [],
   "source": [
    "from selenium import webdriver \n",
    "from bs4 import BeautifulSoup \n",
    "import urllib.request as req \n",
    "import pandas as pd \n",
    "import numpy as np \n",
    "import collections as co \n",
    "import time"
   ]
  },
  {
   "cell_type": "code",
   "execution_count": null,
   "metadata": {},
   "outputs": [],
   "source": [
    "url = \"https://play.google.com/store/apps/details?id=com.coupang.mobile&showAllReviews=true\"\n",
    "driverPath = \"chromedriver.exe\" # chromedriver.exe 파일이 있는 경로 \n",
    "driver = webdriver.Chrome(driverPath) \n",
    "driver.get(url)"
   ]
  },
  {
   "cell_type": "code",
   "execution_count": null,
   "metadata": {},
   "outputs": [],
   "source": [
    "SCROLL_PAUSE_TIME = 1.5 \n",
    "last_height = driver.execute_script(\"return document.body.scrollHeight\")\n"
   ]
  }
 ]
}