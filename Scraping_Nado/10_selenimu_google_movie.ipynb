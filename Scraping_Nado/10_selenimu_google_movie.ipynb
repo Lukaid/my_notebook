{
 "metadata": {
  "language_info": {
   "codemirror_mode": {
    "name": "ipython",
    "version": 3
   },
   "file_extension": ".py",
   "mimetype": "text/x-python",
   "name": "python",
   "nbconvert_exporter": "python",
   "pygments_lexer": "ipython3",
   "version": "3.9.1-final"
  },
  "orig_nbformat": 2,
  "kernelspec": {
   "name": "python3",
   "display_name": "Python 3.9.1 64-bit",
   "metadata": {
    "interpreter": {
     "hash": "93d2bee35929e05e44f3a424865844abe2a4ec4d78cb24fe7d4202e6ef37a7f8"
    }
   }
  }
 },
 "nbformat": 4,
 "nbformat_minor": 2,
 "cells": [
  {
   "source": [
    "## google movie 에서 영화 정보 가져오기"
   ],
   "cell_type": "markdown",
   "metadata": {}
  },
  {
   "cell_type": "code",
   "execution_count": 20,
   "metadata": {},
   "outputs": [],
   "source": [
    "import requests\n",
    "from bs4 import BeautifulSoup"
   ]
  },
  {
   "cell_type": "code",
   "execution_count": 3,
   "metadata": {},
   "outputs": [],
   "source": [
    "url = \"https://play.google.com/store/movies/top\"\n",
    "res = requests.get(url) \n",
    "res.raise_for_status()\n",
    "soup = BeautifulSoup(res.text, \"lxml\")"
   ]
  },
  {
   "cell_type": "code",
   "execution_count": 4,
   "metadata": {},
   "outputs": [
    {
     "output_type": "stream",
     "name": "stdout",
     "text": [
      "0\n"
     ]
    }
   ],
   "source": [
    "movies = soup.find_all('div', attrs = {'class': 'ImZGtf mpg5gc'})\n",
    "print(len(movies))"
   ]
  },
  {
   "cell_type": "code",
   "execution_count": 6,
   "metadata": {},
   "outputs": [],
   "source": [
    "with open(\"movie.html\", \"w\", encoding=\"utf-8\") as f:\n",
    "    #f.write(res.text)\n",
    "    f.write(soup.prettify()) # html 을 좀 더 예쁘게 출력해줌\n",
    "    # 접속하는 헤더정보에 따라 서로 다른 정보를 반환함"
   ]
  },
  {
   "source": [
    "### 접속하는 헤더정보에 따라 서로 다른 정보를 반환함\n",
    "- 따라서 headers를 통해 user agent를 달리 받아와야됨"
   ],
   "cell_type": "markdown",
   "metadata": {}
  },
  {
   "cell_type": "code",
   "execution_count": 15,
   "metadata": {},
   "outputs": [],
   "source": [
    "headers = {\n",
    "    \"User-Agent\":\"Mozilla/5.0 (Windows NT 10.0; Win64; x64) AppleWebKit/537.36 (KHTML, like Gecko) Chrome/88.0.4324.190 Safari/537.36\",\n",
    "    \"Accept-Language\":\"ko-KR,ko\" # 이렇게 써줘야 한글 페이지를 반환해줌\n",
    "}\n",
    "\n",
    "url = \"https://play.google.com/store/movies/top\"\n",
    "res = requests.get(url, headers=headers) \n",
    "res.raise_for_status()\n",
    "soup = BeautifulSoup(res.text, \"lxml\")"
   ]
  },
  {
   "cell_type": "code",
   "execution_count": 16,
   "metadata": {},
   "outputs": [
    {
     "output_type": "stream",
     "name": "stdout",
     "text": [
      "10\n"
     ]
    }
   ],
   "source": [
    "movies = soup.find_all('div', attrs = {'class': 'ImZGtf mpg5gc'})\r\n",
    "print(len(movies))"
   ]
  },
  {
   "cell_type": "code",
   "execution_count": 17,
   "metadata": {},
   "outputs": [],
   "source": [
    "with open(\"movie.html\", \"w\", encoding=\"utf-8\") as f:\n",
    "    #f.write(res.text)\n",
    "    f.write(soup.prettify()) # html 을 좀 더 예쁘게 출력해줌\n",
    "    # 접속하는 헤더정보에 따라 서로 다른 정보를 반환함"
   ]
  },
  {
   "source": [
    "### 왜 10개만 뜨지???\n",
    "- 스크롤을 내릴때 마다 새롭게 로딩\n",
    "- 이런걸 \"동적 페이지\"라고 함\n",
    "- requests를 통해서 접속했을때, 최초 10개만 보여짐\n",
    "- 나머지는 ?\n",
    "- 이럴때 필요한게 selenium"
   ],
   "cell_type": "markdown",
   "metadata": {}
  },
  {
   "cell_type": "code",
   "execution_count": 21,
   "metadata": {},
   "outputs": [
    {
     "output_type": "stream",
     "name": "stdout",
     "text": [
      "원더우먼 1984\n테넷\n미션 파서블\n성판17: 남자들의 17가지 성적 판타지\n너의 이름은. (자막판)\n어벤져스 : 엔드게임 (자막판)\n날씨의 아이 (자막)\n해리포터와 마법사의 돌\n조커\n겨울왕국 2 (더빙판)\n"
     ]
    }
   ],
   "source": [
    "for movie in movies:\n",
    "    title = movie.find('div', attrs={'class':'WsMG1c nnK0zc'}).get_text()\n",
    "    print(title)"
   ]
  },
  {
   "source": [
    "## selenium을 이용한 동적 페이지 웹 스크래핑"
   ],
   "cell_type": "markdown",
   "metadata": {}
  },
  {
   "cell_type": "code",
   "execution_count": 1,
   "metadata": {},
   "outputs": [],
   "source": [
    "from selenium import webdriver"
   ]
  },
  {
   "cell_type": "code",
   "execution_count": 2,
   "metadata": {},
   "outputs": [],
   "source": [
    "browser = webdriver.Chrome()\n",
    "browser.maximize_window()\n",
    "\n",
    "url = \"https://play.google.com/store/movies/top\"\n",
    "browser.get(url)"
   ]
  },
  {
   "source": [
    "### 스크롤 내리기"
   ],
   "cell_type": "markdown",
   "metadata": {}
  },
  {
   "cell_type": "code",
   "execution_count": 6,
   "metadata": {},
   "outputs": [],
   "source": [
    "# 지정한 위치까지 스크로 내리기\n",
    "browser.execute_script(\"window.scrollTo(0, 1600)\") # 2560 x 1600"
   ]
  },
  {
   "cell_type": "code",
   "execution_count": 13,
   "metadata": {},
   "outputs": [],
   "source": [
    "# 화면 가장 아래로 스크린 내리기\n",
    "browser.execute_script(\"window.scrollTo(0, document.body.scrollHeight)\") # 문서의 가장 아래쪽으로 스크롤 내리기"
   ]
  },
  {
   "cell_type": "code",
   "execution_count": 17,
   "metadata": {},
   "outputs": [],
   "source": [
    "import time\n",
    "\n",
    "interval = 2 # 2초에 한번씩 스크롤 내리기\n",
    "prev_height = browser.execute_script(\"return document.body.scrollHeight\")"
   ]
  },
  {
   "cell_type": "code",
   "execution_count": 18,
   "metadata": {},
   "outputs": [
    {
     "output_type": "stream",
     "name": "stdout",
     "text": [
      "스크롤 완료\n"
     ]
    }
   ],
   "source": [
    "while True:\n",
    "    # 스크롤 가장 아래로 내림\n",
    "    browser.execute_script(\"window.scrollTo(0, document.body.scrollHeight)\")\n",
    "    \n",
    "    # 2초 기다림\n",
    "    time.sleep(interval)\n",
    "\n",
    "    # 높이 체크\n",
    "    curr_height = browser.execute_script(\"return document.body.scrollHeight\")\n",
    "    if curr_height == prev_height:\n",
    "        break\n",
    "    \n",
    "    prev_height = curr_height\n",
    "\n",
    "print('스크롤 완료')"
   ]
  },
  {
   "source": [
    "### 이제 스크래핑 작업을 하면 됨"
   ],
   "cell_type": "markdown",
   "metadata": {}
  },
  {
   "cell_type": "code",
   "execution_count": 25,
   "metadata": {},
   "outputs": [
    {
     "output_type": "stream",
     "name": "stdout",
     "text": [
      "200\n"
     ]
    }
   ],
   "source": [
    "# selenium으로 이미 페이지 소스를 가져왔으니 url이나 header같은거 필요 없다\n",
    "\n",
    "soup = BeautifulSoup(browser.page_source, \"lxml\")\n",
    "\n",
    "# movies = soup.find_all('div', attrs = {'class': ['ImZGtf mpg5gc', 'Vpfmgd']})\n",
    "# 10개가 넘어가니까 형식이 좀 달라서 두개 다 가져오기로 함\n",
    "# 근데 'Vpfmgd'클래스가 위에 10개도 붙어있어서 굳이 리스트로 안하고 밑에 처럼 하면 됨\n",
    "movies = soup.find_all('div', attrs = {'class': 'Vpfmgd'})\n",
    "\n",
    "\n",
    "print(len(movies))\n"
   ]
  },
  {
   "cell_type": "code",
   "execution_count": 44,
   "metadata": {},
   "outputs": [
    {
     "output_type": "stream",
     "name": "stdout",
     "text": [
      "주짓수\n할인 전 가격 :  ₩10,000\n할인 된 가격 :  ₩5,000\n링크 :  https://play.google.com/store/movies/details/%EC%A3%BC%EC%A7%93%EC%88%98?id=NDGwdH9cCCk.P\n\n조제\n할인 전 가격 :  ₩11,000\n할인 된 가격 :  ₩5,000\n링크 :  https://play.google.com/store/movies/details/%EC%A1%B0%EC%A0%9C?id=FiwG10w0r7o.P\n\n도굴\n할인 전 가격 :  ₩7,700\n할인 된 가격 :  ₩5,500\n링크 :  https://play.google.com/store/movies/details/%EB%8F%84%EA%B5%B4?id=HQcgbruj254.P\n\n스푸트닉\n할인 전 가격 :  ₩7,000\n할인 된 가격 :  ₩5,000\n링크 :  https://play.google.com/store/movies/details/%EC%8A%A4%ED%91%B8%ED%8A%B8%EB%8B%89?id=qQxeFGNR12U.P\n\n뱅가드\n할인 전 가격 :  ₩10,000\n할인 된 가격 :  ₩4,000\n링크 :  https://play.google.com/store/movies/details/%EB%B1%85%EA%B0%80%EB%93%9C?id=cj16bDavhgI.P\n\n해리포터 시리즈 완결 패키지\n할인 전 가격 :  ₩36,000\n할인 된 가격 :  ₩18,900\n링크 :  https://play.google.com/store/movies/details/%ED%95%B4%EB%A6%AC%ED%8F%AC%ED%84%B0_%EC%8B%9C%EB%A6%AC%EC%A6%88_%EC%99%84%EA%B2%B0_%ED%8C%A8%ED%82%A4%EC%A7%80?id=DsVgRu5dDdY\n\n검객\n할인 전 가격 :  ₩5,000\n할인 된 가격 :  ₩2,500\n링크 :  https://play.google.com/store/movies/details/%EA%B2%80%EA%B0%9D?id=46dGMOK4T6w.P\n\n알리타: 배틀 엔젤 (자막판)\n할인 전 가격 :  ₩2,500\n할인 된 가격 :  ₩1,400\n링크 :  https://play.google.com/store/movies/details/%EC%95%8C%EB%A6%AC%ED%83%80_%EB%B0%B0%ED%8B%80_%EC%97%94%EC%A0%A4_%EC%9E%90%EB%A7%89%ED%8C%90?id=z11gdNqADGM\n\n쓰리썸씽\n할인 전 가격 :  ₩10,000\n할인 된 가격 :  ₩4,500\n링크 :  https://play.google.com/store/movies/details/%EC%93%B0%EB%A6%AC%EC%8D%B8%EC%94%BD?id=1mWk9fJhNV0.P\n\n애프터 : 그 후\n할인 전 가격 :  ₩9,900\n할인 된 가격 :  ₩6,500\n링크 :  https://play.google.com/store/movies/details/%EC%95%A0%ED%94%84%ED%84%B0_%EA%B7%B8_%ED%9B%84?id=CYUvYJle3iY.P\n\n버즈 오브 프레이(할리 퀸의 황홀한 해방)\n할인 전 가격 :  ₩6,000\n할인 된 가격 :  ₩4,500\n링크 :  https://play.google.com/store/movies/details/%EB%B2%84%EC%A6%88_%EC%98%A4%EB%B8%8C_%ED%94%84%EB%A0%88%EC%9D%B4_%ED%95%A0%EB%A6%AC_%ED%80%B8%EC%9D%98_%ED%99%A9%ED%99%80%ED%95%9C_%ED%95%B4%EB%B0%A9?id=vSbxKWDUmcA.P\n\n비포 미드나잇\n할인 전 가격 :  ₩4,500\n할인 된 가격 :  ₩2,500\n링크 :  https://play.google.com/store/movies/details/%EB%B9%84%ED%8F%AC_%EB%AF%B8%EB%93%9C%EB%82%98%EC%9E%87?id=XJIvSknXSRc.P\n\n뉴 뮤턴트\n할인 전 가격 :  ₩4,500\n할인 된 가격 :  ₩2,500\n링크 :  https://play.google.com/store/movies/details/%EB%89%B4_%EB%AE%A4%ED%84%B4%ED%8A%B8?id=kIolBOkPxos.P\n\n"
     ]
    }
   ],
   "source": [
    "for movie in movies:\n",
    "    title = movie.find('div', attrs={'class':'WsMG1c nnK0zc'}).get_text()\n",
    "    link = movie.find('a', attrs={'class':'JC71ub'})['href']\n",
    "    # 할인 된 영화만 뽑기\n",
    "    if movie.find('span', attrs={'class':'SUZt4c djCuy'}):\n",
    "        print(title)\n",
    "        print(\"할인 전 가격 : \", movie.find('span', attrs={'class':'SUZt4c djCuy'}).get_text())\n",
    "        print(\"할인 된 가격 : \", movie.find('span', attrs={'class':'VfPpfd ZdBevf i5DZme'}).get_text())\n",
    "        print(\"링크 : \", \"https://play.google.com\" + link)\n",
    "        print()\n",
    "\n",
    "browser.quit()"
   ]
  },
  {
   "cell_type": "code",
   "execution_count": null,
   "metadata": {},
   "outputs": [],
   "source": []
  }
 ]
}