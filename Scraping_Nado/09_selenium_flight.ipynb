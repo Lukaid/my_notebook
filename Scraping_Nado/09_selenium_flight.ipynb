{
 "metadata": {
  "language_info": {
   "codemirror_mode": {
    "name": "ipython",
    "version": 3
   },
   "file_extension": ".py",
   "mimetype": "text/x-python",
   "name": "python",
   "nbconvert_exporter": "python",
   "pygments_lexer": "ipython3",
   "version": "3.9.1-final"
  },
  "orig_nbformat": 2,
  "kernelspec": {
   "name": "python3",
   "display_name": "Python 3.9.1 64-bit",
   "metadata": {
    "interpreter": {
     "hash": "93d2bee35929e05e44f3a424865844abe2a4ec4d78cb24fe7d4202e6ef37a7f8"
    }
   }
  }
 },
 "nbformat": 4,
 "nbformat_minor": 2,
 "cells": [
  {
   "source": [
    "### 브라우저 실행"
   ],
   "cell_type": "markdown",
   "metadata": {}
  },
  {
   "cell_type": "code",
   "execution_count": 6,
   "metadata": {},
   "outputs": [],
   "source": [
    "from selenium import webdriver\n",
    "from selenium.webdriver.common.by import By\n",
    "from selenium.webdriver.support.ui import WebDriverWait\n",
    "from selenium.webdriver.support import expected_conditions as EC\n",
    "\n",
    "browser = webdriver.Chrome()\n",
    "browser.maximize_window() # 창 최대화\n"
   ]
  },
  {
   "source": [
    "### 원하는 사이트로 이동"
   ],
   "cell_type": "markdown",
   "metadata": {}
  },
  {
   "cell_type": "code",
   "execution_count": 7,
   "metadata": {},
   "outputs": [],
   "source": [
    "url = \"https://flight.naver.com/flights/\"\n",
    "browser.get(url)"
   ]
  },
  {
   "source": [
    "browser.find_element_by_link_text('가는날 선택').click() # 가는날 선택 클릭\n",
    "\n",
    "# 이번달 27, 28일 선택\n",
    "# browser.find_elements_by_link_text('27')[0].click()\n",
    "# browser.find_elements_by_link_text('28')[0].click()"
   ],
   "cell_type": "code",
   "metadata": {},
   "execution_count": 8,
   "outputs": []
  },
  {
   "cell_type": "code",
   "execution_count": 9,
   "metadata": {},
   "outputs": [],
   "source": [
    "# 이러면 다음달\n",
    "browser.find_elements_by_link_text('27')[0].click()\n",
    "browser.find_elements_by_link_text('28')[1].click()"
   ]
  },
  {
   "cell_type": "code",
   "execution_count": 10,
   "metadata": {},
   "outputs": [],
   "source": [
    "# 제주도 선택\n",
    "browser.find_element_by_xpath('//*[@id=\"recommendationList\"]/ul/li[1]/div/span').click()"
   ]
  },
  {
   "cell_type": "code",
   "execution_count": 11,
   "metadata": {},
   "outputs": [
    {
     "output_type": "stream",
     "name": "stdout",
     "text": [
      "진에어\n출발지\nGMP\n06:05\n도착지\nCJU\n07:15\n총 소요시간\n01시간 10분\n할인석\n편도 81,000원\n편도 79,200원 (KB국민카드 결제시)\n성인이벤트혜택\n"
     ]
    }
   ],
   "source": [
    "browser.find_element_by_link_text('항공권 검색').click()\n",
    "try:\n",
    "    elem = WebDriverWait(browser, 10).until(EC.presence_of_element_located((By.XPATH, '//*[@id=\"content\"]/div[2]/div/div[4]/ul/li[1]'))) \n",
    "# 어떤 엘리먼트가 나올때까지 최대 10초 기다려라\n",
    "    print(elem.text)\n",
    "finally:\n",
    "    browser.quit()"
   ]
  }
 ]
}