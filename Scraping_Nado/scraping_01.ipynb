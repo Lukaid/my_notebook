{
 "metadata": {
  "language_info": {
   "codemirror_mode": {
    "name": "ipython",
    "version": 3
   },
   "file_extension": ".py",
   "mimetype": "text/x-python",
   "name": "python",
   "nbconvert_exporter": "python",
   "pygments_lexer": "ipython3",
   "version": "3.9.1-final"
  },
  "orig_nbformat": 2,
  "kernelspec": {
   "name": "python3",
   "display_name": "Python 3.9.1 64-bit",
   "metadata": {
    "interpreter": {
     "hash": "93d2bee35929e05e44f3a424865844abe2a4ec4d78cb24fe7d4202e6ef37a7f8"
    }
   }
  }
 },
 "nbformat": 4,
 "nbformat_minor": 2,
 "cells": [
  {
   "source": [
    "# HTML (Hyper Text Markup Language)\n",
    "\n",
    "웹페이지를 만들때 쓰는 랭귀지\n",
    "\n"
   ],
   "cell_type": "markdown",
   "metadata": {}
  },
  {
   "source": [
    "<html/> 이렇게 쓰면 엘리먼트 종료\n",
    "\n",
    "<html>    </html> 이렇게 쓰면 저 사이에 내용"
   ],
   "cell_type": "code",
   "metadata": {},
   "execution_count": null,
   "outputs": []
  },
  {
   "cell_type": "code",
   "execution_count": null,
   "metadata": {},
   "outputs": [],
   "source": [
    "Xpath"
   ]
  },
  {
   "source": [
    "## requset"
   ],
   "cell_type": "markdown",
   "metadata": {}
  },
  {
   "cell_type": "code",
   "execution_count": 1,
   "metadata": {},
   "outputs": [],
   "source": [
    "import requests"
   ]
  },
  {
   "cell_type": "code",
   "execution_count": 2,
   "metadata": {},
   "outputs": [
    {
     "output_type": "stream",
     "name": "stdout",
     "text": [
      "응답코드 :  200\n정상임\n"
     ]
    }
   ],
   "source": [
    "res = requests.get(\"http://naver.com\")\n",
    "print(\"응답코드 : \", res.status_code) # 200 이면 정상, 403은 페이지 접근 권한이 없음\n",
    "\n",
    "if res.status_code == requests.codes.ok: # requests.codes.ok 이건 200이랑 같은거\n",
    "    print('정상임')\n",
    "else:\n",
    "    print('문제가 생김')"
   ]
  },
  {
   "cell_type": "code",
   "execution_count": 3,
   "metadata": {},
   "outputs": [
    {
     "output_type": "stream",
     "name": "stdout",
     "text": [
      "응답코드 :  200\n정상임\n"
     ]
    }
   ],
   "source": [
    "res = requests.get(\"http://nadocoding.tistory.com\")\n",
    "print(\"응답코드 : \", res.status_code) # 200 이면 정상, 403은 페이지 접근 권한이 없음\n",
    "\n",
    "if res.status_code == requests.codes.ok: # requests.codes.ok 이건 200이랑 같은거\n",
    "    print('정상임')\n",
    "else:\n",
    "    print('문제가 생김')"
   ]
  },
  {
   "source": [
    "밑에처럼 한쌍으로 처리하는 경우가 많음"
   ],
   "cell_type": "markdown",
   "metadata": {}
  },
  {
   "cell_type": "code",
   "execution_count": 7,
   "metadata": {},
   "outputs": [],
   "source": [
    "res = requests.get(\"http://google.com\")\n",
    "res.raise_for_status() # 올바른 주소를 가져왔으면 실행 아니면 오류"
   ]
  },
  {
   "cell_type": "code",
   "execution_count": 8,
   "metadata": {},
   "outputs": [
    {
     "output_type": "stream",
     "name": "stdout",
     "text": [
      "14055\n"
     ]
    }
   ],
   "source": [
    "print(len(res.text))"
   ]
  },
  {
   "cell_type": "code",
   "execution_count": 9,
   "metadata": {},
   "outputs": [],
   "source": [
    "with open(\"mygoogle.html\", \"w\", encoding=\"utf-8\") as f:\n",
    "    f.write(res.text)"
   ]
  },
  {
   "source": [
    "## 정규식 (regular expression)"
   ],
   "cell_type": "markdown",
   "metadata": {}
  },
  {
   "cell_type": "code",
   "execution_count": null,
   "metadata": {},
   "outputs": [],
   "source": []
  }
 ]
}