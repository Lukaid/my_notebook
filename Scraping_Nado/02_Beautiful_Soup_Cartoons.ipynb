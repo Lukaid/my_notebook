{
 "metadata": {
  "language_info": {
   "codemirror_mode": {
    "name": "ipython",
    "version": 3
   },
   "file_extension": ".py",
   "mimetype": "text/x-python",
   "name": "python",
   "nbconvert_exporter": "python",
   "pygments_lexer": "ipython3",
   "version": "3.9.1-final"
  },
  "orig_nbformat": 2,
  "kernelspec": {
   "name": "python3",
   "display_name": "Python 3.9.1 64-bit",
   "metadata": {
    "interpreter": {
     "hash": "93d2bee35929e05e44f3a424865844abe2a4ec4d78cb24fe7d4202e6ef37a7f8"
    }
   }
  }
 },
 "nbformat": 4,
 "nbformat_minor": 2,
 "cells": [
  {
   "source": [
    "## Beautiful Soup"
   ],
   "cell_type": "markdown",
   "metadata": {}
  },
  {
   "cell_type": "code",
   "execution_count": 1,
   "metadata": {},
   "outputs": [],
   "source": [
    "import requests\n",
    "from bs4 import BeautifulSoup"
   ]
  },
  {
   "cell_type": "code",
   "execution_count": 2,
   "metadata": {},
   "outputs": [],
   "source": [
    "url = \"https://comic.naver.com/webtoon/weekday.nhn\"\n",
    "res = requests.get(url)\n",
    "res.raise_for_status()\n",
    "\n",
    "soup = BeautifulSoup(res.text, \"lxml\")\n"
   ]
  },
  {
   "cell_type": "code",
   "execution_count": 6,
   "metadata": {},
   "outputs": [
    {
     "output_type": "stream",
     "name": "stdout",
     "text": [
      "<title>네이버 만화 &gt; 요일별  웹툰 &gt; 전체웹툰</title>\n네이버 만화 > 요일별  웹툰 > 전체웹툰\n"
     ]
    }
   ],
   "source": [
    "print(soup.title)\n",
    "print(soup.title.get_text())"
   ]
  },
  {
   "cell_type": "code",
   "execution_count": 12,
   "metadata": {},
   "outputs": [
    {
     "output_type": "stream",
     "name": "stdout",
     "text": [
      "{'href': '#menu', 'onclick': \"document.getElementById('menu').tabIndex=-1;document.getElementById('menu').focus();return false;\"}\n#menu\n"
     ]
    }
   ],
   "source": [
    "#print(soup.a)\n",
    "# 가져온 HTML중 첫번째로 발견되는 a 태그를 알려줘\n",
    "print(soup.a.attrs) # a element의 속성을 가져옴\n",
    "print(soup.a['href']) # a element의 href 속성값 추출"
   ]
  },
  {
   "cell_type": "code",
   "execution_count": 14,
   "metadata": {},
   "outputs": [
    {
     "output_type": "execute_result",
     "data": {
      "text/plain": [
       "<a class=\"Nbtn_upload\" href=\"/mypage/myActivity.nhn\" onclick=\"nclk_v2(event,'olk.upload');\">웹툰 올리기</a>"
      ]
     },
     "metadata": {},
     "execution_count": 14
    }
   ],
   "source": [
    "# soup에서 a 태크에 해당하는 첫번째 element를 가져옴\n",
    "# 그 중 조건에 맞는\n",
    "soup.find(\"a\", attrs={'class':'Nbtn_upload'})\n",
    "# 'class'가 'Nbtn_upload' 인 a element를 찾아줘\n",
    "soup.find(attrs={'class':'Nbtn_upload'})\n",
    "# 'class'가 'Nbtn_upload' 인 어떤 element를 찾아줘"
   ]
  },
  {
   "cell_type": "code",
   "execution_count": 15,
   "metadata": {},
   "outputs": [
    {
     "output_type": "stream",
     "name": "stdout",
     "text": [
      "<li class=\"rank01\">\n<a href=\"/webtoon/detail.nhn?titleId=703846&amp;no=151\" onclick=\"nclk_v2(event,'rnk*p.cont','703846','1')\" title=\"여신강림-146화\">여신강림-146화</a>\n<span class=\"rankBox\">\n<img alt=\"변동없음\" height=\"10\" src=\"https://ssl.pstatic.net/static/comic/images/migration/common/arrow_no.gif\" title=\"변동없음\" width=\"7\"/> 0\n\t\t\t\t\t\t\n\t\t\t\t\t\n\t\t\t\t</span>\n</li>\n"
     ]
    }
   ],
   "source": [
    "print(soup.find(\"li\", attrs={'class':'rank01'}))"
   ]
  },
  {
   "cell_type": "code",
   "execution_count": 16,
   "metadata": {},
   "outputs": [
    {
     "output_type": "stream",
     "name": "stdout",
     "text": [
      "<a href=\"/webtoon/detail.nhn?titleId=703846&amp;no=151\" onclick=\"nclk_v2(event,'rnk*p.cont','703846','1')\" title=\"여신강림-146화\">여신강림-146화</a>\n"
     ]
    }
   ],
   "source": [
    "rank1 = soup.find(\"li\", attrs={'class':'rank01'})\n",
    "print(rank1.a) # 위에서 a element만 뽑아오기"
   ]
  },
  {
   "cell_type": "code",
   "execution_count": 17,
   "metadata": {},
   "outputs": [
    {
     "output_type": "stream",
     "name": "stdout",
     "text": [
      "여신강림-146화\n"
     ]
    }
   ],
   "source": [
    "print(rank1.a.get_text())"
   ]
  },
  {
   "cell_type": "code",
   "execution_count": 20,
   "metadata": {},
   "outputs": [
    {
     "output_type": "stream",
     "name": "stdout",
     "text": [
      "<li class=\"rank02\">\n<a href=\"/webtoon/detail.nhn?titleId=703852&amp;no=140\" onclick=\"nclk_v2(event,'rnk*p.cont','703852','2')\" title=\"바른연애 길잡이-140\">바른연애 길잡이-140</a>\n<span class=\"rankBox\">\n<img alt=\"변동없음\" height=\"10\" src=\"https://ssl.pstatic.net/static/comic/images/migration/common/arrow_no.gif\" title=\"변동없음\" width=\"7\"/> 0\n\t\t\t\t\t\t\n\t\t\t\t\t\n\t\t\t\t</span>\n</li>\n"
     ]
    }
   ],
   "source": [
    "# 해당 엘리먼트에서 다름 엘리먼트로 넘어감\n",
    "print(rank1.next_sibling.next_sibling) # 다음 엘리먼트로 넘어갈때 태그 사이에 개행정보 즉 줄바꿈이 있을때 next_sibling을 한번만 하면 아무 정보가 안나올 수 있다."
   ]
  },
  {
   "cell_type": "code",
   "execution_count": 23,
   "metadata": {},
   "outputs": [
    {
     "output_type": "stream",
     "name": "stdout",
     "text": [
      "바른연애 길잡이-140\n"
     ]
    }
   ],
   "source": [
    "rank2 = rank1.next_sibling.next_sibling \n",
    "rank3 = rank2.next_sibling.next_sibling\n",
    "rank2 = rank3.previous_sibling.previous_sibling # 얘는 이전 엘리먼트\n",
    "\n",
    "print(rank2.a.get_text())"
   ]
  },
  {
   "cell_type": "code",
   "execution_count": 26,
   "metadata": {},
   "outputs": [
    {
     "output_type": "execute_result",
     "data": {
      "text/plain": [
       "<ol class=\"asideBoxRank\" id=\"realTimeRankFavorite\">\n",
       "<li class=\"rank01\">\n",
       "<a href=\"/webtoon/detail.nhn?titleId=703846&amp;no=151\" onclick=\"nclk_v2(event,'rnk*p.cont','703846','1')\" title=\"여신강림-146화\">여신강림-146화</a>\n",
       "<span class=\"rankBox\">\n",
       "<img alt=\"변동없음\" height=\"10\" src=\"https://ssl.pstatic.net/static/comic/images/migration/common/arrow_no.gif\" title=\"변동없음\" width=\"7\"/> 0\n",
       "\t\t\t\t\t\t\n",
       "\t\t\t\t\t\n",
       "\t\t\t\t</span>\n",
       "</li>\n",
       "<li class=\"rank02\">\n",
       "<a href=\"/webtoon/detail.nhn?titleId=703852&amp;no=140\" onclick=\"nclk_v2(event,'rnk*p.cont','703852','2')\" title=\"바른연애 길잡이-140\">바른연애 길잡이-140</a>\n",
       "<span class=\"rankBox\">\n",
       "<img alt=\"변동없음\" height=\"10\" src=\"https://ssl.pstatic.net/static/comic/images/migration/common/arrow_no.gif\" title=\"변동없음\" width=\"7\"/> 0\n",
       "\t\t\t\t\t\t\n",
       "\t\t\t\t\t\n",
       "\t\t\t\t</span>\n",
       "</li>\n",
       "<li class=\"rank03\">\n",
       "<a href=\"/webtoon/detail.nhn?titleId=743139&amp;no=41\" onclick=\"nclk_v2(event,'rnk*p.cont','743139','3')\" title=\"한림체육관-41화\">한림체육관-41화</a>\n",
       "<span class=\"rankBox\">\n",
       "<img alt=\"변동없음\" height=\"10\" src=\"https://ssl.pstatic.net/static/comic/images/migration/common/arrow_no.gif\" title=\"변동없음\" width=\"7\"/> 0\n",
       "\t\t\t\t\t\t\n",
       "\t\t\t\t\t\n",
       "\t\t\t\t</span>\n",
       "</li>\n",
       "<li class=\"rank04\">\n",
       "<a href=\"/webtoon/detail.nhn?titleId=702608&amp;no=171\" onclick=\"nclk_v2(event,'rnk*p.cont','702608','4')\" title=\"랜덤채팅의 그녀!-171. 범죄의 탄생\">랜덤채팅의 그녀!-171. 범죄의 탄생</a>\n",
       "<span class=\"rankBox\">\n",
       "<img alt=\"변동없음\" height=\"10\" src=\"https://ssl.pstatic.net/static/comic/images/migration/common/arrow_no.gif\" title=\"변동없음\" width=\"7\"/> 0\n",
       "\t\t\t\t\t\t\n",
       "\t\t\t\t\t\n",
       "\t\t\t\t</span>\n",
       "</li>\n",
       "<li class=\"rank05\">\n",
       "<a href=\"/webtoon/detail.nhn?titleId=730656&amp;no=86\" onclick=\"nclk_v2(event,'rnk*p.cont','730656','5')\" title=\"사신소년-86화 개ㅅ끼들아!\">사신소년-86화 개ㅅ끼들아!</a>\n",
       "<span class=\"rankBox\">\n",
       "<img alt=\"변동없음\" height=\"10\" src=\"https://ssl.pstatic.net/static/comic/images/migration/common/arrow_no.gif\" title=\"변동없음\" width=\"7\"/> 0\n",
       "\t\t\t\t\t\t\n",
       "\t\t\t\t\t\n",
       "\t\t\t\t</span>\n",
       "</li>\n",
       "<li class=\"rank06\">\n",
       "<a href=\"/webtoon/detail.nhn?titleId=738174&amp;no=64\" onclick=\"nclk_v2(event,'rnk*p.cont','738174','6')\" title=\"중증외상센터 : 골든 아워-64화 : 정리(1부 완결)\">중증외상센터 : 골든 아워-64화 : 정리(1부 완결)</a>\n",
       "<span class=\"rankBox\">\n",
       "<img alt=\"변동없음\" height=\"10\" src=\"https://ssl.pstatic.net/static/comic/images/migration/common/arrow_no.gif\" title=\"변동없음\" width=\"7\"/> 0\n",
       "\t\t\t\t\t\t\n",
       "\t\t\t\t\t\n",
       "\t\t\t\t</span>\n",
       "</li>\n",
       "<li class=\"rank07\">\n",
       "<a href=\"/webtoon/detail.nhn?titleId=738487&amp;no=62\" onclick=\"nclk_v2(event,'rnk*p.cont','738487','7')\" title=\"하루만 네가 되고 싶어-62. 피바람이 분다(1)\">하루만 네가 되고 싶어-62. 피바람이 분다(1)</a>\n",
       "<span class=\"rankBox\">\n",
       "<img alt=\"변동없음\" height=\"10\" src=\"https://ssl.pstatic.net/static/comic/images/migration/common/arrow_no.gif\" title=\"변동없음\" width=\"7\"/> 0\n",
       "\t\t\t\t\t\t\n",
       "\t\t\t\t\t\n",
       "\t\t\t\t</span>\n",
       "</li>\n",
       "<li class=\"rank08\">\n",
       "<a href=\"/webtoon/detail.nhn?titleId=753856&amp;no=26\" onclick=\"nclk_v2(event,'rnk*p.cont','753856','8')\" title=\"달콤살벌한 부부-26화\">달콤살벌한 부부-26화</a>\n",
       "<span class=\"rankBox\">\n",
       "<img alt=\"변동없음\" height=\"10\" src=\"https://ssl.pstatic.net/static/comic/images/migration/common/arrow_no.gif\" title=\"변동없음\" width=\"7\"/> 0\n",
       "\t\t\t\t\t\t\n",
       "\t\t\t\t\t\n",
       "\t\t\t\t</span>\n",
       "</li>\n",
       "<li class=\"rank09\">\n",
       "<a href=\"/webtoon/detail.nhn?titleId=759925&amp;no=2\" onclick=\"nclk_v2(event,'rnk*p.cont','759925','9')\" title=\"엽총소년-1화\">엽총소년-1화</a>\n",
       "<span class=\"rankBox\">\n",
       "<img alt=\"변동없음\" height=\"10\" src=\"https://ssl.pstatic.net/static/comic/images/migration/common/arrow_no.gif\" title=\"변동없음\" width=\"7\"/> 0\n",
       "\t\t\t\t\t\t\n",
       "\t\t\t\t\t\n",
       "\t\t\t\t</span>\n",
       "</li>\n",
       "<li class=\"rank10\">\n",
       "<a href=\"/webtoon/detail.nhn?titleId=757904&amp;no=20\" onclick=\"nclk_v2(event,'rnk*p.cont','757904','10')\" title=\"호랑이 들어와요-19화 연 소동 1\">호랑이 들어와요-19화 연 소동 1</a>\n",
       "<span class=\"rankBox\">\n",
       "<img alt=\"변동없음\" height=\"10\" src=\"https://ssl.pstatic.net/static/comic/images/migration/common/arrow_no.gif\" title=\"변동없음\" width=\"7\"/> 0\n",
       "\t\t\t\t\t\t\n",
       "\t\t\t\t\t\n",
       "\t\t\t\t</span>\n",
       "</li>\n",
       "</ol>"
      ]
     },
     "metadata": {},
     "execution_count": 26
    }
   ],
   "source": [
    "rank1.parent # 부모태크"
   ]
  },
  {
   "cell_type": "code",
   "execution_count": 31,
   "metadata": {},
   "outputs": [
    {
     "output_type": "stream",
     "name": "stdout",
     "text": [
      "바른연애 길잡이-140\n한림체육관-41화\n"
     ]
    }
   ],
   "source": [
    "rank2 = rank1.find_next_sibling(\"li\") # 다음 시블링 중 li 인거만 찾아라\n",
    "print(rank2.a.get_text())\n",
    "rank3 = rank2.find_next_sibling(\"li\")\n",
    "print(rank3.a.get_text())"
   ]
  },
  {
   "cell_type": "code",
   "execution_count": 32,
   "metadata": {},
   "outputs": [
    {
     "output_type": "execute_result",
     "data": {
      "text/plain": [
       "[<li class=\"rank02\">\n",
       " <a href=\"/webtoon/detail.nhn?titleId=703852&amp;no=140\" onclick=\"nclk_v2(event,'rnk*p.cont','703852','2')\" title=\"바른연애 길잡이-140\">바른연애 길잡이-140</a>\n",
       " <span class=\"rankBox\">\n",
       " <img alt=\"변동없음\" height=\"10\" src=\"https://ssl.pstatic.net/static/comic/images/migration/common/arrow_no.gif\" title=\"변동없음\" width=\"7\"/> 0\n",
       " \t\t\t\t\t\t\n",
       " \t\t\t\t\t\n",
       " \t\t\t\t</span>\n",
       " </li>,\n",
       " <li class=\"rank03\">\n",
       " <a href=\"/webtoon/detail.nhn?titleId=743139&amp;no=41\" onclick=\"nclk_v2(event,'rnk*p.cont','743139','3')\" title=\"한림체육관-41화\">한림체육관-41화</a>\n",
       " <span class=\"rankBox\">\n",
       " <img alt=\"변동없음\" height=\"10\" src=\"https://ssl.pstatic.net/static/comic/images/migration/common/arrow_no.gif\" title=\"변동없음\" width=\"7\"/> 0\n",
       " \t\t\t\t\t\t\n",
       " \t\t\t\t\t\n",
       " \t\t\t\t</span>\n",
       " </li>,\n",
       " <li class=\"rank04\">\n",
       " <a href=\"/webtoon/detail.nhn?titleId=702608&amp;no=171\" onclick=\"nclk_v2(event,'rnk*p.cont','702608','4')\" title=\"랜덤채팅의 그녀!-171. 범죄의 탄생\">랜덤채팅의 그녀!-171. 범죄의 탄생</a>\n",
       " <span class=\"rankBox\">\n",
       " <img alt=\"변동없음\" height=\"10\" src=\"https://ssl.pstatic.net/static/comic/images/migration/common/arrow_no.gif\" title=\"변동없음\" width=\"7\"/> 0\n",
       " \t\t\t\t\t\t\n",
       " \t\t\t\t\t\n",
       " \t\t\t\t</span>\n",
       " </li>,\n",
       " <li class=\"rank05\">\n",
       " <a href=\"/webtoon/detail.nhn?titleId=730656&amp;no=86\" onclick=\"nclk_v2(event,'rnk*p.cont','730656','5')\" title=\"사신소년-86화 개ㅅ끼들아!\">사신소년-86화 개ㅅ끼들아!</a>\n",
       " <span class=\"rankBox\">\n",
       " <img alt=\"변동없음\" height=\"10\" src=\"https://ssl.pstatic.net/static/comic/images/migration/common/arrow_no.gif\" title=\"변동없음\" width=\"7\"/> 0\n",
       " \t\t\t\t\t\t\n",
       " \t\t\t\t\t\n",
       " \t\t\t\t</span>\n",
       " </li>,\n",
       " <li class=\"rank06\">\n",
       " <a href=\"/webtoon/detail.nhn?titleId=738174&amp;no=64\" onclick=\"nclk_v2(event,'rnk*p.cont','738174','6')\" title=\"중증외상센터 : 골든 아워-64화 : 정리(1부 완결)\">중증외상센터 : 골든 아워-64화 : 정리(1부 완결)</a>\n",
       " <span class=\"rankBox\">\n",
       " <img alt=\"변동없음\" height=\"10\" src=\"https://ssl.pstatic.net/static/comic/images/migration/common/arrow_no.gif\" title=\"변동없음\" width=\"7\"/> 0\n",
       " \t\t\t\t\t\t\n",
       " \t\t\t\t\t\n",
       " \t\t\t\t</span>\n",
       " </li>,\n",
       " <li class=\"rank07\">\n",
       " <a href=\"/webtoon/detail.nhn?titleId=738487&amp;no=62\" onclick=\"nclk_v2(event,'rnk*p.cont','738487','7')\" title=\"하루만 네가 되고 싶어-62. 피바람이 분다(1)\">하루만 네가 되고 싶어-62. 피바람이 분다(1)</a>\n",
       " <span class=\"rankBox\">\n",
       " <img alt=\"변동없음\" height=\"10\" src=\"https://ssl.pstatic.net/static/comic/images/migration/common/arrow_no.gif\" title=\"변동없음\" width=\"7\"/> 0\n",
       " \t\t\t\t\t\t\n",
       " \t\t\t\t\t\n",
       " \t\t\t\t</span>\n",
       " </li>,\n",
       " <li class=\"rank08\">\n",
       " <a href=\"/webtoon/detail.nhn?titleId=753856&amp;no=26\" onclick=\"nclk_v2(event,'rnk*p.cont','753856','8')\" title=\"달콤살벌한 부부-26화\">달콤살벌한 부부-26화</a>\n",
       " <span class=\"rankBox\">\n",
       " <img alt=\"변동없음\" height=\"10\" src=\"https://ssl.pstatic.net/static/comic/images/migration/common/arrow_no.gif\" title=\"변동없음\" width=\"7\"/> 0\n",
       " \t\t\t\t\t\t\n",
       " \t\t\t\t\t\n",
       " \t\t\t\t</span>\n",
       " </li>,\n",
       " <li class=\"rank09\">\n",
       " <a href=\"/webtoon/detail.nhn?titleId=759925&amp;no=2\" onclick=\"nclk_v2(event,'rnk*p.cont','759925','9')\" title=\"엽총소년-1화\">엽총소년-1화</a>\n",
       " <span class=\"rankBox\">\n",
       " <img alt=\"변동없음\" height=\"10\" src=\"https://ssl.pstatic.net/static/comic/images/migration/common/arrow_no.gif\" title=\"변동없음\" width=\"7\"/> 0\n",
       " \t\t\t\t\t\t\n",
       " \t\t\t\t\t\n",
       " \t\t\t\t</span>\n",
       " </li>,\n",
       " <li class=\"rank10\">\n",
       " <a href=\"/webtoon/detail.nhn?titleId=757904&amp;no=20\" onclick=\"nclk_v2(event,'rnk*p.cont','757904','10')\" title=\"호랑이 들어와요-19화 연 소동 1\">호랑이 들어와요-19화 연 소동 1</a>\n",
       " <span class=\"rankBox\">\n",
       " <img alt=\"변동없음\" height=\"10\" src=\"https://ssl.pstatic.net/static/comic/images/migration/common/arrow_no.gif\" title=\"변동없음\" width=\"7\"/> 0\n",
       " \t\t\t\t\t\t\n",
       " \t\t\t\t\t\n",
       " \t\t\t\t</span>\n",
       " </li>]"
      ]
     },
     "metadata": {},
     "execution_count": 32
    }
   ],
   "source": [
    "rank1.find_next_siblings(\"li\") # 다음 시블링들을 리스트로 가져옴"
   ]
  },
  {
   "cell_type": "code",
   "execution_count": 33,
   "metadata": {},
   "outputs": [
    {
     "output_type": "stream",
     "name": "stdout",
     "text": [
      "<a href=\"/webtoon/detail.nhn?titleId=703846&amp;no=151\" onclick=\"nclk_v2(event,'rnk*p.cont','703846','1')\" title=\"여신강림-146화\">여신강림-146화</a>\n"
     ]
    }
   ],
   "source": [
    "# text 가 여신강림-146화 인 a 태그를 찾아줘\n",
    "print(soup.find(\"a\", text=\"여신강림-146화\"))"
   ]
  },
  {
   "source": [
    "find_all: 조건에 해당하는 모든 엘리먼트를 찾는 것 (list로 반환)"
   ],
   "cell_type": "markdown",
   "metadata": {}
  },
  {
   "cell_type": "code",
   "execution_count": 3,
   "metadata": {},
   "outputs": [],
   "source": [
    "# 네이버 웹툰 전체 목록 가져오기\n",
    "cartoons = soup.find_all(\"a\", attrs = {'class':'title'})"
   ]
  },
  {
   "cell_type": "code",
   "execution_count": 4,
   "metadata": {},
   "outputs": [
    {
     "output_type": "stream",
     "name": "stdout",
     "text": [
      "참교육\n뷰티풀 군바리\n윈드브레이커\n소녀의 세계\n장씨세가 호위무사\n백수세끼\n파이게임\n만렙돌파\n앵무살수\n착한건 돈이된다\n칼가는 소녀\n유일무이 로맨스\n요리GO\n마지막 지수\n싸이코 리벤지\n히어로메이커\n오늘의 순정망화\n선배, 그 립스틱 바르지 마요\n오로지 오로라\n리턴 투 플레이어\n결혼생활 그림일기\n평범한 8반\n트리거\n바이러스X\n아는 여자애\n순정말고 순종\n꿈의 기업\n사장님을 잠금해제\n삶이 우리를 속일지라도\n서브 콤플렉스\n침범\n피플\n라서드\n왕따협상\n두근두근 네가 좋아서\n와이키키 뱀파이어\n이탄국의 자청비\n개밥 먹는 남자\n야생천사 보호구역\n정보전사 202\n뱀파이어의 꽃\n이중첩자\n도플갱어의 게임\n안녕 나의 모모로\n원하는 건 너 하나\n백호랑\n여기 악마가 있어\n인간의 온도\n하슬라\n드로잉 레시피\n보살님이 캐리해!\n헬로맨스\n모락모락 왕세자님\n여신강림\n한림체육관\n바른연애 길잡이\n하루만 네가 되고 싶어\n랜덤채팅의 그녀!\n중증외상센터 : 골든 아워\n사신소년\n헬58\n신도림\n호랑이 들어와요\n엽총소년\n악인\n삼국지톡\n원주민 공포만화\n달콤살벌한 부부\n위아더좀비\n집이 없어\n태시트\n빌런투킬\n오피스 누나 이야기\n오늘의 순정망화\n아이레\n윌유메리미\n견우와 선녀\n용왕님의 셰프가 되었습니다\n성인초딩\n플레이, 플리\n3cm 헌터\n빅맨\n올가미\n그놈은 흑염룡\n정년이\n한강예찬\n제로게임\n은주의 방 2~3부\n별종\n풋내기들\n연우의 순정\n오파츠\n빛빛빛\n열녀박씨 계약결혼뎐\n숲속의 담\n조선홍보대행사 조대박\n자판귀\n안식의 밤\n완벽한 가족\n나의 플랏메이트\n도를 아십니까\n언메이크\n필살VS로맨스\n피로만땅\n장단에 맞춰줘!\n인문학적 감수성\n체크포인트\n하우스키퍼\n고수\n전지적 독자 시점\n복학왕\n급식아빠\n모죠의 일지\n격기3반\n튜토리얼 탑의 고인물\n하렘의 남자들\n세상은 돈과 권력\n캐슬\n노곤하개\n남주의 첫날밤을 가져버렸다\n여주실격!\n원수를 사랑하라\n연놈\n일렉시드\n닥터앤닥터 육아일기\n고삼무쌍\n나쁜사람\n반귀\n판타지 여동생!\n빌드업\n엔딩 후 서브남을 주웠다\n정순애 식당\n미래의 골동품 가게\n마른 가지에 바람처럼\n마녀와 용의 신혼일기\n귀곡의 문\n사상최강\n각자의 디데이\n아도나이\n언덕 위의 제임스\n방탈출\n뱀은 꽃을 먹는가\n말하는대로\n로어 올림푸스\n새벽 두 시의 신데렐라\n범이올시다!\n이츠마인\n더 트웰브\n럭키언럭키\n얼굴천재\n속보입니다\n해귀\n당신의 향수\n인터셉트\n스캔들\n기억흔적\n노선도\n저승사자 출입금지\n수상한 비밀상담부\n천도\n평화선도부\n시효완성\n스몰\n독립일기\n더 복서\n연애혁명\n기기괴괴\n이두나!\n나노마신\n노답소녀\n정글쥬스\n화이트 블러드\n하드캐리\n무사만리행\n전자오락수호대\n마계인섬\n꽃만 키우는데 너무강함\n어차피 남편은!\n희망강림\n트롤트랩\n오늘의 순정망화\n달의 요람\n당신의 과녁\n쿠베라\n최강전설 강해효\n그 황제가 시곗바늘을 되돌린 사연\n신비\n던전 씹어먹는 아티팩트\n선의의 경쟁\n셧업앤댄스\n겟백\n루커피쳐\n시월드 판타지\n만물의 영장\n자취방 신선들\n별을 삼킨 너에게\n성스러운 아이돌\n롤랑롤랑\n오일머니\n로그아웃\n겟라이프\n집사레인저\n유리와 유리와 유리\n소녀180\n셈하는 사이\n미드나잇 체이서\n불릿 6미리\n스테어스\n킬더킹\n안개무덤\n카루나\n밤하늘에 구름운\n헬프미\n바른탕진 프로젝트\n보물과 괴물의 도시\n악령주의보\n온새미로\n외모지상주의\n갓 오브 하이스쿨\n데드퀸\n재혼 황후\n여성전용헬스장 진달래짐\n1초\n개를 낳았다\n세기말 풋사과 보습학원\n삼국지톡\n스포\n더 게이머\n낙향문사전\n살人스타그램\n사람의 조각\n환상의 용\n뫼신 사냥꾼\n똑똑한 나 인증\n걸어서 30분\n냐한남자\n플레이어\n난약\nA.I. 닥터\n상남자\n복학생 정순이\n빨리감기\n히어로 킬러\n구남친이 내게 반했다\n감자마을\n고래별\n성경의 역사\n가슴털 로망스\n신상 미스터리 극장\n금혼령-조선혼인금지령\n소심한 팔레트\n피와 나비\n닥터 프로스트 시즌 3~4\n꽃 피우는 남자\n얌전한 사이\n방과후 선녀\n후덜덜덜 남극전자\n도롱이\n감히\n구독금지\n도무지 그애는\n몽홀\n진짜 정말 맹세코 좋아해\n백년게임\n강림전기 개정기\n버그: 스티그마\n트럼프\n나쁜 쪽으로\n히트포인트\n스윗솔티\n구주의 시간\n매지컬 메디컬\n합법해적 파르페\n호랑이형님\n프리드로우\n모죠의 일지\n취사병 전설이 되다\n욕망일기\n초인의 시대\n지옥급식\n노곤하개\n광장\n스터디그룹\n힙한남자\n민간인 통제구역\n청춘 블라썸\n토끼대왕\n나이트런\n아홉수 우리들\n나를 바꿔줘\n윌유메리미\n어글리후드\n율리\n갓핑크\n탑코너\n피라미드 게임\n왕년엔 용사님\n두번째 생일\n동트는 로맨스\n단편.zip\n군주\n좋은데 어떡해\n틴맘\n먹이\n남자주인공의 여자사람친구입니다\n광해의 연인\n태백 : 튜토리얼 맨\n홍시는 날 좋아해!\n왕세자 입학도\n내게 필요한 NO맨스\n웰캄투실버라이프\n모두 너였다\n저무는 해, 시린 눈\n동네몬스터\n압락사스\n팔려 온 신부\n아테나 컴플렉스\n오늘부터 천생연분\n언플래시레슨\n피노키오 소녀\n후아유!\n도사 가온\n손 잡아 볼래?\n친구의 비밀계정\n안녕, 이바다씨\n아침을 지나 밤으로\n꼬리 있는 연애\n인간졸업\n커피도둑\n함부로 대해줘\n누군가의 로섬\n먹지마세요\n어른의 계절\n공유몽\n독립일기\n싸움독학\n열렙전사\n테러대부활\n입학용병\n약한영웅\n맘마미안\n이번 생도 잘 부탁해\n소녀재판\n도망자\n닥터앤닥터 육아일기\n천하제일인\n나만 보여!\n곱게 키웠더니, 짐승\n오로지 너를 이기고 싶어\n경비 배두만\n살아남은 로맨스\n행성인간\n마법스크롤 상인 지오\n합격시켜주세용\n사람은 고쳐 쓰는 게 아니야!\n인어를 위한 수영교실\n내일\n조선여우스캔들\n구름이 피워낸 꽃\n별이삼샵\n가비지타임\n다이스(DICE)\nAI가 세상을 지배한다면\n로어 올림푸스\n벚꽃이 흩날릴 무렵\n판사 이한영\n강남도깨비\n학교정벌\n결혼까지 망상했어!\n평행도시\n라일락 200%\n아르세니아의 마법사\n데빌샷\n두근두근 연극부\n오른눈이 보는 세계\n잉여특공대\n오늘 밤만 재워줘\n라커, 오프너\n신이 담긴 아이\n불발소년\n마도\n소녀 해미\n여름은 뜨겁다\n위험한 신입사원\n죽여주는 탐정님\n데이즈\n스트러글\n샤인 스타\n호시탐탐\n"
     ]
    }
   ],
   "source": [
    "# class속성이 title인 모든 a element를 반환\n",
    "for cartoon in cartoons:\n",
    "    print(cartoon.get_text())"
   ]
  },
  {
   "source": [
    "### 가우스전자 가져오기\n"
   ],
   "cell_type": "markdown",
   "metadata": {}
  },
  {
   "cell_type": "code",
   "execution_count": 5,
   "metadata": {},
   "outputs": [],
   "source": [
    "url = \"https://comic.naver.com/webtoon/list.nhn?titleId=675554\"\n",
    "res = requests.get(url)\n",
    "res.raise_for_status()\n",
    "\n",
    "soup = BeautifulSoup(res.text, \"lxml\")"
   ]
  },
  {
   "cell_type": "code",
   "execution_count": 6,
   "metadata": {},
   "outputs": [],
   "source": [
    "cartoons = soup.find_all(\"td\", attrs = {'class':'title'})"
   ]
  },
  {
   "cell_type": "code",
   "execution_count": 11,
   "metadata": {},
   "outputs": [
    {
     "output_type": "execute_result",
     "data": {
      "text/plain": [
       "'후기 + 10년 후 가우스'"
      ]
     },
     "metadata": {},
     "execution_count": 11
    }
   ],
   "source": [
    "cartoons[0].a.get_text()"
   ]
  },
  {
   "cell_type": "code",
   "execution_count": 16,
   "metadata": {},
   "outputs": [
    {
     "output_type": "execute_result",
     "data": {
      "text/plain": [
       "'https://comic.naver.com/webtoon/detail.nhn?titleId=675554&no=911&weekday=mon'"
      ]
     },
     "metadata": {},
     "execution_count": 16
    }
   ],
   "source": [
    "link = \"https://comic.naver.com\" + cartoons[0].a[\"href\"]\n",
    "link"
   ]
  },
  {
   "cell_type": "code",
   "execution_count": 19,
   "metadata": {},
   "outputs": [
    {
     "output_type": "stream",
     "name": "stdout",
     "text": [
      "후기 + 10년 후 가우스 https://comic.naver.com/webtoon/detail.nhn?titleId=675554&no=911&weekday=mon\n시즌4 430화 내일 봐요 https://comic.naver.com/webtoon/detail.nhn?titleId=675554&no=910&weekday=mon\n시즌4 429화 잠행 https://comic.naver.com/webtoon/detail.nhn?titleId=675554&no=909&weekday=mon\n시즌4 428화 추억 https://comic.naver.com/webtoon/detail.nhn?titleId=675554&no=908&weekday=mon\n시즌4 427화 섬세한사람 https://comic.naver.com/webtoon/detail.nhn?titleId=675554&no=907&weekday=mon\n시즌4 426화 적응 https://comic.naver.com/webtoon/detail.nhn?titleId=675554&no=906&weekday=mon\n시즌4 425화 대견 https://comic.naver.com/webtoon/detail.nhn?titleId=675554&no=905&weekday=mon\n시즌4 424화 초빙강사 https://comic.naver.com/webtoon/detail.nhn?titleId=675554&no=904&weekday=mon\n시즌4 423화 추억의 물건 https://comic.naver.com/webtoon/detail.nhn?titleId=675554&no=903&weekday=mon\n시즌4 422화 아니요 https://comic.naver.com/webtoon/detail.nhn?titleId=675554&no=902&weekday=mon\n"
     ]
    }
   ],
   "source": [
    "for cartoon in cartoons:\n",
    "    title = cartoon.a.get_text()\n",
    "    link = \"https://comic.naver.com\" + cartoon.a[\"href\"]\n",
    "    print(title, link)"
   ]
  },
  {
   "cell_type": "code",
   "execution_count": 25,
   "metadata": {},
   "outputs": [
    {
     "output_type": "execute_result",
     "data": {
      "text/plain": [
       "'9.98'"
      ]
     },
     "metadata": {},
     "execution_count": 25
    }
   ],
   "source": [
    "# 평점 가져오기\n",
    "ratings = soup.find_all('div', attrs={'class':'rating_type'})\n",
    "ratings[0].strong.get_text()"
   ]
  },
  {
   "cell_type": "code",
   "execution_count": 30,
   "metadata": {},
   "outputs": [
    {
     "output_type": "stream",
     "name": "stdout",
     "text": [
      "9.98\n9.98\n9.97\n9.97\n9.97\n9.98\n9.97\n9.97\n9.97\n9.97\n전체 점수 :  99.72999999999999\n평균 점수 :  9.972999999999999\n"
     ]
    }
   ],
   "source": [
    "total_rates = 0\n",
    "\n",
    "for rating in ratings:\n",
    "    rate = rating.find('strong').get_text()\n",
    "    print(rate)\n",
    "    total_rates += float(rate)\n",
    "print(\"전체 점수 : \", total_rates)\n",
    "print(\"평균 점수 : \", total_rates / len(ratings))"
   ]
  }
 ]
}