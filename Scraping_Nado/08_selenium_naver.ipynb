{
 "metadata": {
  "language_info": {
   "codemirror_mode": {
    "name": "ipython",
    "version": 3
   },
   "file_extension": ".py",
   "mimetype": "text/x-python",
   "name": "python",
   "nbconvert_exporter": "python",
   "pygments_lexer": "ipython3",
   "version": "3.9.1-final"
  },
  "orig_nbformat": 2,
  "kernelspec": {
   "name": "python3",
   "display_name": "Python 3.9.1 64-bit",
   "metadata": {
    "interpreter": {
     "hash": "93d2bee35929e05e44f3a424865844abe2a4ec4d78cb24fe7d4202e6ef37a7f8"
    }
   }
  }
 },
 "nbformat": 4,
 "nbformat_minor": 2,
 "cells": [
  {
   "source": [
    "1. 네이버로 이동"
   ],
   "cell_type": "markdown",
   "metadata": {}
  },
  {
   "cell_type": "code",
   "execution_count": 12,
   "metadata": {},
   "outputs": [],
   "source": [
    "import time\n",
    "from selenium import webdriver\n",
    "\n",
    "browser = webdriver.Chrome()\n",
    "browser.get(\"http://naver.com\")"
   ]
  },
  {
   "source": [
    "2. 로그인 하기"
   ],
   "cell_type": "markdown",
   "metadata": {}
  },
  {
   "cell_type": "code",
   "execution_count": 13,
   "metadata": {},
   "outputs": [],
   "source": [
    "elem = browser.find_element_by_class_name('link_login')\n",
    "elem.click()"
   ]
  },
  {
   "source": [
    "3. id, pw 입력"
   ],
   "cell_type": "markdown",
   "metadata": {}
  },
  {
   "cell_type": "code",
   "execution_count": 14,
   "metadata": {},
   "outputs": [],
   "source": [
    "browser.find_element_by_id('id').send_keys('naver_id')\n",
    "browser.find_element_by_id('pw').send_keys('wrong_pw')"
   ]
  },
  {
   "source": [
    "4. 로그인 버튼 클릭"
   ],
   "cell_type": "markdown",
   "metadata": {}
  },
  {
   "cell_type": "code",
   "execution_count": 15,
   "metadata": {},
   "outputs": [],
   "source": [
    "browser.find_element_by_id('log.login').click()\n",
    "\n",
    "time.sleep(3)"
   ]
  },
  {
   "source": [
    "5. id 를 새로입력"
   ],
   "cell_type": "markdown",
   "metadata": {}
  },
  {
   "cell_type": "code",
   "execution_count": 16,
   "metadata": {},
   "outputs": [],
   "source": [
    "browser.find_element_by_id('id').clear() # 원래 적혀있는 아이디 지우기\n",
    "browser.find_element_by_id('id').send_keys('my_id')"
   ]
  },
  {
   "source": [
    "6. html 정보 출력"
   ],
   "cell_type": "markdown",
   "metadata": {}
  },
  {
   "cell_type": "code",
   "execution_count": 17,
   "metadata": {
    "tags": [
     "outputPrepend"
    ]
   },
   "outputs": [
    {
     "output_type": "stream",
     "name": "stdout",
     "text": [
      "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\" alt=\"캡차이미지\" class=\"bill_img\" width=\"100%\" height=\"100%\">\n\t</div>\n\t<p class=\"note\" data-detect=\"note\">해당 영수증은 가상으로 제작된 것으로 실제 영수증 사진이 아닙니다.</p>\n\t<p class=\"bill_message\"><em id=\"captcha_info\" class=\"accent\">세척 장어는 몇 개 구매했습니까?</em></p>\n\n\t<div class=\"input_row\" id=\"captcha_area\">\n\t\t<span class=\"input_box\">\n\t\t\t<label for=\"captcha\" class=\"lbl\" id=\"label_captcha_area\" data-detect=\"code\">정답을 입력해주세요.</label>\n\t\t\t<input type=\"text\" id=\"captcha\" name=\"captcha\" title=\"정답을 입력해주세요.\" placeholder=\"정답을 입력해주세요.\" class=\"int\" data-detect=\"code\">\n\t\t</span>\n\t\t<button type=\"button\" disabled=\"\" title=\"delete\" class=\"wrg\"><span class=\"blind\">삭제</span></button>\n\t</div>\n\t<div id=\"guide_captcha_area\" class=\"error\" role=\"alert\" style=\"display: none;\" data-detect=\"typeWords\">자동입력 방지문자를 입력해 주세요!</div>\n<div></div></div></div>\n<div id=\"rcapt_sound\" style=\"display:none;\">\n\t\t\t\t\t\t<div class=\"captcha_area\">\n                            <div class=\"captcha_box\">\n                                <div class=\"voice_box\">\n                                    <div class=\"voice_inner\">\n                                        <p class=\"ico_voice\"></p>\n                                        <p class=\"text\" id=\"audio_txt\">음성으로 안내되고 있습니다.</p>\n                                    </div>                                    \n                                </div>                                \t\t\t\t\n                            </div>\n                            <p class=\"note\">음성 안내는 시작음 3회 반복 후 재생됩니다.</p>\n                            <p class=\"bill_message\">스피커에서 들리는 내용을<br class=\"br\"> 하단 입력영역에 <em class=\"accent\">숫자</em>로 입력해주세요.</p>\t\t\t\n                            \n                            <div class=\"input_row\" id=\"chptcha_area\">\n                                <span class=\"input_box\">\n                                    <label for=\"chptcha\" class=\"lbl\" id=\"label_chptcha_area\">정답을 입력해주세요.</label>\n                                    <input type=\"text\" id=\"chptcha\" name=\"chptcha\" title=\"정답을 입력해주세요.\" placeholder=\"정답을 입력해주세요.\" class=\"int\">\n                                </span>\n                                <button type=\"button\" disabled=\"\" title=\"delete\" class=\"wrg\">\n                                    <span class=\"blind\">삭제</span>\n                                </button>\n                            </div>\n                        </div>\n                        <div id=\"err_captcha\" class=\"error\" role=\"alert\" style=\"display:none;\">자동입력 방지문자를 입력해 주세요!</div>                 \n</div>\n<script type=\"text/javascript\" charset=\"utf-8\" src=\"https://rcaptcha.nid.naver.com/rcapt.js?key=ISotahWypfDSUu&amp;svc=nid\"></script>\n                    <div class=\"btn_dual\">\n                        <div class=\"btn_dual_inner\">\n                            <div class=\"dual_item\">\n                                <button type=\"button\" id=\"play_audio\" class=\"btn_done\">\n                                    <span class=\"txt refresh\">새로고침</span>\n                                </button>\n                            </div>\n                            <div class=\"dual_item\">\n                                <button type=\"button\" id=\"swap_captcha\" class=\"btn_done\">\n                                    <span class=\"txt voice\" id=\"changeCaptcha\">음성으로 듣기</span>\n                                </button>\n                            </div>\n                        </div>\n                    </div>\n\t\t\t\t\t<input type=\"submit\" title=\"로그인\" alt=\"로그인\" value=\"로그인\" class=\"btn_global\" id=\"l5f.login\">\n\t\t\t\t\t<div class=\"check_info\">\n\t\t\t\t\t\t<div class=\"login_check\">\n\t\t\t\t\t\t\t<span class=\"login_check_box\">\n\t\t\t\t\t\t\t\t<input type=\"checkbox\" id=\"login_chk\" name=\"nvlong\" class=\"\" value=\"off\">\n\t\t\t\t\t\t\t\t<label for=\"login_chk\" id=\"label_login_chk\" class=\"ico_keep_check \">로그인 상태 유지</label>\n\t\t\t\t\t\t\t</span>\n\t\t\t\t\t\t\t<div class=\"ly_v2\" id=\"persist_usage\" style=\"display:none;\">\n\t\t\t\t\t\t\t\t<div class=\"ly_box\">\n\t\t\t\t\t\t\t\t\t<p>개인정보 보호를 위해 <strong>개인 PC에서만 사용하세요.</strong>&nbsp;&nbsp; &nbsp;&nbsp;<a href=\"https://help.naver.com/support/contents/contents.nhn?serviceNo=532&amp;categoryNo=1523\" target=\"_blank\" class=\"sp btn_check_help\">도움말보기</a></p>\n\t\t\t\t\t\t\t\t</div>\n\t\t\t\t\t\t\t\t<span class=\"sp ly_point\"></span>\n\t\t\t\t\t\t\t</div>\n\t\t\t\t\t\t</div>\n\t\t\t\t\t\t<div class=\"pc_check\">\n\t\t\t\t\t\t\t<span class=\"ip_check\">\n\t\t\t\t\t\t\t\t<a href=\"/login/ext/help_ip3.html\" target=\"_blank\" id=\"ipguide\" title=\"\">IP보안</a>\n\t\t\t\t\t\t\t\t<span class=\"ip_ch\">\n\t\t\t\t\t\t\t\t\t<input type=\"checkbox\" id=\"ip_on\" value=\"off\" class=\"\">\n\t\t\t\t\t\t\t\t\t<label for=\"ip_on\" id=\"label_ip_on\" class=\"security on\">ON</label>\n\t\t\t\t\t\t\t\t</span>\n\t\t\t\t\t\t\t</span>\n\t\t\t\t\t\t\t<span class=\"bar\">|</span>\n\t\t\t\t\t\t\t<div class=\"dis_di\">\n\t\t\t\t\t\t\t\t<a href=\"#\" id=\"log.otn\" title=\"일회용 로그인\">일회용 로그인</a><a href=\"#log.otn\" id=\"log.otnhelp\" title=\"도움말\" class=\"btn_help_cover\"><span class=\"sp btn_help\"></span><span class=\"blind\">도움말</span></a>\n\t\t\t\t\t\t\t\t<div class=\"ly\" id=\"onetime_usage\" style=\"display:none;\">\n\t\t\t\t\t\t\t\t\t<div class=\"ly_box\">\n\t\t\t\t\t\t\t\t\t\t<p>네이버앱에서 생성된 일회용 로그인 번호를 입력하면, 앱에 로그인된 계정으로 PC에서 로그인할 수 있어요. 아이디/비밀번호를 입력하지 않아 간편하고 더욱 안전합니다.</p>\n\t\t\t\t\t\t\t\t\t</div>\n\t\t\t\t\t\t\t\t\t<span class=\"sp ly_point\"></span>\n\t\t\t\t\t\t\t\t</div>\n\t\t\t\t\t\t\t</div>\n\t\t\t\t\t\t</div>\n\t\t\t\t\t</div>\n\t\t\t\t</fieldset>\n\t\t\t</form>\n\t\t\t<div class=\"position_a\">\n\t\t\t\t<div class=\"find_info\">\n\t\t\t\t\t<a target=\"_blank\" id=\"idinquiry\" href=\"https://nid.naver.com/user2/api/route.nhn?m=routeIdInquiry&amp;lang=ko_KR\">아이디 찾기</a> <span class=\"bar\" aria-hidden=\"true\">|</span> <a target=\"_blank\" id=\"pwinquiry\" href=\"https://nid.naver.com/user2/api/route.nhn?m=routePwInquiry&amp;lang=ko_KR\">비밀번호 찾기</a> <span class=\"bar\" aria-hidden=\"true\">|</span> <a target=\"_blank\" id=\"join\" href=\"https://nid.naver.com/user2/V2Join.nhn?m=agree&amp;lang=ko_KR\">회원가입</a>\n\t\t\t\t</div>\n\t\t\t</div>\n\t\t</div>\n\t\t<!-- //content -->\n\t</div>\n\t<!-- //container -->\n\t<!-- footer -->\n\t<div id=\"footer\">\n\t\t<ul>\n\t\t<li><a target=\"_blank\" href=\"http://www.naver.com/rules/service.html\" id=\"fot.agreement\">이용약관</a></li>\n\t\t<li><strong><a target=\"_blank\" href=\"http://www.naver.com/rules/privacy.html\" id=\"fot.privacy\">개인정보처리방침</a></strong></li>\n\t\t<li><a target=\"_blank\" href=\"http://www.naver.com/rules/disclaimer.html\" id=\"fot.disclaimer\">책임의 한계와 법적고지</a></li>\n\t\t<li><a target=\"_blank\" href=\"https://help.naver.com/support/service/main.nhn?serviceNo=532\" id=\"fot.help\">회원정보 고객센터</a></li>\n\t\t</ul>\n\t\t<address><em><a target=\"_blank\" href=\"http://www.navercorp.com\" class=\"logo\" id=\"fot.naver\"><span class=\"blind\">naver</span></a></em><em class=\"copy\">Copyright</em> <em class=\"u_cri\">©</em> <a target=\"_blank\" href=\"http://www.navercorp.com\" class=\"u_cra\" id=\"fot.navercorp\">NAVER Corp.</a> <span class=\"all_r\">All Rights Reserved.</span></address>\t\n\t</div>\n\t<!-- //footer -->\n</div>\n<input type=\"hidden\" id=\"nclicks_nsc\" name=\"nclicks_nsc\" value=\"nid.login_kr\">\n<input type=\"hidden\" id=\"ncaptchaSplit\" name=\"ncaptchaSplit\" value=\"none\">\n<input type=\"hidden\" id=\"id_error_msg\" name=\"id_error_msg\" value=\"아이디를 입력해주세요.\">\n<input type=\"hidden\" id=\"pw_error_msg\" name=\"pw_error_msg\" value=\"비밀번호를 입력해주세요.\">\n<input type=\"hidden\" id=\"changeToSound\" name=\"pw_error_msg\" value=\"음성으로 듣기\">\n<input type=\"hidden\" id=\"changeToPicture\" name=\"changeToPicture\" value=\"이미지로 보기\">\n<input type=\"hidden\" id=\"locale\" name=\"locale\" value=\"ko_KR\">\n<input type=\"hidden\" id=\"img_captcha_text\" name=\"img_captcha_text\" value=\"아래 이미지를 보이는 대로 입력해주세요.\">\n<input type=\"hidden\" id=\"sound_captcha_text\" name=\"sound_captcha_text\" value=\"스피커로 들리는 내용을 숫자로 입력해 주세요.\">\n<script type=\"text/javascript\" src=\"/login/js/bvsd.1.3.4.min.js\"></script>\n<script type=\"text/javascript\" src=\"/login/js/default/common200417.js?v=20200714\"></script>\n<script type=\"text/javascript\" src=\"/login/js/default/rcaptcha.js?v=20200728\"></script>\n<div id=\"nv_stat\" style=\"display:none;\">60</div>\n\n\n</body></html>\n"
     ]
    }
   ],
   "source": [
    "print(browser.page_source)"
   ]
  },
  {
   "cell_type": "code",
   "execution_count": 18,
   "metadata": {},
   "outputs": [],
   "source": [
    "browser.quit()"
   ]
  }
 ]
}