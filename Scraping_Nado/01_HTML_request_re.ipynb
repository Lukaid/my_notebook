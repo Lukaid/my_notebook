{
 "metadata": {
  "language_info": {
   "codemirror_mode": {
    "name": "ipython",
    "version": 3
   },
   "file_extension": ".py",
   "mimetype": "text/x-python",
   "name": "python",
   "nbconvert_exporter": "python",
   "pygments_lexer": "ipython3",
   "version": "3.9.1-final"
  },
  "orig_nbformat": 2,
  "kernelspec": {
   "name": "python3",
   "display_name": "Python 3.9.1 64-bit",
   "metadata": {
    "interpreter": {
     "hash": "93d2bee35929e05e44f3a424865844abe2a4ec4d78cb24fe7d4202e6ef37a7f8"
    }
   }
  }
 },
 "nbformat": 4,
 "nbformat_minor": 2,
 "cells": [
  {
   "source": [
    "# HTML (Hyper Text Markup Language)\n",
    "\n",
    "웹페이지를 만들때 쓰는 랭귀지\n",
    "\n"
   ],
   "cell_type": "markdown",
   "metadata": {}
  },
  {
   "source": [
    "<html/> 이렇게 쓰면 엘리먼트 종료\n",
    "\n",
    "<html>    </html> 이렇게 쓰면 저 사이에 내용"
   ],
   "cell_type": "code",
   "metadata": {},
   "execution_count": null,
   "outputs": []
  },
  {
   "cell_type": "code",
   "execution_count": null,
   "metadata": {},
   "outputs": [],
   "source": [
    "Xpath"
   ]
  },
  {
   "source": [
    "## requests"
   ],
   "cell_type": "markdown",
   "metadata": {}
  },
  {
   "cell_type": "code",
   "execution_count": 1,
   "metadata": {},
   "outputs": [],
   "source": [
    "import requests"
   ]
  },
  {
   "cell_type": "code",
   "execution_count": 2,
   "metadata": {},
   "outputs": [
    {
     "output_type": "stream",
     "name": "stdout",
     "text": [
      "응답코드 :  200\n정상임\n"
     ]
    }
   ],
   "source": [
    "res = requests.get(\"http://naver.com\")\n",
    "print(\"응답코드 : \", res.status_code) # 200 이면 정상, 403은 페이지 접근 권한이 없음\n",
    "\n",
    "if res.status_code == requests.codes.ok: # requests.codes.ok 이건 200이랑 같은거\n",
    "    print('정상임')\n",
    "else:\n",
    "    print('문제가 생김')"
   ]
  },
  {
   "cell_type": "code",
   "execution_count": 3,
   "metadata": {},
   "outputs": [
    {
     "output_type": "stream",
     "name": "stdout",
     "text": [
      "응답코드 :  200\n정상임\n"
     ]
    }
   ],
   "source": [
    "res = requests.get(\"http://nadocoding.tistory.com\")\n",
    "print(\"응답코드 : \", res.status_code) # 200 이면 정상, 403은 페이지 접근 권한이 없음\n",
    "\n",
    "if res.status_code == requests.codes.ok: # requests.codes.ok 이건 200이랑 같은거\n",
    "    print('정상임')\n",
    "else:\n",
    "    print('문제가 생김')"
   ]
  },
  {
   "source": [
    "밑에처럼 한쌍으로 처리하는 경우가 많음"
   ],
   "cell_type": "markdown",
   "metadata": {}
  },
  {
   "cell_type": "code",
   "execution_count": 7,
   "metadata": {},
   "outputs": [],
   "source": [
    "res = requests.get(\"http://google.com\")\n",
    "res.raise_for_status() # 올바른 주소를 가져왔으면 실행 아니면 오류"
   ]
  },
  {
   "cell_type": "code",
   "execution_count": 8,
   "metadata": {},
   "outputs": [
    {
     "output_type": "stream",
     "name": "stdout",
     "text": [
      "14055\n"
     ]
    }
   ],
   "source": [
    "print(len(res.text))"
   ]
  },
  {
   "cell_type": "code",
   "execution_count": 9,
   "metadata": {},
   "outputs": [],
   "source": [
    "with open(\"mygoogle.html\", \"w\", encoding=\"utf-8\") as f:\n",
    "    f.write(res.text)"
   ]
  },
  {
   "source": [
    "## 정규식 (regular expression)"
   ],
   "cell_type": "markdown",
   "metadata": {}
  },
  {
   "cell_type": "code",
   "execution_count": 1,
   "metadata": {},
   "outputs": [],
   "source": [
    "import re"
   ]
  },
  {
   "cell_type": "code",
   "execution_count": 20,
   "metadata": {},
   "outputs": [
    {
     "output_type": "stream",
     "name": "stdout",
     "text": [
      "care\n매칭되지 않음\n"
     ]
    }
   ],
   "source": [
    "# ca?e는 어떻게 표현?\n",
    "\n",
    "p = re.compile(\"ca.e\") \n",
    "# . (ca.e) 은 하나의 문자를 의미하는 것 _ cafe\n",
    "# ^ (^de) 은 문자열의 시작 _ desk\n",
    "# $ (se$) 은 문자열의 끝 _ case\n",
    "\n",
    "def print_match(m):\n",
    "    if m:\n",
    "        print(m.group())\n",
    "    else:\n",
    "        print(\"매칭되지 않음\")\n",
    "\n",
    "m = p.match(\"careless\")\n",
    "# match함수는 주어진 문자열이 처음부터 일치 하는지만 확인하고 뒷부분은 일지하지 않아도 상관 X\n",
    "print_match(m)\n",
    "print_match(p.match(\"123care\"))\n",
    "# print(m.group()) # 매치되지 않으면 에러를 반환\n"
   ]
  },
  {
   "source": [
    "print_match함수 재정의\n",
    "- group(): 일치하는 문자열만 반환\n",
    "- string: 입력반은 문자열 반환 (함수X 변수임)\n",
    "- start(): 일치하는 문자열의 시작 index\n",
    "- end(): 일치하는 문자열의 끝 index\n",
    "- span(): 일치하는 문자열의 시작과 끝 index"
   ],
   "cell_type": "markdown",
   "metadata": {}
  },
  {
   "cell_type": "code",
   "execution_count": 24,
   "metadata": {},
   "outputs": [],
   "source": [
    "def print_match(m):\n",
    "    if m:\n",
    "        print(\"m.group():\", m.group())\n",
    "        print(\"m.string:\", m.string) #string은 함수가 아닌 문자이기 때문에 괄호 없이 사용\n",
    "        print(\"m.start():\", m.start())\n",
    "        print(\"m.end():\", m.end())\n",
    "        print(\"m.span():\", m.span())\n",
    "    else:\n",
    "        print(\"매칭되지 않음\")"
   ]
  },
  {
   "source": [
    "- match함수는 주어진 문자열이 처음부터 일치 하는지만 확인하고 뒷부분은 일지하지 않아도 상관 X\n",
    "- search함수는 주어진 문자열 중에 일치하는 것이 있는지 확인"
   ],
   "cell_type": "markdown",
   "metadata": {}
  },
  {
   "cell_type": "code",
   "execution_count": 28,
   "metadata": {},
   "outputs": [
    {
     "output_type": "stream",
     "name": "stdout",
     "text": [
      "m.group(): care\nm.string: good care\nm.start(): 5\nm.end(): 9\nm.span(): (5, 9)\n\nm.group(): care\nm.string: careless\nm.start(): 0\nm.end(): 4\nm.span(): (0, 4)\n"
     ]
    }
   ],
   "source": [
    "print_match(p.search(\"good care\"))\n",
    "print()\n",
    "print_match(p.search(\"careless\"))"
   ]
  },
  {
   "cell_type": "code",
   "execution_count": 34,
   "metadata": {},
   "outputs": [
    {
     "output_type": "stream",
     "name": "stdout",
     "text": [
      "['care', 'cafe', 'cake']\n"
     ]
    }
   ],
   "source": [
    "lst = p.findall('good care cafe cake') # 일치하는 모든 것을 리스트 형태로 반환\n",
    "print(lst)"
   ]
  },
  {
   "source": [
    "## 정규식 사용 순서\n",
    "1. p = re.compile('원하는 형태로 컴파일')\n",
    "2. m = p.match(\"비교할 문자열\") _ 비교할 문자열의 처음부터 일치하는지 확인\n",
    "3. m = p.search(\"비교할 문자열\") _ 비교할 문자열 중에 일치하는 것이 있는지 확인\n",
    "4. lst = p.findall(\"비교할 문자열\") _ 비교할 문자열에서 일치하는 모든 것을 리스트 형태로 반환\n",
    "\n",
    "### 원하는 형태: 정규식\n",
    "- . (ca.e) 은 하나의 문자를 의미하는 것 _ cafe\n",
    "- ^ (^de) 은 문자열의 시작 _ desk\n",
    "- $ (se$) 은 문자열의 끝 _ case\n",
    "\n"
   ],
   "cell_type": "markdown",
   "metadata": {}
  },
  {
   "source": [
    "## User Agent\n",
    "\n",
    "크롤링이나 스크래핑으로 웹의 정보를 가져올때 헤더를 user agent로 지정하지 않으면 내가 원하는 자료를 얻지 못할 수 있음.\n",
    "\n",
    "내 유저에이전트 정보 확인\n",
    "https://www.whatismybrowser.com/detect/what-is-my-user-agent\n",
    "\n",
    "Mozilla/5.0 (Windows NT 10.0; Win64; x64) AppleWebKit/537.36 (KHTML, like Gecko) Chrome/88.0.4324.190 Safari/537.36\n"
   ],
   "cell_type": "markdown",
   "metadata": {}
  },
  {
   "cell_type": "code",
   "execution_count": 37,
   "metadata": {},
   "outputs": [],
   "source": [
    "import requests\n",
    "\n",
    "url = \"http://nadocoding.tistory.com\"\n",
    "\n",
    "headers = {\"User-Agent\":\"Mozilla/5.0 (Windows NT 10.0; Win64; x64) AppleWebKit/537.36 (KHTML, like Gecko) Chrome/88.0.4324.190 Safari/537.36\"}\n",
    "\n",
    "res = requests.get(url, headers = headers)\n",
    "\n",
    "res.raise_for_status() # 올바른 주소를 가져왔으면 실행 아니면 오류\n",
    "\n",
    "with open(\"nadocoding.html\", \"w\", encoding=\"utf-8\") as f:\n",
    "    f.write(res.text)"
   ]
  }
 ]
}