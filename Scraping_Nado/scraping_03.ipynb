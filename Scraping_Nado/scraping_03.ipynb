{
 "metadata": {
  "language_info": {
   "codemirror_mode": {
    "name": "ipython",
    "version": 3
   },
   "file_extension": ".py",
   "mimetype": "text/x-python",
   "name": "python",
   "nbconvert_exporter": "python",
   "pygments_lexer": "ipython3",
   "version": "3.9.1-final"
  },
  "orig_nbformat": 2,
  "kernelspec": {
   "name": "python3",
   "display_name": "Python 3.9.1 64-bit",
   "metadata": {
    "interpreter": {
     "hash": "93d2bee35929e05e44f3a424865844abe2a4ec4d78cb24fe7d4202e6ef37a7f8"
    }
   }
  }
 },
 "nbformat": 4,
 "nbformat_minor": 2,
 "cells": [
  {
   "source": [
    "HTTP Method에는 Get방식과 Post방식이 있음. 쿠팡은 Get방식"
   ],
   "cell_type": "markdown",
   "metadata": {}
  },
  {
   "cell_type": "code",
   "execution_count": 5,
   "metadata": {},
   "outputs": [],
   "source": [
    "import requests\n",
    "from bs4 import BeautifulSoup\n",
    "import re"
   ]
  },
  {
   "cell_type": "code",
   "execution_count": 15,
   "metadata": {},
   "outputs": [],
   "source": [
    "url = \"https://www.coupang.com/np/search?q=%EB%85%B8%ED%8A%B8%EB%B6%81&channel=user&component=&eventCategory=SRP&trcid=&traid=&sorter=scoreDesc&minPrice=&maxPrice=&priceRange=&filterType=&listSize=36&filter=&isPriceRange=false&brand=&offerCondition=&rating=0&page=1&rocketAll=false&searchIndexingToken=&backgroundColor=\"\n",
    "headers = {\"User-Agent\":\"Mozilla/5.0 (Windows NT 10.0; Win64; x64) AppleWebKit/537.36 (KHTML, like Gecko) Chrome/88.0.4324.190 Safari/537.36\"}\n",
    "\n",
    "res = requests.get(url, headers = headers)\n",
    "res.raise_for_status() # User-Agent값을 지정해주니까 서버에서 안막는 듯\n",
    "soup = BeautifulSoup(res.text, \"lxml\")"
   ]
  },
  {
   "source": [
    "### 정규표현식 활용\n",
    "\n",
    "Li 태그의 class가 search-product로 시작하는 모든 element를 가져오기위해\n",
    "\n",
    "^를 이용하여 search-product로 시작하는 것을 컴파일"
   ],
   "cell_type": "markdown",
   "metadata": {}
  },
  {
   "cell_type": "code",
   "execution_count": 16,
   "metadata": {},
   "outputs": [
    {
     "output_type": "stream",
     "name": "stdout",
     "text": [
      "Dell Latitude E6530 3세대i7 탑재 램8G SSD 256G 윈도우10 무료업그레이드, 8GB, SSD 256GB\n"
     ]
    }
   ],
   "source": [
    "items = soup.find_all('li', attrs={'class':re.compile('^search-product')})\n",
    "print(items[0].find(\"div\", attrs={'class':'name'}).get_text())"
   ]
  },
  {
   "cell_type": "code",
   "execution_count": 21,
   "metadata": {},
   "outputs": [
    {
     "output_type": "stream",
     "name": "stdout",
     "text": [
      "Dell Latitude E6530 3세대i7 탑재 램8G SSD 256G 윈도우10 무료업그레이드, 8GB, SSD 256GB || 359,000 || 3.5 || (2)\n삼성전자 플러스2 퓨어화이트 노트북 NT550XDA-K78AW (i7-1165G7 39.6cm WIN10 Home), 포함, 256GB, 16GB || 1,379,000 || 5.0 || (588)\n삼성전자 노트북9 METAL NT901X5L 가볍고 슬림한 1.29kg 코어i5 SSD256GB 윈10 탑재, 포함, SSD 256GB, 8GB || 678,000 || 4.5 || (248)\nApple 2020년 맥북 프로 13 (M1 칩셋 8코어 CPU 8코어 GPU), 8GB, SSD 256GB, 스페이스 그레이 || 1,606,510 || 5.0 || (362)\n삼성전자 시리즈3 NT351U2B 코어i3 4G SSD Win10, i3 4G SSD128 Win10 || 249,000 || 3.5 || (19)\n삼성 노트북9 NT901X5H (i5-6200U/8G/SSD 512G/윈10), 단품, 단품 || 729,000 || 4.0 || (22)\n삼성전자 Plus 2 퓨어화이트 노트북 NT550XDZ-AD1AW (셀러론 6305 39.6cm), 미포함, 256GB, 8GB || 498,000 || 5.0 || (100)\nLG전자 그램14 스노우 화이트 노트북 14ZD90P-GX50K (i5-1135G7 35.5cm), 미포함, 256GB, 8GB || 1,399,000 || 5.0 || (38)\n레노버 ThinkPad L560 i5-6300U 8G SSD256 Win10 || 429,000 || 4.5 || (6)\n삼성전자 플러스 퓨어 화이트 노트북 NT350XCR-AD3AW (i3-10110U), 포함, 256GB, 8GB, WIN10 Home, RAM 8GB + SSD 256GB || 828,000 || 5.0 || (182)\n삼성전자 Plus 2 퓨어화이트 노트북 NT550XDZ-AD1AW (셀러론 6305 39.6cm), 포함, 256GB, 8GB || 697,000 || 5.0 || (100)\n에이수스 Vivobook 14 드리미 화이트 노트북 D413DA-CP007 (라이젠7-3700U 35.5cm), 256GB, 윈도우 미포함 등, 8GB || 549,000 || 4.5 || (14)\nLG전자 울트라 PC 화이트 노트북 13UD70P-GX50K (라이젠5-4500U 33.78cm), 미포함, 256GB, 8GB || 889,000 || 5.0 || (15)\n삼성전자 Plus 2 미스틱그레이 노트북 NT550XDZ-AD1AG (셀러론 6305 39.6cm), 미포함, 256GB, 8GB || 498,000 || 5.0 || (57)\n삼성전자 갤럭시북 S Mercury Gray 노트북 NT767XCM-K58S(i5-L16G7 33.7cm Win10 Home Wi-Fi전용), 윈도우 포함, 256GB, 8GB || 1,109,000 || 5.0 || (48)\nApple 2020년 맥북 프로 13 (M1 칩셋 8코어 CPU 8코어 GPU), 8GB, SSD 512GB, 스페이스 그레이 || 1,858,990 || 5.0 || (362)\n레노버 아이디어패드 Platinum Grey 노트북 S150-11 81VT (Intel Celeron N4020 29.5cm WIN10 Home S), 윈도우 포함, 64GB, 4GB || 289,000 || 4.5 || (72)\nApple 2020 맥북 에어 13, Space gray, 10세대 i3-1.1GHz dual-core, SSD 256GB, 8GB || 999,000 || 5.0 || (1050)\n삼성전자 Plus 2 미스틱그레이 노트북 NT550XDZ-AD1AG (셀러론 6305 39.6cm), 포함, 256GB, 8GB || 697,000 || 5.0 || (57)\nApple 2020년 맥북 프로 13 (M1 칩셋 8코어 CPU 8코어 GPU), 16GB, SSD 512GB, 스페이스 그레이 || 2,230,000 || 5.0 || (362)\n삼성전자 플러스2 퓨어화이트 노트북 NT550XDZ-AD5AW (i5-1135G7), WIN10 Home, RAM 8GB + RAM 8GB + SSD 256GB || 1,206,000 || 5.0 || (70)\n한성컴퓨터 노트북 올데이롱 블랙 TFX255S (i5-10210U 39.62cm WIN미포함), 미포함, SSD 500GB, 8GB || 799,000 || 5.0 || (106)\n삼성전자 플러스 퓨어 화이트 노트북 NT350XCR-AD3AW (i3-10110U), 미포함, 256GB, 16GB, WIN미설치,  RAM 8GB + RAM 8GB + SSD 256GB || 718,000 || 5.0 || (182)\nApple 2020년 맥북 프로 13 (M1 칩셋 8코어 CPU 8코어 GPU), 8GB, SSD 256GB, 실버 || 1,606,510 || 5.0 || (362)\nLG전자 그램16 스노우 화이트 노트북 16Z90P-GA56K (i5-1135G7 40.6cm WIN10 Home), 포함, 512GB, 8GB || 2,029,000 || 4.5 || (29)\n삼성전자 갤럭시북 S NT767XCM-K58 Earth Gold (Wi-Fi전용 i5-L16G7 33.7cm Win10 Home), 포함, eUFS 256GB, 8GB || 1,109,000 || 5.0 || (40)\nLG전자 10세대 코어i7 윈10탑재 17형 LG 그램 2020년형 17Z90N 그레이 정품키스킨 증정, 16GB, SSD 512GB, 포함 || 1,679,000 || 4.5 || (116)\n에이수스 ROG 스트릭스 블랙 노트북 G712LU-H7021 (i7-10750H 43cm GTX 1660 Ti), 512GB, 미포함, 8GB || 1,383,950 || 4.5 || (6)\nLG전자 울트라 화이트 노트북 14U390-ME1TK (셀러론-N4100 35.5cm WIN10 S), 포함, 192GB, 4GB || 518,000 || 4.5 || (16)\n삼성전자 플러스 플래티넘 티탄 노트북 NT350XCR-AD5AS (i5-10210U 39.6cm WIN10 Home), 윈도우 미포함, 256GB, 16GB || 867,000 || 5.0 || (208)\nApple 2020년 맥북 프로 13 (M1 칩셋 8코어 CPU 8코어 GPU), 8GB, SSD 512GB, 실버 || 1,860,000 || 5.0 || (362)\n에이수스 TUF 포트리스 그레이 노트북 FX506LU-HN002 (i5-10300H 39.62cm GTX1660Ti), 윈도우 미포함, 512GB, 8GB || 1,110,570 || 4.5 || (9)\n삼성전자 갤럭시북 플렉스 2 미스틱 브론즈 노트북 NT950QDA-X71AZ 1TB (i7-1165G7 39.6cm MX450 WIN10 Home), 포함, 16GB || 2,698,000 || 5.0 || (36)\n삼성전자 플러스 플래티넘 티탄 노트북 NT350XCR-AD5AS (i5-10210U 39.6cm WIN10 Home), 포함, 256GB, 16GB || 1,047,000 || 5.0 || (208)\n삼성전자 퓨어 화이트 노트북 NT350XCR-AD5WA-X16G (i5-10210U 39.6cm), 윈도우 미포함, 256GB, 16GB || 868,000 || 5.0 || (194)\n삼성전자 플러스2 퓨어 화이트 노트북 NT550XDZ-AD2AW (펜티엄골드-7505), WIN미포함,  RAM 8GB + SDD 256GB || 587,000 || 5.0 || (28)\n"
     ]
    }
   ],
   "source": [
    "for item in items:\n",
    "    name = item.find(\"div\", attrs={'class':'name'}).get_text() # 제품명\n",
    "    price = item.find(\"strong\", attrs={'class':'price-value'}).get_text() # 가격\n",
    "    rate = item.find(\"em\", attrs={'class':'rating'}) # 평점\n",
    "    rate_count = item.find(\"span\", attrs={'class':'rating-total-count'}) # 리뷰수\n",
    "\n",
    "    if rate:\n",
    "        rate = rate.get_text()\n",
    "    else:\n",
    "        rate = '평점없음'\n",
    "\n",
    "    if rate_count:\n",
    "        rate_count = rate_count.get_text()\n",
    "    else:\n",
    "        rate_count = '리뷰 없음'\n",
    "\n",
    "    print(name, \"||\", price,\"||\", rate,\"||\", rate_count)\n"
   ]
  },
  {
   "cell_type": "code",
   "execution_count": 22,
   "metadata": {},
   "outputs": [
    {
     "output_type": "stream",
     "name": "stdout",
     "text": [
      "광고 상품 제외\n삼성전자 플러스2 퓨어화이트 노트북 NT550XDA-K78AW (i7-1165G7 39.6cm WIN10 Home), 포함, 256GB, 16GB || 1,379,000 || 5.0 || (588)\n삼성전자 노트북9 METAL NT901X5L 가볍고 슬림한 1.29kg 코어i5 SSD256GB 윈10 탑재, 포함, SSD 256GB, 8GB || 678,000 || 4.5 || (248)\nApple 2020년 맥북 프로 13 (M1 칩셋 8코어 CPU 8코어 GPU), 8GB, SSD 256GB, 스페이스 그레이 || 1,606,510 || 5.0 || (362)\n광고 상품 제외\n광고 상품 제외\n삼성전자 Plus 2 퓨어화이트 노트북 NT550XDZ-AD1AW (셀러론 6305 39.6cm), 미포함, 256GB, 8GB || 498,000 || 5.0 || (100)\nLG전자 그램14 스노우 화이트 노트북 14ZD90P-GX50K (i5-1135G7 35.5cm), 미포함, 256GB, 8GB || 1,399,000 || 5.0 || (38)\n광고 상품 제외\n삼성전자 플러스 퓨어 화이트 노트북 NT350XCR-AD3AW (i3-10110U), 포함, 256GB, 8GB, WIN10 Home, RAM 8GB + SSD 256GB || 828,000 || 5.0 || (182)\n삼성전자 Plus 2 퓨어화이트 노트북 NT550XDZ-AD1AW (셀러론 6305 39.6cm), 포함, 256GB, 8GB || 697,000 || 5.0 || (100)\n에이수스 Vivobook 14 드리미 화이트 노트북 D413DA-CP007 (라이젠7-3700U 35.5cm), 256GB, 윈도우 미포함 등, 8GB || 549,000 || 4.5 || (14)\nLG전자 울트라 PC 화이트 노트북 13UD70P-GX50K (라이젠5-4500U 33.78cm), 미포함, 256GB, 8GB || 889,000 || 5.0 || (15)\n삼성전자 Plus 2 미스틱그레이 노트북 NT550XDZ-AD1AG (셀러론 6305 39.6cm), 미포함, 256GB, 8GB || 498,000 || 5.0 || (57)\n삼성전자 갤럭시북 S Mercury Gray 노트북 NT767XCM-K58S(i5-L16G7 33.7cm Win10 Home Wi-Fi전용), 윈도우 포함, 256GB, 8GB || 1,109,000 || 5.0 || (48)\nApple 2020년 맥북 프로 13 (M1 칩셋 8코어 CPU 8코어 GPU), 8GB, SSD 512GB, 스페이스 그레이 || 1,858,990 || 5.0 || (362)\n레노버 아이디어패드 Platinum Grey 노트북 S150-11 81VT (Intel Celeron N4020 29.5cm WIN10 Home S), 윈도우 포함, 64GB, 4GB || 289,000 || 4.5 || (72)\nApple 2020 맥북 에어 13, Space gray, 10세대 i3-1.1GHz dual-core, SSD 256GB, 8GB || 999,000 || 5.0 || (1050)\n삼성전자 Plus 2 미스틱그레이 노트북 NT550XDZ-AD1AG (셀러론 6305 39.6cm), 포함, 256GB, 8GB || 697,000 || 5.0 || (57)\nApple 2020년 맥북 프로 13 (M1 칩셋 8코어 CPU 8코어 GPU), 16GB, SSD 512GB, 스페이스 그레이 || 2,230,000 || 5.0 || (362)\n삼성전자 플러스2 퓨어화이트 노트북 NT550XDZ-AD5AW (i5-1135G7), WIN10 Home, RAM 8GB + RAM 8GB + SSD 256GB || 1,206,000 || 5.0 || (70)\n한성컴퓨터 노트북 올데이롱 블랙 TFX255S (i5-10210U 39.62cm WIN미포함), 미포함, SSD 500GB, 8GB || 799,000 || 5.0 || (106)\n삼성전자 플러스 퓨어 화이트 노트북 NT350XCR-AD3AW (i3-10110U), 미포함, 256GB, 16GB, WIN미설치,  RAM 8GB + RAM 8GB + SSD 256GB || 718,000 || 5.0 || (182)\nApple 2020년 맥북 프로 13 (M1 칩셋 8코어 CPU 8코어 GPU), 8GB, SSD 256GB, 실버 || 1,606,510 || 5.0 || (362)\nLG전자 그램16 스노우 화이트 노트북 16Z90P-GA56K (i5-1135G7 40.6cm WIN10 Home), 포함, 512GB, 8GB || 2,029,000 || 4.5 || (29)\n삼성전자 갤럭시북 S NT767XCM-K58 Earth Gold (Wi-Fi전용 i5-L16G7 33.7cm Win10 Home), 포함, eUFS 256GB, 8GB || 1,109,000 || 5.0 || (40)\nLG전자 10세대 코어i7 윈10탑재 17형 LG 그램 2020년형 17Z90N 그레이 정품키스킨 증정, 16GB, SSD 512GB, 포함 || 1,679,000 || 4.5 || (116)\n에이수스 ROG 스트릭스 블랙 노트북 G712LU-H7021 (i7-10750H 43cm GTX 1660 Ti), 512GB, 미포함, 8GB || 1,383,950 || 4.5 || (6)\nLG전자 울트라 화이트 노트북 14U390-ME1TK (셀러론-N4100 35.5cm WIN10 S), 포함, 192GB, 4GB || 518,000 || 4.5 || (16)\n삼성전자 플러스 플래티넘 티탄 노트북 NT350XCR-AD5AS (i5-10210U 39.6cm WIN10 Home), 윈도우 미포함, 256GB, 16GB || 867,000 || 5.0 || (208)\nApple 2020년 맥북 프로 13 (M1 칩셋 8코어 CPU 8코어 GPU), 8GB, SSD 512GB, 실버 || 1,860,000 || 5.0 || (362)\n에이수스 TUF 포트리스 그레이 노트북 FX506LU-HN002 (i5-10300H 39.62cm GTX1660Ti), 윈도우 미포함, 512GB, 8GB || 1,110,570 || 4.5 || (9)\n삼성전자 갤럭시북 플렉스 2 미스틱 브론즈 노트북 NT950QDA-X71AZ 1TB (i7-1165G7 39.6cm MX450 WIN10 Home), 포함, 16GB || 2,698,000 || 5.0 || (36)\n삼성전자 플러스 플래티넘 티탄 노트북 NT350XCR-AD5AS (i5-10210U 39.6cm WIN10 Home), 포함, 256GB, 16GB || 1,047,000 || 5.0 || (208)\n삼성전자 퓨어 화이트 노트북 NT350XCR-AD5WA-X16G (i5-10210U 39.6cm), 윈도우 미포함, 256GB, 16GB || 868,000 || 5.0 || (194)\n삼성전자 플러스2 퓨어 화이트 노트북 NT550XDZ-AD2AW (펜티엄골드-7505), WIN미포함,  RAM 8GB + SDD 256GB || 587,000 || 5.0 || (28)\n"
     ]
    }
   ],
   "source": [
    "# 광고 제외\n",
    "\n",
    "for item in items:\n",
    "\n",
    "    ad_badge = item.find(\"span\", attrs={'class':'ad-badge-text'})\n",
    "    if ad_badge:\n",
    "        print(\"<< 광고 상품 제외 >>\")\n",
    "        continue\n",
    "\n",
    "    name = item.find(\"div\", attrs={'class':'name'}).get_text() # 제품명\n",
    "    price = item.find(\"strong\", attrs={'class':'price-value'}).get_text() # 가격\n",
    "    rate = item.find(\"em\", attrs={'class':'rating'}) # 평점\n",
    "    rate_count = item.find(\"span\", attrs={'class':'rating-total-count'}) # 리뷰수\n",
    "\n",
    "    if rate:\n",
    "        rate = rate.get_text()\n",
    "    else:\n",
    "        rate = '평점없음'\n",
    "\n",
    "    if rate_count:\n",
    "        rate_count = rate_count.get_text()\n",
    "    else:\n",
    "        rate_count = '리뷰 없음'\n",
    "\n",
    "    print(name, \"||\", price,\"||\", rate,\"||\", rate_count)"
   ]
  },
  {
   "cell_type": "code",
   "execution_count": 26,
   "metadata": {},
   "outputs": [
    {
     "output_type": "stream",
     "name": "stdout",
     "text": [
      "<< 광고 상품 제외 >>\n삼성전자 플러스2 퓨어화이트 노트북 NT550XDA-K78AW (i7-1165G7 39.6cm WIN10 Home), 포함, 256GB, 16GB || 1,379,000 || 5.0 || (588)\n삼성전자 노트북9 METAL NT901X5L 가볍고 슬림한 1.29kg 코어i5 SSD256GB 윈10 탑재, 포함, SSD 256GB, 8GB || 678,000 || 4.5 || (248)\n<< Apple 상품 제외 >>\n<< 광고 상품 제외 >>\n<< 광고 상품 제외 >>\n삼성전자 Plus 2 퓨어화이트 노트북 NT550XDZ-AD1AW (셀러론 6305 39.6cm), 미포함, 256GB, 8GB || 498,000 || 5.0 || (100)\n<< 리뷰 100개 미만 제외 >>\n<< 광고 상품 제외 >>\n삼성전자 플러스 퓨어 화이트 노트북 NT350XCR-AD3AW (i3-10110U), 포함, 256GB, 8GB, WIN10 Home, RAM 8GB + SSD 256GB || 828,000 || 5.0 || (182)\n삼성전자 Plus 2 퓨어화이트 노트북 NT550XDZ-AD1AW (셀러론 6305 39.6cm), 포함, 256GB, 8GB || 697,000 || 5.0 || (100)\n<< 리뷰 100개 미만 제외 >>\n<< 리뷰 100개 미만 제외 >>\n<< 리뷰 100개 미만 제외 >>\n<< 리뷰 100개 미만 제외 >>\n<< Apple 상품 제외 >>\n<< 리뷰 100개 미만 제외 >>\n<< Apple 상품 제외 >>\n<< 리뷰 100개 미만 제외 >>\n<< Apple 상품 제외 >>\n<< 리뷰 100개 미만 제외 >>\n한성컴퓨터 노트북 올데이롱 블랙 TFX255S (i5-10210U 39.62cm WIN미포함), 미포함, SSD 500GB, 8GB || 799,000 || 5.0 || (106)\n삼성전자 플러스 퓨어 화이트 노트북 NT350XCR-AD3AW (i3-10110U), 미포함, 256GB, 16GB, WIN미설치,  RAM 8GB + RAM 8GB + SSD 256GB || 718,000 || 5.0 || (182)\n<< Apple 상품 제외 >>\n<< 리뷰 100개 미만 제외 >>\n<< 리뷰 100개 미만 제외 >>\nLG전자 10세대 코어i7 윈10탑재 17형 LG 그램 2020년형 17Z90N 그레이 정품키스킨 증정, 16GB, SSD 512GB, 포함 || 1,679,000 || 4.5 || (116)\n<< 리뷰 100개 미만 제외 >>\n<< 리뷰 100개 미만 제외 >>\n삼성전자 플러스 플래티넘 티탄 노트북 NT350XCR-AD5AS (i5-10210U 39.6cm WIN10 Home), 윈도우 미포함, 256GB, 16GB || 867,000 || 5.0 || (208)\n<< Apple 상품 제외 >>\n<< 리뷰 100개 미만 제외 >>\n<< 리뷰 100개 미만 제외 >>\n삼성전자 플러스 플래티넘 티탄 노트북 NT350XCR-AD5AS (i5-10210U 39.6cm WIN10 Home), 포함, 256GB, 16GB || 1,047,000 || 5.0 || (208)\n삼성전자 퓨어 화이트 노트북 NT350XCR-AD5WA-X16G (i5-10210U 39.6cm), 윈도우 미포함, 256GB, 16GB || 868,000 || 5.0 || (194)\n<< 리뷰 100개 미만 제외 >>\n"
     ]
    }
   ],
   "source": [
    "# 광고 제외\n",
    "# 평점 4.5 이상, 리뷰 100개 이상만 출력\n",
    "# apple제품 제외\n",
    "\n",
    "for item in items:\n",
    "\n",
    "    ad_badge = item.find(\"span\", attrs={'class':'ad-badge-text'})\n",
    "    if ad_badge:\n",
    "        print(\"<< 광고 상품 제외 >>\")\n",
    "        continue\n",
    "\n",
    "    name = item.find(\"div\", attrs={'class':'name'}).get_text() # 제품명\n",
    "    price = item.find(\"strong\", attrs={'class':'price-value'}).get_text() # 가격\n",
    "    rate = item.find(\"em\", attrs={'class':'rating'}) # 평점\n",
    "    rate_count = item.find(\"span\", attrs={'class':'rating-total-count'}) # 리뷰수\n",
    "\n",
    "    if \"Apple\" in name:\n",
    "        print(\"<< Apple 상품 제외 >>\")\n",
    "        continue\n",
    "\n",
    "    if rate:\n",
    "        rate = rate.get_text()\n",
    "        if float(rate) >= 4.5:\n",
    "            pass\n",
    "        else:\n",
    "            print(\"<< 평점 4.5 미만 제외 >>\")\n",
    "            continue\n",
    "    else:\n",
    "        rate = '평점없음'\n",
    "        print(\"<< 평점 없는 상품 제외 >>\")\n",
    "        continue\n",
    "\n",
    "    if rate_count:\n",
    "        rate_count = rate_count.get_text()\n",
    "        if float(rate_count[1:-1]) >= 100:\n",
    "            pass\n",
    "        else:\n",
    "            print(\"<< 리뷰 100개 미만 제외 >>\")\n",
    "            continue\n",
    "    else:\n",
    "        rate_count = '리뷰 없음'\n",
    "        print(\"<< 리뷰 없는 상품 제외 >>\")\n",
    "        continue\n",
    "\n",
    "    print(name, \"||\", price,\"||\", rate,\"||\", rate_count)"
   ]
  }
 ]
}