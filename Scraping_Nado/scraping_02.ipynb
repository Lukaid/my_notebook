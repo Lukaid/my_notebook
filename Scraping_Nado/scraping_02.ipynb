{
 "metadata": {
  "language_info": {
   "codemirror_mode": {
    "name": "ipython",
    "version": 3
   },
   "file_extension": ".py",
   "mimetype": "text/x-python",
   "name": "python",
   "nbconvert_exporter": "python",
   "pygments_lexer": "ipython3",
   "version": "3.9.1-final"
  },
  "orig_nbformat": 2,
  "kernelspec": {
   "name": "python3",
   "display_name": "Python 3.9.1 64-bit",
   "metadata": {
    "interpreter": {
     "hash": "93d2bee35929e05e44f3a424865844abe2a4ec4d78cb24fe7d4202e6ef37a7f8"
    }
   }
  }
 },
 "nbformat": 4,
 "nbformat_minor": 2,
 "cells": [
  {
   "source": [
    "## Beautiful Soup"
   ],
   "cell_type": "markdown",
   "metadata": {}
  },
  {
   "cell_type": "code",
   "execution_count": 1,
   "metadata": {},
   "outputs": [],
   "source": [
    "import requests\n",
    "from bs4 import BeautifulSoup"
   ]
  },
  {
   "cell_type": "code",
   "execution_count": 2,
   "metadata": {},
   "outputs": [],
   "source": [
    "url = \"https://comic.naver.com/webtoon/weekday.nhn\"\n",
    "res = requests.get(url)\n",
    "res.raise_for_status()\n",
    "\n",
    "soup = BeautifulSoup(res.text, \"lxml\")\n"
   ]
  },
  {
   "cell_type": "code",
   "execution_count": 6,
   "metadata": {},
   "outputs": [
    {
     "output_type": "stream",
     "name": "stdout",
     "text": [
      "<title>네이버 만화 &gt; 요일별  웹툰 &gt; 전체웹툰</title>\n네이버 만화 > 요일별  웹툰 > 전체웹툰\n"
     ]
    }
   ],
   "source": [
    "print(soup.title)\n",
    "print(soup.title.get_text())"
   ]
  },
  {
   "cell_type": "code",
   "execution_count": 12,
   "metadata": {},
   "outputs": [
    {
     "output_type": "stream",
     "name": "stdout",
     "text": [
      "{'href': '#menu', 'onclick': \"document.getElementById('menu').tabIndex=-1;document.getElementById('menu').focus();return false;\"}\n#menu\n"
     ]
    }
   ],
   "source": [
    "#print(soup.a)\n",
    "# 가져온 HTML중 첫번째로 발견되는 a 태그를 알려줘\n",
    "print(soup.a.attrs) # a element의 속성을 가져옴\n",
    "print(soup.a['href']) # a element의 href 속성값 추출"
   ]
  },
  {
   "cell_type": "code",
   "execution_count": 14,
   "metadata": {},
   "outputs": [
    {
     "output_type": "execute_result",
     "data": {
      "text/plain": [
       "<a class=\"Nbtn_upload\" href=\"/mypage/myActivity.nhn\" onclick=\"nclk_v2(event,'olk.upload');\">웹툰 올리기</a>"
      ]
     },
     "metadata": {},
     "execution_count": 14
    }
   ],
   "source": [
    "# soup에서 a 태크에 해당하는 첫번째 element를 가져옴\n",
    "# 그 중 조건에 맞는\n",
    "soup.find(\"a\", attrs={'class':'Nbtn_upload'})\n",
    "# 'class'가 'Nbtn_upload' 인 a element를 찾아줘\n",
    "soup.find(attrs={'class':'Nbtn_upload'})\n",
    "# 'class'가 'Nbtn_upload' 인 어떤 element를 찾아줘"
   ]
  },
  {
   "cell_type": "code",
   "execution_count": 15,
   "metadata": {},
   "outputs": [
    {
     "output_type": "stream",
     "name": "stdout",
     "text": [
      "<li class=\"rank01\">\n<a href=\"/webtoon/detail.nhn?titleId=703846&amp;no=151\" onclick=\"nclk_v2(event,'rnk*p.cont','703846','1')\" title=\"여신강림-146화\">여신강림-146화</a>\n<span class=\"rankBox\">\n<img alt=\"변동없음\" height=\"10\" src=\"https://ssl.pstatic.net/static/comic/images/migration/common/arrow_no.gif\" title=\"변동없음\" width=\"7\"/> 0\n\t\t\t\t\t\t\n\t\t\t\t\t\n\t\t\t\t</span>\n</li>\n"
     ]
    }
   ],
   "source": [
    "print(soup.find(\"li\", attrs={'class':'rank01'}))"
   ]
  },
  {
   "cell_type": "code",
   "execution_count": 16,
   "metadata": {},
   "outputs": [
    {
     "output_type": "stream",
     "name": "stdout",
     "text": [
      "<a href=\"/webtoon/detail.nhn?titleId=703846&amp;no=151\" onclick=\"nclk_v2(event,'rnk*p.cont','703846','1')\" title=\"여신강림-146화\">여신강림-146화</a>\n"
     ]
    }
   ],
   "source": [
    "rank1 = soup.find(\"li\", attrs={'class':'rank01'})\n",
    "print(rank1.a) # 위에서 a element만 뽑아오기"
   ]
  },
  {
   "cell_type": "code",
   "execution_count": 17,
   "metadata": {},
   "outputs": [
    {
     "output_type": "stream",
     "name": "stdout",
     "text": [
      "여신강림-146화\n"
     ]
    }
   ],
   "source": [
    "print(rank1.a.get_text())"
   ]
  },
  {
   "cell_type": "code",
   "execution_count": 20,
   "metadata": {},
   "outputs": [
    {
     "output_type": "stream",
     "name": "stdout",
     "text": [
      "<li class=\"rank02\">\n<a href=\"/webtoon/detail.nhn?titleId=703852&amp;no=140\" onclick=\"nclk_v2(event,'rnk*p.cont','703852','2')\" title=\"바른연애 길잡이-140\">바른연애 길잡이-140</a>\n<span class=\"rankBox\">\n<img alt=\"변동없음\" height=\"10\" src=\"https://ssl.pstatic.net/static/comic/images/migration/common/arrow_no.gif\" title=\"변동없음\" width=\"7\"/> 0\n\t\t\t\t\t\t\n\t\t\t\t\t\n\t\t\t\t</span>\n</li>\n"
     ]
    }
   ],
   "source": [
    "# 해당 엘리먼트에서 다름 엘리먼트로 넘어감\n",
    "print(rank1.next_sibling.next_sibling) # 다음 엘리먼트로 넘어갈때 태그 사이에 개행정보 즉 줄바꿈이 있을때 next_sibling을 한번만 하면 아무 정보가 안나올 수 있다."
   ]
  },
  {
   "cell_type": "code",
   "execution_count": 23,
   "metadata": {},
   "outputs": [
    {
     "output_type": "stream",
     "name": "stdout",
     "text": [
      "바른연애 길잡이-140\n"
     ]
    }
   ],
   "source": [
    "rank2 = rank1.next_sibling.next_sibling \n",
    "rank3 = rank2.next_sibling.next_sibling\n",
    "rank2 = rank3.previous_sibling.previous_sibling # 얘는 이전 엘리먼트\n",
    "\n",
    "print(rank2.a.get_text())"
   ]
  },
  {
   "cell_type": "code",
   "execution_count": 26,
   "metadata": {},
   "outputs": [
    {
     "output_type": "execute_result",
     "data": {
      "text/plain": [
       "<ol class=\"asideBoxRank\" id=\"realTimeRankFavorite\">\n",
       "<li class=\"rank01\">\n",
       "<a href=\"/webtoon/detail.nhn?titleId=703846&amp;no=151\" onclick=\"nclk_v2(event,'rnk*p.cont','703846','1')\" title=\"여신강림-146화\">여신강림-146화</a>\n",
       "<span class=\"rankBox\">\n",
       "<img alt=\"변동없음\" height=\"10\" src=\"https://ssl.pstatic.net/static/comic/images/migration/common/arrow_no.gif\" title=\"변동없음\" width=\"7\"/> 0\n",
       "\t\t\t\t\t\t\n",
       "\t\t\t\t\t\n",
       "\t\t\t\t</span>\n",
       "</li>\n",
       "<li class=\"rank02\">\n",
       "<a href=\"/webtoon/detail.nhn?titleId=703852&amp;no=140\" onclick=\"nclk_v2(event,'rnk*p.cont','703852','2')\" title=\"바른연애 길잡이-140\">바른연애 길잡이-140</a>\n",
       "<span class=\"rankBox\">\n",
       "<img alt=\"변동없음\" height=\"10\" src=\"https://ssl.pstatic.net/static/comic/images/migration/common/arrow_no.gif\" title=\"변동없음\" width=\"7\"/> 0\n",
       "\t\t\t\t\t\t\n",
       "\t\t\t\t\t\n",
       "\t\t\t\t</span>\n",
       "</li>\n",
       "<li class=\"rank03\">\n",
       "<a href=\"/webtoon/detail.nhn?titleId=743139&amp;no=41\" onclick=\"nclk_v2(event,'rnk*p.cont','743139','3')\" title=\"한림체육관-41화\">한림체육관-41화</a>\n",
       "<span class=\"rankBox\">\n",
       "<img alt=\"변동없음\" height=\"10\" src=\"https://ssl.pstatic.net/static/comic/images/migration/common/arrow_no.gif\" title=\"변동없음\" width=\"7\"/> 0\n",
       "\t\t\t\t\t\t\n",
       "\t\t\t\t\t\n",
       "\t\t\t\t</span>\n",
       "</li>\n",
       "<li class=\"rank04\">\n",
       "<a href=\"/webtoon/detail.nhn?titleId=702608&amp;no=171\" onclick=\"nclk_v2(event,'rnk*p.cont','702608','4')\" title=\"랜덤채팅의 그녀!-171. 범죄의 탄생\">랜덤채팅의 그녀!-171. 범죄의 탄생</a>\n",
       "<span class=\"rankBox\">\n",
       "<img alt=\"변동없음\" height=\"10\" src=\"https://ssl.pstatic.net/static/comic/images/migration/common/arrow_no.gif\" title=\"변동없음\" width=\"7\"/> 0\n",
       "\t\t\t\t\t\t\n",
       "\t\t\t\t\t\n",
       "\t\t\t\t</span>\n",
       "</li>\n",
       "<li class=\"rank05\">\n",
       "<a href=\"/webtoon/detail.nhn?titleId=730656&amp;no=86\" onclick=\"nclk_v2(event,'rnk*p.cont','730656','5')\" title=\"사신소년-86화 개ㅅ끼들아!\">사신소년-86화 개ㅅ끼들아!</a>\n",
       "<span class=\"rankBox\">\n",
       "<img alt=\"변동없음\" height=\"10\" src=\"https://ssl.pstatic.net/static/comic/images/migration/common/arrow_no.gif\" title=\"변동없음\" width=\"7\"/> 0\n",
       "\t\t\t\t\t\t\n",
       "\t\t\t\t\t\n",
       "\t\t\t\t</span>\n",
       "</li>\n",
       "<li class=\"rank06\">\n",
       "<a href=\"/webtoon/detail.nhn?titleId=738174&amp;no=64\" onclick=\"nclk_v2(event,'rnk*p.cont','738174','6')\" title=\"중증외상센터 : 골든 아워-64화 : 정리(1부 완결)\">중증외상센터 : 골든 아워-64화 : 정리(1부 완결)</a>\n",
       "<span class=\"rankBox\">\n",
       "<img alt=\"변동없음\" height=\"10\" src=\"https://ssl.pstatic.net/static/comic/images/migration/common/arrow_no.gif\" title=\"변동없음\" width=\"7\"/> 0\n",
       "\t\t\t\t\t\t\n",
       "\t\t\t\t\t\n",
       "\t\t\t\t</span>\n",
       "</li>\n",
       "<li class=\"rank07\">\n",
       "<a href=\"/webtoon/detail.nhn?titleId=738487&amp;no=62\" onclick=\"nclk_v2(event,'rnk*p.cont','738487','7')\" title=\"하루만 네가 되고 싶어-62. 피바람이 분다(1)\">하루만 네가 되고 싶어-62. 피바람이 분다(1)</a>\n",
       "<span class=\"rankBox\">\n",
       "<img alt=\"변동없음\" height=\"10\" src=\"https://ssl.pstatic.net/static/comic/images/migration/common/arrow_no.gif\" title=\"변동없음\" width=\"7\"/> 0\n",
       "\t\t\t\t\t\t\n",
       "\t\t\t\t\t\n",
       "\t\t\t\t</span>\n",
       "</li>\n",
       "<li class=\"rank08\">\n",
       "<a href=\"/webtoon/detail.nhn?titleId=753856&amp;no=26\" onclick=\"nclk_v2(event,'rnk*p.cont','753856','8')\" title=\"달콤살벌한 부부-26화\">달콤살벌한 부부-26화</a>\n",
       "<span class=\"rankBox\">\n",
       "<img alt=\"변동없음\" height=\"10\" src=\"https://ssl.pstatic.net/static/comic/images/migration/common/arrow_no.gif\" title=\"변동없음\" width=\"7\"/> 0\n",
       "\t\t\t\t\t\t\n",
       "\t\t\t\t\t\n",
       "\t\t\t\t</span>\n",
       "</li>\n",
       "<li class=\"rank09\">\n",
       "<a href=\"/webtoon/detail.nhn?titleId=759925&amp;no=2\" onclick=\"nclk_v2(event,'rnk*p.cont','759925','9')\" title=\"엽총소년-1화\">엽총소년-1화</a>\n",
       "<span class=\"rankBox\">\n",
       "<img alt=\"변동없음\" height=\"10\" src=\"https://ssl.pstatic.net/static/comic/images/migration/common/arrow_no.gif\" title=\"변동없음\" width=\"7\"/> 0\n",
       "\t\t\t\t\t\t\n",
       "\t\t\t\t\t\n",
       "\t\t\t\t</span>\n",
       "</li>\n",
       "<li class=\"rank10\">\n",
       "<a href=\"/webtoon/detail.nhn?titleId=757904&amp;no=20\" onclick=\"nclk_v2(event,'rnk*p.cont','757904','10')\" title=\"호랑이 들어와요-19화 연 소동 1\">호랑이 들어와요-19화 연 소동 1</a>\n",
       "<span class=\"rankBox\">\n",
       "<img alt=\"변동없음\" height=\"10\" src=\"https://ssl.pstatic.net/static/comic/images/migration/common/arrow_no.gif\" title=\"변동없음\" width=\"7\"/> 0\n",
       "\t\t\t\t\t\t\n",
       "\t\t\t\t\t\n",
       "\t\t\t\t</span>\n",
       "</li>\n",
       "</ol>"
      ]
     },
     "metadata": {},
     "execution_count": 26
    }
   ],
   "source": [
    "rank1.parent # 부모태크"
   ]
  },
  {
   "cell_type": "code",
   "execution_count": 31,
   "metadata": {},
   "outputs": [
    {
     "output_type": "stream",
     "name": "stdout",
     "text": [
      "바른연애 길잡이-140\n한림체육관-41화\n"
     ]
    }
   ],
   "source": [
    "rank2 = rank1.find_next_sibling(\"li\") # 다음 시블링 중 li 인거만 찾아라\n",
    "print(rank2.a.get_text())\n",
    "rank3 = rank2.find_next_sibling(\"li\")\n",
    "print(rank3.a.get_text())"
   ]
  },
  {
   "cell_type": "code",
   "execution_count": 32,
   "metadata": {},
   "outputs": [
    {
     "output_type": "execute_result",
     "data": {
      "text/plain": [
       "[<li class=\"rank02\">\n",
       " <a href=\"/webtoon/detail.nhn?titleId=703852&amp;no=140\" onclick=\"nclk_v2(event,'rnk*p.cont','703852','2')\" title=\"바른연애 길잡이-140\">바른연애 길잡이-140</a>\n",
       " <span class=\"rankBox\">\n",
       " <img alt=\"변동없음\" height=\"10\" src=\"https://ssl.pstatic.net/static/comic/images/migration/common/arrow_no.gif\" title=\"변동없음\" width=\"7\"/> 0\n",
       " \t\t\t\t\t\t\n",
       " \t\t\t\t\t\n",
       " \t\t\t\t</span>\n",
       " </li>,\n",
       " <li class=\"rank03\">\n",
       " <a href=\"/webtoon/detail.nhn?titleId=743139&amp;no=41\" onclick=\"nclk_v2(event,'rnk*p.cont','743139','3')\" title=\"한림체육관-41화\">한림체육관-41화</a>\n",
       " <span class=\"rankBox\">\n",
       " <img alt=\"변동없음\" height=\"10\" src=\"https://ssl.pstatic.net/static/comic/images/migration/common/arrow_no.gif\" title=\"변동없음\" width=\"7\"/> 0\n",
       " \t\t\t\t\t\t\n",
       " \t\t\t\t\t\n",
       " \t\t\t\t</span>\n",
       " </li>,\n",
       " <li class=\"rank04\">\n",
       " <a href=\"/webtoon/detail.nhn?titleId=702608&amp;no=171\" onclick=\"nclk_v2(event,'rnk*p.cont','702608','4')\" title=\"랜덤채팅의 그녀!-171. 범죄의 탄생\">랜덤채팅의 그녀!-171. 범죄의 탄생</a>\n",
       " <span class=\"rankBox\">\n",
       " <img alt=\"변동없음\" height=\"10\" src=\"https://ssl.pstatic.net/static/comic/images/migration/common/arrow_no.gif\" title=\"변동없음\" width=\"7\"/> 0\n",
       " \t\t\t\t\t\t\n",
       " \t\t\t\t\t\n",
       " \t\t\t\t</span>\n",
       " </li>,\n",
       " <li class=\"rank05\">\n",
       " <a href=\"/webtoon/detail.nhn?titleId=730656&amp;no=86\" onclick=\"nclk_v2(event,'rnk*p.cont','730656','5')\" title=\"사신소년-86화 개ㅅ끼들아!\">사신소년-86화 개ㅅ끼들아!</a>\n",
       " <span class=\"rankBox\">\n",
       " <img alt=\"변동없음\" height=\"10\" src=\"https://ssl.pstatic.net/static/comic/images/migration/common/arrow_no.gif\" title=\"변동없음\" width=\"7\"/> 0\n",
       " \t\t\t\t\t\t\n",
       " \t\t\t\t\t\n",
       " \t\t\t\t</span>\n",
       " </li>,\n",
       " <li class=\"rank06\">\n",
       " <a href=\"/webtoon/detail.nhn?titleId=738174&amp;no=64\" onclick=\"nclk_v2(event,'rnk*p.cont','738174','6')\" title=\"중증외상센터 : 골든 아워-64화 : 정리(1부 완결)\">중증외상센터 : 골든 아워-64화 : 정리(1부 완결)</a>\n",
       " <span class=\"rankBox\">\n",
       " <img alt=\"변동없음\" height=\"10\" src=\"https://ssl.pstatic.net/static/comic/images/migration/common/arrow_no.gif\" title=\"변동없음\" width=\"7\"/> 0\n",
       " \t\t\t\t\t\t\n",
       " \t\t\t\t\t\n",
       " \t\t\t\t</span>\n",
       " </li>,\n",
       " <li class=\"rank07\">\n",
       " <a href=\"/webtoon/detail.nhn?titleId=738487&amp;no=62\" onclick=\"nclk_v2(event,'rnk*p.cont','738487','7')\" title=\"하루만 네가 되고 싶어-62. 피바람이 분다(1)\">하루만 네가 되고 싶어-62. 피바람이 분다(1)</a>\n",
       " <span class=\"rankBox\">\n",
       " <img alt=\"변동없음\" height=\"10\" src=\"https://ssl.pstatic.net/static/comic/images/migration/common/arrow_no.gif\" title=\"변동없음\" width=\"7\"/> 0\n",
       " \t\t\t\t\t\t\n",
       " \t\t\t\t\t\n",
       " \t\t\t\t</span>\n",
       " </li>,\n",
       " <li class=\"rank08\">\n",
       " <a href=\"/webtoon/detail.nhn?titleId=753856&amp;no=26\" onclick=\"nclk_v2(event,'rnk*p.cont','753856','8')\" title=\"달콤살벌한 부부-26화\">달콤살벌한 부부-26화</a>\n",
       " <span class=\"rankBox\">\n",
       " <img alt=\"변동없음\" height=\"10\" src=\"https://ssl.pstatic.net/static/comic/images/migration/common/arrow_no.gif\" title=\"변동없음\" width=\"7\"/> 0\n",
       " \t\t\t\t\t\t\n",
       " \t\t\t\t\t\n",
       " \t\t\t\t</span>\n",
       " </li>,\n",
       " <li class=\"rank09\">\n",
       " <a href=\"/webtoon/detail.nhn?titleId=759925&amp;no=2\" onclick=\"nclk_v2(event,'rnk*p.cont','759925','9')\" title=\"엽총소년-1화\">엽총소년-1화</a>\n",
       " <span class=\"rankBox\">\n",
       " <img alt=\"변동없음\" height=\"10\" src=\"https://ssl.pstatic.net/static/comic/images/migration/common/arrow_no.gif\" title=\"변동없음\" width=\"7\"/> 0\n",
       " \t\t\t\t\t\t\n",
       " \t\t\t\t\t\n",
       " \t\t\t\t</span>\n",
       " </li>,\n",
       " <li class=\"rank10\">\n",
       " <a href=\"/webtoon/detail.nhn?titleId=757904&amp;no=20\" onclick=\"nclk_v2(event,'rnk*p.cont','757904','10')\" title=\"호랑이 들어와요-19화 연 소동 1\">호랑이 들어와요-19화 연 소동 1</a>\n",
       " <span class=\"rankBox\">\n",
       " <img alt=\"변동없음\" height=\"10\" src=\"https://ssl.pstatic.net/static/comic/images/migration/common/arrow_no.gif\" title=\"변동없음\" width=\"7\"/> 0\n",
       " \t\t\t\t\t\t\n",
       " \t\t\t\t\t\n",
       " \t\t\t\t</span>\n",
       " </li>]"
      ]
     },
     "metadata": {},
     "execution_count": 32
    }
   ],
   "source": [
    "rank1.find_next_siblings(\"li\") # 다음 시블링들을 리스트로 가져옴"
   ]
  },
  {
   "cell_type": "code",
   "execution_count": 33,
   "metadata": {},
   "outputs": [
    {
     "output_type": "stream",
     "name": "stdout",
     "text": [
      "<a href=\"/webtoon/detail.nhn?titleId=703846&amp;no=151\" onclick=\"nclk_v2(event,'rnk*p.cont','703846','1')\" title=\"여신강림-146화\">여신강림-146화</a>\n"
     ]
    }
   ],
   "source": [
    "# text 가 여신강림-146화 인 a 태그를 찾아줘\n",
    "print(soup.find(\"a\", text=\"여신강림-146화\"))"
   ]
  },
  {
   "cell_type": "code",
   "execution_count": null,
   "metadata": {},
   "outputs": [],
   "source": []
  }
 ]
}