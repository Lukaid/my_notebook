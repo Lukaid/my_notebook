{
  "nbformat": 4,
  "nbformat_minor": 0,
  "metadata": {
    "colab": {
      "name": "confusion_matrix.ipynb",
      "provenance": [],
      "collapsed_sections": [],
      "mount_file_id": "1LmacKQPYssCUcSkI5SKzgQaoirq08dpa",
      "authorship_tag": "ABX9TyPkMxW1wQFNGhzUqFpvAIWk",
      "include_colab_link": true
    },
    "kernelspec": {
      "name": "python3",
      "display_name": "Python 3"
    },
    "language_info": {
      "name": "python"
    }
  },
  "cells": [
    {
      "cell_type": "markdown",
      "metadata": {
        "id": "view-in-github",
        "colab_type": "text"
      },
      "source": [
        "<a href=\"https://colab.research.google.com/github/Lukaid/my_notebook/blob/main/confusion_matrix.ipynb\" target=\"_parent\"><img src=\"https://colab.research.google.com/assets/colab-badge.svg\" alt=\"Open In Colab\"/></a>"
      ]
    },
    {
      "cell_type": "code",
      "metadata": {
        "id": "kNaiiTYL9_TB"
      },
      "source": [
        "import pandas as pd\n",
        "from sklearn.metrics import confusion_matrix\n",
        "\n",
        "test = pd.read_table('/content/drive/MyDrive/Colab_Notebooks/prac_data_science/Scrapping_Data/review.sorted.uniq.refined.tok.shuf.test.tsv',header=None)\n",
        "pred = pd.read_table('/content/drive/MyDrive/Colab_Notebooks/prac_data_science/Scrapping_Data/predict_review_cnn2_4_bs128_epochs_20.tsv',header=None)\n",
        "pred_2 = pd.read_table('/content/drive/MyDrive/Colab_Notebooks/prac_data_science/Scrapping_Data/predict_review_rnn_cnn3_8.tsv',header=None)"
      ],
      "execution_count": 2,
      "outputs": []
    },
    {
      "cell_type": "code",
      "metadata": {
        "colab": {
          "base_uri": "https://localhost:8080/"
        },
        "id": "lQTHBoIQ-Fip",
        "outputId": "23e679a0-25aa-41f6-f4b1-907a5701bbe3"
      },
      "source": [
        "results = confusion_matrix(y_true=test[0], y_pred=pred[0])\n",
        "results_2 = confusion_matrix(y_true=test[0], y_pred=pred_2[0])\n",
        "print(results)\n",
        "print(results_2)"
      ],
      "execution_count": 3,
      "outputs": [
        {
          "output_type": "stream",
          "text": [
            "[[12127   999]\n",
            " [  839 16035]]\n",
            "[[12419   707]\n",
            " [ 1380 15494]]\n"
          ],
          "name": "stdout"
        }
      ]
    },
    {
      "cell_type": "code",
      "metadata": {
        "colab": {
          "base_uri": "https://localhost:8080/"
        },
        "id": "I7USIDCi-Iff",
        "outputId": "399fca64-855c-4e41-915c-7ab2a79a5274"
      },
      "source": [
        "correct = 0\n",
        "in_correct = 0\n",
        "\n",
        "for i in range(len(test)):\n",
        "    if test[0][i] == pred[0][i]:\n",
        "        correct += 1\n",
        "    else:\n",
        "        in_correct += 1\n",
        "\n",
        "correct / len(test)"
      ],
      "execution_count": 6,
      "outputs": [
        {
          "output_type": "execute_result",
          "data": {
            "text/plain": [
              "0.9387333333333333"
            ]
          },
          "metadata": {
            "tags": []
          },
          "execution_count": 6
        }
      ]
    },
    {
      "cell_type": "code",
      "metadata": {
        "colab": {
          "base_uri": "https://localhost:8080/"
        },
        "id": "Zm0TAtwF-phG",
        "outputId": "e5e9ce8f-a2ea-46e2-91ae-6890c7d7cdbf"
      },
      "source": [
        "correct_2 = 0\n",
        "in_correct_2 = 0\n",
        "\n",
        "for i in range(len(test)):\n",
        "    if test[0][i] == pred_2[0][i]:\n",
        "        correct_2 += 1\n",
        "    else:\n",
        "        in_correct_2 += 1\n",
        "\n",
        "correct_2 / len(test)"
      ],
      "execution_count": 7,
      "outputs": [
        {
          "output_type": "execute_result",
          "data": {
            "text/plain": [
              "0.9304333333333333"
            ]
          },
          "metadata": {
            "tags": []
          },
          "execution_count": 7
        }
      ]
    }
  ]
}