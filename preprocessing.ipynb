{
  "nbformat": 4,
  "nbformat_minor": 0,
  "metadata": {
    "colab": {
      "name": "preprocessing.ipynb",
      "provenance": [],
      "collapsed_sections": [],
      "mount_file_id": "1LvjvO_eImzNO-naL9zIvNZ321KcenFxc",
      "authorship_tag": "ABX9TyOMk0w5HX85xDxipd+OgxpB",
      "include_colab_link": true
    },
    "kernelspec": {
      "name": "python3",
      "display_name": "Python 3"
    },
    "language_info": {
      "name": "python"
    }
  },
  "cells": [
    {
      "cell_type": "markdown",
      "metadata": {
        "id": "view-in-github",
        "colab_type": "text"
      },
      "source": [
        "<a href=\"https://colab.research.google.com/github/Lukaid/my_notebook/blob/main/preprocessing.ipynb\" target=\"_parent\"><img src=\"https://colab.research.google.com/assets/colab-badge.svg\" alt=\"Open In Colab\"/></a>"
      ]
    },
    {
      "cell_type": "code",
      "metadata": {
        "id": "luRf9JzoKkAy"
      },
      "source": [
        "import sys\n",
        "import re\n",
        "\n",
        "def read_regex(fn):\n",
        "    regexs = []\n",
        "\n",
        "    f = open(fn, 'r')\n",
        "\n",
        "    for line in f:\n",
        "        if not line.startswith(\"#\"):\n",
        "            tokens = line.split('\\t')\n",
        "\n",
        "            if len(tokens) == 1:\n",
        "                tokens += [' ']\n",
        "\n",
        "            tokens[0] = tokens[0][:-1] if tokens[0].endswith('\\n') else tokens[0]\n",
        "            tokens[1] = tokens[1][:-1] if tokens[1].endswith('\\n') else tokens[1]\n",
        "\n",
        "            regexs += [(tokens[0], tokens[1])]\n",
        "\n",
        "    f.close()\n",
        "\n",
        "    return regexs\n",
        "\n",
        "if __name__ == \"__main__\":\n",
        "    fn = sys.argv[1]\n",
        "    target_index = int(sys.argv[2])\n",
        "\n",
        "    regexs = read_regex(fn)\n",
        "\n",
        "    for line in sys.stdin:\n",
        "        if line.strip() != \"\":\n",
        "            columns = line.strip().split('\\t')\n",
        "\n",
        "            for r in regexs:\n",
        "                columns[target_index] = re.sub(r'%s' % r[0], r[1], columns[target_index].strip())\n",
        "\n",
        "            sys.stdout.write('\\t'.join(columns) + \"\\n\")\n",
        "        else:\n",
        "            sys.stdout.write('\\n')\n"
      ],
      "execution_count": null,
      "outputs": []
    },
    {
      "cell_type": "code",
      "metadata": {
        "colab": {
          "base_uri": "https://localhost:8080/"
        },
        "id": "N93ccGzAUuYL",
        "outputId": "eabf5526-7f72-4f86-c9e9-e5e4b26631a6"
      },
      "source": [
        "!bash"
      ],
      "execution_count": null,
      "outputs": [
        {
          "output_type": "stream",
          "text": [
            "bash: cannot set terminal process group (59): Inappropriate ioctl for device\n",
            "bash: no job control in this shell\n",
            "\u001b[01;34m/content\u001b[00m# python refine.py refine.regex.txt 1 < test.tsv > test.refined.tsv\n",
            "\u001b[01;34m/content\u001b[00m# python refine.py refine.regex.txt 1 < test.tsv > test.refined.tsv\n",
            "\u001b[01;34m/content\u001b[00m# \n",
            "\u001b[01;34m/content\u001b[00m# \n",
            "\u001b[01;34m/content\u001b[00m# \n",
            "\u001b[01;34m/content\u001b[00m# "
          ],
          "name": "stdout"
        }
      ]
    }
  ]
}